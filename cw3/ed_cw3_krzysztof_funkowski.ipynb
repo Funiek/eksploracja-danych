{
 "cells": [
  {
   "cell_type": "markdown",
   "id": "acf72b58",
   "metadata": {},
   "source": [
    "# Zadanie 3 Pracownia Specjalistyczna - Eksploracja danych\n",
    "### Krzysztof Funkowski"
   ]
  },
  {
   "cell_type": "code",
   "execution_count": 1,
   "id": "6a99b8f6",
   "metadata": {},
   "outputs": [],
   "source": [
    "from math import *\n",
    "import random\n",
    "import numpy as np\n",
    "import matplotlib.pyplot as plt\n",
    "import pandas as pd"
   ]
  },
  {
   "cell_type": "markdown",
   "id": "0784e846",
   "metadata": {},
   "source": [
    "# Zadanie - wybielanie"
   ]
  },
  {
   "cell_type": "markdown",
   "id": "03ee9086",
   "metadata": {},
   "source": [
    "### Funkcja służąca do obliczania kowariancji dla dwóch wektorów"
   ]
  },
  {
   "cell_type": "code",
   "execution_count": 181,
   "id": "0de53455",
   "metadata": {},
   "outputs": [],
   "source": [
    "def cov(x, y, x_avg, y_avg):\n",
    "    elements_count = len(x) # ilość elementów w tablicy\n",
    "    elements_sum = 0\n",
    "    \n",
    "    for x,y in zip(x,y):\n",
    "        elements_sum = elements_sum + ((x - x_avg)*(y - y_avg)) # sumowanie (x - średnia_arytmetyczna_x) * (y - średnia_arytmetyczna_y)\n",
    "    \n",
    "    return elements_sum / elements_count # suma dzielona przez liczbę elementów"
   ]
  },
  {
   "cell_type": "markdown",
   "id": "ee95339d",
   "metadata": {},
   "source": [
    "### Funkcja obliczająca macierz kowariancji dla zbioru danych"
   ]
  },
  {
   "cell_type": "code",
   "execution_count": 182,
   "id": "b2e39798",
   "metadata": {},
   "outputs": [],
   "source": [
    "def cov_for_dataset(cov_dataset):\n",
    "    avgs = []\n",
    "    matrix_shape = cov_dataset.shape[1] # wymiary_macierzy czyli liczba_kolumn_bioru_danych x liczba_kolumn_bioru_danych\n",
    "    for i in range(matrix_shape):\n",
    "        avgs.append(cov_dataset[:,i].mean()) # obliczanie średnich dla każdego parametru\n",
    "    \n",
    "    matrix = []\n",
    "    for i in range(matrix_shape):\n",
    "        matrix_row = []\n",
    "        for j in range(matrix_shape):\n",
    "            #matrix_shape*i + j\n",
    "            res = cov(cov_dataset[:,i],cov_dataset[:,j],avgs[i], avgs[j]) # wyznaczanie kowariancji dla każdej pary parametrów\n",
    "            matrix_row.append(res) # budowanie wiersza macierzy\n",
    "        matrix.append(matrix_row) # dodawanie wiersza macierzy do tablicy bazowej\n",
    "    \n",
    "    return np.matrix(matrix) # przekształcanie typu tablicy na macierz"
   ]
  },
  {
   "cell_type": "markdown",
   "id": "535d9769",
   "metadata": {},
   "source": [
    "### Funkcja do obliczania długości wektora własnego"
   ]
  },
  {
   "cell_type": "code",
   "execution_count": 1,
   "id": "5aa117c1",
   "metadata": {},
   "outputs": [],
   "source": [
    "def eigenvector_len(v1):\n",
    "    dims = v1.shape[0] # ilość elementów wektora\n",
    "    length = 0\n",
    "    \n",
    "    for i in range(dims):\n",
    "        val = v1[i].ravel().tolist()[0][0]\n",
    "        length = length + pow(val,2) # sumowanie elementów podniesionych do kwadratu\n",
    "        \n",
    "    \n",
    "    length = sqrt(length) # pierwiastkowanie wyniku sumy elementów wektora podniesionych do kwadratów\n",
    "    \n",
    "    return length # zwracanie długości"
   ]
  },
  {
   "cell_type": "markdown",
   "id": "4cb54351",
   "metadata": {},
   "source": [
    "### Funkcja normalizująca, zwracająca wartość własną i wektor własny"
   ]
  },
  {
   "cell_type": "code",
   "execution_count": 184,
   "id": "d5cf0912",
   "metadata": {},
   "outputs": [],
   "source": [
    "def eigenvector_normalization(v1):\n",
    "    eigenvalue = eigenvector_len(v1) # wylicznaie wartości własnej\n",
    "    eigenvector = v1 / eigenvalue # wyliczanie wektora własnego\n",
    "    \n",
    "    return eigenvalue, eigenvector # zwrócenie wartości własnej i wektora własnego"
   ]
  },
  {
   "cell_type": "markdown",
   "id": "9006807e",
   "metadata": {},
   "source": [
    "### Pomocnicza funkcja zmieniająca tablicę wektorów własnych w odpowiednią formę macierzy"
   ]
  },
  {
   "cell_type": "code",
   "execution_count": 185,
   "id": "a9083493",
   "metadata": {},
   "outputs": [],
   "source": [
    "def rearrange_matrix(eigenvectors):\n",
    "    res = []\n",
    "\n",
    "    for i in range(len(eigenvectors)):\n",
    "        row = eigenvectors[i].ravel().tolist()[0]\n",
    "        res.append(row)\n",
    "\n",
    "    return np.matrix(res).T"
   ]
  },
  {
   "cell_type": "markdown",
   "id": "36325745",
   "metadata": {},
   "source": [
    "### Funkcja odpowiadająca za obliczanie wartości własnych i wektorów własnych"
   ]
  },
  {
   "cell_type": "code",
   "execution_count": 186,
   "id": "f102a35e",
   "metadata": {},
   "outputs": [],
   "source": [
    "def eigenvalues_eigenvectors(matrix, num_iterations):\n",
    "    n = matrix.shape[0] # jeden z wymiarów macierzy, ponieważ jest kwadratowa to wystarczy tylko jeden\n",
    "    eigenvalues = [] # lista na wartości własne\n",
    "    eigenvectors = [] # lista na wektory własne\n",
    "    \n",
    "    for i in range(n):\n",
    "        # losowe dane wektora na początku\n",
    "        eigenvector = np.random.rand(n,1)\n",
    "    \n",
    "        # algorytm iteracyjny wykonywany num_iterations razy\n",
    "        for _ in range(num_iterations):\n",
    "            eigenvector = np.dot(matrix, eigenvector) # mnożenie macierzy kowariancji przez wektor \n",
    "            eigenvalue, eigenvector = eigenvector_normalization(eigenvector) # normalizacja wektora\n",
    "            \n",
    "        # usuwanie z macierzy znalezionej wartości własnej i wektora własnego\n",
    "        # marix - wartość własna * iloczyn zewnętrzny wektora własnego\n",
    "        matrix = matrix - eigenvalue * np.multiply(eigenvector,eigenvector.T).T \n",
    "        \n",
    "        eigenvalues.append(eigenvalue) # dodanie znalezionej wartości własnej do listy\n",
    "        eigenvectors.append(eigenvector) # dodanie znalezionego wektora własnego do listy\n",
    "        \n",
    "        \n",
    "        \n",
    "    return eigenvalues, rearrange_matrix(eigenvectors) # zwrócenie wartości własnych i wektorów własnych"
   ]
  },
  {
   "cell_type": "markdown",
   "id": "f16e779b",
   "metadata": {},
   "source": [
    "### Wczytanie zbioru Irisa i konwersja na dataframe'a"
   ]
  },
  {
   "cell_type": "code",
   "execution_count": 280,
   "id": "d0113719",
   "metadata": {},
   "outputs": [
    {
     "data": {
      "text/html": [
       "<div>\n",
       "<style scoped>\n",
       "    .dataframe tbody tr th:only-of-type {\n",
       "        vertical-align: middle;\n",
       "    }\n",
       "\n",
       "    .dataframe tbody tr th {\n",
       "        vertical-align: top;\n",
       "    }\n",
       "\n",
       "    .dataframe thead th {\n",
       "        text-align: right;\n",
       "    }\n",
       "</style>\n",
       "<table border=\"1\" class=\"dataframe\">\n",
       "  <thead>\n",
       "    <tr style=\"text-align: right;\">\n",
       "      <th></th>\n",
       "      <th>SepalLengthCm</th>\n",
       "      <th>SepalWidthCm</th>\n",
       "      <th>PetalLengthCm</th>\n",
       "      <th>PetalWidthCm</th>\n",
       "      <th>Species</th>\n",
       "    </tr>\n",
       "    <tr>\n",
       "      <th>Id</th>\n",
       "      <th></th>\n",
       "      <th></th>\n",
       "      <th></th>\n",
       "      <th></th>\n",
       "      <th></th>\n",
       "    </tr>\n",
       "  </thead>\n",
       "  <tbody>\n",
       "    <tr>\n",
       "      <th>1</th>\n",
       "      <td>5.1</td>\n",
       "      <td>3.5</td>\n",
       "      <td>1.4</td>\n",
       "      <td>0.2</td>\n",
       "      <td>Iris-setosa</td>\n",
       "    </tr>\n",
       "    <tr>\n",
       "      <th>2</th>\n",
       "      <td>4.9</td>\n",
       "      <td>3.0</td>\n",
       "      <td>1.4</td>\n",
       "      <td>0.2</td>\n",
       "      <td>Iris-setosa</td>\n",
       "    </tr>\n",
       "    <tr>\n",
       "      <th>3</th>\n",
       "      <td>4.7</td>\n",
       "      <td>3.2</td>\n",
       "      <td>1.3</td>\n",
       "      <td>0.2</td>\n",
       "      <td>Iris-setosa</td>\n",
       "    </tr>\n",
       "    <tr>\n",
       "      <th>4</th>\n",
       "      <td>4.6</td>\n",
       "      <td>3.1</td>\n",
       "      <td>1.5</td>\n",
       "      <td>0.2</td>\n",
       "      <td>Iris-setosa</td>\n",
       "    </tr>\n",
       "    <tr>\n",
       "      <th>5</th>\n",
       "      <td>5.0</td>\n",
       "      <td>3.6</td>\n",
       "      <td>1.4</td>\n",
       "      <td>0.2</td>\n",
       "      <td>Iris-setosa</td>\n",
       "    </tr>\n",
       "    <tr>\n",
       "      <th>...</th>\n",
       "      <td>...</td>\n",
       "      <td>...</td>\n",
       "      <td>...</td>\n",
       "      <td>...</td>\n",
       "      <td>...</td>\n",
       "    </tr>\n",
       "    <tr>\n",
       "      <th>146</th>\n",
       "      <td>6.7</td>\n",
       "      <td>3.0</td>\n",
       "      <td>5.2</td>\n",
       "      <td>2.3</td>\n",
       "      <td>Iris-virginica</td>\n",
       "    </tr>\n",
       "    <tr>\n",
       "      <th>147</th>\n",
       "      <td>6.3</td>\n",
       "      <td>2.5</td>\n",
       "      <td>5.0</td>\n",
       "      <td>1.9</td>\n",
       "      <td>Iris-virginica</td>\n",
       "    </tr>\n",
       "    <tr>\n",
       "      <th>148</th>\n",
       "      <td>6.5</td>\n",
       "      <td>3.0</td>\n",
       "      <td>5.2</td>\n",
       "      <td>2.0</td>\n",
       "      <td>Iris-virginica</td>\n",
       "    </tr>\n",
       "    <tr>\n",
       "      <th>149</th>\n",
       "      <td>6.2</td>\n",
       "      <td>3.4</td>\n",
       "      <td>5.4</td>\n",
       "      <td>2.3</td>\n",
       "      <td>Iris-virginica</td>\n",
       "    </tr>\n",
       "    <tr>\n",
       "      <th>150</th>\n",
       "      <td>5.9</td>\n",
       "      <td>3.0</td>\n",
       "      <td>5.1</td>\n",
       "      <td>1.8</td>\n",
       "      <td>Iris-virginica</td>\n",
       "    </tr>\n",
       "  </tbody>\n",
       "</table>\n",
       "<p>150 rows × 5 columns</p>\n",
       "</div>"
      ],
      "text/plain": [
       "     SepalLengthCm  SepalWidthCm  PetalLengthCm  PetalWidthCm         Species\n",
       "Id                                                                           \n",
       "1              5.1           3.5            1.4           0.2     Iris-setosa\n",
       "2              4.9           3.0            1.4           0.2     Iris-setosa\n",
       "3              4.7           3.2            1.3           0.2     Iris-setosa\n",
       "4              4.6           3.1            1.5           0.2     Iris-setosa\n",
       "5              5.0           3.6            1.4           0.2     Iris-setosa\n",
       "..             ...           ...            ...           ...             ...\n",
       "146            6.7           3.0            5.2           2.3  Iris-virginica\n",
       "147            6.3           2.5            5.0           1.9  Iris-virginica\n",
       "148            6.5           3.0            5.2           2.0  Iris-virginica\n",
       "149            6.2           3.4            5.4           2.3  Iris-virginica\n",
       "150            5.9           3.0            5.1           1.8  Iris-virginica\n",
       "\n",
       "[150 rows x 5 columns]"
      ]
     },
     "execution_count": 280,
     "metadata": {},
     "output_type": "execute_result"
    }
   ],
   "source": [
    "df = pd.read_csv('Iris.csv', sep=',', index_col=0)\n",
    "dataset = df.to_numpy()\n",
    "df"
   ]
  },
  {
   "cell_type": "markdown",
   "id": "87aa0497",
   "metadata": {},
   "source": [
    "### Gatunki występujące w zbiorze"
   ]
  },
  {
   "cell_type": "code",
   "execution_count": 281,
   "id": "109a9868",
   "metadata": {},
   "outputs": [
    {
     "data": {
      "text/plain": [
       "array(['Iris-setosa', 'Iris-virginica', 'Iris-versicolor'], dtype='<U15')"
      ]
     },
     "execution_count": 281,
     "metadata": {},
     "output_type": "execute_result"
    }
   ],
   "source": [
    "species = np.array(list(set(dataset[:,4])))\n",
    "species"
   ]
  },
  {
   "cell_type": "markdown",
   "id": "2277bb15",
   "metadata": {},
   "source": [
    "### Seria 1 - Iris-setosa"
   ]
  },
  {
   "cell_type": "code",
   "execution_count": 282,
   "id": "d44a23e7",
   "metadata": {},
   "outputs": [],
   "source": [
    "species1 = df[df['Species'].str.contains('Iris-setosa')].to_numpy() # wybieranie danych tylko dla badanego gatunku\n",
    "species1 = species1[:, [0, 1]]"
   ]
  },
  {
   "cell_type": "markdown",
   "id": "99ffcb3b",
   "metadata": {},
   "source": [
    "### Macierz kowariancji, wektory i wartości własne dla zbioru danych 1"
   ]
  },
  {
   "cell_type": "code",
   "execution_count": 283,
   "id": "3ea2927f",
   "metadata": {
    "scrolled": true
   },
   "outputs": [
    {
     "name": "stdout",
     "output_type": "stream",
     "text": [
      "Iris-setosa: \n",
      " macierz cov:\n",
      "[[0.121764 0.098292]\n",
      " [0.098292 0.142276]] \n",
      "\n",
      " wartości własne: [0.23084561813618973, 0.033194381863810234]\n",
      " wektory własne:\n",
      "[[ 0.66941065 -0.74289258]\n",
      " [ 0.74289258  0.66941065]]\n"
     ]
    }
   ],
   "source": [
    "num_iterations = 10000 # ustalenie liczby iteracji\n",
    "species1_cov_matrix = cov_for_dataset(species1) # macierz kowariancji dla głównego w tym momencie gatunku\n",
    "# wartości własne i wektory własne dla badanego gatunku\n",
    "species1_eigenvalues, species1_eigenvectors = eigenvalues_eigenvectors(species1_cov_matrix,num_iterations)\n",
    "print(f'Iris-setosa: \\n macierz cov:\\n{species1_cov_matrix} \\n\\n wartości własne: {species1_eigenvalues}\\n wektory własne:\\n{species1_eigenvectors}')"
   ]
  },
  {
   "cell_type": "markdown",
   "id": "987e6ed6",
   "metadata": {},
   "source": [
    "### Projekcja pierwszego zbioru danych rozpiętego na dwa wektory własne"
   ]
  },
  {
   "cell_type": "code",
   "execution_count": 284,
   "id": "d455352c",
   "metadata": {},
   "outputs": [
    {
     "data": {
      "text/plain": [
       "array([[6.014118339365684, -1.4458148567867712],\n",
       "       [5.508789921041103, -1.6319416674121547],\n",
       "       [5.523486305909797, -1.3494810218846913],\n",
       "       [5.382255983146065, -1.3421328294503443],\n",
       "       [6.02146653180003, -1.3045845340230398],\n",
       "       [6.5120985652559185, -1.4009183689251201],\n",
       "       [5.605123755943183, -1.1413096339562672],\n",
       "       [5.8728880166019515, -1.4384666643524242],\n",
       "       [5.099795337618602, -1.3274364445816509],\n",
       "       [5.583079178640142, -1.5650006022474625],\n",
       "       [6.36352005005784, -1.5348004992545046],\n",
       "       [5.739005886272567, -1.2898881491543457],\n",
       "       [5.44184885587641, -1.557652409813115],\n",
       "       [5.107143530052948, -1.1862061218179187],\n",
       "       [6.854152083513727, -1.631134334156585],\n",
       "       [7.084368048745192, -1.2890808158987763],\n",
       "       [6.5120985652559185, -1.4009183689251201],\n",
       "       [6.014118339365684, -1.4458148567867712],\n",
       "       [6.638632503150956, -1.6907272068869306],\n",
       "       [6.236986112162802, -1.2449916612926946],\n",
       "       [6.140652277260722, -1.7356236947485817],\n",
       "       [6.162696854563762, -1.3119327264573863],\n",
       "       [5.753702271141261, -1.0074275036268827],\n",
       "       [5.865539824167605, -1.5796969871161561],\n",
       "       [5.739005886272567, -1.2898881491543457],\n",
       "       [5.575730986205794, -1.7062309250111936],\n",
       "       [5.8728880166019515, -1.4384666643524242],\n",
       "       [6.081059404530376, -1.520104114385811],\n",
       "       [6.006770146931337, -1.5870451795505032],\n",
       "       [5.523486305909797, -1.3494810218846913],\n",
       "       [5.516138113475449, -1.4907113446484228],\n",
       "       [6.140652277260722, -1.7356236947485817],\n",
       "       [6.526794950124611, -1.1184577233976571],\n",
       "       [6.801907403217728, -1.2743844310300823],\n",
       "       [5.583079178640142, -1.5650006022474625],\n",
       "       [5.724309501403873, -1.572348794681809],\n",
       "       [6.281882600024453, -1.7429718871829287],\n",
       "       [5.583079178640142, -1.5650006022474625],\n",
       "       [5.174084595217641, -1.2604953794169584],\n",
       "       [5.939829081766645, -1.5127559219514635],\n",
       "       [5.947177274200991, -1.371525599187732],\n",
       "       [4.7210008571890585, -1.8033720931688437],\n",
       "       [5.32266311041572, -1.126613249087574],\n",
       "       [5.947177274200991, -1.371525599187732],\n",
       "       [6.236986112162802, -1.2449916612926946],\n",
       "       [5.44184885587641, -1.557652409813115],\n",
       "       [6.236986112162802, -1.2449916612926946],\n",
       "       [5.456545240745104, -1.275191764285652],\n",
       "       [6.296578984893147, -1.4605112416554649],\n",
       "       [5.798598759002912, -1.5054077295171169]], dtype=object)"
      ]
     },
     "execution_count": 284,
     "metadata": {},
     "output_type": "execute_result"
    }
   ],
   "source": [
    "s1 = np.asarray(species1 * species1_eigenvectors)\n",
    "s1"
   ]
  },
  {
   "cell_type": "markdown",
   "id": "35858c9f",
   "metadata": {},
   "source": [
    "### Seria druga - Iris-virginica"
   ]
  },
  {
   "cell_type": "code",
   "execution_count": 285,
   "id": "6728ab7c",
   "metadata": {},
   "outputs": [],
   "source": [
    "species2 = df[df['Species'].str.contains('Iris-virginica')].to_numpy() # wybieranie danych tylko dla badanego gatunku\n",
    "species2 = species2[:, [0, 1]]"
   ]
  },
  {
   "cell_type": "markdown",
   "id": "5843fd5a",
   "metadata": {},
   "source": [
    "### Macierz kowariancji, wektory i wartości własne dla zbioru danych 2"
   ]
  },
  {
   "cell_type": "code",
   "execution_count": 286,
   "id": "84f62bb9",
   "metadata": {},
   "outputs": [
    {
     "name": "stdout",
     "output_type": "stream",
     "text": [
      "Iris-virginica: \n",
      " macierz cov:\n",
      "[[0.396256 0.091888]\n",
      " [0.091888 0.101924]] \n",
      "\n",
      " wartości własne: [0.4225870780733785, 0.07559292192662155]\n",
      " wektory własne:\n",
      "[[ 0.96130986  0.27546932]\n",
      " [ 0.27546932 -0.96130986]]\n"
     ]
    }
   ],
   "source": [
    "num_iterations = 10000 # ustalenie liczby iteracji\n",
    "species2_cov_matrix = cov_for_dataset(species2) # macierz kowariancji dla głównego w tym momencie gatunku\n",
    "# wartości własne i wektory własne dla badanego gatunku\n",
    "species2_eigenvalues, species2_eigenvectors = eigenvalues_eigenvectors(species2_cov_matrix,num_iterations)\n",
    "print(f'Iris-virginica: \\n macierz cov:\\n{species2_cov_matrix} \\n\\n wartości własne: {species2_eigenvalues}\\n wektory własne:\\n{species2_eigenvectors}')"
   ]
  },
  {
   "cell_type": "markdown",
   "id": "baa156ad",
   "metadata": {},
   "source": [
    "### Projekcja drugiego zbioru danych rozpiętego na dwa wektory własne"
   ]
  },
  {
   "cell_type": "code",
   "execution_count": 290,
   "id": "2f402573",
   "metadata": {},
   "outputs": [
    {
     "data": {
      "text/plain": [
       "array([[6.965300899207589, -1.4368658195871804],\n",
       "       [6.31936437454934, -0.9978145627703676],\n",
       "       [7.651707993009896, -0.9280974031363642],\n",
       "       [6.855113170429528, -1.0523418743942545],\n",
       "       [7.074922075220506, -1.0933789963034557],\n",
       "       [8.132362924501054, -0.7903627421637882],\n",
       "       [5.399091633476226, -1.0534749799245415],\n",
       "       [7.816423033411844, -0.776872552449102],\n",
       "       [7.129449386844393, -0.5576302004232672],\n",
       "       [7.913120572475219, -1.4773363887312378],\n",
       "       [7.130015939609537, -1.2856409688999189],\n",
       "       [6.89615029233873, -0.8325329696032759],\n",
       "       [7.3633150341152005, -1.0107381997199099],\n",
       "       [6.168139523862078, -0.8330995223684197],\n",
       "       [6.346911306743856, -1.0939455490685992],\n",
       "       [7.033884953311306, -1.3131879010944338],\n",
       "       [7.074922075220506, -1.0933789963034557],\n",
       "       [8.448869368355407, -1.531863700355125],\n",
       "       [8.118306182021225, -0.37829186477634646],\n",
       "       [6.373891686173227, -0.46206576689017975],\n",
       "       [7.514539884802463, -1.1754532401218576],\n",
       "       [6.1546493341473925, -1.1490394134576298],\n",
       "       [8.173400046410254, -0.5705538373728096],\n",
       "       [6.800019306040498, -0.8600799017977914],\n",
       "       [7.349824844400516, -1.3266780908091194],\n",
       "       [7.802932843697159, -1.092812443538312],\n",
       "       [6.731435251936782, -0.9837578202905382],\n",
       "       [6.69039813002758, -1.2035667250815167],\n",
       "       [6.923697224533245, -0.9286639559015075],\n",
       "       [7.747838979308128, -0.9005504709418488],\n",
       "       [7.885007087515561, -0.653194633956355],\n",
       "       [8.64113134095187, -1.4767698359660941],\n",
       "       [6.923697224533245, -0.9286639559015075],\n",
       "       [6.827566238235013, -0.956210888096023],\n",
       "       [6.580210401249519, -0.8190427798885904],\n",
       "       [8.228493910799285, -0.7628158099692728],\n",
       "       [6.992847831402104, -1.532996805885412],\n",
       "       [7.0063380211167905, -1.2170569147962023],\n",
       "       [6.594267143729349, -1.231113657276032],\n",
       "       [7.486992952607948, -1.079322253823626],\n",
       "       [7.294730980011485, -1.1344161182126566],\n",
       "       [7.486992952607948, -1.079322253823626],\n",
       "       [6.31936437454934, -0.9978145627703676],\n",
       "       [7.418408898504231, -1.203000172316373],\n",
       "       [7.349824844400516, -1.3266780908091194],\n",
       "       [7.267184047816969, -1.038285131914425],\n",
       "       [6.744925441651467, -0.6678179292013282],\n",
       "       [7.074922075220506, -1.0933789963034557],\n",
       "       [6.896716845103873, -1.5605437380799272],\n",
       "       [6.498136157431118, -1.258660589470547]], dtype=object)"
      ]
     },
     "execution_count": 290,
     "metadata": {},
     "output_type": "execute_result"
    }
   ],
   "source": [
    "s2 = np.asarray(species2 * species2_eigenvectors) # projekcja zbioru danych rozpiętego na dwa pierwsze wektory własne\n",
    "s2"
   ]
  },
  {
   "cell_type": "markdown",
   "id": "9cbcded4",
   "metadata": {},
   "source": [
    "### Projekcja zbiorów"
   ]
  },
  {
   "cell_type": "code",
   "execution_count": 291,
   "id": "6b7dbaac",
   "metadata": {},
   "outputs": [
    {
     "data": {
      "image/png": "[encoded data removed]",
      "text/plain": [
       "<Figure size 800x600 with 1 Axes>"
      ]
     },
     "metadata": {},
     "output_type": "display_data"
    }
   ],
   "source": [
    "plt.figure(figsize=(8, 6))\n",
    "\n",
    "plt.scatter(s1[:,[0]], s1[:,[1]], label='Seria 1', color='blue', marker='o')\n",
    "plt.scatter(s2[:,[0]], s2[:,[1]], label='Seria 2', color='red', marker='x')\n",
    "\n",
    "plt.xlabel('X')\n",
    "plt.ylabel('Y')\n",
    "\n",
    "plt.xlim(4, 8)\n",
    "plt.ylim(-2, 2)\n",
    "\n",
    "plt.legend()\n",
    "plt.title('Projekcja zbiorów danych')\n",
    "plt.show()"
   ]
  },
  {
   "cell_type": "markdown",
   "id": "a71037d7",
   "metadata": {},
   "source": [
    "### Macierz kowariancji dla 1 serii\n",
    "Jest diagonalna, czyli zmienne nie mają między sobą korelacji. W tym kroku jest to obserwacja, ale ta sytuacja nie musi wystąpić."
   ]
  },
  {
   "cell_type": "code",
   "execution_count": 292,
   "id": "7d12a1a5",
   "metadata": {},
   "outputs": [
    {
     "data": {
      "text/plain": [
       "matrix([[ 2.30845618e-01, -9.73179870e-17],\n",
       "        [-9.73179870e-17,  3.31943819e-02]])"
      ]
     },
     "execution_count": 292,
     "metadata": {},
     "output_type": "execute_result"
    }
   ],
   "source": [
    "cov_dataset = np.array(s1, dtype='double')\n",
    "cov_matrix = cov_for_dataset(cov_dataset)\n",
    "cov_matrix \n",
    "# na drugiej przekątnej widać że dane słabo skorelowane\n",
    "# otrzymujemy macierz diagonalna"
   ]
  },
  {
   "cell_type": "markdown",
   "id": "14e46947",
   "metadata": {},
   "source": [
    "### Seria 1 - Wartości i wektory własne\n",
    "Wektory własne są macierzą diagonalną"
   ]
  },
  {
   "cell_type": "code",
   "execution_count": 293,
   "id": "0397d494",
   "metadata": {},
   "outputs": [
    {
     "name": "stdout",
     "output_type": "stream",
     "text": [
      "Wartość własna:\n",
      " [0.23084561813618992, 0.03319438186381024]\n",
      "Wektor własny:\n",
      " [[ 1.00000000e+00  4.92372266e-16]\n",
      " [-4.92372266e-16  1.00000000e+00]]\n"
     ]
    }
   ],
   "source": [
    "num_iterations = 10000\n",
    "eigenvalues_1, eigenvectors_1 = eigenvalues_eigenvectors(cov_matrix, num_iterations)\n",
    "\n",
    "print(f\"Wartość własna:\\n {eigenvalues_1}\")\n",
    "print(f\"Wektor własny:\\n {eigenvectors_1}\")"
   ]
  },
  {
   "cell_type": "code",
   "execution_count": 294,
   "id": "52165824",
   "metadata": {},
   "outputs": [
    {
     "data": {
      "text/plain": [
       "matrix([[ 1.00000000e+00,  4.92372266e-16],\n",
       "        [-4.92372266e-16,  1.00000000e+00]])"
      ]
     },
     "execution_count": 294,
     "metadata": {},
     "output_type": "execute_result"
    }
   ],
   "source": [
    "K = eigenvectors_1\n",
    "K"
   ]
  },
  {
   "cell_type": "markdown",
   "id": "e7d849ca",
   "metadata": {},
   "source": [
    "### A = INV(I * pierwiastek_2(wartości_własne))"
   ]
  },
  {
   "cell_type": "code",
   "execution_count": 295,
   "id": "d4f74e6d",
   "metadata": {},
   "outputs": [
    {
     "data": {
      "text/plain": [
       "array([[2.08132156, 0.        ],\n",
       "       [0.        , 5.48867742]])"
      ]
     },
     "execution_count": 295,
     "metadata": {},
     "output_type": "execute_result"
    }
   ],
   "source": [
    "A = np.identity(2) * eigenvalues_1\n",
    "A = np.linalg.inv(np.identity(2) * np.sqrt(eigenvalues_1)) # INV(I * wartości_własne)\n",
    "A"
   ]
  },
  {
   "cell_type": "markdown",
   "id": "6827c719",
   "metadata": {},
   "source": [
    "### Seria 1 - przekształcenie 1"
   ]
  },
  {
   "cell_type": "code",
   "execution_count": 296,
   "id": "0c300565",
   "metadata": {},
   "outputs": [
    {
     "data": {
      "text/plain": [
       "array([[12.51731415, -7.93561136],\n",
       "       [11.46556321, -8.95720138],\n",
       "       [11.49615112, -7.40686601],\n",
       "       [11.2022054 , -7.36653415],\n",
       "       [12.5326081 , -7.16044367],\n",
       "       [13.55377112, -7.68918902],\n",
       "       [11.6660649 , -6.26428042],\n",
       "       [12.22336843, -7.8952795 ],\n",
       "       [10.61431397, -7.28587044],\n",
       "       [11.62018305, -8.58978347],\n",
       "       [13.24453146, -8.42402484],\n",
       "       [11.94471667, -7.07977996],\n",
       "       [11.32623733, -8.54945161],\n",
       "       [10.62960792, -6.51070275],\n",
       "       [14.26569449, -8.95277019],\n",
       "       [14.74484794, -7.07534877],\n",
       "       [13.55377112, -7.68918902],\n",
       "       [12.51731415, -7.93561136],\n",
       "       [13.81712894, -9.27985624],\n",
       "       [12.98117364, -6.83335762],\n",
       "       [12.78067196, -9.52627858],\n",
       "       [12.82655381, -7.20077553],\n",
       "       [11.97530457, -5.52944459],\n",
       "       [12.20807448, -8.67044718],\n",
       "       [11.94471667, -7.07977996],\n",
       "       [11.6048891 , -9.36495115],\n",
       "       [12.22336843, -7.8952795 ],\n",
       "       [12.65664003, -8.34336113],\n",
       "       [12.50202019, -8.71077904],\n",
       "       [11.49615112, -7.40686601],\n",
       "       [11.48085717, -8.1820337 ],\n",
       "       [12.78067196, -9.52627858],\n",
       "       [13.58435903, -6.13885365],\n",
       "       [14.15695651, -6.99468505],\n",
       "       [11.62018305, -8.58978347],\n",
       "       [11.91412876, -8.63011532],\n",
       "       [13.07461767, -9.56661044],\n",
       "       [11.62018305, -8.58978347],\n",
       "       [10.7689338 , -6.91845253],\n",
       "       [12.36269431, -8.30302927],\n",
       "       [12.37798826, -7.52786159],\n",
       "       [ 9.82592085, -9.89812769],\n",
       "       [11.07817347, -6.1836167 ],\n",
       "       [12.37798826, -7.52786159],\n",
       "       [12.98117364, -6.83335762],\n",
       "       [11.32623733, -8.54945161],\n",
       "       [12.98117364, -6.83335762],\n",
       "       [11.35682524, -6.99911624],\n",
       "       [13.10520558, -8.01627507],\n",
       "       [12.0687486 , -8.26269741]])"
      ]
     },
     "execution_count": 296,
     "metadata": {},
     "output_type": "execute_result"
    }
   ],
   "source": [
    "# p1 = przekształcenie pierwsze\n",
    "s1_p1 = (A * K * np.array(s1, dtype='double').T).T\n",
    "s1_p1 = np.array(s1_p1)\n",
    "s1_p1"
   ]
  },
  {
   "cell_type": "markdown",
   "id": "37f16de2",
   "metadata": {},
   "source": [
    "### Macierz kowariancji dla serii 1 - pierwszego przekształcenia\n",
    "Możemy zauważyć że jest jednostkowa, co oznacza brak korelacji między zmiennymi"
   ]
  },
  {
   "cell_type": "code",
   "execution_count": 297,
   "id": "c17720c4",
   "metadata": {},
   "outputs": [
    {
     "data": {
      "text/plain": [
       "matrix([[ 1.00000000e+00, -2.56183963e-15],\n",
       "        [-2.56183963e-15,  1.00000000e+00]])"
      ]
     },
     "execution_count": 297,
     "metadata": {},
     "output_type": "execute_result"
    }
   ],
   "source": [
    "cov_matrix_s1_p1 = cov_for_dataset(s1_p1)\n",
    "cov_matrix_s1_p1"
   ]
  },
  {
   "cell_type": "markdown",
   "id": "1d25ed62",
   "metadata": {},
   "source": [
    "### Seria 2 - przekształcenie 1 (na podstawie A i wektorów własnych serii 1)"
   ]
  },
  {
   "cell_type": "code",
   "execution_count": 298,
   "id": "05dbeb09",
   "metadata": {},
   "outputs": [
    {
     "data": {
      "text/plain": [
       "array([[14.49703091, -7.88649298],\n",
       "       [13.1526293 , -5.47668226],\n",
       "       [15.92566479, -5.09402726],\n",
       "       [14.26769482, -5.77596508],\n",
       "       [14.72518783, -6.00120461],\n",
       "       [16.92606226, -4.33804614],\n",
       "       [11.2372458 , -5.78218433],\n",
       "       [16.26848976, -4.26400284],\n",
       "       [14.8386767 , -3.06065229],\n",
       "       [16.46974843, -8.10862288],\n",
       "       [14.83985588, -7.05646855],\n",
       "       [14.35310626, -4.56950491],\n",
       "       [15.32542631, -5.54761593],\n",
       "       [12.83788176, -4.57261454],\n",
       "       [13.20996332, -6.00431423],\n",
       "       [14.63977638, -7.20766478],\n",
       "       [14.72518783, -6.00120461],\n",
       "       [17.58481395, -8.4079057 ],\n",
       "       [16.89680566, -2.07632202],\n",
       "       [13.26611817, -2.53612994],\n",
       "       [15.64017385, -6.45168366],\n",
       "       [12.80980433, -6.30670668],\n",
       "       [17.01147371, -3.13158596],\n",
       "       [14.15302677, -4.72070114],\n",
       "       [15.29734889, -7.28170808],\n",
       "       [16.24041233, -5.99809498],\n",
       "       [14.0102813 , -5.39952933],\n",
       "       [13.92486985, -6.60598951],\n",
       "       [14.41044029, -5.09713688],\n",
       "       [16.12574429, -4.94283103],\n",
       "       [16.41123523, -3.58517464],\n",
       "       [17.98497294, -8.10551325],\n",
       "       [14.41044029, -5.09713688],\n",
       "       [14.21036079, -5.24833311],\n",
       "       [13.69553376, -4.49546161],\n",
       "       [17.12614176, -4.18684991],\n",
       "       [14.55436494, -8.41412495],\n",
       "       [14.58244236, -6.68003281],\n",
       "       [13.72479036, -6.75718573],\n",
       "       [15.58283983, -5.92405168],\n",
       "       [15.18268084, -6.22644413],\n",
       "       [15.58283983, -5.92405168],\n",
       "       [13.1526293 , -5.47668226],\n",
       "       [15.44009436, -6.60287988],\n",
       "       [15.29734889, -7.28170808],\n",
       "       [15.12534682, -5.69881216],\n",
       "       [14.03835872, -3.66543719],\n",
       "       [14.72518783, -6.00120461],\n",
       "       [14.35428544, -8.56532118],\n",
       "       [13.52471086, -6.90838196]])"
      ]
     },
     "execution_count": 298,
     "metadata": {},
     "output_type": "execute_result"
    }
   ],
   "source": [
    "s2_p1 = (A * K * np.array(s2, dtype='double').T).T\n",
    "s2_p1 = np.array(s2_p1)\n",
    "s2_p1"
   ]
  },
  {
   "cell_type": "markdown",
   "id": "aeba512a",
   "metadata": {},
   "source": [
    "### Macierz kowariancji serii 2 - przekształcenie pierwsze\n",
    "Macierz diagonalna. Brak korelacji między zmiennymi. Nie zawsze musi tak być."
   ]
  },
  {
   "cell_type": "code",
   "execution_count": 299,
   "id": "b3d6145f",
   "metadata": {},
   "outputs": [
    {
     "data": {
      "text/plain": [
       "matrix([[ 1.83060472e+00, -8.92619312e-16],\n",
       "        [-8.92619312e-16,  2.27728060e+00]])"
      ]
     },
     "execution_count": 299,
     "metadata": {},
     "output_type": "execute_result"
    }
   ],
   "source": [
    "cov_matrix_s2_p1 = cov_for_dataset(s2_p1)\n",
    "cov_matrix_s2_p1"
   ]
  },
  {
   "cell_type": "markdown",
   "id": "94e4133c",
   "metadata": {},
   "source": [
    "### Wykres przedstawiający serie danych po pierwszym przekształceniu"
   ]
  },
  {
   "cell_type": "code",
   "execution_count": 302,
   "id": "e3503773",
   "metadata": {},
   "outputs": [
    {
     "data": {
      "image/png": "[encoded data removed]",
      "text/plain": [
       "<Figure size 800x600 with 1 Axes>"
      ]
     },
     "metadata": {},
     "output_type": "display_data"
    }
   ],
   "source": [
    "plt.figure(figsize=(8, 6))\n",
    "\n",
    "plt.scatter(s1_p1[:,[0]], s1_p1[:,[1]], label='Seria 1', color='blue', marker='o')\n",
    "plt.scatter(s2_p1[:,[0]], s2_p1[:,[1]], label='Seria 2', color='red', marker='x')\n",
    "\n",
    "plt.xlabel('X')\n",
    "plt.ylabel('Y')\n",
    "\n",
    "plt.xlim(8, 20)\n",
    "plt.ylim(-13, -1)\n",
    "\n",
    "plt.legend()\n",
    "plt.title('Serie danych po pierwszym przekształceniu')\n",
    "plt.show()"
   ]
  },
  {
   "cell_type": "markdown",
   "id": "d9c0e725",
   "metadata": {},
   "source": [
    "### Wartości i wektory własne serii 2 po pierwszym przekształceniu"
   ]
  },
  {
   "cell_type": "code",
   "execution_count": 303,
   "id": "d33b3ff9",
   "metadata": {},
   "outputs": [
    {
     "name": "stdout",
     "output_type": "stream",
     "text": [
      "Wartość własna:\n",
      " [2.2772806023851793, 1.8306047196619049]\n",
      "Wektor własny:\n",
      " [[-1.99836021e-15  1.00000000e+00]\n",
      " [ 1.00000000e+00  1.99836021e-15]]\n"
     ]
    }
   ],
   "source": [
    "num_iterations = 10000\n",
    "eigenvalues_2, eigenvectors_2 = eigenvalues_eigenvectors(cov_matrix_s2_p1,num_iterations)\n",
    "\n",
    "print(f\"Wartość własna:\\n {eigenvalues_2}\")\n",
    "print(f\"Wektor własny:\\n {eigenvectors_2}\")"
   ]
  },
  {
   "cell_type": "markdown",
   "id": "656038c9",
   "metadata": {},
   "source": [
    "### Przekształcenie 2\n",
    "Przemnożenie serii po pierwszym przekształceniu przez wektory własne serii 2 po pierwszym przekształceniu"
   ]
  },
  {
   "cell_type": "code",
   "execution_count": 304,
   "id": "9f083812",
   "metadata": {},
   "outputs": [
    {
     "data": {
      "text/plain": [
       "(array([[-7.93561136, 12.51731415],\n",
       "        [-8.95720138, 11.46556321],\n",
       "        [-7.40686601, 11.49615112],\n",
       "        [-7.36653415, 11.2022054 ],\n",
       "        [-7.16044367, 12.5326081 ],\n",
       "        [-7.68918902, 13.55377112],\n",
       "        [-6.26428042, 11.6660649 ],\n",
       "        [-7.8952795 , 12.22336843],\n",
       "        [-7.28587044, 10.61431397],\n",
       "        [-8.58978347, 11.62018305],\n",
       "        [-8.42402484, 13.24453146],\n",
       "        [-7.07977996, 11.94471667],\n",
       "        [-8.54945161, 11.32623733],\n",
       "        [-6.51070275, 10.62960792],\n",
       "        [-8.95277019, 14.26569449],\n",
       "        [-7.07534877, 14.74484794],\n",
       "        [-7.68918902, 13.55377112],\n",
       "        [-7.93561136, 12.51731415],\n",
       "        [-9.27985624, 13.81712894],\n",
       "        [-6.83335762, 12.98117364],\n",
       "        [-9.52627858, 12.78067196],\n",
       "        [-7.20077553, 12.82655381],\n",
       "        [-5.52944459, 11.97530457],\n",
       "        [-8.67044718, 12.20807448],\n",
       "        [-7.07977996, 11.94471667],\n",
       "        [-9.36495115, 11.6048891 ],\n",
       "        [-7.8952795 , 12.22336843],\n",
       "        [-8.34336113, 12.65664003],\n",
       "        [-8.71077904, 12.50202019],\n",
       "        [-7.40686601, 11.49615112],\n",
       "        [-8.1820337 , 11.48085717],\n",
       "        [-9.52627858, 12.78067196],\n",
       "        [-6.13885365, 13.58435903],\n",
       "        [-6.99468505, 14.15695651],\n",
       "        [-8.58978347, 11.62018305],\n",
       "        [-8.63011532, 11.91412876],\n",
       "        [-9.56661044, 13.07461767],\n",
       "        [-8.58978347, 11.62018305],\n",
       "        [-6.91845253, 10.7689338 ],\n",
       "        [-8.30302927, 12.36269431],\n",
       "        [-7.52786159, 12.37798826],\n",
       "        [-9.89812769,  9.82592085],\n",
       "        [-6.1836167 , 11.07817347],\n",
       "        [-7.52786159, 12.37798826],\n",
       "        [-6.83335762, 12.98117364],\n",
       "        [-8.54945161, 11.32623733],\n",
       "        [-6.83335762, 12.98117364],\n",
       "        [-6.99911624, 11.35682524],\n",
       "        [-8.01627507, 13.10520558],\n",
       "        [-8.26269741, 12.0687486 ]]),\n",
       " array([[-7.88649298, 14.49703091],\n",
       "        [-5.47668226, 13.1526293 ],\n",
       "        [-5.09402726, 15.92566479],\n",
       "        [-5.77596508, 14.26769482],\n",
       "        [-6.00120461, 14.72518783],\n",
       "        [-4.33804614, 16.92606226],\n",
       "        [-5.78218433, 11.2372458 ],\n",
       "        [-4.26400284, 16.26848976],\n",
       "        [-3.06065229, 14.8386767 ],\n",
       "        [-8.10862288, 16.46974843],\n",
       "        [-7.05646855, 14.83985588],\n",
       "        [-4.56950491, 14.35310626],\n",
       "        [-5.54761593, 15.32542631],\n",
       "        [-4.57261454, 12.83788176],\n",
       "        [-6.00431423, 13.20996332],\n",
       "        [-7.20766478, 14.63977638],\n",
       "        [-6.00120461, 14.72518783],\n",
       "        [-8.4079057 , 17.58481395],\n",
       "        [-2.07632202, 16.89680566],\n",
       "        [-2.53612994, 13.26611817],\n",
       "        [-6.45168366, 15.64017385],\n",
       "        [-6.30670668, 12.80980433],\n",
       "        [-3.13158596, 17.01147371],\n",
       "        [-4.72070114, 14.15302677],\n",
       "        [-7.28170808, 15.29734889],\n",
       "        [-5.99809498, 16.24041233],\n",
       "        [-5.39952933, 14.0102813 ],\n",
       "        [-6.60598951, 13.92486985],\n",
       "        [-5.09713688, 14.41044029],\n",
       "        [-4.94283103, 16.12574429],\n",
       "        [-3.58517464, 16.41123523],\n",
       "        [-8.10551325, 17.98497294],\n",
       "        [-5.09713688, 14.41044029],\n",
       "        [-5.24833311, 14.21036079],\n",
       "        [-4.49546161, 13.69553376],\n",
       "        [-4.18684991, 17.12614176],\n",
       "        [-8.41412495, 14.55436494],\n",
       "        [-6.68003281, 14.58244236],\n",
       "        [-6.75718573, 13.72479036],\n",
       "        [-5.92405168, 15.58283983],\n",
       "        [-6.22644413, 15.18268084],\n",
       "        [-5.92405168, 15.58283983],\n",
       "        [-5.47668226, 13.1526293 ],\n",
       "        [-6.60287988, 15.44009436],\n",
       "        [-7.28170808, 15.29734889],\n",
       "        [-5.69881216, 15.12534682],\n",
       "        [-3.66543719, 14.03835872],\n",
       "        [-6.00120461, 14.72518783],\n",
       "        [-8.56532118, 14.35428544],\n",
       "        [-6.90838196, 13.52471086]]))"
      ]
     },
     "execution_count": 304,
     "metadata": {},
     "output_type": "execute_result"
    }
   ],
   "source": [
    "#p2 przekształcenie drugie\n",
    "s1_p2 = s1_p1 * eigenvectors_2.T\n",
    "s1_p2 = np.asarray(s1_p2)\n",
    "s2_p2 = s2_p1 * eigenvectors_2.T\n",
    "s2_p2 = np.asarray(s2_p2)\n",
    "(s1_p2, s2_p2)"
   ]
  },
  {
   "cell_type": "markdown",
   "id": "e09f7dd0",
   "metadata": {},
   "source": [
    "### Macierz kowariancji serii 1 po drugim przekształceniu\n",
    "Jest jednostkowa"
   ]
  },
  {
   "cell_type": "code",
   "execution_count": 305,
   "id": "8eab918b",
   "metadata": {},
   "outputs": [
    {
     "data": {
      "text/plain": [
       "matrix([[ 1.00000000e+00, -2.52270427e-15],\n",
       "        [-2.52270427e-15,  1.00000000e+00]])"
      ]
     },
     "execution_count": 305,
     "metadata": {},
     "output_type": "execute_result"
    }
   ],
   "source": [
    "cov_matrix_s1_p2 = cov_for_dataset(s1_p2)\n",
    "cov_matrix_s1_p2"
   ]
  },
  {
   "cell_type": "markdown",
   "id": "432a1550",
   "metadata": {},
   "source": [
    "### Macierz kowariancji serii 2 po drugim przekształceniu\n",
    "Jest diagonalna, czyli nie ma korelacji między zmiennymi. Operacja wybielania przebiegła pomyślnie"
   ]
  },
  {
   "cell_type": "code",
   "execution_count": 306,
   "id": "62b78918",
   "metadata": {},
   "outputs": [
    {
     "data": {
      "text/plain": [
       "matrix([[2.27728060e+00, 2.88657986e-16],\n",
       "        [2.88657986e-16, 1.83060472e+00]])"
      ]
     },
     "execution_count": 306,
     "metadata": {},
     "output_type": "execute_result"
    }
   ],
   "source": [
    "cov_matrix_s2_p2 = cov_for_dataset(s2_p2)\n",
    "cov_matrix_s2_p2"
   ]
  },
  {
   "cell_type": "markdown",
   "id": "d1bc9b40",
   "metadata": {},
   "source": [
    "### Wykres serii po drugim przekształceniu - po wykonaniu operacji wybielania"
   ]
  },
  {
   "cell_type": "code",
   "execution_count": 310,
   "id": "7c4a715a",
   "metadata": {},
   "outputs": [
    {
     "data": {
      "image/png": "[encoded data removed]",
      "text/plain": [
       "<Figure size 800x600 with 1 Axes>"
      ]
     },
     "metadata": {},
     "output_type": "display_data"
    }
   ],
   "source": [
    "plt.figure(figsize=(8, 6))\n",
    "\n",
    "plt.scatter(s1_p2[:,[0]], s1_p2[:,[1]], label='Seria 1', color='blue', marker='o')\n",
    "plt.scatter(s2_p2[:,[0]], s2_p2[:,[1]], label='Seria 2', color='red', marker='x')\n",
    "\n",
    "plt.xlabel('X')\n",
    "plt.ylabel('Y')\n",
    "\n",
    "plt.xlim(-12, 0)\n",
    "plt.ylim(8, 20)\n",
    "\n",
    "plt.legend()\n",
    "plt.title('Serie danych po wybieleniu')\n",
    "plt.show()"
   ]
  },
  {
   "cell_type": "markdown",
   "id": "7116fb9c",
   "metadata": {},
   "source": [
    "### Wczytanie danych symulujących wykres na wykładzie\n",
    "Zbiór danych reprezentującego dwie serie odtwarzające sytuację z wykładu"
   ]
  },
  {
   "cell_type": "code",
   "execution_count": 253,
   "id": "ca27eac5",
   "metadata": {
    "scrolled": true
   },
   "outputs": [
    {
     "data": {
      "text/html": [
       "<div>\n",
       "<style scoped>\n",
       "    .dataframe tbody tr th:only-of-type {\n",
       "        vertical-align: middle;\n",
       "    }\n",
       "\n",
       "    .dataframe tbody tr th {\n",
       "        vertical-align: top;\n",
       "    }\n",
       "\n",
       "    .dataframe thead th {\n",
       "        text-align: right;\n",
       "    }\n",
       "</style>\n",
       "<table border=\"1\" class=\"dataframe\">\n",
       "  <thead>\n",
       "    <tr style=\"text-align: right;\">\n",
       "      <th></th>\n",
       "      <th>x1</th>\n",
       "      <th>y1</th>\n",
       "      <th>x2</th>\n",
       "      <th>y2</th>\n",
       "    </tr>\n",
       "  </thead>\n",
       "  <tbody>\n",
       "    <tr>\n",
       "      <th>0</th>\n",
       "      <td>-0.029379</td>\n",
       "      <td>8.557853</td>\n",
       "      <td>7.391919</td>\n",
       "      <td>1.970219</td>\n",
       "    </tr>\n",
       "    <tr>\n",
       "      <th>1</th>\n",
       "      <td>-1.346758</td>\n",
       "      <td>4.396907</td>\n",
       "      <td>8.300181</td>\n",
       "      <td>1.404367</td>\n",
       "    </tr>\n",
       "    <tr>\n",
       "      <th>2</th>\n",
       "      <td>1.940835</td>\n",
       "      <td>8.061176</td>\n",
       "      <td>8.871272</td>\n",
       "      <td>2.531024</td>\n",
       "    </tr>\n",
       "    <tr>\n",
       "      <th>3</th>\n",
       "      <td>-0.409299</td>\n",
       "      <td>7.844112</td>\n",
       "      <td>7.424737</td>\n",
       "      <td>1.959036</td>\n",
       "    </tr>\n",
       "    <tr>\n",
       "      <th>4</th>\n",
       "      <td>-0.150709</td>\n",
       "      <td>8.001237</td>\n",
       "      <td>9.485289</td>\n",
       "      <td>2.284859</td>\n",
       "    </tr>\n",
       "    <tr>\n",
       "      <th>5</th>\n",
       "      <td>-0.917286</td>\n",
       "      <td>8.278376</td>\n",
       "      <td>7.949395</td>\n",
       "      <td>1.834776</td>\n",
       "    </tr>\n",
       "    <tr>\n",
       "      <th>6</th>\n",
       "      <td>0.029407</td>\n",
       "      <td>7.194912</td>\n",
       "      <td>9.449022</td>\n",
       "      <td>2.561718</td>\n",
       "    </tr>\n",
       "    <tr>\n",
       "      <th>7</th>\n",
       "      <td>-0.076171</td>\n",
       "      <td>10.298827</td>\n",
       "      <td>7.675431</td>\n",
       "      <td>1.676029</td>\n",
       "    </tr>\n",
       "    <tr>\n",
       "      <th>8</th>\n",
       "      <td>-0.870065</td>\n",
       "      <td>6.205615</td>\n",
       "      <td>11.149437</td>\n",
       "      <td>1.576669</td>\n",
       "    </tr>\n",
       "    <tr>\n",
       "      <th>9</th>\n",
       "      <td>-0.099980</td>\n",
       "      <td>7.462890</td>\n",
       "      <td>10.242971</td>\n",
       "      <td>2.586084</td>\n",
       "    </tr>\n",
       "    <tr>\n",
       "      <th>10</th>\n",
       "      <td>0.743691</td>\n",
       "      <td>8.735737</td>\n",
       "      <td>7.530240</td>\n",
       "      <td>1.640546</td>\n",
       "    </tr>\n",
       "    <tr>\n",
       "      <th>11</th>\n",
       "      <td>0.918886</td>\n",
       "      <td>7.945947</td>\n",
       "      <td>12.524118</td>\n",
       "      <td>2.993199</td>\n",
       "    </tr>\n",
       "    <tr>\n",
       "      <th>12</th>\n",
       "      <td>-1.583219</td>\n",
       "      <td>5.812861</td>\n",
       "      <td>7.146693</td>\n",
       "      <td>2.119341</td>\n",
       "    </tr>\n",
       "    <tr>\n",
       "      <th>13</th>\n",
       "      <td>0.062613</td>\n",
       "      <td>7.714788</td>\n",
       "      <td>8.506663</td>\n",
       "      <td>2.473359</td>\n",
       "    </tr>\n",
       "    <tr>\n",
       "      <th>14</th>\n",
       "      <td>0.680288</td>\n",
       "      <td>8.152346</td>\n",
       "      <td>10.898885</td>\n",
       "      <td>2.578263</td>\n",
       "    </tr>\n",
       "    <tr>\n",
       "      <th>15</th>\n",
       "      <td>-0.289731</td>\n",
       "      <td>8.512950</td>\n",
       "      <td>8.648638</td>\n",
       "      <td>1.517325</td>\n",
       "    </tr>\n",
       "    <tr>\n",
       "      <th>16</th>\n",
       "      <td>-0.412639</td>\n",
       "      <td>7.546294</td>\n",
       "      <td>8.095639</td>\n",
       "      <td>3.359898</td>\n",
       "    </tr>\n",
       "    <tr>\n",
       "      <th>17</th>\n",
       "      <td>0.021191</td>\n",
       "      <td>9.293281</td>\n",
       "      <td>8.863465</td>\n",
       "      <td>1.720064</td>\n",
       "    </tr>\n",
       "    <tr>\n",
       "      <th>18</th>\n",
       "      <td>1.269190</td>\n",
       "      <td>8.305419</td>\n",
       "      <td>10.870632</td>\n",
       "      <td>1.731093</td>\n",
       "    </tr>\n",
       "    <tr>\n",
       "      <th>19</th>\n",
       "      <td>1.332284</td>\n",
       "      <td>9.616754</td>\n",
       "      <td>11.266471</td>\n",
       "      <td>3.075441</td>\n",
       "    </tr>\n",
       "    <tr>\n",
       "      <th>20</th>\n",
       "      <td>1.580744</td>\n",
       "      <td>9.634579</td>\n",
       "      <td>9.105831</td>\n",
       "      <td>2.503686</td>\n",
       "    </tr>\n",
       "    <tr>\n",
       "      <th>21</th>\n",
       "      <td>-0.352419</td>\n",
       "      <td>9.355742</td>\n",
       "      <td>10.262369</td>\n",
       "      <td>1.931142</td>\n",
       "    </tr>\n",
       "    <tr>\n",
       "      <th>22</th>\n",
       "      <td>1.725202</td>\n",
       "      <td>10.109982</td>\n",
       "      <td>7.249993</td>\n",
       "      <td>2.300026</td>\n",
       "    </tr>\n",
       "    <tr>\n",
       "      <th>23</th>\n",
       "      <td>-0.315993</td>\n",
       "      <td>7.007907</td>\n",
       "      <td>7.536488</td>\n",
       "      <td>1.682514</td>\n",
       "    </tr>\n",
       "    <tr>\n",
       "      <th>24</th>\n",
       "      <td>1.274600</td>\n",
       "      <td>9.893139</td>\n",
       "      <td>6.910374</td>\n",
       "      <td>2.066305</td>\n",
       "    </tr>\n",
       "    <tr>\n",
       "      <th>25</th>\n",
       "      <td>1.066309</td>\n",
       "      <td>11.030451</td>\n",
       "      <td>12.261020</td>\n",
       "      <td>1.384146</td>\n",
       "    </tr>\n",
       "    <tr>\n",
       "      <th>26</th>\n",
       "      <td>-0.501670</td>\n",
       "      <td>8.117049</td>\n",
       "      <td>8.175849</td>\n",
       "      <td>1.812913</td>\n",
       "    </tr>\n",
       "    <tr>\n",
       "      <th>27</th>\n",
       "      <td>-1.218982</td>\n",
       "      <td>7.672204</td>\n",
       "      <td>8.444888</td>\n",
       "      <td>1.825071</td>\n",
       "    </tr>\n",
       "    <tr>\n",
       "      <th>28</th>\n",
       "      <td>2.101934</td>\n",
       "      <td>8.551313</td>\n",
       "      <td>12.554075</td>\n",
       "      <td>1.575202</td>\n",
       "    </tr>\n",
       "    <tr>\n",
       "      <th>29</th>\n",
       "      <td>-0.321047</td>\n",
       "      <td>8.577514</td>\n",
       "      <td>10.179504</td>\n",
       "      <td>2.042325</td>\n",
       "    </tr>\n",
       "    <tr>\n",
       "      <th>30</th>\n",
       "      <td>2.393713</td>\n",
       "      <td>11.109223</td>\n",
       "      <td>8.897385</td>\n",
       "      <td>1.951638</td>\n",
       "    </tr>\n",
       "    <tr>\n",
       "      <th>31</th>\n",
       "      <td>-0.757373</td>\n",
       "      <td>7.293516</td>\n",
       "      <td>8.579717</td>\n",
       "      <td>2.059780</td>\n",
       "    </tr>\n",
       "    <tr>\n",
       "      <th>32</th>\n",
       "      <td>0.244008</td>\n",
       "      <td>7.701905</td>\n",
       "      <td>11.200167</td>\n",
       "      <td>2.580102</td>\n",
       "    </tr>\n",
       "    <tr>\n",
       "      <th>33</th>\n",
       "      <td>-0.861537</td>\n",
       "      <td>7.967860</td>\n",
       "      <td>7.999820</td>\n",
       "      <td>1.661451</td>\n",
       "    </tr>\n",
       "    <tr>\n",
       "      <th>34</th>\n",
       "      <td>-0.282586</td>\n",
       "      <td>6.769252</td>\n",
       "      <td>6.588081</td>\n",
       "      <td>1.577828</td>\n",
       "    </tr>\n",
       "    <tr>\n",
       "      <th>35</th>\n",
       "      <td>-0.877861</td>\n",
       "      <td>6.680748</td>\n",
       "      <td>8.331551</td>\n",
       "      <td>1.555016</td>\n",
       "    </tr>\n",
       "    <tr>\n",
       "      <th>36</th>\n",
       "      <td>-0.898151</td>\n",
       "      <td>7.126532</td>\n",
       "      <td>13.230547</td>\n",
       "      <td>1.413549</td>\n",
       "    </tr>\n",
       "    <tr>\n",
       "      <th>37</th>\n",
       "      <td>0.586337</td>\n",
       "      <td>9.769083</td>\n",
       "      <td>10.142349</td>\n",
       "      <td>1.628975</td>\n",
       "    </tr>\n",
       "    <tr>\n",
       "      <th>38</th>\n",
       "      <td>1.532433</td>\n",
       "      <td>10.328314</td>\n",
       "      <td>7.902317</td>\n",
       "      <td>1.938977</td>\n",
       "    </tr>\n",
       "    <tr>\n",
       "      <th>39</th>\n",
       "      <td>1.086132</td>\n",
       "      <td>9.687690</td>\n",
       "      <td>9.833039</td>\n",
       "      <td>1.967625</td>\n",
       "    </tr>\n",
       "    <tr>\n",
       "      <th>40</th>\n",
       "      <td>-0.207343</td>\n",
       "      <td>7.665998</td>\n",
       "      <td>13.790312</td>\n",
       "      <td>1.600718</td>\n",
       "    </tr>\n",
       "    <tr>\n",
       "      <th>41</th>\n",
       "      <td>-0.251223</td>\n",
       "      <td>8.694902</td>\n",
       "      <td>9.988433</td>\n",
       "      <td>1.775771</td>\n",
       "    </tr>\n",
       "    <tr>\n",
       "      <th>42</th>\n",
       "      <td>-1.247920</td>\n",
       "      <td>7.202912</td>\n",
       "      <td>14.098724</td>\n",
       "      <td>1.611486</td>\n",
       "    </tr>\n",
       "    <tr>\n",
       "      <th>43</th>\n",
       "      <td>0.646396</td>\n",
       "      <td>7.330270</td>\n",
       "      <td>9.341567</td>\n",
       "      <td>1.496814</td>\n",
       "    </tr>\n",
       "    <tr>\n",
       "      <th>44</th>\n",
       "      <td>0.551989</td>\n",
       "      <td>6.725921</td>\n",
       "      <td>10.401614</td>\n",
       "      <td>2.181056</td>\n",
       "    </tr>\n",
       "    <tr>\n",
       "      <th>45</th>\n",
       "      <td>-0.352399</td>\n",
       "      <td>5.922552</td>\n",
       "      <td>7.624841</td>\n",
       "      <td>1.572306</td>\n",
       "    </tr>\n",
       "    <tr>\n",
       "      <th>46</th>\n",
       "      <td>-0.109810</td>\n",
       "      <td>5.824517</td>\n",
       "      <td>7.978448</td>\n",
       "      <td>2.049372</td>\n",
       "    </tr>\n",
       "    <tr>\n",
       "      <th>47</th>\n",
       "      <td>-0.208144</td>\n",
       "      <td>7.169698</td>\n",
       "      <td>5.295578</td>\n",
       "      <td>2.303459</td>\n",
       "    </tr>\n",
       "    <tr>\n",
       "      <th>48</th>\n",
       "      <td>-0.538421</td>\n",
       "      <td>7.400662</td>\n",
       "      <td>7.305826</td>\n",
       "      <td>2.201663</td>\n",
       "    </tr>\n",
       "    <tr>\n",
       "      <th>49</th>\n",
       "      <td>-0.686882</td>\n",
       "      <td>5.969688</td>\n",
       "      <td>8.543033</td>\n",
       "      <td>2.281121</td>\n",
       "    </tr>\n",
       "  </tbody>\n",
       "</table>\n",
       "</div>"
      ],
      "text/plain": [
       "          x1         y1         x2        y2\n",
       "0  -0.029379   8.557853   7.391919  1.970219\n",
       "1  -1.346758   4.396907   8.300181  1.404367\n",
       "2   1.940835   8.061176   8.871272  2.531024\n",
       "3  -0.409299   7.844112   7.424737  1.959036\n",
       "4  -0.150709   8.001237   9.485289  2.284859\n",
       "5  -0.917286   8.278376   7.949395  1.834776\n",
       "6   0.029407   7.194912   9.449022  2.561718\n",
       "7  -0.076171  10.298827   7.675431  1.676029\n",
       "8  -0.870065   6.205615  11.149437  1.576669\n",
       "9  -0.099980   7.462890  10.242971  2.586084\n",
       "10  0.743691   8.735737   7.530240  1.640546\n",
       "11  0.918886   7.945947  12.524118  2.993199\n",
       "12 -1.583219   5.812861   7.146693  2.119341\n",
       "13  0.062613   7.714788   8.506663  2.473359\n",
       "14  0.680288   8.152346  10.898885  2.578263\n",
       "15 -0.289731   8.512950   8.648638  1.517325\n",
       "16 -0.412639   7.546294   8.095639  3.359898\n",
       "17  0.021191   9.293281   8.863465  1.720064\n",
       "18  1.269190   8.305419  10.870632  1.731093\n",
       "19  1.332284   9.616754  11.266471  3.075441\n",
       "20  1.580744   9.634579   9.105831  2.503686\n",
       "21 -0.352419   9.355742  10.262369  1.931142\n",
       "22  1.725202  10.109982   7.249993  2.300026\n",
       "23 -0.315993   7.007907   7.536488  1.682514\n",
       "24  1.274600   9.893139   6.910374  2.066305\n",
       "25  1.066309  11.030451  12.261020  1.384146\n",
       "26 -0.501670   8.117049   8.175849  1.812913\n",
       "27 -1.218982   7.672204   8.444888  1.825071\n",
       "28  2.101934   8.551313  12.554075  1.575202\n",
       "29 -0.321047   8.577514  10.179504  2.042325\n",
       "30  2.393713  11.109223   8.897385  1.951638\n",
       "31 -0.757373   7.293516   8.579717  2.059780\n",
       "32  0.244008   7.701905  11.200167  2.580102\n",
       "33 -0.861537   7.967860   7.999820  1.661451\n",
       "34 -0.282586   6.769252   6.588081  1.577828\n",
       "35 -0.877861   6.680748   8.331551  1.555016\n",
       "36 -0.898151   7.126532  13.230547  1.413549\n",
       "37  0.586337   9.769083  10.142349  1.628975\n",
       "38  1.532433  10.328314   7.902317  1.938977\n",
       "39  1.086132   9.687690   9.833039  1.967625\n",
       "40 -0.207343   7.665998  13.790312  1.600718\n",
       "41 -0.251223   8.694902   9.988433  1.775771\n",
       "42 -1.247920   7.202912  14.098724  1.611486\n",
       "43  0.646396   7.330270   9.341567  1.496814\n",
       "44  0.551989   6.725921  10.401614  2.181056\n",
       "45 -0.352399   5.922552   7.624841  1.572306\n",
       "46 -0.109810   5.824517   7.978448  2.049372\n",
       "47 -0.208144   7.169698   5.295578  2.303459\n",
       "48 -0.538421   7.400662   7.305826  2.201663\n",
       "49 -0.686882   5.969688   8.543033  2.281121"
      ]
     },
     "execution_count": 253,
     "metadata": {},
     "output_type": "execute_result"
    }
   ],
   "source": [
    "df = pd.read_csv('input_data.csv', sep=',')\n",
    "dataset = df.to_numpy()\n",
    "df"
   ]
  },
  {
   "cell_type": "markdown",
   "id": "d2076ede",
   "metadata": {},
   "source": [
    "### Przypisanie do zmiennych danych ze zbioru"
   ]
  },
  {
   "cell_type": "code",
   "execution_count": 254,
   "id": "26923c76",
   "metadata": {},
   "outputs": [],
   "source": [
    "x1 = dataset[:, 0]\n",
    "y1 = dataset[:, 1]\n",
    "x2 = dataset[:, 2]\n",
    "y2 = dataset[:, 3]"
   ]
  },
  {
   "cell_type": "markdown",
   "id": "011c6ce4",
   "metadata": {},
   "source": [
    "### Wykres przedstawiający serie wejściowe"
   ]
  },
  {
   "cell_type": "code",
   "execution_count": 255,
   "id": "05e79293",
   "metadata": {},
   "outputs": [
    {
     "data": {
      "image/png": "[encoded data removed]",
      "text/plain": [
       "<Figure size 800x600 with 1 Axes>"
      ]
     },
     "metadata": {},
     "output_type": "display_data"
    }
   ],
   "source": [
    "plt.figure(figsize=(8, 6))\n",
    "\n",
    "plt.scatter(x1, y1, label='Seria 1', color='blue', marker='o')\n",
    "plt.scatter(x2, y2, label='Seria 2', color='red', marker='x')\n",
    "\n",
    "plt.xlabel('X')\n",
    "plt.ylabel('Y')\n",
    "\n",
    "plt.xlim(-4, 16)\n",
    "plt.ylim(-6, 14)\n",
    "\n",
    "plt.legend()\n",
    "plt.title('Serie danych')\n",
    "plt.show()"
   ]
  },
  {
   "cell_type": "markdown",
   "id": "8cc57c93",
   "metadata": {},
   "source": [
    "### Macierz kowariancji dla serii 1"
   ]
  },
  {
   "cell_type": "code",
   "execution_count": 256,
   "id": "2283f6e4",
   "metadata": {},
   "outputs": [
    {
     "data": {
      "text/plain": [
       "matrix([[0.90897662, 0.8975315 ],\n",
       "        [0.8975315 , 1.99376882]])"
      ]
     },
     "execution_count": 256,
     "metadata": {},
     "output_type": "execute_result"
    }
   ],
   "source": [
    "cov_dataset = np.array(dataset[:,[0,1]], dtype='double')\n",
    "cov_matrix = cov_for_dataset(cov_dataset)\n",
    "cov_matrix"
   ]
  },
  {
   "cell_type": "markdown",
   "id": "89373a89",
   "metadata": {},
   "source": [
    "### Wartości i wektory własne dla serii 1"
   ]
  },
  {
   "cell_type": "code",
   "execution_count": 257,
   "id": "7b42b3e9",
   "metadata": {},
   "outputs": [
    {
     "name": "stdout",
     "output_type": "stream",
     "text": [
      "Wartość własna:\n",
      " [2.500065395480083, 0.40268005031847237]\n",
      "Wektor własny:\n",
      " [[ 0.4913188   0.87097982]\n",
      " [ 0.87097982 -0.4913188 ]]\n"
     ]
    }
   ],
   "source": [
    "num_iterations = 10000\n",
    "eigenvalues_1, eigenvectors_1 = eigenvalues_eigenvectors(cov_matrix, num_iterations)\n",
    "\n",
    "print(f\"Wartość własna:\\n {eigenvalues_1}\")\n",
    "print(f\"Wektor własny:\\n {eigenvectors_1}\")"
   ]
  },
  {
   "cell_type": "code",
   "execution_count": 258,
   "id": "3030dead",
   "metadata": {},
   "outputs": [
    {
     "data": {
      "text/plain": [
       "matrix([[ 0.4913188 ,  0.87097982],\n",
       "        [ 0.87097982, -0.4913188 ]])"
      ]
     },
     "execution_count": 258,
     "metadata": {},
     "output_type": "execute_result"
    }
   ],
   "source": [
    "K = eigenvectors_1\n",
    "K"
   ]
  },
  {
   "cell_type": "markdown",
   "id": "9f5e9d86",
   "metadata": {},
   "source": [
    "### A = INV(I * pierwiastek_2(wartości_własne))"
   ]
  },
  {
   "cell_type": "code",
   "execution_count": 259,
   "id": "3b0882c1",
   "metadata": {},
   "outputs": [
    {
     "data": {
      "text/plain": [
       "array([[0.63244726, 0.        ],\n",
       "       [0.        , 1.57586839]])"
      ]
     },
     "execution_count": 259,
     "metadata": {},
     "output_type": "execute_result"
    }
   ],
   "source": [
    "A = np.linalg.inv(np.identity(2) * np.sqrt(eigenvalues_1)) # INV(I * pierwisawartości_własne)\n",
    "A"
   ]
  },
  {
   "cell_type": "markdown",
   "id": "6fdbab13",
   "metadata": {},
   "source": [
    "### Seria 1 - przekształcenie 1"
   ]
  },
  {
   "cell_type": "code",
   "execution_count": 260,
   "id": "65d67e73",
   "metadata": {},
   "outputs": [
    {
     "data": {
      "text/plain": [
       "array([[ 4.70495414, -6.66627375],\n",
       "       [ 2.00354827, -5.25281396],\n",
       "       [ 5.04357117, -3.57750359],\n",
       "       [ 4.19373661, -6.6351162 ],\n",
       "       [ 4.36064139, -6.40184289],\n",
       "       [ 4.27510234, -7.6685842 ],\n",
       "       [ 3.97244608, -5.53032543],\n",
       "       [ 5.6494274 , -8.07845336],\n",
       "       [ 3.14799749, -5.99892755],\n",
       "       [ 4.07985684, -5.91539873],\n",
       "       [ 5.04315935, -5.74292474],\n",
       "       [ 4.66254379, -4.89096242],\n",
       "       [ 2.71004846, -6.67367577],\n",
       "       [ 4.26913761, -5.88726381],\n",
       "       [ 4.70209784, -5.37825521],\n",
       "       [ 4.59931925, -6.98885335],\n",
       "       [ 4.02864609, -6.40911407],\n",
       "       [ 5.12577711, -7.16627182],\n",
       "       [ 4.96940951, -4.68847534],\n",
       "       [ 5.7113624 , -5.6171828 ],\n",
       "       [ 5.79838579, -5.28996014],\n",
       "       [ 5.04409078, -7.72743026],\n",
       "       [ 6.10514878, -5.45976686],\n",
       "       [ 3.76210783, -5.85961496],\n",
       "       [ 5.84568461, -5.91034826],\n",
       "       [ 6.40744839, -7.07680624],\n",
       "       [ 4.31538125, -6.97322351],\n",
       "       [ 3.84744596, -7.61334559],\n",
       "       [ 5.36362118, -3.73587698],\n",
       "       [ 4.62515322, -7.08182529],\n",
       "       [ 6.86330818, -5.31586701],\n",
       "       [ 3.78228396, -6.68656395],\n",
       "       [ 4.31840622, -5.6283155 ],\n",
       "       [ 4.12137786, -7.35164848],\n",
       "       [ 3.64102581, -5.62898192],\n",
       "       [ 3.40730165, -6.37750171],\n",
       "       [ 3.64655596, -6.75050113],\n",
       "       [ 5.56348188, -6.75897332],\n",
       "       [ 6.16551713, -5.89339544],\n",
       "       [ 5.67394966, -6.00996046],\n",
       "       [ 4.1583774 , -6.22001627],\n",
       "       [ 4.71151287, -7.076877  ],\n",
       "       [ 3.57994505, -7.28971317],\n",
       "       [ 4.2387274 , -4.78827844],\n",
       "       [ 3.87648687, -4.44993747],\n",
       "       [ 3.15292856, -5.06924344],\n",
       "       [ 3.17430658, -4.66037449],\n",
       "       [ 3.88474249, -5.83685367],\n",
       "       [ 3.90934076, -6.4689996 ],\n",
       "       [ 3.07495848, -5.56483344]])"
      ]
     },
     "execution_count": 260,
     "metadata": {},
     "output_type": "execute_result"
    }
   ],
   "source": [
    "# p1 = przekształcenie pierwsze\n",
    "s1_p1 = (A * K * np.array(dataset[:,[0,1]], dtype='double').T).T\n",
    "s1_p1 = np.array(s1_p1)\n",
    "s1_p1"
   ]
  },
  {
   "cell_type": "markdown",
   "id": "3c116708",
   "metadata": {},
   "source": [
    "### Macierz kowariancji dla serii 1 - pierwszego przekształcenia\n",
    "Możemy zauważyć że jest jednostkowa, co oznacza brak korelacji między zmiennymi"
   ]
  },
  {
   "cell_type": "code",
   "execution_count": 261,
   "id": "c0f9e65d",
   "metadata": {},
   "outputs": [
    {
     "data": {
      "text/plain": [
       "matrix([[ 1.00000000e+00, -6.55031585e-16],\n",
       "        [-6.55031585e-16,  1.00000000e+00]])"
      ]
     },
     "execution_count": 261,
     "metadata": {},
     "output_type": "execute_result"
    }
   ],
   "source": [
    "cov_matrix_s1_p1 = cov_for_dataset(s1_p1)\n",
    "cov_matrix_s1_p1"
   ]
  },
  {
   "cell_type": "markdown",
   "id": "693e62b7",
   "metadata": {},
   "source": [
    "### Seria 2 - przekształcenie 1 (na podstawie A i wektorów własnych serii 1)"
   ]
  },
  {
   "cell_type": "code",
   "execution_count": 262,
   "id": "bbec3103",
   "metadata": {},
   "outputs": [
    {
     "data": {
      "text/plain": [
       "array([[ 3.38220759,  8.62032537],\n",
       "       [ 3.35273608, 10.30507305],\n",
       "       [ 4.15081044, 10.21660495],\n",
       "       [ 3.38624518,  8.67402874],\n",
       "       [ 4.20600641, 11.24996794],\n",
       "       [ 3.48082508,  9.4903565 ],\n",
       "       [ 4.34724445, 10.98583029],\n",
       "       [ 3.30825023,  9.23723809],\n",
       "       [ 4.33300697, 14.0824129 ],\n",
       "       [ 4.60737274, 12.05670031],\n",
       "       [ 3.24358861,  9.06542799],\n",
       "       [ 5.54046005, 14.87247721],\n",
       "       [ 3.38815156,  8.1682828 ],\n",
       "       [ 4.00574979,  9.76080889],\n",
       "       [ 4.80687883, 12.9630302 ],\n",
       "       [ 3.52323564, 10.69588981],\n",
       "       [ 4.3663796 ,  8.51025193],\n",
       "       [ 3.7016681 , 10.83377836],\n",
       "       [ 4.33143742, 13.58017614],\n",
       "       [ 5.19496961, 13.08261818],\n",
       "       [ 4.20863681, 10.55971537],\n",
       "       [ 4.25262597, 12.59041587],\n",
       "       [ 3.51978025,  8.17017014],\n",
       "       [ 3.26864799,  9.04150991],\n",
       "       [ 3.28550441,  7.88498658],\n",
       "       [ 4.57236183, 15.7571774 ],\n",
       "       [ 3.53914884,  9.81810286],\n",
       "       [ 3.62944544, 10.17795836],\n",
       "       [ 4.76866613, 16.01148345],\n",
       "       [ 4.28812264, 12.39059585],\n",
       "       [ 3.83977058, 10.70103898],\n",
       "       [ 3.80063046, 10.18129493],\n",
       "       [ 4.9015102 , 13.37513071],\n",
       "       [ 3.40101834,  9.69376527],\n",
       "       [ 2.91628047,  7.82082828],\n",
       "       [ 3.44546827, 10.2314895 ],\n",
       "       [ 4.88982251, 17.06513533],\n",
       "       [ 4.04888357, 12.6596369 ],\n",
       "       [ 3.52359578,  9.3450618 ],\n",
       "       [ 4.13931578, 11.972892  ],\n",
       "       [ 5.16686144, 17.68852459],\n",
       "       [ 4.08191973, 12.33472207],\n",
       "       [ 5.26862703, 18.10349888],\n",
       "       [ 3.72725333, 11.66284915],\n",
       "       [ 4.43355908, 12.5880397 ],\n",
       "       [ 3.23539445,  9.24810776],\n",
       "       [ 3.60806315,  9.36408078],\n",
       "       [ 2.91436989,  5.48498094],\n",
       "       [ 3.48294611,  8.32296303],\n",
       "       [ 3.91115672,  9.95956995]])"
      ]
     },
     "execution_count": 262,
     "metadata": {},
     "output_type": "execute_result"
    }
   ],
   "source": [
    "s2_p1 = (A * K * np.array(dataset[:,[2,3]], dtype='double').T).T\n",
    "s2_p1 = np.array(s2_p1)\n",
    "s2_p1"
   ]
  },
  {
   "cell_type": "markdown",
   "id": "9e5cbe0b",
   "metadata": {},
   "source": [
    "### Macierz kowariancji serii 2 - przekształcenie pierwsze"
   ]
  },
  {
   "cell_type": "code",
   "execution_count": 263,
   "id": "01c8ab73",
   "metadata": {},
   "outputs": [
    {
     "data": {
      "text/plain": [
       "matrix([[0.40886996, 1.4783835 ],\n",
       "        [1.4783835 , 7.18423069]])"
      ]
     },
     "execution_count": 263,
     "metadata": {},
     "output_type": "execute_result"
    }
   ],
   "source": [
    "cov_matrix_s2_p1 = cov_for_dataset(s2_p1)\n",
    "cov_matrix_s2_p1"
   ]
  },
  {
   "cell_type": "markdown",
   "id": "0aec5aee",
   "metadata": {},
   "source": [
    "### Wykres przedstawiający serie po pierwszym przekształceniu"
   ]
  },
  {
   "cell_type": "code",
   "execution_count": 264,
   "id": "c82d9714",
   "metadata": {},
   "outputs": [
    {
     "data": {
      "image/png": "[encoded data removed]",
      "text/plain": [
       "<Figure size 800x600 with 1 Axes>"
      ]
     },
     "metadata": {},
     "output_type": "display_data"
    }
   ],
   "source": [
    "plt.figure(figsize=(8, 6))\n",
    "\n",
    "plt.scatter(s1_p1[:,[0]], s1_p1[:,[1]], label='Seria 1', color='blue', marker='o')\n",
    "plt.scatter(s2_p1[:,[0]], s2_p1[:,[1]], label='Seria 2', color='red', marker='x')\n",
    "\n",
    "plt.xlabel('X')\n",
    "plt.ylabel('Y')\n",
    "\n",
    "plt.xlim(-10, 20)\n",
    "plt.ylim(-10, 20)\n",
    "\n",
    "plt.legend()\n",
    "plt.title('Serie danych po pierwszym przekształceniu')\n",
    "plt.show()"
   ]
  },
  {
   "cell_type": "markdown",
   "id": "99c4e523",
   "metadata": {},
   "source": [
    "### Wartości i wektory własne serii 2 po pierwszym przekształceniu"
   ]
  },
  {
   "cell_type": "code",
   "execution_count": 265,
   "id": "2b9af06d",
   "metadata": {},
   "outputs": [
    {
     "name": "stdout",
     "output_type": "stream",
     "text": [
      "Wartość własna:\n",
      " [7.492764064061773, 0.10033658613728481]\n",
      "Wektor własny:\n",
      " [[ 0.20429491  0.97890939]\n",
      " [ 0.97890939 -0.20429491]]\n"
     ]
    }
   ],
   "source": [
    "num_iterations = 10000\n",
    "eigenvalues_2, eigenvectors_2 = eigenvalues_eigenvectors(cov_matrix_s2_p1,num_iterations)\n",
    "\n",
    "print(f\"Wartość własna:\\n {eigenvalues_2}\")\n",
    "print(f\"Wektor własny:\\n {eigenvectors_2}\")"
   ]
  },
  {
   "cell_type": "markdown",
   "id": "722e468e",
   "metadata": {},
   "source": [
    "### Przekształcenie 2\n",
    "Przemnożenie serii po pierwszym przekształceniu przez wektory własne serii 2 po pierwszym przekształceniu"
   ]
  },
  {
   "cell_type": "code",
   "execution_count": 266,
   "id": "2d97724f",
   "metadata": {
    "scrolled": true
   },
   "outputs": [
    {
     "data": {
      "text/plain": [
       "(array([[-5.56447979,  5.96760956],\n",
       "        [-4.7327142 ,  3.03441535],\n",
       "        [-2.47167595,  5.66806494],\n",
       "        [-5.63841851,  5.46080859],\n",
       "        [-5.37596728,  5.57653669],\n",
       "        [-6.63346743,  5.75159051],\n",
       "        [-4.60213698,  5.01848208],\n",
       "        [-6.75392459,  7.1806644 ],\n",
       "        [-5.22928664,  4.30715464],\n",
       "        [-4.95714538,  5.202296  ],\n",
       "        [-4.59151118,  6.11004631],\n",
       "        [-3.83527508,  5.5634066 ],\n",
       "        [-5.97927477,  4.01628985],\n",
       "        [-4.89093475,  5.3818369 ],\n",
       "        [-4.30420988,  5.70167787],\n",
       "        [-5.90183665,  5.93010394],\n",
       "        [-5.45091005,  5.25302885],\n",
       "        [-5.9679606 ,  6.48170417],\n",
       "        [-3.57436747,  5.82243326],\n",
       "        [-4.33191073,  6.73846812],\n",
       "        [-3.99381096,  6.7568062 ],\n",
       "        [-6.53397197,  6.51638247],\n",
       "        [-4.09736623,  7.09179003],\n",
       "        [-4.96745263,  4.87985217],\n",
       "        [-4.5914518 ,  6.9298496 ],\n",
       "        [-5.61854299,  7.71806686],\n",
       "        [-5.94454355,  5.64896127],\n",
       "        [-6.66676186,  5.3216687 ],\n",
       "        [-2.56132456,  6.01371977],\n",
       "        [-5.98757001,  5.97438675],\n",
       "        [-3.80161322,  7.80456137],\n",
       "        [-5.77283888,  5.06854425],\n",
       "        [-4.62738248,  5.37716459],\n",
       "        [-6.35462121,  5.53635983],\n",
       "        [-4.76642022,  4.71420669],\n",
       "        [-5.54690193,  4.63833069],\n",
       "        [-5.86315612,  4.94874087],\n",
       "        [-5.47983143,  6.82696848],\n",
       "        [-4.50951637,  7.23947328],\n",
       "        [-4.7240477 ,  6.78208691],\n",
       "        [-5.239297  ,  5.34139232],\n",
       "        [-5.96508325,  6.05791412],\n",
       "        [-6.40460412,  4.99369309],\n",
       "        [-3.8213403 ,  5.12755094],\n",
       "        [-3.56413904,  4.70382895],\n",
       "        [-4.31820275,  4.12205199],\n",
       "        [-3.91358967,  4.05944929],\n",
       "        [-4.92011775,  4.99525038],\n",
       "        [-5.53390603,  5.14847405],\n",
       "        [-4.81926934,  4.14697286]]),\n",
       " array([[ 9.12948522,  1.54978619],\n",
       "        [10.77267966,  1.17675088],\n",
       "        [10.84911994,  1.97606695],\n",
       "        [ 9.18288081,  1.54276731],\n",
       "        [11.87196493,  1.81898801],\n",
       "        [10.00131392,  1.46858085],\n",
       "        [11.64225231,  2.01120923],\n",
       "        [ 9.71827776,  1.35135651],\n",
       "        [14.67061746,  1.36465596],\n",
       "        [12.74367992,  2.04707796],\n",
       "        [ 9.53688121,  1.32315857],\n",
       "        [15.69069535,  2.385237  ],\n",
       "        [ 8.68819083,  1.6479548 ],\n",
       "        [10.37330175,  1.92718253],\n",
       "        [13.67165283,  2.05721776],\n",
       "        [11.19008605,  1.26381263],\n",
       "        [ 9.22279463,  2.53568886],\n",
       "        [11.36151929,  1.41031191],\n",
       "        [14.17865253,  1.46572393],\n",
       "        [13.8680036 ,  2.41269225],\n",
       "        [11.19680758,  1.96257801],\n",
       "        [13.19366612,  1.59077764],\n",
       "        [ 8.71692943,  1.77642178],\n",
       "        [ 9.51858707,  1.35257577],\n",
       "        [ 8.38989921,  1.60534851],\n",
       "        [16.35895913,  1.25681682],\n",
       "        [10.33406315,  1.45871761],\n",
       "        [10.70477622,  1.47359315],\n",
       "        [16.64800568,  1.39702752],\n",
       "        [13.00531223,  1.66634788],\n",
       "        [11.2597931 ,  1.57261971],\n",
       "        [10.74301464,  1.64048613],\n",
       "        [14.0943946 ,  2.06566326],\n",
       "        [10.18412856,  1.3489019 ],\n",
       "        [ 8.25166348,  1.25701894],\n",
       "        [10.71959275,  1.28256004],\n",
       "        [17.70418703,  1.30037293],\n",
       "        [13.2198037 ,  1.37719079],\n",
       "        [ 9.86782141,  1.54013246],\n",
       "        [12.56601752,  1.60601422],\n",
       "        [18.37102627,  1.44421368],\n",
       "        [12.90849066,  1.47590865],\n",
       "        [18.79803869,  1.45905584],\n",
       "        [12.17833141,  1.26598259],\n",
       "        [13.22830379,  1.76838021],\n",
       "        [ 9.71403412,  1.27781669],\n",
       "        [ 9.90369552,  1.61893288],\n",
       "        [ 5.96469026,  1.73235037],\n",
       "        [ 8.8589748 ,  1.70914968],\n",
       "        [10.54854593,  1.79397862]]))"
      ]
     },
     "execution_count": 266,
     "metadata": {},
     "output_type": "execute_result"
    }
   ],
   "source": [
    "#p2 przekształcenie drugie\n",
    "s1_p2 = s1_p1 * eigenvectors_2.T\n",
    "s1_p2 = np.asarray(s1_p2)\n",
    "s2_p2 = s2_p1 * eigenvectors_2.T\n",
    "s2_p2 = np.asarray(s2_p2)\n",
    "(s1_p2, s2_p2)"
   ]
  },
  {
   "cell_type": "markdown",
   "id": "0a59b2aa",
   "metadata": {},
   "source": [
    "### Macierz kowariancji serii pierwszej po drugim przekształceniu\n",
    "Jest jednostkowa, brak korelacji między zmiennymi"
   ]
  },
  {
   "cell_type": "code",
   "execution_count": 267,
   "id": "08cc228c",
   "metadata": {},
   "outputs": [
    {
     "data": {
      "text/plain": [
       "matrix([[ 1.00000000e+00, -3.91242594e-15],\n",
       "        [-3.91242594e-15,  1.00000000e+00]])"
      ]
     },
     "execution_count": 267,
     "metadata": {},
     "output_type": "execute_result"
    }
   ],
   "source": [
    "cov_matrix_s1_p2 = cov_for_dataset(s1_p2)\n",
    "cov_matrix_s1_p2"
   ]
  },
  {
   "cell_type": "markdown",
   "id": "e0205f9e",
   "metadata": {},
   "source": [
    "### Macierz kowariancji serii drugiej po drugim przekształceniu\n",
    "Macierz jest diagonalna, czyli wybielanie zostało przeprowadzone pomyślnie."
   ]
  },
  {
   "cell_type": "code",
   "execution_count": 268,
   "id": "b7cf657d",
   "metadata": {},
   "outputs": [
    {
     "data": {
      "text/plain": [
       "matrix([[ 7.49276406e+00, -2.59842148e-14],\n",
       "        [-2.59842148e-14,  1.00336586e-01]])"
      ]
     },
     "execution_count": 268,
     "metadata": {},
     "output_type": "execute_result"
    }
   ],
   "source": [
    "cov_matrix_s2_p2 = cov_for_dataset(s2_p2)\n",
    "cov_matrix_s2_p2"
   ]
  },
  {
   "cell_type": "markdown",
   "id": "dcf6beb4",
   "metadata": {},
   "source": [
    "### Wykres serii po drugim przekształceniu - po wykonaniu operacji wybielania\n"
   ]
  },
  {
   "cell_type": "code",
   "execution_count": 269,
   "id": "c3e69169",
   "metadata": {},
   "outputs": [
    {
     "data": {
      "image/png": "[encoded data removed]",
      "text/plain": [
       "<Figure size 800x600 with 1 Axes>"
      ]
     },
     "metadata": {},
     "output_type": "display_data"
    }
   ],
   "source": [
    "plt.figure(figsize=(8, 6))\n",
    "\n",
    "plt.scatter(s1_p2[:,[0]], s1_p2[:,[1]], label='Seria 1', color='blue', marker='o')\n",
    "plt.scatter(s2_p2[:,[0]], s2_p2[:,[1]], label='Seria 2', color='red', marker='x')\n",
    "\n",
    "plt.xlabel('X')\n",
    "plt.ylabel('Y')\n",
    "\n",
    "plt.xlim(-10, 20)\n",
    "plt.ylim(-10, 20)\n",
    "\n",
    "plt.legend()\n",
    "plt.title('Serie danych po wybieleniu')\n",
    "plt.show()"
   ]
  },
  {
   "cell_type": "markdown",
   "id": "90025566",
   "metadata": {},
   "source": [
    "### Wnioski\n",
    "\n",
    "Powyższe działania na zbiorach danych pokazują poprawne zaimplementowane operacje prowadzące do wykonania wybielania."
   ]
  }
 ],
 "metadata": {
  "kernelspec": {
   "display_name": "Python 3 (ipykernel)",
   "language": "python",
   "name": "python3"
  },
  "language_info": {
   "codemirror_mode": {
    "name": "ipython",
    "version": 3
   },
   "file_extension": ".py",
   "mimetype": "text/x-python",
   "name": "python",
   "nbconvert_exporter": "python",
   "pygments_lexer": "ipython3",
   "version": "3.9.13"
  }
 },
 "nbformat": 4,
 "nbformat_minor": 5
}
