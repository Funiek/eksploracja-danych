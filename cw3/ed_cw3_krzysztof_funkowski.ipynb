{
 "cells": [
  {
   "cell_type": "markdown",
   "id": "acf72b58",
   "metadata": {},
   "source": [
    "# Zadanie 3 Pracownia Specjalistyczna - Eksploracja danych\n",
    "### Krzysztof Funkowski"
   ]
  },
  {
   "cell_type": "code",
   "execution_count": 1,
   "id": "6a99b8f6",
   "metadata": {},
   "outputs": [],
   "source": [
    "from math import *\n",
    "import random\n",
    "import numpy as np\n",
    "import matplotlib.pyplot as plt\n",
    "import pandas as pd"
   ]
  },
  {
   "cell_type": "markdown",
   "id": "0784e846",
   "metadata": {},
   "source": [
    "# Zadanie - wybielanie"
   ]
  },
  {
   "cell_type": "markdown",
   "id": "03ee9086",
   "metadata": {},
   "source": [
    "### Funkcja służąca do obliczania kowariancji dla dwóch wektorów"
   ]
  },
  {
   "cell_type": "code",
   "execution_count": 2,
   "id": "0de53455",
   "metadata": {},
   "outputs": [],
   "source": [
    "def cov(x, y, x_avg, y_avg):\n",
    "    elements_count = len(x) # ilość elementów w tablicy\n",
    "    elements_sum = 0\n",
    "    \n",
    "    for x,y in zip(x,y):\n",
    "        elements_sum = elements_sum + ((x - x_avg)*(y - y_avg)) # sumowanie (x - średnia_arytmetyczna_x) * (y - średnia_arytmetyczna_y)\n",
    "    \n",
    "    return elements_sum / elements_count # suma dzielona przez liczbę elementów"
   ]
  },
  {
   "cell_type": "markdown",
   "id": "ee95339d",
   "metadata": {},
   "source": [
    "### Funkcja obliczająca macierz kowariancji dla zbioru danych"
   ]
  },
  {
   "cell_type": "code",
   "execution_count": 3,
   "id": "b2e39798",
   "metadata": {},
   "outputs": [],
   "source": [
    "def cov_for_dataset(cov_dataset):\n",
    "    avgs = []\n",
    "    matrix_shape = cov_dataset.shape[1] # wymiary_macierzy czyli liczba_kolumn_bioru_danych x liczba_kolumn_bioru_danych\n",
    "    for i in range(matrix_shape):\n",
    "        avgs.append(cov_dataset[:,i].mean()) # obliczanie średnich dla każdego parametru\n",
    "    \n",
    "    matrix = []\n",
    "    for i in range(matrix_shape):\n",
    "        matrix_row = []\n",
    "        for j in range(matrix_shape):\n",
    "            #matrix_shape*i + j\n",
    "            res = cov(cov_dataset[:,i],cov_dataset[:,j],avgs[i], avgs[j]) # wyznaczanie kowariancji dla każdej pary parametrów\n",
    "            matrix_row.append(res) # budowanie wiersza macierzy\n",
    "        matrix.append(matrix_row) # dodawanie wiersza macierzy do tablicy bazowej\n",
    "    \n",
    "    return np.matrix(matrix) # przekształcanie typu tablicy na macierz"
   ]
  },
  {
   "cell_type": "markdown",
   "id": "535d9769",
   "metadata": {},
   "source": [
    "### Funkcja do obliczania długości wektora własnego"
   ]
  },
  {
   "cell_type": "code",
   "execution_count": 4,
   "id": "5aa117c1",
   "metadata": {},
   "outputs": [],
   "source": [
    "def eigenvector_len(v1):\n",
    "    dims = v1.shape[0] # ilość elementów wektora\n",
    "    length = 0\n",
    "    \n",
    "    for i in range(dims):\n",
    "        val = v1[i].ravel().tolist()[0][0]\n",
    "        length = length + pow(val,2) # sumowanie elementów podniesionych do kwadratu\n",
    "        \n",
    "    \n",
    "    length = sqrt(length) # pierwiastkowanie wyniku sumy elementów wektora podniesionych do kwadratów\n",
    "    \n",
    "    return length # zwracanie długości"
   ]
  },
  {
   "cell_type": "markdown",
   "id": "4cb54351",
   "metadata": {},
   "source": [
    "### Funkcja normalizująca, zwracająca wartość własną i wektor własny"
   ]
  },
  {
   "cell_type": "code",
   "execution_count": 5,
   "id": "d5cf0912",
   "metadata": {},
   "outputs": [],
   "source": [
    "def eigenvector_normalization(v1):\n",
    "    eigenvalue = eigenvector_len(v1) # wylicznaie wartości własnej\n",
    "    eigenvector = v1 / eigenvalue # wyliczanie wektora własnego\n",
    "    \n",
    "    return eigenvalue, eigenvector # zwrócenie wartości własnej i wektora własnego"
   ]
  },
  {
   "cell_type": "markdown",
   "id": "9006807e",
   "metadata": {},
   "source": [
    "### Pomocnicza funkcja zmieniająca tablicę wektorów własnych w odpowiednią formę macierzy"
   ]
  },
  {
   "cell_type": "code",
   "execution_count": 6,
   "id": "a9083493",
   "metadata": {},
   "outputs": [],
   "source": [
    "def rearrange_matrix(eigenvectors):\n",
    "    res = []\n",
    "\n",
    "    for i in range(len(eigenvectors)):\n",
    "        row = eigenvectors[i].ravel().tolist()[0]\n",
    "        res.append(row)\n",
    "\n",
    "    return np.matrix(res).T"
   ]
  },
  {
   "cell_type": "markdown",
   "id": "36325745",
   "metadata": {},
   "source": [
    "### Funkcja odpowiadająca za obliczanie wartości własnych i wektorów własnych"
   ]
  },
  {
   "cell_type": "code",
   "execution_count": 119,
   "id": "f102a35e",
   "metadata": {},
   "outputs": [],
   "source": [
    "def eigenvalues_eigenvectors(matrix, num_iterations):\n",
    "    n = matrix.shape[0] # jeden z wymiarów macierzy, ponieważ jest kwadratowa to wystarczy tylko jeden\n",
    "    eigenvalues = [] # lista na wartości własne\n",
    "    eigenvectors = [] # lista na wektory własne\n",
    "    \n",
    "    for i in range(n):\n",
    "        # losowe dane wektora na początku\n",
    "        eigenvector = np.random.rand(n,1)\n",
    "    \n",
    "        # algorytm iteracyjny wykonywany num_iterations razy\n",
    "        for _ in range(num_iterations):\n",
    "            eigenvector = np.dot(matrix, eigenvector) # mnożenie macierzy kowariancji przez wektor \n",
    "            eigenvalue, eigenvector = eigenvector_normalization(eigenvector) # normalizacja wektora\n",
    "            \n",
    "        # usuwanie z macierzy znalezionej wartości własnej i wektora własnego\n",
    "        # marix - wartość własna * iloczyn zewnętrzny wektora własnego\n",
    "        matrix = matrix - eigenvalue * np.multiply(eigenvector,eigenvector.T).T \n",
    "        \n",
    "        '''if i % 2 == 0:\n",
    "            matrix = matrix - eigenvalue * np.multiply(eigenvector,eigenvector.T).T\n",
    "        else:\n",
    "            eigenvector = eigenvector * -1\n",
    "            matrix = matrix - eigenvalue * np.multiply(eigenvector,eigenvector.T).T'''\n",
    "        \n",
    "        eigenvalues.append(eigenvalue) # dodanie znalezionej wartości własnej do listy\n",
    "        eigenvectors.append(eigenvector) # dodanie znalezionego wektora własnego do listy\n",
    "        \n",
    "        \n",
    "        \n",
    "    return eigenvalues, rearrange_matrix(eigenvectors) # zwrócenie wartości własnych i wektorów własnych"
   ]
  },
  {
   "cell_type": "markdown",
   "id": "4e0b0df7",
   "metadata": {},
   "source": [
    "### Funkcja do rysowania projekcji"
   ]
  },
  {
   "cell_type": "code",
   "execution_count": 8,
   "id": "92a8274f",
   "metadata": {},
   "outputs": [],
   "source": [
    "def draw_plot(datasets):\n",
    "    colors = ['red','blue','green']\n",
    "    \n",
    "    print(len(datasets))\n",
    "    \n",
    "    # dla każdego zbioru danych z danej kategorii\n",
    "    for i in range(len(datasets)):\n",
    "        # przejście po wszystkich punktach\n",
    "        for j in range(datasets[i][1].shape[0]):\n",
    "            if j==0:\n",
    "                # zaznaczanie punktu dla pierwszego (SepalLengthCm) i drugiego (SepalWidthCm) parametru\n",
    "                plt.scatter(datasets[i][1][j,0],datasets[i][1][j,1], color=colors[i], label=datasets[i][0]) \n",
    "            else:\n",
    "                # zaznaczanie punktu dla pierwszego (SepalLengthCm) i drugiego (SepalWidthCm) parametru\n",
    "                plt.scatter(datasets[i][1][j,0],datasets[i][1][j,1], color=colors[i])\n",
    "    \n",
    "    #plt.xlim(4, 10)\n",
    "    #plt.ylim(-3, 3)\n",
    "    plt.grid()\n",
    "    plt.legend()\n",
    "    plt.show() "
   ]
  },
  {
   "cell_type": "markdown",
   "id": "f16e779b",
   "metadata": {},
   "source": [
    "### Wczytanie zbioru Irisa i konwersja na dataframe'a"
   ]
  },
  {
   "cell_type": "code",
   "execution_count": 9,
   "id": "0e7ec916",
   "metadata": {},
   "outputs": [
    {
     "data": {
      "text/html": [
       "<div>\n",
       "<style scoped>\n",
       "    .dataframe tbody tr th:only-of-type {\n",
       "        vertical-align: middle;\n",
       "    }\n",
       "\n",
       "    .dataframe tbody tr th {\n",
       "        vertical-align: top;\n",
       "    }\n",
       "\n",
       "    .dataframe thead th {\n",
       "        text-align: right;\n",
       "    }\n",
       "</style>\n",
       "<table border=\"1\" class=\"dataframe\">\n",
       "  <thead>\n",
       "    <tr style=\"text-align: right;\">\n",
       "      <th></th>\n",
       "      <th>SepalLengthCm</th>\n",
       "      <th>SepalWidthCm</th>\n",
       "      <th>PetalLengthCm</th>\n",
       "      <th>PetalWidthCm</th>\n",
       "      <th>Species</th>\n",
       "    </tr>\n",
       "    <tr>\n",
       "      <th>Id</th>\n",
       "      <th></th>\n",
       "      <th></th>\n",
       "      <th></th>\n",
       "      <th></th>\n",
       "      <th></th>\n",
       "    </tr>\n",
       "  </thead>\n",
       "  <tbody>\n",
       "    <tr>\n",
       "      <th>1</th>\n",
       "      <td>5.1</td>\n",
       "      <td>3.5</td>\n",
       "      <td>1.4</td>\n",
       "      <td>0.2</td>\n",
       "      <td>Iris-setosa</td>\n",
       "    </tr>\n",
       "    <tr>\n",
       "      <th>2</th>\n",
       "      <td>4.9</td>\n",
       "      <td>3.0</td>\n",
       "      <td>1.4</td>\n",
       "      <td>0.2</td>\n",
       "      <td>Iris-setosa</td>\n",
       "    </tr>\n",
       "    <tr>\n",
       "      <th>3</th>\n",
       "      <td>4.7</td>\n",
       "      <td>3.2</td>\n",
       "      <td>1.3</td>\n",
       "      <td>0.2</td>\n",
       "      <td>Iris-setosa</td>\n",
       "    </tr>\n",
       "    <tr>\n",
       "      <th>4</th>\n",
       "      <td>4.6</td>\n",
       "      <td>3.1</td>\n",
       "      <td>1.5</td>\n",
       "      <td>0.2</td>\n",
       "      <td>Iris-setosa</td>\n",
       "    </tr>\n",
       "    <tr>\n",
       "      <th>5</th>\n",
       "      <td>5.0</td>\n",
       "      <td>3.6</td>\n",
       "      <td>1.4</td>\n",
       "      <td>0.2</td>\n",
       "      <td>Iris-setosa</td>\n",
       "    </tr>\n",
       "    <tr>\n",
       "      <th>...</th>\n",
       "      <td>...</td>\n",
       "      <td>...</td>\n",
       "      <td>...</td>\n",
       "      <td>...</td>\n",
       "      <td>...</td>\n",
       "    </tr>\n",
       "    <tr>\n",
       "      <th>146</th>\n",
       "      <td>6.7</td>\n",
       "      <td>3.0</td>\n",
       "      <td>5.2</td>\n",
       "      <td>2.3</td>\n",
       "      <td>Iris-virginica</td>\n",
       "    </tr>\n",
       "    <tr>\n",
       "      <th>147</th>\n",
       "      <td>6.3</td>\n",
       "      <td>2.5</td>\n",
       "      <td>5.0</td>\n",
       "      <td>1.9</td>\n",
       "      <td>Iris-virginica</td>\n",
       "    </tr>\n",
       "    <tr>\n",
       "      <th>148</th>\n",
       "      <td>6.5</td>\n",
       "      <td>3.0</td>\n",
       "      <td>5.2</td>\n",
       "      <td>2.0</td>\n",
       "      <td>Iris-virginica</td>\n",
       "    </tr>\n",
       "    <tr>\n",
       "      <th>149</th>\n",
       "      <td>6.2</td>\n",
       "      <td>3.4</td>\n",
       "      <td>5.4</td>\n",
       "      <td>2.3</td>\n",
       "      <td>Iris-virginica</td>\n",
       "    </tr>\n",
       "    <tr>\n",
       "      <th>150</th>\n",
       "      <td>5.9</td>\n",
       "      <td>3.0</td>\n",
       "      <td>5.1</td>\n",
       "      <td>1.8</td>\n",
       "      <td>Iris-virginica</td>\n",
       "    </tr>\n",
       "  </tbody>\n",
       "</table>\n",
       "<p>150 rows × 5 columns</p>\n",
       "</div>"
      ],
      "text/plain": [
       "     SepalLengthCm  SepalWidthCm  PetalLengthCm  PetalWidthCm         Species\n",
       "Id                                                                           \n",
       "1              5.1           3.5            1.4           0.2     Iris-setosa\n",
       "2              4.9           3.0            1.4           0.2     Iris-setosa\n",
       "3              4.7           3.2            1.3           0.2     Iris-setosa\n",
       "4              4.6           3.1            1.5           0.2     Iris-setosa\n",
       "5              5.0           3.6            1.4           0.2     Iris-setosa\n",
       "..             ...           ...            ...           ...             ...\n",
       "146            6.7           3.0            5.2           2.3  Iris-virginica\n",
       "147            6.3           2.5            5.0           1.9  Iris-virginica\n",
       "148            6.5           3.0            5.2           2.0  Iris-virginica\n",
       "149            6.2           3.4            5.4           2.3  Iris-virginica\n",
       "150            5.9           3.0            5.1           1.8  Iris-virginica\n",
       "\n",
       "[150 rows x 5 columns]"
      ]
     },
     "execution_count": 9,
     "metadata": {},
     "output_type": "execute_result"
    }
   ],
   "source": [
    "df = pd.read_csv('Iris.csv', sep=',', index_col=0)\n",
    "dataset = df.to_numpy()\n",
    "df"
   ]
  },
  {
   "cell_type": "markdown",
   "id": "4934197b",
   "metadata": {},
   "source": [
    "### Wyodrębnienie parametrów ze zbioru"
   ]
  },
  {
   "cell_type": "code",
   "execution_count": 10,
   "id": "c83205ac",
   "metadata": {},
   "outputs": [
    {
     "data": {
      "text/plain": [
       "array([[5.1, 3.5, 1.4, 0.2],\n",
       "       [4.9, 3. , 1.4, 0.2],\n",
       "       [4.7, 3.2, 1.3, 0.2],\n",
       "       [4.6, 3.1, 1.5, 0.2],\n",
       "       [5. , 3.6, 1.4, 0.2],\n",
       "       [5.4, 3.9, 1.7, 0.4],\n",
       "       [4.6, 3.4, 1.4, 0.3],\n",
       "       [5. , 3.4, 1.5, 0.2],\n",
       "       [4.4, 2.9, 1.4, 0.2],\n",
       "       [4.9, 3.1, 1.5, 0.1],\n",
       "       [5.4, 3.7, 1.5, 0.2],\n",
       "       [4.8, 3.4, 1.6, 0.2],\n",
       "       [4.8, 3. , 1.4, 0.1],\n",
       "       [4.3, 3. , 1.1, 0.1],\n",
       "       [5.8, 4. , 1.2, 0.2],\n",
       "       [5.7, 4.4, 1.5, 0.4],\n",
       "       [5.4, 3.9, 1.3, 0.4],\n",
       "       [5.1, 3.5, 1.4, 0.3],\n",
       "       [5.7, 3.8, 1.7, 0.3],\n",
       "       [5.1, 3.8, 1.5, 0.3],\n",
       "       [5.4, 3.4, 1.7, 0.2],\n",
       "       [5.1, 3.7, 1.5, 0.4],\n",
       "       [4.6, 3.6, 1. , 0.2],\n",
       "       [5.1, 3.3, 1.7, 0.5],\n",
       "       [4.8, 3.4, 1.9, 0.2],\n",
       "       [5. , 3. , 1.6, 0.2],\n",
       "       [5. , 3.4, 1.6, 0.4],\n",
       "       [5.2, 3.5, 1.5, 0.2],\n",
       "       [5.2, 3.4, 1.4, 0.2],\n",
       "       [4.7, 3.2, 1.6, 0.2],\n",
       "       [4.8, 3.1, 1.6, 0.2],\n",
       "       [5.4, 3.4, 1.5, 0.4],\n",
       "       [5.2, 4.1, 1.5, 0.1],\n",
       "       [5.5, 4.2, 1.4, 0.2],\n",
       "       [4.9, 3.1, 1.5, 0.1],\n",
       "       [5. , 3.2, 1.2, 0.2],\n",
       "       [5.5, 3.5, 1.3, 0.2],\n",
       "       [4.9, 3.1, 1.5, 0.1],\n",
       "       [4.4, 3. , 1.3, 0.2],\n",
       "       [5.1, 3.4, 1.5, 0.2],\n",
       "       [5. , 3.5, 1.3, 0.3],\n",
       "       [4.5, 2.3, 1.3, 0.3],\n",
       "       [4.4, 3.2, 1.3, 0.2],\n",
       "       [5. , 3.5, 1.6, 0.6],\n",
       "       [5.1, 3.8, 1.9, 0.4],\n",
       "       [4.8, 3. , 1.4, 0.3],\n",
       "       [5.1, 3.8, 1.6, 0.2],\n",
       "       [4.6, 3.2, 1.4, 0.2],\n",
       "       [5.3, 3.7, 1.5, 0.2],\n",
       "       [5. , 3.3, 1.4, 0.2],\n",
       "       [7. , 3.2, 4.7, 1.4],\n",
       "       [6.4, 3.2, 4.5, 1.5],\n",
       "       [6.9, 3.1, 4.9, 1.5],\n",
       "       [5.5, 2.3, 4. , 1.3],\n",
       "       [6.5, 2.8, 4.6, 1.5],\n",
       "       [5.7, 2.8, 4.5, 1.3],\n",
       "       [6.3, 3.3, 4.7, 1.6],\n",
       "       [4.9, 2.4, 3.3, 1. ],\n",
       "       [6.6, 2.9, 4.6, 1.3],\n",
       "       [5.2, 2.7, 3.9, 1.4],\n",
       "       [5. , 2. , 3.5, 1. ],\n",
       "       [5.9, 3. , 4.2, 1.5],\n",
       "       [6. , 2.2, 4. , 1. ],\n",
       "       [6.1, 2.9, 4.7, 1.4],\n",
       "       [5.6, 2.9, 3.6, 1.3],\n",
       "       [6.7, 3.1, 4.4, 1.4],\n",
       "       [5.6, 3. , 4.5, 1.5],\n",
       "       [5.8, 2.7, 4.1, 1. ],\n",
       "       [6.2, 2.2, 4.5, 1.5],\n",
       "       [5.6, 2.5, 3.9, 1.1],\n",
       "       [5.9, 3.2, 4.8, 1.8],\n",
       "       [6.1, 2.8, 4. , 1.3],\n",
       "       [6.3, 2.5, 4.9, 1.5],\n",
       "       [6.1, 2.8, 4.7, 1.2],\n",
       "       [6.4, 2.9, 4.3, 1.3],\n",
       "       [6.6, 3. , 4.4, 1.4],\n",
       "       [6.8, 2.8, 4.8, 1.4],\n",
       "       [6.7, 3. , 5. , 1.7],\n",
       "       [6. , 2.9, 4.5, 1.5],\n",
       "       [5.7, 2.6, 3.5, 1. ],\n",
       "       [5.5, 2.4, 3.8, 1.1],\n",
       "       [5.5, 2.4, 3.7, 1. ],\n",
       "       [5.8, 2.7, 3.9, 1.2],\n",
       "       [6. , 2.7, 5.1, 1.6],\n",
       "       [5.4, 3. , 4.5, 1.5],\n",
       "       [6. , 3.4, 4.5, 1.6],\n",
       "       [6.7, 3.1, 4.7, 1.5],\n",
       "       [6.3, 2.3, 4.4, 1.3],\n",
       "       [5.6, 3. , 4.1, 1.3],\n",
       "       [5.5, 2.5, 4. , 1.3],\n",
       "       [5.5, 2.6, 4.4, 1.2],\n",
       "       [6.1, 3. , 4.6, 1.4],\n",
       "       [5.8, 2.6, 4. , 1.2],\n",
       "       [5. , 2.3, 3.3, 1. ],\n",
       "       [5.6, 2.7, 4.2, 1.3],\n",
       "       [5.7, 3. , 4.2, 1.2],\n",
       "       [5.7, 2.9, 4.2, 1.3],\n",
       "       [6.2, 2.9, 4.3, 1.3],\n",
       "       [5.1, 2.5, 3. , 1.1],\n",
       "       [5.7, 2.8, 4.1, 1.3],\n",
       "       [6.3, 3.3, 6. , 2.5],\n",
       "       [5.8, 2.7, 5.1, 1.9],\n",
       "       [7.1, 3. , 5.9, 2.1],\n",
       "       [6.3, 2.9, 5.6, 1.8],\n",
       "       [6.5, 3. , 5.8, 2.2],\n",
       "       [7.6, 3. , 6.6, 2.1],\n",
       "       [4.9, 2.5, 4.5, 1.7],\n",
       "       [7.3, 2.9, 6.3, 1.8],\n",
       "       [6.7, 2.5, 5.8, 1.8],\n",
       "       [7.2, 3.6, 6.1, 2.5],\n",
       "       [6.5, 3.2, 5.1, 2. ],\n",
       "       [6.4, 2.7, 5.3, 1.9],\n",
       "       [6.8, 3. , 5.5, 2.1],\n",
       "       [5.7, 2.5, 5. , 2. ],\n",
       "       [5.8, 2.8, 5.1, 2.4],\n",
       "       [6.4, 3.2, 5.3, 2.3],\n",
       "       [6.5, 3. , 5.5, 1.8],\n",
       "       [7.7, 3.8, 6.7, 2.2],\n",
       "       [7.7, 2.6, 6.9, 2.3],\n",
       "       [6. , 2.2, 5. , 1.5],\n",
       "       [6.9, 3.2, 5.7, 2.3],\n",
       "       [5.6, 2.8, 4.9, 2. ],\n",
       "       [7.7, 2.8, 6.7, 2. ],\n",
       "       [6.3, 2.7, 4.9, 1.8],\n",
       "       [6.7, 3.3, 5.7, 2.1],\n",
       "       [7.2, 3.2, 6. , 1.8],\n",
       "       [6.2, 2.8, 4.8, 1.8],\n",
       "       [6.1, 3. , 4.9, 1.8],\n",
       "       [6.4, 2.8, 5.6, 2.1],\n",
       "       [7.2, 3. , 5.8, 1.6],\n",
       "       [7.4, 2.8, 6.1, 1.9],\n",
       "       [7.9, 3.8, 6.4, 2. ],\n",
       "       [6.4, 2.8, 5.6, 2.2],\n",
       "       [6.3, 2.8, 5.1, 1.5],\n",
       "       [6.1, 2.6, 5.6, 1.4],\n",
       "       [7.7, 3. , 6.1, 2.3],\n",
       "       [6.3, 3.4, 5.6, 2.4],\n",
       "       [6.4, 3.1, 5.5, 1.8],\n",
       "       [6. , 3. , 4.8, 1.8],\n",
       "       [6.9, 3.1, 5.4, 2.1],\n",
       "       [6.7, 3.1, 5.6, 2.4],\n",
       "       [6.9, 3.1, 5.1, 2.3],\n",
       "       [5.8, 2.7, 5.1, 1.9],\n",
       "       [6.8, 3.2, 5.9, 2.3],\n",
       "       [6.7, 3.3, 5.7, 2.5],\n",
       "       [6.7, 3. , 5.2, 2.3],\n",
       "       [6.3, 2.5, 5. , 1.9],\n",
       "       [6.5, 3. , 5.2, 2. ],\n",
       "       [6.2, 3.4, 5.4, 2.3],\n",
       "       [5.9, 3. , 5.1, 1.8]])"
      ]
     },
     "execution_count": 10,
     "metadata": {},
     "output_type": "execute_result"
    }
   ],
   "source": [
    "cov_dataset = np.array(dataset[:,[0,1,2,3]], dtype='double')\n",
    "cov_dataset"
   ]
  },
  {
   "cell_type": "markdown",
   "id": "b1e5bd72",
   "metadata": {},
   "source": [
    "### Macierz kowariancji dla zbioru Irisa"
   ]
  },
  {
   "cell_type": "code",
   "execution_count": 11,
   "id": "68260450",
   "metadata": {
    "scrolled": false
   },
   "outputs": [
    {
     "data": {
      "text/plain": [
       "matrix([[ 0.68112222, -0.03900667,  1.26519111,  0.51345778],\n",
       "        [-0.03900667,  0.18675067, -0.319568  , -0.11719467],\n",
       "        [ 1.26519111, -0.319568  ,  3.09242489,  1.28774489],\n",
       "        [ 0.51345778, -0.11719467,  1.28774489,  0.57853156]])"
      ]
     },
     "execution_count": 11,
     "metadata": {},
     "output_type": "execute_result"
    }
   ],
   "source": [
    "cov_matrix = cov_for_dataset(cov_dataset)\n",
    "cov_matrix"
   ]
  },
  {
   "cell_type": "markdown",
   "id": "67a08abb",
   "metadata": {},
   "source": [
    "### Występujące gatunki w zbiorze danych"
   ]
  },
  {
   "cell_type": "code",
   "execution_count": 12,
   "id": "707af897",
   "metadata": {},
   "outputs": [
    {
     "data": {
      "text/plain": [
       "array(['Iris-versicolor', 'Iris-setosa', 'Iris-virginica'], dtype='<U15')"
      ]
     },
     "execution_count": 12,
     "metadata": {},
     "output_type": "execute_result"
    }
   ],
   "source": [
    "species = np.array(list(set(dataset[:,4])))\n",
    "species"
   ]
  },
  {
   "cell_type": "markdown",
   "id": "0356bfc1",
   "metadata": {},
   "source": [
    "### Wartości własne i wektory własne na podstawie macierzy kowariancji"
   ]
  },
  {
   "cell_type": "code",
   "execution_count": 13,
   "id": "070f5e26",
   "metadata": {},
   "outputs": [
    {
     "name": "stdout",
     "output_type": "stream",
     "text": [
      "Wartość własna:\n",
      " [4.19667516319798, 0.24062861448333192, 0.07800041537352702, 0.023525140278495026]\n",
      "Wektor własny:\n",
      " [[ 0.36158968  0.65653988 -0.58099728 -0.31725455]\n",
      " [-0.08226889  0.72971237  0.59641809  0.32409435]\n",
      " [ 0.85657211 -0.1757674   0.07252408  0.47971899]\n",
      " [ 0.35884393 -0.07470647  0.54906091 -0.75112056]]\n"
     ]
    }
   ],
   "source": [
    "num_iterations = 10000\n",
    "eigenvalues, eigenvectors = eigenvalues_eigenvectors(cov_matrix, num_iterations)\n",
    "\n",
    "print(f\"Wartość własna:\\n {eigenvalues}\")\n",
    "print(f\"Wektor własny:\\n {eigenvectors}\")"
   ]
  },
  {
   "cell_type": "markdown",
   "id": "5689d30d",
   "metadata": {},
   "source": [
    "### Wartości własne i wektory własne wygenerowane przez gotowe narzędzie z biblioteki NumPy w celu sprawdzenia poprawności wyników"
   ]
  },
  {
   "cell_type": "code",
   "execution_count": 14,
   "id": "f04c7701",
   "metadata": {
    "scrolled": true
   },
   "outputs": [
    {
     "data": {
      "text/plain": [
       "(array([4.19667516, 0.24062861, 0.07800042, 0.02352514]),\n",
       " matrix([[ 0.36158968, -0.65653988, -0.58099728,  0.31725455],\n",
       "         [-0.08226889, -0.72971237,  0.59641809, -0.32409435],\n",
       "         [ 0.85657211,  0.1757674 ,  0.07252408, -0.47971899],\n",
       "         [ 0.35884393,  0.07470647,  0.54906091,  0.75112056]]))"
      ]
     },
     "execution_count": 14,
     "metadata": {},
     "output_type": "execute_result"
    }
   ],
   "source": [
    "# porównanie wyników metody zaimplementowanej w domu z gotową z biblioteki NumPy\n",
    "eigenvalues2, eigenvectors2 = np.linalg.eig(cov_matrix)\n",
    "eigenvalues2, eigenvectors2"
   ]
  },
  {
   "cell_type": "markdown",
   "id": "c143f886",
   "metadata": {},
   "source": [
    "### Dla każdego gatunku wyznaczanie macierzy kowariancji, następnie wyznaczanie na jej podstawie wartości własnych i wektorów własnych. Kolejno projekcja pierwszych dwóch parametrów (SepalLengthCm, SepalWidthCm) zbioru danych dla gatunków rozpiętych na dwa pierwsze wektory własne \"badanego\" w danym momencie gatunku."
   ]
  },
  {
   "cell_type": "code",
   "execution_count": 41,
   "id": "fc3900b1",
   "metadata": {},
   "outputs": [
    {
     "name": "stdout",
     "output_type": "stream",
     "text": [
      "Iris-versicolor: \n",
      " macierz cov:\n",
      "[[0.261104 0.08348  0.17924  0.054664]\n",
      " [0.08348  0.0965   0.081    0.04038 ]\n",
      " [0.17924  0.081    0.2164   0.07164 ]\n",
      " [0.054664 0.04038  0.07164  0.038324]] \n",
      "\n",
      " wartości własne: [0.4781164652566476, 0.07093641392609655, 0.05368056334125243, 0.009594557476003634]\n",
      " wektory własne:\n",
      "[[ 0.68672376 -0.66908906  0.26508336 -0.1022796 ]\n",
      " [ 0.30534703  0.56746531  0.72961786  0.22891939]\n",
      " [ 0.62366312  0.34332698 -0.62716496  0.31596679]\n",
      " [ 0.21498369  0.33530513 -0.06366081 -0.91504087]] \n",
      "\n",
      " dwa pierwsze wektory własne:\n",
      " [[ 0.68672376 -0.66908906]\n",
      " [ 0.30534703  0.56746531]\n",
      " [ 0.62366312  0.34332698]\n",
      " [ 0.21498369  0.33530513]]\n",
      "\n",
      "3\n"
     ]
    },
    {
     "data": {
      "image/png": "[encoded data removed]",
      "text/plain": [
       "<Figure size 640x480 with 1 Axes>"
      ]
     },
     "metadata": {},
     "output_type": "display_data"
    },
    {
     "name": "stdout",
     "output_type": "stream",
     "text": [
      "Iris-setosa: \n",
      " macierz cov:\n",
      "[[0.121764 0.098292 0.015816 0.010336]\n",
      " [0.098292 0.142276 0.011448 0.011208]\n",
      " [0.015816 0.011448 0.029504 0.005584]\n",
      " [0.010336 0.011208 0.005584 0.011264]] \n",
      "\n",
      " wartości własne: [0.2337492578217779, 0.035534325601655904, 0.02631223019617198, 0.009212186380394144]\n",
      " wektory własne:\n",
      "[[ 0.6662063   0.60592481 -0.43470033 -0.00773998]\n",
      " [ 0.73635931 -0.61961464  0.26584674 -0.05637529]\n",
      " [ 0.09478706  0.49163428  0.83463886 -0.22954109]\n",
      " [ 0.07042406  0.08502085  0.20913895  0.97163409]] \n",
      "\n",
      " dwa pierwsze wektory własne:\n",
      " [[ 0.6662063   0.60592481]\n",
      " [ 0.73635931 -0.61961464]\n",
      " [ 0.09478706  0.49163428]\n",
      " [ 0.07042406  0.08502085]]\n",
      "\n",
      "3\n"
     ]
    },
    {
     "data": {
      "image/png": "[encoded data removed]",
      "text/plain": [
       "<Figure size 640x480 with 1 Axes>"
      ]
     },
     "metadata": {},
     "output_type": "display_data"
    },
    {
     "name": "stdout",
     "output_type": "stream",
     "text": [
      "Iris-virginica: \n",
      " macierz cov:\n",
      "[[0.396256 0.091888 0.297224 0.048112]\n",
      " [0.091888 0.101924 0.069952 0.046676]\n",
      " [0.297224 0.069952 0.298496 0.047848]\n",
      " [0.048112 0.046676 0.047848 0.073924]] \n",
      "\n",
      " wartości własne: [0.681349741460896, 0.10442020142375678, 0.05124951922482229, 0.03358053789052519]\n",
      " wektory własne:\n",
      "[[ 0.74101679 -0.16525895 -0.53445017 -0.37141165]\n",
      " [ 0.20328772  0.74864279 -0.3253749   0.54068405]\n",
      " [ 0.62789179 -0.16942776  0.65152357  0.39059336]\n",
      " [ 0.12377451  0.61928804  0.4289653  -0.64587225]] \n",
      "\n",
      " dwa pierwsze wektory własne:\n",
      " [[ 0.74101679 -0.16525895]\n",
      " [ 0.20328772  0.74864279]\n",
      " [ 0.62789179 -0.16942776]\n",
      " [ 0.12377451  0.61928804]]\n",
      "\n",
      "3\n"
     ]
    },
    {
     "data": {
      "image/png": "[encoded data removed]",
      "text/plain": [
       "<Figure size 640x480 with 1 Axes>"
      ]
     },
     "metadata": {},
     "output_type": "display_data"
    }
   ],
   "source": [
    "# dla każdego gatunku\n",
    "for s in species:\n",
    "    current_datasets = [] # lista w której będą zbiory do rysowania\n",
    "    current_species_dataset = df[df['Species'].str.contains(s)].to_numpy() # wybieranie danych tylko dla badanego gatunku\n",
    "    current_species_dataset = current_species_dataset[:, [0, 1, 2, 3]] # wybranie parametrów ze zbioru danych\n",
    "    \n",
    "    num_iterations = 10000 # ustalenie liczby iteracji\n",
    "    current_cov_matrix = cov_for_dataset(current_species_dataset) # macierz kowariancji dla głównego w tym momencie gatunku\n",
    "    # wartości własne i wektory własne dla badanego gatunku\n",
    "    current_eigenvalues, current_eigenvectors = eigenvalues_eigenvectors(current_cov_matrix,num_iterations)\n",
    "    print(f'{s}: \\n macierz cov:\\n{current_cov_matrix} \\n\\n wartości własne: {current_eigenvalues}\\n wektory własne:\\n{current_eigenvectors} \\n\\n dwa pierwsze wektory własne:\\n {current_eigenvectors[:,:2]}\\n')\n",
    "    projection = current_species_dataset * current_eigenvectors[:,:2] # projekcja zbioru danych rozpiętego na dwa pierwsze wektory własne\n",
    "    current_datasets.append((s,projection)) # dodanie do listy do rysowania\n",
    "    \n",
    "    other_species = species[species!=s] # wyznaczenie zbioru gatunków które nie są aktualnym badanym\n",
    "    # dla każdego gatunku który nie jest aktualnie badanym / nie jest głównym w danej iteracji\n",
    "    for os in other_species:\n",
    "        other_species_dataset = df[df['Species'].str.contains(os)].to_numpy() # wybieranie danych tylko dla niegłównego gatunku\n",
    "        other_species_dataset = other_species_dataset[:, [0, 1, 2, 3]] # wybranie parametrów ze zbioru danych\n",
    "        \n",
    "        # projekcja zbioru danych dla gatunku innego niż główny w danej iteracji, rozpiętego na dwa pierwsze wektory własne\n",
    "        other_projection = other_species_dataset * current_eigenvectors[:,:2] \n",
    "        current_datasets.append((os,other_projection)) # dodanie do listy do rysowania\n",
    "        \n",
    "    draw_plot(current_datasets) # rysowanie projekcji"
   ]
  },
  {
   "cell_type": "markdown",
   "id": "7116fb9c",
   "metadata": {},
   "source": [
    "### Wczytanie danych\n",
    "Zbiór danych reprezentującego dwie serie odtwarzające sytuację z wykładu"
   ]
  },
  {
   "cell_type": "code",
   "execution_count": 201,
   "id": "ca27eac5",
   "metadata": {},
   "outputs": [
    {
     "data": {
      "text/html": [
       "<div>\n",
       "<style scoped>\n",
       "    .dataframe tbody tr th:only-of-type {\n",
       "        vertical-align: middle;\n",
       "    }\n",
       "\n",
       "    .dataframe tbody tr th {\n",
       "        vertical-align: top;\n",
       "    }\n",
       "\n",
       "    .dataframe thead th {\n",
       "        text-align: right;\n",
       "    }\n",
       "</style>\n",
       "<table border=\"1\" class=\"dataframe\">\n",
       "  <thead>\n",
       "    <tr style=\"text-align: right;\">\n",
       "      <th></th>\n",
       "      <th>x1</th>\n",
       "      <th>y1</th>\n",
       "      <th>x2</th>\n",
       "      <th>y2</th>\n",
       "    </tr>\n",
       "  </thead>\n",
       "  <tbody>\n",
       "    <tr>\n",
       "      <th>0</th>\n",
       "      <td>-0.029379</td>\n",
       "      <td>8.557853</td>\n",
       "      <td>7.391919</td>\n",
       "      <td>1.970219</td>\n",
       "    </tr>\n",
       "    <tr>\n",
       "      <th>1</th>\n",
       "      <td>-1.346758</td>\n",
       "      <td>4.396907</td>\n",
       "      <td>8.300181</td>\n",
       "      <td>1.404367</td>\n",
       "    </tr>\n",
       "    <tr>\n",
       "      <th>2</th>\n",
       "      <td>1.940835</td>\n",
       "      <td>8.061176</td>\n",
       "      <td>8.871272</td>\n",
       "      <td>2.531024</td>\n",
       "    </tr>\n",
       "    <tr>\n",
       "      <th>3</th>\n",
       "      <td>-0.409299</td>\n",
       "      <td>7.844112</td>\n",
       "      <td>7.424737</td>\n",
       "      <td>1.959036</td>\n",
       "    </tr>\n",
       "    <tr>\n",
       "      <th>4</th>\n",
       "      <td>-0.150709</td>\n",
       "      <td>8.001237</td>\n",
       "      <td>9.485289</td>\n",
       "      <td>2.284859</td>\n",
       "    </tr>\n",
       "    <tr>\n",
       "      <th>5</th>\n",
       "      <td>-0.917286</td>\n",
       "      <td>8.278376</td>\n",
       "      <td>7.949395</td>\n",
       "      <td>1.834776</td>\n",
       "    </tr>\n",
       "    <tr>\n",
       "      <th>6</th>\n",
       "      <td>0.029407</td>\n",
       "      <td>7.194912</td>\n",
       "      <td>9.449022</td>\n",
       "      <td>2.561718</td>\n",
       "    </tr>\n",
       "    <tr>\n",
       "      <th>7</th>\n",
       "      <td>-0.076171</td>\n",
       "      <td>10.298827</td>\n",
       "      <td>7.675431</td>\n",
       "      <td>1.676029</td>\n",
       "    </tr>\n",
       "    <tr>\n",
       "      <th>8</th>\n",
       "      <td>-0.870065</td>\n",
       "      <td>6.205615</td>\n",
       "      <td>11.149437</td>\n",
       "      <td>1.576669</td>\n",
       "    </tr>\n",
       "    <tr>\n",
       "      <th>9</th>\n",
       "      <td>-0.099980</td>\n",
       "      <td>7.462890</td>\n",
       "      <td>10.242971</td>\n",
       "      <td>2.586084</td>\n",
       "    </tr>\n",
       "    <tr>\n",
       "      <th>10</th>\n",
       "      <td>0.743691</td>\n",
       "      <td>8.735737</td>\n",
       "      <td>7.530240</td>\n",
       "      <td>1.640546</td>\n",
       "    </tr>\n",
       "    <tr>\n",
       "      <th>11</th>\n",
       "      <td>0.918886</td>\n",
       "      <td>7.945947</td>\n",
       "      <td>12.524118</td>\n",
       "      <td>2.993199</td>\n",
       "    </tr>\n",
       "    <tr>\n",
       "      <th>12</th>\n",
       "      <td>-1.583219</td>\n",
       "      <td>5.812861</td>\n",
       "      <td>7.146693</td>\n",
       "      <td>2.119341</td>\n",
       "    </tr>\n",
       "    <tr>\n",
       "      <th>13</th>\n",
       "      <td>0.062613</td>\n",
       "      <td>7.714788</td>\n",
       "      <td>8.506663</td>\n",
       "      <td>2.473359</td>\n",
       "    </tr>\n",
       "    <tr>\n",
       "      <th>14</th>\n",
       "      <td>0.680288</td>\n",
       "      <td>8.152346</td>\n",
       "      <td>10.898885</td>\n",
       "      <td>2.578263</td>\n",
       "    </tr>\n",
       "    <tr>\n",
       "      <th>15</th>\n",
       "      <td>-0.289731</td>\n",
       "      <td>8.512950</td>\n",
       "      <td>8.648638</td>\n",
       "      <td>1.517325</td>\n",
       "    </tr>\n",
       "    <tr>\n",
       "      <th>16</th>\n",
       "      <td>-0.412639</td>\n",
       "      <td>7.546294</td>\n",
       "      <td>8.095639</td>\n",
       "      <td>3.359898</td>\n",
       "    </tr>\n",
       "    <tr>\n",
       "      <th>17</th>\n",
       "      <td>0.021191</td>\n",
       "      <td>9.293281</td>\n",
       "      <td>8.863465</td>\n",
       "      <td>1.720064</td>\n",
       "    </tr>\n",
       "    <tr>\n",
       "      <th>18</th>\n",
       "      <td>1.269190</td>\n",
       "      <td>8.305419</td>\n",
       "      <td>10.870632</td>\n",
       "      <td>1.731093</td>\n",
       "    </tr>\n",
       "    <tr>\n",
       "      <th>19</th>\n",
       "      <td>1.332284</td>\n",
       "      <td>9.616754</td>\n",
       "      <td>11.266471</td>\n",
       "      <td>3.075441</td>\n",
       "    </tr>\n",
       "    <tr>\n",
       "      <th>20</th>\n",
       "      <td>1.580744</td>\n",
       "      <td>9.634579</td>\n",
       "      <td>9.105831</td>\n",
       "      <td>2.503686</td>\n",
       "    </tr>\n",
       "    <tr>\n",
       "      <th>21</th>\n",
       "      <td>-0.352419</td>\n",
       "      <td>9.355742</td>\n",
       "      <td>10.262369</td>\n",
       "      <td>1.931142</td>\n",
       "    </tr>\n",
       "    <tr>\n",
       "      <th>22</th>\n",
       "      <td>1.725202</td>\n",
       "      <td>10.109982</td>\n",
       "      <td>7.249993</td>\n",
       "      <td>2.300026</td>\n",
       "    </tr>\n",
       "    <tr>\n",
       "      <th>23</th>\n",
       "      <td>-0.315993</td>\n",
       "      <td>7.007907</td>\n",
       "      <td>7.536488</td>\n",
       "      <td>1.682514</td>\n",
       "    </tr>\n",
       "    <tr>\n",
       "      <th>24</th>\n",
       "      <td>1.274600</td>\n",
       "      <td>9.893139</td>\n",
       "      <td>6.910374</td>\n",
       "      <td>2.066305</td>\n",
       "    </tr>\n",
       "    <tr>\n",
       "      <th>25</th>\n",
       "      <td>1.066309</td>\n",
       "      <td>11.030451</td>\n",
       "      <td>12.261020</td>\n",
       "      <td>1.384146</td>\n",
       "    </tr>\n",
       "    <tr>\n",
       "      <th>26</th>\n",
       "      <td>-0.501670</td>\n",
       "      <td>8.117049</td>\n",
       "      <td>8.175849</td>\n",
       "      <td>1.812913</td>\n",
       "    </tr>\n",
       "    <tr>\n",
       "      <th>27</th>\n",
       "      <td>-1.218982</td>\n",
       "      <td>7.672204</td>\n",
       "      <td>8.444888</td>\n",
       "      <td>1.825071</td>\n",
       "    </tr>\n",
       "    <tr>\n",
       "      <th>28</th>\n",
       "      <td>2.101934</td>\n",
       "      <td>8.551313</td>\n",
       "      <td>12.554075</td>\n",
       "      <td>1.575202</td>\n",
       "    </tr>\n",
       "    <tr>\n",
       "      <th>29</th>\n",
       "      <td>-0.321047</td>\n",
       "      <td>8.577514</td>\n",
       "      <td>10.179504</td>\n",
       "      <td>2.042325</td>\n",
       "    </tr>\n",
       "    <tr>\n",
       "      <th>30</th>\n",
       "      <td>2.393713</td>\n",
       "      <td>11.109223</td>\n",
       "      <td>8.897385</td>\n",
       "      <td>1.951638</td>\n",
       "    </tr>\n",
       "    <tr>\n",
       "      <th>31</th>\n",
       "      <td>-0.757373</td>\n",
       "      <td>7.293516</td>\n",
       "      <td>8.579717</td>\n",
       "      <td>2.059780</td>\n",
       "    </tr>\n",
       "    <tr>\n",
       "      <th>32</th>\n",
       "      <td>0.244008</td>\n",
       "      <td>7.701905</td>\n",
       "      <td>11.200167</td>\n",
       "      <td>2.580102</td>\n",
       "    </tr>\n",
       "    <tr>\n",
       "      <th>33</th>\n",
       "      <td>-0.861537</td>\n",
       "      <td>7.967860</td>\n",
       "      <td>7.999820</td>\n",
       "      <td>1.661451</td>\n",
       "    </tr>\n",
       "    <tr>\n",
       "      <th>34</th>\n",
       "      <td>-0.282586</td>\n",
       "      <td>6.769252</td>\n",
       "      <td>6.588081</td>\n",
       "      <td>1.577828</td>\n",
       "    </tr>\n",
       "    <tr>\n",
       "      <th>35</th>\n",
       "      <td>-0.877861</td>\n",
       "      <td>6.680748</td>\n",
       "      <td>8.331551</td>\n",
       "      <td>1.555016</td>\n",
       "    </tr>\n",
       "    <tr>\n",
       "      <th>36</th>\n",
       "      <td>-0.898151</td>\n",
       "      <td>7.126532</td>\n",
       "      <td>13.230547</td>\n",
       "      <td>1.413549</td>\n",
       "    </tr>\n",
       "    <tr>\n",
       "      <th>37</th>\n",
       "      <td>0.586337</td>\n",
       "      <td>9.769083</td>\n",
       "      <td>10.142349</td>\n",
       "      <td>1.628975</td>\n",
       "    </tr>\n",
       "    <tr>\n",
       "      <th>38</th>\n",
       "      <td>1.532433</td>\n",
       "      <td>10.328314</td>\n",
       "      <td>7.902317</td>\n",
       "      <td>1.938977</td>\n",
       "    </tr>\n",
       "    <tr>\n",
       "      <th>39</th>\n",
       "      <td>1.086132</td>\n",
       "      <td>9.687690</td>\n",
       "      <td>9.833039</td>\n",
       "      <td>1.967625</td>\n",
       "    </tr>\n",
       "    <tr>\n",
       "      <th>40</th>\n",
       "      <td>-0.207343</td>\n",
       "      <td>7.665998</td>\n",
       "      <td>13.790312</td>\n",
       "      <td>1.600718</td>\n",
       "    </tr>\n",
       "    <tr>\n",
       "      <th>41</th>\n",
       "      <td>-0.251223</td>\n",
       "      <td>8.694902</td>\n",
       "      <td>9.988433</td>\n",
       "      <td>1.775771</td>\n",
       "    </tr>\n",
       "    <tr>\n",
       "      <th>42</th>\n",
       "      <td>-1.247920</td>\n",
       "      <td>7.202912</td>\n",
       "      <td>14.098724</td>\n",
       "      <td>1.611486</td>\n",
       "    </tr>\n",
       "    <tr>\n",
       "      <th>43</th>\n",
       "      <td>0.646396</td>\n",
       "      <td>7.330270</td>\n",
       "      <td>9.341567</td>\n",
       "      <td>1.496814</td>\n",
       "    </tr>\n",
       "    <tr>\n",
       "      <th>44</th>\n",
       "      <td>0.551989</td>\n",
       "      <td>6.725921</td>\n",
       "      <td>10.401614</td>\n",
       "      <td>2.181056</td>\n",
       "    </tr>\n",
       "    <tr>\n",
       "      <th>45</th>\n",
       "      <td>-0.352399</td>\n",
       "      <td>5.922552</td>\n",
       "      <td>7.624841</td>\n",
       "      <td>1.572306</td>\n",
       "    </tr>\n",
       "    <tr>\n",
       "      <th>46</th>\n",
       "      <td>-0.109810</td>\n",
       "      <td>5.824517</td>\n",
       "      <td>7.978448</td>\n",
       "      <td>2.049372</td>\n",
       "    </tr>\n",
       "    <tr>\n",
       "      <th>47</th>\n",
       "      <td>-0.208144</td>\n",
       "      <td>7.169698</td>\n",
       "      <td>5.295578</td>\n",
       "      <td>2.303459</td>\n",
       "    </tr>\n",
       "    <tr>\n",
       "      <th>48</th>\n",
       "      <td>-0.538421</td>\n",
       "      <td>7.400662</td>\n",
       "      <td>7.305826</td>\n",
       "      <td>2.201663</td>\n",
       "    </tr>\n",
       "    <tr>\n",
       "      <th>49</th>\n",
       "      <td>-0.686882</td>\n",
       "      <td>5.969688</td>\n",
       "      <td>8.543033</td>\n",
       "      <td>2.281121</td>\n",
       "    </tr>\n",
       "  </tbody>\n",
       "</table>\n",
       "</div>"
      ],
      "text/plain": [
       "          x1         y1         x2        y2\n",
       "0  -0.029379   8.557853   7.391919  1.970219\n",
       "1  -1.346758   4.396907   8.300181  1.404367\n",
       "2   1.940835   8.061176   8.871272  2.531024\n",
       "3  -0.409299   7.844112   7.424737  1.959036\n",
       "4  -0.150709   8.001237   9.485289  2.284859\n",
       "5  -0.917286   8.278376   7.949395  1.834776\n",
       "6   0.029407   7.194912   9.449022  2.561718\n",
       "7  -0.076171  10.298827   7.675431  1.676029\n",
       "8  -0.870065   6.205615  11.149437  1.576669\n",
       "9  -0.099980   7.462890  10.242971  2.586084\n",
       "10  0.743691   8.735737   7.530240  1.640546\n",
       "11  0.918886   7.945947  12.524118  2.993199\n",
       "12 -1.583219   5.812861   7.146693  2.119341\n",
       "13  0.062613   7.714788   8.506663  2.473359\n",
       "14  0.680288   8.152346  10.898885  2.578263\n",
       "15 -0.289731   8.512950   8.648638  1.517325\n",
       "16 -0.412639   7.546294   8.095639  3.359898\n",
       "17  0.021191   9.293281   8.863465  1.720064\n",
       "18  1.269190   8.305419  10.870632  1.731093\n",
       "19  1.332284   9.616754  11.266471  3.075441\n",
       "20  1.580744   9.634579   9.105831  2.503686\n",
       "21 -0.352419   9.355742  10.262369  1.931142\n",
       "22  1.725202  10.109982   7.249993  2.300026\n",
       "23 -0.315993   7.007907   7.536488  1.682514\n",
       "24  1.274600   9.893139   6.910374  2.066305\n",
       "25  1.066309  11.030451  12.261020  1.384146\n",
       "26 -0.501670   8.117049   8.175849  1.812913\n",
       "27 -1.218982   7.672204   8.444888  1.825071\n",
       "28  2.101934   8.551313  12.554075  1.575202\n",
       "29 -0.321047   8.577514  10.179504  2.042325\n",
       "30  2.393713  11.109223   8.897385  1.951638\n",
       "31 -0.757373   7.293516   8.579717  2.059780\n",
       "32  0.244008   7.701905  11.200167  2.580102\n",
       "33 -0.861537   7.967860   7.999820  1.661451\n",
       "34 -0.282586   6.769252   6.588081  1.577828\n",
       "35 -0.877861   6.680748   8.331551  1.555016\n",
       "36 -0.898151   7.126532  13.230547  1.413549\n",
       "37  0.586337   9.769083  10.142349  1.628975\n",
       "38  1.532433  10.328314   7.902317  1.938977\n",
       "39  1.086132   9.687690   9.833039  1.967625\n",
       "40 -0.207343   7.665998  13.790312  1.600718\n",
       "41 -0.251223   8.694902   9.988433  1.775771\n",
       "42 -1.247920   7.202912  14.098724  1.611486\n",
       "43  0.646396   7.330270   9.341567  1.496814\n",
       "44  0.551989   6.725921  10.401614  2.181056\n",
       "45 -0.352399   5.922552   7.624841  1.572306\n",
       "46 -0.109810   5.824517   7.978448  2.049372\n",
       "47 -0.208144   7.169698   5.295578  2.303459\n",
       "48 -0.538421   7.400662   7.305826  2.201663\n",
       "49 -0.686882   5.969688   8.543033  2.281121"
      ]
     },
     "execution_count": 201,
     "metadata": {},
     "output_type": "execute_result"
    }
   ],
   "source": [
    "df = pd.read_csv('input_data.csv', sep=',')\n",
    "dataset = df.to_numpy()\n",
    "df"
   ]
  },
  {
   "cell_type": "code",
   "execution_count": 202,
   "id": "26923c76",
   "metadata": {},
   "outputs": [],
   "source": [
    "x1 = dataset[:, 0]\n",
    "y1 = dataset[:, 1]\n",
    "x2 = dataset[:, 2]\n",
    "y2 = dataset[:, 3]"
   ]
  },
  {
   "cell_type": "code",
   "execution_count": 203,
   "id": "05e79293",
   "metadata": {},
   "outputs": [
    {
     "data": {
      "image/png": "[encoded data removed]",
      "text/plain": [
       "<Figure size 800x600 with 1 Axes>"
      ]
     },
     "metadata": {},
     "output_type": "display_data"
    }
   ],
   "source": [
    "plt.figure(figsize=(8, 6))\n",
    "\n",
    "plt.scatter(x1, y1, label='Seria 1', color='blue', marker='o')\n",
    "plt.scatter(x2, y2, label='Seria 2', color='red', marker='x')\n",
    "\n",
    "plt.xlabel('X')\n",
    "plt.ylabel('Y')\n",
    "\n",
    "plt.xlim(-4, 16)\n",
    "plt.ylim(-6, 14)\n",
    "\n",
    "#plt.xlim(-6, 10)\n",
    "#plt.ylim(4, 20)\n",
    "\n",
    "plt.legend()\n",
    "plt.title('Serie danych')\n",
    "plt.show()"
   ]
  },
  {
   "cell_type": "code",
   "execution_count": 208,
   "id": "2283f6e4",
   "metadata": {},
   "outputs": [
    {
     "data": {
      "text/plain": [
       "matrix([[0.90897662, 0.8975315 ],\n",
       "        [0.8975315 , 1.99376882]])"
      ]
     },
     "execution_count": 208,
     "metadata": {},
     "output_type": "execute_result"
    }
   ],
   "source": [
    "cov_dataset = np.array(dataset[:,[0,1]], dtype='double')\n",
    "cov_matrix = cov_for_dataset(cov_dataset)\n",
    "cov_matrix"
   ]
  },
  {
   "cell_type": "code",
   "execution_count": 209,
   "id": "e53421ef",
   "metadata": {},
   "outputs": [
    {
     "name": "stdout",
     "output_type": "stream",
     "text": [
      "Wartość własna:\n",
      " [2.500065395480083, 0.40268005031847226]\n",
      "Wektor własny:\n",
      " [[ 0.4913188  -0.87097982]\n",
      " [ 0.87097982  0.4913188 ]]\n"
     ]
    }
   ],
   "source": [
    "num_iterations = 10000\n",
    "eigenvalues_1, eigenvectors_1 = eigenvalues_eigenvectors(cov_matrix, num_iterations)\n",
    "\n",
    "print(f\"Wartość własna:\\n {eigenvalues_1}\")\n",
    "print(f\"Wektor własny:\\n {eigenvectors_1}\")"
   ]
  },
  {
   "cell_type": "code",
   "execution_count": 211,
   "id": "62b188b4",
   "metadata": {},
   "outputs": [
    {
     "name": "stdout",
     "output_type": "stream",
     "text": [
      "Wartość własna:\n",
      " [0.40268005 2.5000654 ]\n",
      "Wektor własny:\n",
      " [[-0.87097982 -0.4913188 ]\n",
      " [ 0.4913188  -0.87097982]]\n"
     ]
    }
   ],
   "source": [
    "eigenvalues_1, eigenvectors_1 = np.linalg.eig(cov_matrix)\n",
    "\n",
    "print(f\"Wartość własna:\\n {eigenvalues_1}\")\n",
    "print(f\"Wektor własny:\\n {eigenvectors_1}\")"
   ]
  },
  {
   "cell_type": "code",
   "execution_count": 212,
   "id": "3030dead",
   "metadata": {},
   "outputs": [
    {
     "data": {
      "text/plain": [
       "matrix([[ 1.        ,  0.56409895],\n",
       "        [-0.56409895,  1.        ]])"
      ]
     },
     "execution_count": 212,
     "metadata": {},
     "output_type": "execute_result"
    }
   ],
   "source": [
    "K = eigenvectors_1 / np.diag(eigenvectors_1)\n",
    "K"
   ]
  },
  {
   "cell_type": "code",
   "execution_count": 213,
   "id": "3b0882c1",
   "metadata": {},
   "outputs": [
    {
     "data": {
      "text/plain": [
       "array([[1.57586839, 0.        ],\n",
       "       [0.        , 0.63244726]])"
      ]
     },
     "execution_count": 213,
     "metadata": {},
     "output_type": "execute_result"
    }
   ],
   "source": [
    "A = np.linalg.inv(np.identity(2) * np.sqrt(eigenvalues_1)) # INV(I * wartości_własne)\n",
    "A"
   ]
  },
  {
   "cell_type": "code",
   "execution_count": 214,
   "id": "65d67e73",
   "metadata": {},
   "outputs": [
    {
     "data": {
      "text/plain": [
       "array([[ 7.5611696 ,  5.42287201],\n",
       "       [ 1.78629762,  3.2612849 ],\n",
       "       [10.22444856,  4.40585096],\n",
       "       [ 6.32798769,  5.1070096 ],\n",
       "       [ 6.87516767,  5.11412753],\n",
       "       [ 5.91350496,  5.56288982],\n",
       "       [ 6.44222672,  4.53991102],\n",
       "       [ 9.03506229,  6.54063953],\n",
       "       [ 4.14534718,  4.23513087],\n",
       "       [ 6.47654816,  4.75555369],\n",
       "       [ 8.93755381,  5.25957151],\n",
       "       [ 8.51155901,  4.69756791],\n",
       "       [ 2.67237242,  4.24116144],\n",
       "       [ 6.95669755,  4.85685839],\n",
       "       [ 8.31903682,  4.91322714],\n",
       "       [ 7.11097259,  5.48735704],\n",
       "       [ 6.05798015,  4.91984712],\n",
       "       [ 8.29461573,  5.86994967],\n",
       "       [ 9.3831429 ,  4.79993949],\n",
       "       [10.64827616,  5.60678064],\n",
       "       [11.05566126,  5.52941253],\n",
       "       [ 7.7613806 ,  6.04274302],\n",
       "       [11.70591536,  5.77854254],\n",
       "       [ 5.73168552,  4.54486649],\n",
       "       [10.80306601,  5.80215888],\n",
       "       [11.48583473,  6.59575916],\n",
       "       [ 6.42504958,  5.31258302],\n",
       "       [ 4.89921729,  5.2871516 ],\n",
       "       [10.91402449,  4.65836226],\n",
       "       [ 7.11901616,  5.53936278],\n",
       "       [13.64767284,  6.17200938],\n",
       "       [ 5.29002057,  4.88296691],\n",
       "       [ 7.23109927,  4.78399543],\n",
       "       [ 5.72532532,  5.34661584],\n",
       "       [ 5.57218002,  4.3820112 ],\n",
       "       [ 4.55542947,  4.53840897],\n",
       "       [ 4.9197314 ,  4.82758245],\n",
       "       [ 9.60817347,  5.96924672],\n",
       "       [11.59622294,  5.98539861],\n",
       "       [10.32343126,  5.73946147],\n",
       "       [ 6.48791058,  4.92231168],\n",
       "       [ 7.33340078,  5.58869408],\n",
       "       [ 4.43643986,  5.00067312],\n",
       "       [ 7.53484768,  4.40539922],\n",
       "       [ 6.84884057,  4.05686122],\n",
       "       [ 4.7094925 ,  3.87142472],\n",
       "       [ 5.00463284,  3.72287621],\n",
       "       [ 6.04546511,  4.60871407],\n",
       "       [ 5.73030686,  4.87261707],\n",
       "       [ 4.22429272,  4.02056702]])"
      ]
     },
     "execution_count": 214,
     "metadata": {},
     "output_type": "execute_result"
    }
   ],
   "source": [
    "# p1 = przekształcenie pierwsze\n",
    "s1_p1 = (A * K * np.array(dataset[:,[0,1]], dtype='double').T).T\n",
    "s1_p1 = np.array(s1_p1)\n",
    "s1_p1"
   ]
  },
  {
   "cell_type": "code",
   "execution_count": 215,
   "id": "c0f9e65d",
   "metadata": {},
   "outputs": [
    {
     "data": {
      "text/plain": [
       "matrix([[6.34747661, 1.2197648 ],\n",
       "        [1.2197648 , 0.50815429]])"
      ]
     },
     "execution_count": 215,
     "metadata": {},
     "output_type": "execute_result"
    }
   ],
   "source": [
    "cov_matrix_s1_p1 = cov_for_dataset(s1_p1)\n",
    "cov_matrix_s1_p1"
   ]
  },
  {
   "cell_type": "code",
   "execution_count": 225,
   "id": "bbec3103",
   "metadata": {},
   "outputs": [
    {
     "data": {
      "text/plain": [
       "array([[13.40010893, -1.39110224],\n",
       "       [14.32839911, -2.07300781],\n",
       "       [16.22989943, -1.56420071],\n",
       "       [13.44188525, -1.40988331],\n",
       "       [16.97868257, -1.93894545],\n",
       "       [14.15821601, -1.67564981],\n",
       "       [17.16764289, -1.75090793],\n",
       "       [13.58536864, -1.67830859],\n",
       "       [18.97161891, -2.98054461],\n",
       "       [18.44046267, -2.01874969],\n",
       "       [13.32502316, -1.64895064],\n",
       "       [22.39715401, -2.57509915],\n",
       "       [13.14622711, -1.20930303],\n",
       "       [15.60406333, -1.47059194],\n",
       "       [19.46714437, -2.25770178],\n",
       "       [14.97793431, -2.12588473],\n",
       "       [15.74442785, -0.76326488],\n",
       "       [15.49669702, -2.07430499],\n",
       "       [18.66953402, -2.78341233],\n",
       "       [20.48837496, -2.07440409],\n",
       "       [16.57523205, -1.66517238],\n",
       "       [17.88882234, -2.43988647],\n",
       "       [13.46963245, -1.13188261],\n",
       "       [13.37217627, -1.62463725],\n",
       "       [12.7266729 , -1.15853577],\n",
       "       [20.55218535, -3.4988767 ],\n",
       "       [14.49564283, -1.77026708],\n",
       "       [14.93042046, -1.8585607 ],\n",
       "       [21.18383804, -3.48259509],\n",
       "       [17.85707512, -2.34000567],\n",
       "       [15.75600802, -1.93994826],\n",
       "       [15.35153761, -1.75822217],\n",
       "       [19.94355993, -2.36402487],\n",
       "       [14.08360388, -1.80325843],\n",
       "       [11.78455226, -1.35248932],\n",
       "       [14.51175215, -1.98892216],\n",
       "       [22.10616922, -3.82617194],\n",
       "       [17.43107718, -2.58817261],\n",
       "       [14.17665741, -1.59295234],\n",
       "       [17.24468686, -2.26364371],\n",
       "       [23.15466731, -3.90750119],\n",
       "       [17.31902084, -2.44041997],\n",
       "       [23.65025708, -4.0107211 ],\n",
       "       [16.05166581, -2.38606781],\n",
       "       [18.33041472, -2.33150636],\n",
       "       [13.41344053, -1.72585896],\n",
       "       [14.39476447, -1.55029371],\n",
       "       [10.39278416, -0.43244874],\n",
       "       [13.47017896, -1.21401182],\n",
       "       [15.49048789, -1.60514819]])"
      ]
     },
     "execution_count": 225,
     "metadata": {},
     "output_type": "execute_result"
    }
   ],
   "source": [
    "s2_p1 = (A * K * np.array(dataset[:,[2,3]], dtype='double').T).T\n",
    "s2_p1 = np.array(s2_p1)\n",
    "s2_p1"
   ]
  },
  {
   "cell_type": "code",
   "execution_count": 219,
   "id": "01c8ab73",
   "metadata": {},
   "outputs": [
    {
     "data": {
      "text/plain": [
       "matrix([[ 9.28348369, -1.99412741],\n",
       "        [-1.99412741,  0.56906683]])"
      ]
     },
     "execution_count": 219,
     "metadata": {},
     "output_type": "execute_result"
    }
   ],
   "source": [
    "cov_matrix_s2_p1 = cov_for_dataset(s2_p1)\n",
    "cov_matrix_s2_p1"
   ]
  },
  {
   "cell_type": "code",
   "execution_count": 227,
   "id": "c82d9714",
   "metadata": {},
   "outputs": [
    {
     "data": {
      "image/png": "[encoded data removed]",
      "text/plain": [
       "<Figure size 800x600 with 1 Axes>"
      ]
     },
     "metadata": {},
     "output_type": "display_data"
    }
   ],
   "source": [
    "plt.figure(figsize=(8, 6))\n",
    "\n",
    "plt.scatter(s1_p1[:,[0]], s1_p1[:,[1]], label='Seria 1', color='blue', marker='o')\n",
    "plt.scatter(s2_p1[:,[0]], s2_p1[:,[1]], label='Seria 2', color='red', marker='x')\n",
    "\n",
    "plt.xlabel('X')\n",
    "plt.ylabel('Y')\n",
    "\n",
    "#plt.xlim(-4, 16)\n",
    "#plt.ylim(-6, 14)\n",
    "\n",
    "#plt.xlim(-6, 10)\n",
    "#plt.ylim(4, 20)\n",
    "\n",
    "plt.legend()\n",
    "plt.title('Serie danych')\n",
    "plt.show()"
   ]
  }
 ],
 "metadata": {
  "kernelspec": {
   "display_name": "Python 3 (ipykernel)",
   "language": "python",
   "name": "python3"
  },
  "language_info": {
   "codemirror_mode": {
    "name": "ipython",
    "version": 3
   },
   "file_extension": ".py",
   "mimetype": "text/x-python",
   "name": "python",
   "nbconvert_exporter": "python",
   "pygments_lexer": "ipython3",
   "version": "3.10.9"
  }
 },
 "nbformat": 4,
 "nbformat_minor": 5
}
