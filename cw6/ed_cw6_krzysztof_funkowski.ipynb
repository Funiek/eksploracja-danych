{
 "cells": [
  {
   "cell_type": "markdown",
   "id": "acf72b58",
   "metadata": {},
   "source": [
    "# Zadanie 6 Pracownia Specjalistyczna - Eksploracja danych\n",
    "### Krzysztof Funkowski"
   ]
  },
  {
   "cell_type": "code",
   "execution_count": 105,
   "id": "6a99b8f6",
   "metadata": {},
   "outputs": [],
   "source": [
    "from math import *\n",
    "import random\n",
    "import numpy as np\n",
    "import matplotlib.pyplot as plt\n",
    "import pandas as pd\n",
    "import copy\n",
    "from matplotlib.colors import LinearSegmentedColormap"
   ]
  },
  {
   "cell_type": "markdown",
   "id": "0784e846",
   "metadata": {},
   "source": [
    "# Zadanie 6\n",
    "- Konstrukcja klasyfikatora bayesowskiego na podstawie dwóch wielowymiarowych\n",
    "rozkładów normalnych o takich samych i o różnych macierzach kowariancji\n",
    "- Rozpatrzenie przypadków dla dwóch i trzech klas"
   ]
  },
  {
   "cell_type": "markdown",
   "id": "46cd1b10",
   "metadata": {},
   "source": [
    "### Funkcja do generowania zbioru danych na podstawie wielowymiarowego rozkładu normalnego"
   ]
  },
  {
   "cell_type": "code",
   "execution_count": 2,
   "id": "f3b1b15d",
   "metadata": {},
   "outputs": [],
   "source": [
    "def generate_dataset_norm(N):\n",
    "    return np.column_stack((np.random.normal(0, 0.3, N), np.random.normal(0, 0.3, N)))"
   ]
  },
  {
   "cell_type": "markdown",
   "id": "533e69de",
   "metadata": {},
   "source": [
    "### Funkcja do generowania zbioru danych wybierając dane z przedziału (0,1)\n",
    "Wychodzi zbiór który na wykresie przyjmuje formę kwadratu"
   ]
  },
  {
   "cell_type": "code",
   "execution_count": 3,
   "id": "de6ab9e5",
   "metadata": {},
   "outputs": [],
   "source": [
    "def generate_dataset_rand(N):\n",
    "    dataset = []\n",
    "    for _ in range(N):\n",
    "        dataset.append([random.random(), random.random()])\n",
    "        \n",
    "    return dataset"
   ]
  },
  {
   "cell_type": "markdown",
   "id": "e219865f",
   "metadata": {},
   "source": [
    "### Funkcja do rotacji zbiorem danych na podstawie podanego kątu"
   ]
  },
  {
   "cell_type": "code",
   "execution_count": 4,
   "id": "f4248ea3",
   "metadata": {},
   "outputs": [],
   "source": [
    "def rotate(phi):\n",
    "    rad = np.radians(phi)\n",
    "    rotation_arr = np.array([[np.cos(rad), np.sin(rad)],\n",
    "                             [-np.sin(rad), np.cos(rad)]])\n",
    "    return rotation_arr"
   ]
  },
  {
   "cell_type": "markdown",
   "id": "cdcd7dcb",
   "metadata": {},
   "source": [
    "### Funkcja do rozciągania zbioru danych"
   ]
  },
  {
   "cell_type": "code",
   "execution_count": 5,
   "id": "fd46efe4",
   "metadata": {},
   "outputs": [],
   "source": [
    "def stretch(x, y):\n",
    "    stretch_arr = np.array([[x, 0],\n",
    "                            [0, y]])\n",
    "    return stretch_arr"
   ]
  },
  {
   "cell_type": "markdown",
   "id": "f3f47244",
   "metadata": {},
   "source": [
    "### Funkcja do transformacji zbioru danych"
   ]
  },
  {
   "cell_type": "code",
   "execution_count": 6,
   "id": "dd6e6fb8",
   "metadata": {},
   "outputs": [],
   "source": [
    "def perform_transformation(dataset, rotation_angle, x, y):\n",
    "    result_dataset = copy.deepcopy(dataset)\n",
    "    \n",
    "    stretching = stretch(x, y)\n",
    "    result_dataset = np.dot(result_dataset, stretching)\n",
    "    \n",
    "    rotation = rotate(rotation_angle)\n",
    "    result_dataset = np.dot(result_dataset, rotation)\n",
    "    \n",
    "    return result_dataset"
   ]
  },
  {
   "cell_type": "markdown",
   "id": "2589cea7",
   "metadata": {},
   "source": [
    "### Funkcja służąca do obliczania kowariancji dla dwóch wektorów"
   ]
  },
  {
   "cell_type": "code",
   "execution_count": 7,
   "id": "42536e67",
   "metadata": {},
   "outputs": [],
   "source": [
    "def cov(x, y, x_avg, y_avg):\n",
    "    elements_count = len(x) # ilość elementów w tablicy\n",
    "    elements_sum = 0\n",
    "    \n",
    "    for x,y in zip(x,y):\n",
    "        elements_sum = elements_sum + ((x - x_avg)*(y - y_avg)) # sumowanie (x - średnia_arytmetyczna_x) * (y - średnia_arytmetyczna_y)\n",
    "    \n",
    "    return elements_sum / elements_count # suma dzielona przez liczbę elementów"
   ]
  },
  {
   "cell_type": "markdown",
   "id": "e69a67b9",
   "metadata": {},
   "source": [
    "### Funkcja obliczająca macierz kowariancji dla zbioru danych"
   ]
  },
  {
   "cell_type": "code",
   "execution_count": 8,
   "id": "5330fc33",
   "metadata": {},
   "outputs": [],
   "source": [
    "def cov_for_dataset(cov_dataset):\n",
    "    avgs = []\n",
    "    matrix_shape = cov_dataset.shape[1] # wymiary_macierzy czyli liczba_kolumn_bioru_danych x liczba_kolumn_bioru_danych\n",
    "    for i in range(matrix_shape):\n",
    "        avgs.append(cov_dataset[:,i].mean()) # obliczanie średnich dla każdego parametru\n",
    "    \n",
    "    matrix = []\n",
    "    for i in range(matrix_shape):\n",
    "        matrix_row = []\n",
    "        for j in range(matrix_shape):\n",
    "            #matrix_shape*i + j\n",
    "            res = cov(cov_dataset[:,i],cov_dataset[:,j],avgs[i], avgs[j]) # wyznaczanie kowariancji dla każdej pary parametrów\n",
    "            matrix_row.append(res) # budowanie wiersza macierzy\n",
    "        matrix.append(matrix_row) # dodawanie wiersza macierzy do tablicy bazowej\n",
    "    \n",
    "    return np.matrix(matrix) # przekształcanie typu tablicy na macierz"
   ]
  },
  {
   "cell_type": "markdown",
   "id": "790f7476",
   "metadata": {},
   "source": [
    "### Funkcja do obliczania długości wektora własnego"
   ]
  },
  {
   "cell_type": "code",
   "execution_count": 9,
   "id": "8443361f",
   "metadata": {},
   "outputs": [],
   "source": [
    "def eigenvector_len(v1):\n",
    "    dims = v1.shape[0] # ilość elementów wektora\n",
    "    length = 0\n",
    "    \n",
    "    for i in range(dims):\n",
    "        val = v1[i].ravel().tolist()[0][0]\n",
    "        length = length + pow(val,2) # sumowanie elementów podniesionych do kwadratu\n",
    "        \n",
    "    \n",
    "    length = sqrt(length) # pierwiastkowanie wyniku sumy elementów wektora podniesionych do kwadratów\n",
    "    \n",
    "    return length # zwracanie długości"
   ]
  },
  {
   "cell_type": "markdown",
   "id": "bbd54a53",
   "metadata": {},
   "source": [
    "### Funkcja normalizująca, zwracająca wartość własną i wektor własny"
   ]
  },
  {
   "cell_type": "code",
   "execution_count": 10,
   "id": "cb168445",
   "metadata": {},
   "outputs": [],
   "source": [
    "def eigenvector_normalization(v1):\n",
    "    eigenvalue = eigenvector_len(v1) # wylicznaie wartości własnej\n",
    "    eigenvector = v1 / eigenvalue # wyliczanie wektora własnego\n",
    "    \n",
    "    return eigenvalue, eigenvector # zwrócenie wartości własnej i wektora własnego"
   ]
  },
  {
   "cell_type": "markdown",
   "id": "260e37b0",
   "metadata": {},
   "source": [
    "### Pomocnicza funkcja zmieniająca tablicę wektorów własnych w odpowiednią formę macierzy"
   ]
  },
  {
   "cell_type": "code",
   "execution_count": 11,
   "id": "553fe93a",
   "metadata": {},
   "outputs": [],
   "source": [
    "def rearrange_matrix(eigenvectors):\n",
    "    res = []\n",
    "\n",
    "    for i in range(len(eigenvectors)):\n",
    "        row = eigenvectors[i].ravel().tolist()[0]\n",
    "        res.append(row)\n",
    "\n",
    "    return np.matrix(res).T"
   ]
  },
  {
   "cell_type": "markdown",
   "id": "ba2064d7",
   "metadata": {},
   "source": [
    "### Funkcja odpowiadająca za obliczanie wartości własnych i wektorów własnych"
   ]
  },
  {
   "cell_type": "code",
   "execution_count": 12,
   "id": "e44591c4",
   "metadata": {},
   "outputs": [],
   "source": [
    "def eigenvalues_eigenvectors(matrix, num_iterations):\n",
    "    n = matrix.shape[0] # jeden z wymiarów macierzy, ponieważ jest kwadratowa to wystarczy tylko jeden\n",
    "    eigenvalues = [] # lista na wartości własne\n",
    "    eigenvectors = [] # lista na wektory własne\n",
    "    \n",
    "    for i in range(n):\n",
    "        # losowe dane wektora na początku\n",
    "        eigenvector = np.random.rand(n,1)\n",
    "    \n",
    "        # algorytm iteracyjny wykonywany num_iterations razy\n",
    "        for _ in range(num_iterations):\n",
    "            eigenvector = np.dot(matrix, eigenvector) # mnożenie macierzy kowariancji przez wektor \n",
    "            eigenvalue, eigenvector = eigenvector_normalization(eigenvector) # normalizacja wektora\n",
    "            \n",
    "        # usuwanie z macierzy znalezionej wartości własnej i wektora własnego\n",
    "        # marix - wartość własna * iloczyn zewnętrzny wektora własnego\n",
    "        matrix = matrix - eigenvalue * np.multiply(eigenvector,eigenvector.T).T \n",
    "        \n",
    "        eigenvalues.append(eigenvalue) # dodanie znalezionej wartości własnej do listy\n",
    "        eigenvectors.append(eigenvector) # dodanie znalezionego wektora własnego do listy\n",
    "        \n",
    "        \n",
    "        \n",
    "    return eigenvalues, rearrange_matrix(eigenvectors) # zwrócenie wartości własnych i wektorów własnych"
   ]
  },
  {
   "cell_type": "markdown",
   "id": "6a17a46a",
   "metadata": {},
   "source": [
    "### Funkcja przeprowadzająca operacje wybielania na zbiorze danych"
   ]
  },
  {
   "cell_type": "code",
   "execution_count": 13,
   "id": "1ff73ed0",
   "metadata": {},
   "outputs": [],
   "source": [
    "def whitening(dataset):\n",
    "    cov_matrix = cov_for_dataset(dataset)\n",
    "    \n",
    "    num_iterations = 10000\n",
    "    eigenvalues, eigenvectors = eigenvalues_eigenvectors(cov_matrix, num_iterations)\n",
    "    K = eigenvectors\n",
    "    \n",
    "    A = np.identity(2) * eigenvalues\n",
    "    A = np.linalg.inv(np.identity(2) * np.sqrt(eigenvalues)) # INV(I * wartości_własne)\n",
    "    \n",
    "    new_dataset = (A * K * np.array(dataset, dtype='double').T).T\n",
    "    new_dataset = np.array(new_dataset)\n",
    "\n",
    "    return new_dataset"
   ]
  },
  {
   "cell_type": "markdown",
   "id": "5e7456a5",
   "metadata": {},
   "source": [
    "### Generowanie zbiorów z taką samą kowariancją"
   ]
  },
  {
   "cell_type": "code",
   "execution_count": 17,
   "id": "6cbeeafd",
   "metadata": {},
   "outputs": [],
   "source": [
    "dataset1 = np.array(generate_dataset_norm(100))\n",
    "dataset2 = np.array(generate_dataset_norm(100))"
   ]
  },
  {
   "cell_type": "markdown",
   "id": "665435fe",
   "metadata": {},
   "source": [
    "### Sprawdzenie kowariancji przed wybielaniem"
   ]
  },
  {
   "cell_type": "code",
   "execution_count": 18,
   "id": "3d3a231e",
   "metadata": {},
   "outputs": [
    {
     "data": {
      "text/plain": [
       "matrix([[ 0.0690696 , -0.00400369],\n",
       "        [-0.00400369,  0.08676603]])"
      ]
     },
     "execution_count": 18,
     "metadata": {},
     "output_type": "execute_result"
    }
   ],
   "source": [
    "cov_for_dataset(dataset1)"
   ]
  },
  {
   "cell_type": "code",
   "execution_count": 19,
   "id": "85d91599",
   "metadata": {
    "scrolled": true
   },
   "outputs": [
    {
     "data": {
      "text/plain": [
       "matrix([[0.07449838, 0.00071777],\n",
       "        [0.00071777, 0.08001032]])"
      ]
     },
     "execution_count": 19,
     "metadata": {},
     "output_type": "execute_result"
    }
   ],
   "source": [
    "cov_for_dataset(dataset2)"
   ]
  },
  {
   "cell_type": "markdown",
   "id": "d53dd17e",
   "metadata": {},
   "source": [
    "### Wybielanie i macierze kowariancji po operacji"
   ]
  },
  {
   "cell_type": "code",
   "execution_count": 20,
   "id": "964e2f12",
   "metadata": {},
   "outputs": [
    {
     "data": {
      "text/plain": [
       "matrix([[ 1.00000000e+00, -9.99200722e-18],\n",
       "        [-9.99200722e-18,  1.00000000e+00]])"
      ]
     },
     "execution_count": 20,
     "metadata": {},
     "output_type": "execute_result"
    }
   ],
   "source": [
    "w1 = whitening(dataset1)\n",
    "cov_for_dataset(w1)"
   ]
  },
  {
   "cell_type": "code",
   "execution_count": 21,
   "id": "31e2bb5c",
   "metadata": {},
   "outputs": [
    {
     "data": {
      "text/plain": [
       "matrix([[ 1.00000000e+00, -6.66133815e-17],\n",
       "        [-6.66133815e-17,  1.00000000e+00]])"
      ]
     },
     "execution_count": 21,
     "metadata": {},
     "output_type": "execute_result"
    }
   ],
   "source": [
    "w2 = whitening(dataset2)\n",
    "cov_for_dataset(w2)"
   ]
  },
  {
   "cell_type": "markdown",
   "id": "c3e692aa",
   "metadata": {},
   "source": [
    "### Transformacje i macierze kowariancji po operacji"
   ]
  },
  {
   "cell_type": "code",
   "execution_count": 22,
   "id": "aee8d7bb",
   "metadata": {},
   "outputs": [
    {
     "data": {
      "text/plain": [
       "matrix([[ 2.50000000e-01, -9.99200722e-18],\n",
       "        [-9.99200722e-18,  4.00000000e+00]])"
      ]
     },
     "execution_count": 22,
     "metadata": {},
     "output_type": "execute_result"
    }
   ],
   "source": [
    "t1 = perform_transformation(w1, 0, 0.5, 2)\n",
    "cov_for_dataset(t1)"
   ]
  },
  {
   "cell_type": "code",
   "execution_count": 23,
   "id": "61a47759",
   "metadata": {},
   "outputs": [
    {
     "data": {
      "text/plain": [
       "matrix([[ 4.00000000e+00, -2.49245069e-16],\n",
       "        [-2.49245069e-16,  2.50000000e-01]])"
      ]
     },
     "execution_count": 23,
     "metadata": {},
     "output_type": "execute_result"
    }
   ],
   "source": [
    "t2 = perform_transformation(w2, 90, 0.5, 2) - [6, 8] \n",
    "cov_for_dataset(t2)"
   ]
  },
  {
   "cell_type": "code",
   "execution_count": 24,
   "id": "03393780",
   "metadata": {},
   "outputs": [
    {
     "data": {
      "image/png": "[encoded data removed]",
      "text/plain": [
       "<Figure size 800x600 with 1 Axes>"
      ]
     },
     "metadata": {},
     "output_type": "display_data"
    }
   ],
   "source": [
    "plt.figure(figsize=(8, 6))\n",
    "\n",
    "plt.scatter(t1[:,[0]], t1[:,[1]], color='red', marker='o')\n",
    "plt.scatter(t2[:,[0]], t2[:,[1]], color='green', marker='x')\n",
    "\n",
    "plt.xlabel('X')\n",
    "plt.ylabel('Y')\n",
    "\n",
    "plt.xlim(-14, 4)\n",
    "plt.ylim(-13, 8)\n",
    "\n",
    "plt.title('Zbiory po wybielaniu i transformacji')\n",
    "plt.show()"
   ]
  },
  {
   "cell_type": "code",
   "execution_count": 76,
   "id": "932589ff",
   "metadata": {},
   "outputs": [],
   "source": [
    "def discriminant_function(matrix, x):\n",
    "    means = []\n",
    "    \n",
    "    for col_idx in range(matrix.shape[1]):\n",
    "        means.append(test[:,[col_idx]].mean())\n",
    "    \n",
    "    matrix_cov = cov_for_dataset(matrix)\n",
    "    \n",
    "    d = x - np.array(means)\n",
    "    \n",
    "    det_cov = np.linalg.det(matrix_cov)\n",
    "    inv_cov = np.linalg.inv(matrix_cov)\n",
    "    res = -0.5 * np.log(det_cov) - np.dot(np.dot(d.T, inv_cov), d)\n",
    "    \n",
    "    #print(f'Cov: {matrix_cov}')\n",
    "    #print(f'Means: {means}')\n",
    "    #print(f'd: {d}')\n",
    "    \n",
    "    return res[0,0]"
   ]
  },
  {
   "cell_type": "code",
   "execution_count": 77,
   "id": "8a1c7b2c",
   "metadata": {},
   "outputs": [],
   "source": [
    "test = np.array([[2.0, 1.0], [1.0, 3.0] , [1.0, 5.0]])"
   ]
  },
  {
   "cell_type": "code",
   "execution_count": 78,
   "id": "d5e174ca",
   "metadata": {},
   "outputs": [
    {
     "data": {
      "text/plain": [
       "-80.54522874755781"
      ]
     },
     "execution_count": 78,
     "metadata": {},
     "output_type": "execute_result"
    }
   ],
   "source": [
    "discriminant_function(test, [0,0])"
   ]
  },
  {
   "cell_type": "code",
   "execution_count": 79,
   "id": "c861b759",
   "metadata": {},
   "outputs": [],
   "source": [
    "def probability_func(matrix1, matrix2):\n",
    "    a = matrix1.shape[0]\n",
    "    b = matrix2.shape[0]\n",
    "    \n",
    "    return [a / (a + b), b / (a + b)]"
   ]
  },
  {
   "cell_type": "code",
   "execution_count": 80,
   "id": "2f585649",
   "metadata": {},
   "outputs": [
    {
     "data": {
      "text/plain": [
       "[0.5, 0.5]"
      ]
     },
     "execution_count": 80,
     "metadata": {},
     "output_type": "execute_result"
    }
   ],
   "source": [
    "probability_func(t1, t2)"
   ]
  },
  {
   "cell_type": "code",
   "execution_count": 81,
   "id": "0632ab8e",
   "metadata": {},
   "outputs": [],
   "source": [
    "def assign_class(matrix1, matrix2, x, y):\n",
    "    p = [x, y]\n",
    "    probability = probability_func(matrix1, matrix2)\n",
    "    \n",
    "    matrix1_probability = probability[0]\n",
    "    matrix2_probability = probability[1]\n",
    "\n",
    "    a = np.log(matrix1_probability) + discriminant_function(matrix1, p)\n",
    "    b = np.log(matrix2_probability) + discriminant_function(matrix2, p)\n",
    "\n",
    "    return [a, b]"
   ]
  },
  {
   "cell_type": "code",
   "execution_count": 31,
   "id": "7e1fd208",
   "metadata": {},
   "outputs": [],
   "source": [
    "def assign_color(matrix1, matrix2, x, y):\n",
    "    res = assign_class(matrix1, matrix2, x, y)\n",
    "    a = res[0]\n",
    "    b = res[1]\n",
    "    \n",
    "    if a > b:\n",
    "        return 0\n",
    "    elif a == b:\n",
    "        return 0.5\n",
    "    else:\n",
    "        return 1"
   ]
  },
  {
   "cell_type": "code",
   "execution_count": 32,
   "id": "31cc379c",
   "metadata": {},
   "outputs": [],
   "source": [
    "def assign_borders(matrix1, matrix2, x, y):\n",
    "    res = assign_class(matrix1, matrix2, x, y)\n",
    "    a = res[0]\n",
    "    b = res[1]\n",
    "    \n",
    "    if abs(a-b) < 1:\n",
    "        return 0\n",
    "    else:\n",
    "        return 1"
   ]
  },
  {
   "cell_type": "code",
   "execution_count": 33,
   "id": "2ae3eafd",
   "metadata": {},
   "outputs": [],
   "source": [
    "STEP = 0.05"
   ]
  },
  {
   "cell_type": "code",
   "execution_count": 34,
   "id": "29ea0928",
   "metadata": {},
   "outputs": [],
   "source": [
    "import plotly.express as px"
   ]
  },
  {
   "cell_type": "code",
   "execution_count": 35,
   "id": "c3ddd6a1",
   "metadata": {},
   "outputs": [],
   "source": [
    "rangex = np.arange(-5, 5 + STEP, STEP)\n",
    "rangey = rangex"
   ]
  },
  {
   "cell_type": "code",
   "execution_count": 46,
   "id": "66bd8cdc",
   "metadata": {},
   "outputs": [
    {
     "ename": "KeyboardInterrupt",
     "evalue": "",
     "output_type": "error",
     "traceback": [
      "\u001b[1;31m---------------------------------------------------------------------------\u001b[0m",
      "\u001b[1;31mKeyboardInterrupt\u001b[0m                         Traceback (most recent call last)",
      "Cell \u001b[1;32mIn[46], line 1\u001b[0m\n\u001b[1;32m----> 1\u001b[0m heatmap_data \u001b[38;5;241m=\u001b[39m np\u001b[38;5;241m.\u001b[39marray([[assign_color(t1, t2, x, y) \u001b[38;5;28;01mfor\u001b[39;00m y \u001b[38;5;129;01min\u001b[39;00m rangey] \u001b[38;5;28;01mfor\u001b[39;00m x \u001b[38;5;129;01min\u001b[39;00m rangex])\n",
      "Cell \u001b[1;32mIn[46], line 1\u001b[0m, in \u001b[0;36m<listcomp>\u001b[1;34m(.0)\u001b[0m\n\u001b[1;32m----> 1\u001b[0m heatmap_data \u001b[38;5;241m=\u001b[39m np\u001b[38;5;241m.\u001b[39marray([[assign_color(t1, t2, x, y) \u001b[38;5;28;01mfor\u001b[39;00m y \u001b[38;5;129;01min\u001b[39;00m rangey] \u001b[38;5;28;01mfor\u001b[39;00m x \u001b[38;5;129;01min\u001b[39;00m rangex])\n",
      "Cell \u001b[1;32mIn[46], line 1\u001b[0m, in \u001b[0;36m<listcomp>\u001b[1;34m(.0)\u001b[0m\n\u001b[1;32m----> 1\u001b[0m heatmap_data \u001b[38;5;241m=\u001b[39m np\u001b[38;5;241m.\u001b[39marray([[assign_color(t1, t2, x, y) \u001b[38;5;28;01mfor\u001b[39;00m y \u001b[38;5;129;01min\u001b[39;00m rangey] \u001b[38;5;28;01mfor\u001b[39;00m x \u001b[38;5;129;01min\u001b[39;00m rangex])\n",
      "Cell \u001b[1;32mIn[31], line 2\u001b[0m, in \u001b[0;36massign_color\u001b[1;34m(matrix1, matrix2, x, y)\u001b[0m\n\u001b[0;32m      1\u001b[0m \u001b[38;5;28;01mdef\u001b[39;00m \u001b[38;5;21massign_color\u001b[39m(matrix1, matrix2, x, y):\n\u001b[1;32m----> 2\u001b[0m     res \u001b[38;5;241m=\u001b[39m assign_class(matrix1, matrix2, x, y)\n\u001b[0;32m      3\u001b[0m     a \u001b[38;5;241m=\u001b[39m res[\u001b[38;5;241m0\u001b[39m]\n\u001b[0;32m      4\u001b[0m     b \u001b[38;5;241m=\u001b[39m res[\u001b[38;5;241m1\u001b[39m]\n",
      "Cell \u001b[1;32mIn[30], line 9\u001b[0m, in \u001b[0;36massign_class\u001b[1;34m(matrix1, matrix2, x, y)\u001b[0m\n\u001b[0;32m      6\u001b[0m matrix2_probability \u001b[38;5;241m=\u001b[39m probability[\u001b[38;5;241m1\u001b[39m]\n\u001b[0;32m      8\u001b[0m a \u001b[38;5;241m=\u001b[39m np\u001b[38;5;241m.\u001b[39mlog(matrix1_probability) \u001b[38;5;241m+\u001b[39m discriminant_function(matrix1, p)\n\u001b[1;32m----> 9\u001b[0m b \u001b[38;5;241m=\u001b[39m np\u001b[38;5;241m.\u001b[39mlog(matrix2_probability) \u001b[38;5;241m+\u001b[39m discriminant_function(matrix2, p)\n\u001b[0;32m     11\u001b[0m \u001b[38;5;28;01mreturn\u001b[39;00m [a, b]\n",
      "Cell \u001b[1;32mIn[25], line 13\u001b[0m, in \u001b[0;36mdiscriminant_function\u001b[1;34m(matrix, x)\u001b[0m\n\u001b[0;32m     11\u001b[0m det_cov \u001b[38;5;241m=\u001b[39m np\u001b[38;5;241m.\u001b[39mlinalg\u001b[38;5;241m.\u001b[39mdet(matrix_cov)\n\u001b[0;32m     12\u001b[0m inv_cov \u001b[38;5;241m=\u001b[39m np\u001b[38;5;241m.\u001b[39mlinalg\u001b[38;5;241m.\u001b[39minv(matrix_cov)\n\u001b[1;32m---> 13\u001b[0m res \u001b[38;5;241m=\u001b[39m \u001b[38;5;241m-\u001b[39m\u001b[38;5;241m0.5\u001b[39m \u001b[38;5;241m*\u001b[39m np\u001b[38;5;241m.\u001b[39mlog(det_cov) \u001b[38;5;241m-\u001b[39m np\u001b[38;5;241m.\u001b[39mdot(np\u001b[38;5;241m.\u001b[39mdot(d\u001b[38;5;241m.\u001b[39mT, inv_cov), d)\n\u001b[0;32m     15\u001b[0m \u001b[38;5;66;03m#print(f'Cov: {matrix_cov}')\u001b[39;00m\n\u001b[0;32m     16\u001b[0m \u001b[38;5;66;03m#print(f'Means: {means}')\u001b[39;00m\n\u001b[0;32m     17\u001b[0m \u001b[38;5;66;03m#print(f'd: {d}')\u001b[39;00m\n\u001b[0;32m     19\u001b[0m \u001b[38;5;28;01mreturn\u001b[39;00m res[\u001b[38;5;241m0\u001b[39m,\u001b[38;5;241m0\u001b[39m]\n",
      "File \u001b[1;32m<__array_function__ internals>:200\u001b[0m, in \u001b[0;36mdot\u001b[1;34m(*args, **kwargs)\u001b[0m\n",
      "\u001b[1;31mKeyboardInterrupt\u001b[0m: "
     ]
    }
   ],
   "source": [
    "heatmap_data = np.array([[assign_color(t1, t2, x, y) for y in rangey] for x in rangex])"
   ]
  },
  {
   "cell_type": "code",
   "execution_count": 38,
   "id": "fb366a54",
   "metadata": {},
   "outputs": [
    {
     "data": {
      "text/plain": [
       "(1001, 1001)"
      ]
     },
     "execution_count": 38,
     "metadata": {},
     "output_type": "execute_result"
    }
   ],
   "source": [
    "heatmap_data.shape"
   ]
  },
  {
   "cell_type": "code",
   "execution_count": 45,
   "id": "697029c1",
   "metadata": {
    "scrolled": true
   },
   "outputs": [
    {
     "data": {
      "image/png": "[encoded data removed]",
      "text/plain": [
       "<Figure size 640x480 with 1 Axes>"
      ]
     },
     "metadata": {},
     "output_type": "display_data"
    }
   ],
   "source": [
    "# Tworzenie heatmapy przy użyciu matplotlib\n",
    "plt.imshow(heatmap_data, cmap=\"viridis\", interpolation=\"nearest\")\n",
    "plt.scatter(t1[:,[0]], t1[:,[1]], color='red', marker='o')\n",
    "plt.scatter(t2[:,[0]], t2[:,[1]], color='green', marker='x')\n",
    "plt.show()"
   ]
  },
  {
   "cell_type": "code",
   "execution_count": 95,
   "id": "27c49bd4",
   "metadata": {
    "scrolled": true
   },
   "outputs": [
    {
     "name": "stdout",
     "output_type": "stream",
     "text": [
      "[[ 1.00000000e+00 -1.34336986e-16]\n",
      " [-1.34336986e-16  1.00000000e+00]]\n",
      "[[ 1.0000000e+00 -4.6629367e-17]\n",
      " [-4.6629367e-17  1.0000000e+00]]\n",
      "[[ 9.00000000e+00 -1.42108547e-16]\n",
      " [-1.42108547e-16  1.00000000e+00]]\n",
      "[[ 9.00000000e+00 -3.04201109e-16]\n",
      " [-3.04201109e-16  1.00000000e+00]]\n"
     ]
    },
    {
     "data": {
      "image/png": "[encoded data removed]",
      "text/plain": [
       "<Figure size 800x600 with 1 Axes>"
      ]
     },
     "metadata": {},
     "output_type": "display_data"
    }
   ],
   "source": [
    "dataset1 = np.array(generate_dataset_norm(100))\n",
    "dataset2 = np.array(generate_dataset_norm(100))\n",
    "w1 = whitening(dataset1)\n",
    "w2 = whitening(dataset2)\n",
    "\n",
    "print(cov_for_dataset(w1))\n",
    "print(cov_for_dataset(w2))\n",
    "\n",
    "t1 = perform_transformation(w1, 0, 3, 1) + [0, 8] \n",
    "t2 = perform_transformation(w1, 0, 3, 1) - [0, 8] \n",
    "\n",
    "print(cov_for_dataset(t1))\n",
    "print(cov_for_dataset(t2))\n",
    "\n",
    "\n",
    "plt.figure(figsize=(8, 6))\n",
    "\n",
    "plt.scatter(t1[:,[0]], t1[:,[1]], color='red', marker='o')\n",
    "plt.scatter(t2[:,[0]], t2[:,[1]], color='green', marker='x')\n",
    "\n",
    "plt.xlabel('X')\n",
    "plt.ylabel('Y')\n",
    "\n",
    "plt.xlim(-20, 20)\n",
    "plt.ylim(-20, 20)\n",
    "\n",
    "plt.title('Zbiory po wybielaniu i transformacji')\n",
    "plt.show()"
   ]
  },
  {
   "cell_type": "code",
   "execution_count": 96,
   "id": "ff60d0bd",
   "metadata": {},
   "outputs": [],
   "source": [
    "STEP = 0.05\n",
    "rangex = np.arange(-25, 25 + STEP, STEP)\n",
    "rangey = rangex\n",
    "\n",
    "heatmap_data = np.array([[assign_color(t1, t2, x, y) for y in rangey] for x in rangex])"
   ]
  },
  {
   "cell_type": "code",
   "execution_count": 106,
   "id": "37a6b787",
   "metadata": {
    "scrolled": false
   },
   "outputs": [
    {
     "data": {
      "image/png": "[encoded data removed]",
      "text/plain": [
       "<Figure size 640x480 with 1 Axes>"
      ]
     },
     "metadata": {},
     "output_type": "display_data"
    }
   ],
   "source": [
    "cmap = LinearSegmentedColormap.from_list('custom', ['#aca', '#caa'], N=10)\n",
    "fig, ax = plt.subplots()\n",
    "h = ax.imshow(heatmap_data, extent=[rangex.min(), rangex.max(), rangey.min(), rangey.max()], cmap=cmap)\n",
    "\n",
    "ax.scatter(*t1.T, color='#caa', label='Class A')\n",
    "ax.scatter(*t2.T, color='#aca', label='Class B')\n",
    "\n",
    "ax.legend()\n",
    "plt.show()"
   ]
  },
  {
   "cell_type": "code",
   "execution_count": 99,
   "id": "ff8a2fa0",
   "metadata": {
    "scrolled": true
   },
   "outputs": [
    {
     "data": {
      "text/plain": [
       "(1001, 1001)"
      ]
     },
     "execution_count": 99,
     "metadata": {},
     "output_type": "execute_result"
    }
   ],
   "source": [
    "heatmap_data.shape"
   ]
  },
  {
   "cell_type": "markdown",
   "id": "3449c058",
   "metadata": {},
   "source": [
    "### Wnioski\n",
    "\n",
    "Powyższe testy i zastosowane przykłady pokazują poprawność implementacji operacji transformacji (obrót i rozciąganie) zbioru danych."
   ]
  }
 ],
 "metadata": {
  "kernelspec": {
   "display_name": "Python 3 (ipykernel)",
   "language": "python",
   "name": "python3"
  },
  "language_info": {
   "codemirror_mode": {
    "name": "ipython",
    "version": 3
   },
   "file_extension": ".py",
   "mimetype": "text/x-python",
   "name": "python",
   "nbconvert_exporter": "python",
   "pygments_lexer": "ipython3",
   "version": "3.11.5"
  }
 },
 "nbformat": 4,
 "nbformat_minor": 5
}
