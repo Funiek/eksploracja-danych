{
 "cells": [
  {
   "cell_type": "markdown",
   "id": "acf72b58",
   "metadata": {},
   "source": [
    "# Zadanie 6 Pracownia Specjalistyczna - Eksploracja danych\n",
    "### Krzysztof Funkowski"
   ]
  },
  {
   "cell_type": "code",
   "execution_count": 1,
   "id": "6a99b8f6",
   "metadata": {},
   "outputs": [],
   "source": [
    "from math import *\n",
    "import random\n",
    "import numpy as np\n",
    "import matplotlib.pyplot as plt\n",
    "import pandas as pd\n",
    "import copy"
   ]
  },
  {
   "cell_type": "markdown",
   "id": "0784e846",
   "metadata": {},
   "source": [
    "# Zadanie 6\n",
    "- Konstrukcja klasyfikatora bayesowskiego na podstawie dwóch wielowymiarowych\n",
    "rozkładów normalnych o takich samych i o różnych macierzach kowariancji\n",
    "- Rozpatrzenie przypadków dla dwóch i trzech klas"
   ]
  },
  {
   "cell_type": "markdown",
   "id": "46cd1b10",
   "metadata": {},
   "source": [
    "### Funkcja do generowania zbioru danych na podstawie wielowymiarowego rozkładu normalnego"
   ]
  },
  {
   "cell_type": "code",
   "execution_count": 2,
   "id": "f3b1b15d",
   "metadata": {},
   "outputs": [],
   "source": [
    "def generate_dataset_norm(N):\n",
    "    return np.column_stack((np.random.normal(0, 0.3, N), np.random.normal(0, 0.3, N)))"
   ]
  },
  {
   "cell_type": "markdown",
   "id": "533e69de",
   "metadata": {},
   "source": [
    "### Funkcja do generowania zbioru danych wybierając dane z przedziału (0,1)\n",
    "Wychodzi zbiór który na wykresie przyjmuje formę kwadratu"
   ]
  },
  {
   "cell_type": "code",
   "execution_count": 3,
   "id": "de6ab9e5",
   "metadata": {},
   "outputs": [],
   "source": [
    "def generate_dataset_rand(N):\n",
    "    dataset = []\n",
    "    for _ in range(N):\n",
    "        dataset.append([random.random(), random.random()])\n",
    "        \n",
    "    return dataset"
   ]
  },
  {
   "cell_type": "markdown",
   "id": "e219865f",
   "metadata": {},
   "source": [
    "### Funkcja do rotacji zbiorem danych na podstawie podanego kątu"
   ]
  },
  {
   "cell_type": "code",
   "execution_count": 4,
   "id": "f4248ea3",
   "metadata": {},
   "outputs": [],
   "source": [
    "def rotate(phi):\n",
    "    rad = np.radians(phi)\n",
    "    rotation_arr = np.array([[np.cos(rad), np.sin(rad)],\n",
    "                             [-np.sin(rad), np.cos(rad)]])\n",
    "    return rotation_arr"
   ]
  },
  {
   "cell_type": "markdown",
   "id": "cdcd7dcb",
   "metadata": {},
   "source": [
    "### Funkcja do rozciągania zbioru danych"
   ]
  },
  {
   "cell_type": "code",
   "execution_count": 5,
   "id": "fd46efe4",
   "metadata": {},
   "outputs": [],
   "source": [
    "def stretch(x, y):\n",
    "    stretch_arr = np.array([[x, 0],\n",
    "                            [0, y]])\n",
    "    return stretch_arr"
   ]
  },
  {
   "cell_type": "markdown",
   "id": "f3f47244",
   "metadata": {},
   "source": [
    "### Funkcja do transformacji zbioru danych"
   ]
  },
  {
   "cell_type": "code",
   "execution_count": 6,
   "id": "dd6e6fb8",
   "metadata": {},
   "outputs": [],
   "source": [
    "def perform_transformation(dataset, rotation_angle, x, y):\n",
    "    result_dataset = copy.deepcopy(dataset)\n",
    "    \n",
    "    stretching = stretch(x, y)\n",
    "    result_dataset = np.dot(result_dataset, stretching)\n",
    "    \n",
    "    rotation = rotate(rotation_angle)\n",
    "    result_dataset = np.dot(result_dataset, rotation)\n",
    "    \n",
    "    return result_dataset"
   ]
  },
  {
   "cell_type": "markdown",
   "id": "2589cea7",
   "metadata": {},
   "source": [
    "### Funkcja służąca do obliczania kowariancji dla dwóch wektorów"
   ]
  },
  {
   "cell_type": "code",
   "execution_count": 83,
   "id": "42536e67",
   "metadata": {},
   "outputs": [],
   "source": [
    "def cov(x, y, x_avg, y_avg):\n",
    "    elements_count = len(x) # ilość elementów w tablicy\n",
    "    elements_sum = 0\n",
    "    \n",
    "    for x,y in zip(x,y):\n",
    "        elements_sum = elements_sum + ((x - x_avg)*(y - y_avg)) # sumowanie (x - średnia_arytmetyczna_x) * (y - średnia_arytmetyczna_y)\n",
    "    \n",
    "    return elements_sum / elements_count # suma dzielona przez liczbę elementów"
   ]
  },
  {
   "cell_type": "markdown",
   "id": "e69a67b9",
   "metadata": {},
   "source": [
    "### Funkcja obliczająca macierz kowariancji dla zbioru danych"
   ]
  },
  {
   "cell_type": "code",
   "execution_count": 84,
   "id": "5330fc33",
   "metadata": {},
   "outputs": [],
   "source": [
    "def cov_for_dataset(cov_dataset):\n",
    "    avgs = []\n",
    "    matrix_shape = cov_dataset.shape[1] # wymiary_macierzy czyli liczba_kolumn_bioru_danych x liczba_kolumn_bioru_danych\n",
    "    for i in range(matrix_shape):\n",
    "        avgs.append(cov_dataset[:,i].mean()) # obliczanie średnich dla każdego parametru\n",
    "    \n",
    "    matrix = []\n",
    "    for i in range(matrix_shape):\n",
    "        matrix_row = []\n",
    "        for j in range(matrix_shape):\n",
    "            #matrix_shape*i + j\n",
    "            res = cov(cov_dataset[:,i],cov_dataset[:,j],avgs[i], avgs[j]) # wyznaczanie kowariancji dla każdej pary parametrów\n",
    "            matrix_row.append(res) # budowanie wiersza macierzy\n",
    "        matrix.append(matrix_row) # dodawanie wiersza macierzy do tablicy bazowej\n",
    "    \n",
    "    return np.matrix(matrix) # przekształcanie typu tablicy na macierz"
   ]
  },
  {
   "cell_type": "markdown",
   "id": "790f7476",
   "metadata": {},
   "source": [
    "### Funkcja do obliczania długości wektora własnego"
   ]
  },
  {
   "cell_type": "code",
   "execution_count": 85,
   "id": "8443361f",
   "metadata": {},
   "outputs": [],
   "source": [
    "def eigenvector_len(v1):\n",
    "    dims = v1.shape[0] # ilość elementów wektora\n",
    "    length = 0\n",
    "    \n",
    "    for i in range(dims):\n",
    "        val = v1[i].ravel().tolist()[0][0]\n",
    "        length = length + pow(val,2) # sumowanie elementów podniesionych do kwadratu\n",
    "        \n",
    "    \n",
    "    length = sqrt(length) # pierwiastkowanie wyniku sumy elementów wektora podniesionych do kwadratów\n",
    "    \n",
    "    return length # zwracanie długości"
   ]
  },
  {
   "cell_type": "markdown",
   "id": "bbd54a53",
   "metadata": {},
   "source": [
    "### Funkcja normalizująca, zwracająca wartość własną i wektor własny"
   ]
  },
  {
   "cell_type": "code",
   "execution_count": 86,
   "id": "cb168445",
   "metadata": {},
   "outputs": [],
   "source": [
    "def eigenvector_normalization(v1):\n",
    "    eigenvalue = eigenvector_len(v1) # wylicznaie wartości własnej\n",
    "    eigenvector = v1 / eigenvalue # wyliczanie wektora własnego\n",
    "    \n",
    "    return eigenvalue, eigenvector # zwrócenie wartości własnej i wektora własnego"
   ]
  },
  {
   "cell_type": "markdown",
   "id": "260e37b0",
   "metadata": {},
   "source": [
    "### Pomocnicza funkcja zmieniająca tablicę wektorów własnych w odpowiednią formę macierzy"
   ]
  },
  {
   "cell_type": "code",
   "execution_count": 87,
   "id": "553fe93a",
   "metadata": {},
   "outputs": [],
   "source": [
    "def rearrange_matrix(eigenvectors):\n",
    "    res = []\n",
    "\n",
    "    for i in range(len(eigenvectors)):\n",
    "        row = eigenvectors[i].ravel().tolist()[0]\n",
    "        res.append(row)\n",
    "\n",
    "    return np.matrix(res).T"
   ]
  },
  {
   "cell_type": "markdown",
   "id": "ba2064d7",
   "metadata": {},
   "source": [
    "### Funkcja odpowiadająca za obliczanie wartości własnych i wektorów własnych"
   ]
  },
  {
   "cell_type": "code",
   "execution_count": 89,
   "id": "e44591c4",
   "metadata": {},
   "outputs": [],
   "source": [
    "def eigenvalues_eigenvectors(matrix, num_iterations):\n",
    "    n = matrix.shape[0] # jeden z wymiarów macierzy, ponieważ jest kwadratowa to wystarczy tylko jeden\n",
    "    eigenvalues = [] # lista na wartości własne\n",
    "    eigenvectors = [] # lista na wektory własne\n",
    "    \n",
    "    for i in range(n):\n",
    "        # losowe dane wektora na początku\n",
    "        eigenvector = np.random.rand(n,1)\n",
    "    \n",
    "        # algorytm iteracyjny wykonywany num_iterations razy\n",
    "        for _ in range(num_iterations):\n",
    "            eigenvector = np.dot(matrix, eigenvector) # mnożenie macierzy kowariancji przez wektor \n",
    "            eigenvalue, eigenvector = eigenvector_normalization(eigenvector) # normalizacja wektora\n",
    "            \n",
    "        # usuwanie z macierzy znalezionej wartości własnej i wektora własnego\n",
    "        # marix - wartość własna * iloczyn zewnętrzny wektora własnego\n",
    "        matrix = matrix - eigenvalue * np.multiply(eigenvector,eigenvector.T).T \n",
    "        \n",
    "        eigenvalues.append(eigenvalue) # dodanie znalezionej wartości własnej do listy\n",
    "        eigenvectors.append(eigenvector) # dodanie znalezionego wektora własnego do listy\n",
    "        \n",
    "        \n",
    "        \n",
    "    return eigenvalues, rearrange_matrix(eigenvectors) # zwrócenie wartości własnych i wektorów własnych"
   ]
  },
  {
   "cell_type": "markdown",
   "id": "6a17a46a",
   "metadata": {},
   "source": [
    "### Funkcja przeprowadzająca operacje wybielania na zbiorze danych"
   ]
  },
  {
   "cell_type": "code",
   "execution_count": 102,
   "id": "1ff73ed0",
   "metadata": {},
   "outputs": [],
   "source": [
    "def whitening(dataset):\n",
    "    cov_matrix = cov_for_dataset(dataset)\n",
    "    \n",
    "    num_iterations = 10000\n",
    "    eigenvalues, eigenvectors = eigenvalues_eigenvectors(cov_matrix, num_iterations)\n",
    "    K = eigenvectors\n",
    "    \n",
    "    A = np.identity(2) * eigenvalues\n",
    "    A = np.linalg.inv(np.identity(2) * np.sqrt(eigenvalues)) # INV(I * wartości_własne)\n",
    "    \n",
    "    new_dataset = (A * K * np.array(dataset, dtype='double').T).T\n",
    "    new_dataset = np.array(new_dataset)\n",
    "\n",
    "    return new_dataset"
   ]
  },
  {
   "cell_type": "markdown",
   "id": "5e7456a5",
   "metadata": {},
   "source": [
    "### Generowanie zbiorów z taką samą kowariancją"
   ]
  },
  {
   "cell_type": "code",
   "execution_count": 183,
   "id": "6cbeeafd",
   "metadata": {},
   "outputs": [],
   "source": [
    "dataset1 = np.array(generate_dataset_norm(100))\n",
    "dataset2 = np.array(generate_dataset_norm(100))"
   ]
  },
  {
   "cell_type": "markdown",
   "id": "665435fe",
   "metadata": {},
   "source": [
    "### Sprawdzenie kowariancji przed wybielaniem"
   ]
  },
  {
   "cell_type": "code",
   "execution_count": 184,
   "id": "3d3a231e",
   "metadata": {},
   "outputs": [
    {
     "data": {
      "text/plain": [
       "matrix([[ 0.08786599, -0.00414384],\n",
       "        [-0.00414384,  0.09390012]])"
      ]
     },
     "execution_count": 184,
     "metadata": {},
     "output_type": "execute_result"
    }
   ],
   "source": [
    "cov_for_dataset(dataset1)"
   ]
  },
  {
   "cell_type": "code",
   "execution_count": 185,
   "id": "85d91599",
   "metadata": {
    "scrolled": true
   },
   "outputs": [
    {
     "data": {
      "text/plain": [
       "matrix([[ 0.08419588, -0.00797841],\n",
       "        [-0.00797841,  0.09295159]])"
      ]
     },
     "execution_count": 185,
     "metadata": {},
     "output_type": "execute_result"
    }
   ],
   "source": [
    "cov_for_dataset(dataset2)"
   ]
  },
  {
   "cell_type": "markdown",
   "id": "d53dd17e",
   "metadata": {},
   "source": [
    "### Wybielanie i macierze kowariancji po operacji"
   ]
  },
  {
   "cell_type": "code",
   "execution_count": 186,
   "id": "964e2f12",
   "metadata": {},
   "outputs": [
    {
     "data": {
      "text/plain": [
       "matrix([[1.00000000e+00, 7.32747196e-17],\n",
       "        [7.32747196e-17, 1.00000000e+00]])"
      ]
     },
     "execution_count": 186,
     "metadata": {},
     "output_type": "execute_result"
    }
   ],
   "source": [
    "w1 = whitening(dataset1)\n",
    "cov_for_dataset(w1)"
   ]
  },
  {
   "cell_type": "code",
   "execution_count": 187,
   "id": "31e2bb5c",
   "metadata": {},
   "outputs": [
    {
     "data": {
      "text/plain": [
       "matrix([[ 1.00000000e+00, -1.59872116e-16],\n",
       "        [-1.59872116e-16,  1.00000000e+00]])"
      ]
     },
     "execution_count": 187,
     "metadata": {},
     "output_type": "execute_result"
    }
   ],
   "source": [
    "w2 = whitening(dataset2)\n",
    "cov_for_dataset(w2)"
   ]
  },
  {
   "cell_type": "markdown",
   "id": "c3e692aa",
   "metadata": {},
   "source": [
    "### Transformacje i macierze kowariancji po operacji"
   ]
  },
  {
   "cell_type": "code",
   "execution_count": 188,
   "id": "aee8d7bb",
   "metadata": {},
   "outputs": [
    {
     "data": {
      "text/plain": [
       "matrix([[2.50000000e-01, 7.32747196e-17],\n",
       "        [7.32747196e-17, 4.00000000e+00]])"
      ]
     },
     "execution_count": 188,
     "metadata": {},
     "output_type": "execute_result"
    }
   ],
   "source": [
    "t1 = perform_transformation(w1, 0, 0.5, 2)\n",
    "cov_for_dataset(t1)"
   ]
  },
  {
   "cell_type": "code",
   "execution_count": 201,
   "id": "61a47759",
   "metadata": {},
   "outputs": [
    {
     "data": {
      "text/plain": [
       "matrix([[ 4.00000000e+00, -2.80886425e-16],\n",
       "        [-2.80886425e-16,  2.50000000e-01]])"
      ]
     },
     "execution_count": 201,
     "metadata": {},
     "output_type": "execute_result"
    }
   ],
   "source": [
    "t2 = perform_transformation(w2, 90, 0.5, 2) - [6, 8] \n",
    "cov_for_dataset(t2)"
   ]
  },
  {
   "cell_type": "code",
   "execution_count": 204,
   "id": "03393780",
   "metadata": {},
   "outputs": [
    {
     "data": {
      "image/png": "[encoded data removed]",
      "text/plain": [
       "<Figure size 800x600 with 1 Axes>"
      ]
     },
     "metadata": {},
     "output_type": "display_data"
    }
   ],
   "source": [
    "plt.figure(figsize=(8, 6))\n",
    "\n",
    "plt.scatter(t1[:,[0]], t1[:,[1]], color='red', marker='o')\n",
    "plt.scatter(t2[:,[0]], t2[:,[1]], color='green', marker='x')\n",
    "\n",
    "plt.xlabel('X')\n",
    "plt.ylabel('Y')\n",
    "\n",
    "plt.xlim(-14, 4)\n",
    "plt.ylim(-13, 8)\n",
    "\n",
    "plt.title('Zbiory po wybielaniu i transformacji')\n",
    "plt.show()"
   ]
  },
  {
   "cell_type": "code",
   "execution_count": 58,
   "id": "932589ff",
   "metadata": {},
   "outputs": [],
   "source": []
  },
  {
   "cell_type": "code",
   "execution_count": 62,
   "id": "8a1c7b2c",
   "metadata": {},
   "outputs": [],
   "source": []
  },
  {
   "cell_type": "code",
   "execution_count": null,
   "id": "d5e174ca",
   "metadata": {},
   "outputs": [],
   "source": []
  },
  {
   "cell_type": "markdown",
   "id": "3449c058",
   "metadata": {},
   "source": [
    "### Wnioski\n",
    "\n",
    "Powyższe testy i zastosowane przykłady pokazują poprawność implementacji operacji transformacji (obrót i rozciąganie) zbioru danych."
   ]
  }
 ],
 "metadata": {
  "kernelspec": {
   "display_name": "Python 3 (ipykernel)",
   "language": "python",
   "name": "python3"
  },
  "language_info": {
   "codemirror_mode": {
    "name": "ipython",
    "version": 3
   },
   "file_extension": ".py",
   "mimetype": "text/x-python",
   "name": "python",
   "nbconvert_exporter": "python",
   "pygments_lexer": "ipython3",
   "version": "3.9.13"
  }
 },
 "nbformat": 4,
 "nbformat_minor": 5
}
