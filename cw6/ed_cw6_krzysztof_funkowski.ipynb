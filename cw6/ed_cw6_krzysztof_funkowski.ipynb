{
 "cells": [
  {
   "cell_type": "markdown",
   "id": "acf72b58",
   "metadata": {},
   "source": [
    "# Zadanie 6 Pracownia Specjalistyczna - Eksploracja danych\n",
    "### Krzysztof Funkowski"
   ]
  },
  {
   "cell_type": "code",
   "execution_count": 1,
   "id": "6a99b8f6",
   "metadata": {},
   "outputs": [],
   "source": [
    "from math import *\n",
    "import random\n",
    "import numpy as np\n",
    "import matplotlib.pyplot as plt\n",
    "import pandas as pd\n",
    "import copy\n",
    "from matplotlib.colors import LinearSegmentedColormap"
   ]
  },
  {
   "cell_type": "markdown",
   "id": "0784e846",
   "metadata": {},
   "source": [
    "# Zadanie 6\n",
    "- Konstrukcja klasyfikatora bayesowskiego na podstawie dwóch wielowymiarowych\n",
    "rozkładów normalnych o takich samych i o różnych macierzach kowariancji\n",
    "- Rozpatrzenie przypadków dla dwóch i trzech klas"
   ]
  },
  {
   "cell_type": "markdown",
   "id": "46cd1b10",
   "metadata": {},
   "source": [
    "### Funkcja do generowania zbioru danych na podstawie wielowymiarowego rozkładu normalnego"
   ]
  },
  {
   "cell_type": "code",
   "execution_count": 2,
   "id": "f3b1b15d",
   "metadata": {},
   "outputs": [],
   "source": [
    "def generate_dataset_norm(N):\n",
    "    return np.column_stack((np.random.normal(0, 0.3, N), np.random.normal(0, 0.3, N)))"
   ]
  },
  {
   "cell_type": "markdown",
   "id": "533e69de",
   "metadata": {},
   "source": [
    "### Funkcja do generowania zbioru danych wybierając dane z przedziału (0,1)\n",
    "Wychodzi zbiór który na wykresie przyjmuje formę kwadratu"
   ]
  },
  {
   "cell_type": "code",
   "execution_count": 3,
   "id": "de6ab9e5",
   "metadata": {},
   "outputs": [],
   "source": [
    "def generate_dataset_rand(N):\n",
    "    dataset = []\n",
    "    for _ in range(N):\n",
    "        dataset.append([random.random(), random.random()])\n",
    "        \n",
    "    return dataset"
   ]
  },
  {
   "cell_type": "markdown",
   "id": "e219865f",
   "metadata": {},
   "source": [
    "### Funkcja do rotacji zbiorem danych na podstawie podanego kątu"
   ]
  },
  {
   "cell_type": "code",
   "execution_count": 4,
   "id": "f4248ea3",
   "metadata": {},
   "outputs": [],
   "source": [
    "def rotate(phi):\n",
    "    rad = np.radians(phi)\n",
    "    rotation_arr = np.array([[np.cos(rad), np.sin(rad)],\n",
    "                             [-np.sin(rad), np.cos(rad)]])\n",
    "    return rotation_arr"
   ]
  },
  {
   "cell_type": "markdown",
   "id": "cdcd7dcb",
   "metadata": {},
   "source": [
    "### Funkcja do rozciągania zbioru danych"
   ]
  },
  {
   "cell_type": "code",
   "execution_count": 5,
   "id": "fd46efe4",
   "metadata": {},
   "outputs": [],
   "source": [
    "def stretch(x, y):\n",
    "    stretch_arr = np.array([[x, 0],\n",
    "                            [0, y]])\n",
    "    return stretch_arr"
   ]
  },
  {
   "cell_type": "markdown",
   "id": "f3f47244",
   "metadata": {},
   "source": [
    "### Funkcja do transformacji zbioru danych"
   ]
  },
  {
   "cell_type": "code",
   "execution_count": 6,
   "id": "dd6e6fb8",
   "metadata": {},
   "outputs": [],
   "source": [
    "def perform_transformation(dataset, rotation_angle, x, y):\n",
    "    result_dataset = copy.deepcopy(dataset)\n",
    "    \n",
    "    stretching = stretch(x, y)\n",
    "    result_dataset = np.dot(result_dataset, stretching)\n",
    "    \n",
    "    rotation = rotate(rotation_angle)\n",
    "    result_dataset = np.dot(result_dataset, rotation)\n",
    "    \n",
    "    return result_dataset"
   ]
  },
  {
   "cell_type": "markdown",
   "id": "2589cea7",
   "metadata": {},
   "source": [
    "### Funkcja służąca do obliczania kowariancji dla dwóch wektorów"
   ]
  },
  {
   "cell_type": "code",
   "execution_count": 7,
   "id": "42536e67",
   "metadata": {},
   "outputs": [],
   "source": [
    "def cov(x, y, x_avg, y_avg):\n",
    "    elements_count = len(x) # ilość elementów w tablicy\n",
    "    elements_sum = 0\n",
    "    \n",
    "    for x,y in zip(x,y):\n",
    "        elements_sum = elements_sum + ((x - x_avg)*(y - y_avg)) # sumowanie (x - średnia_arytmetyczna_x) * (y - średnia_arytmetyczna_y)\n",
    "    \n",
    "    return elements_sum / (elements_count-1)  # suma dzielona przez liczbę elementów"
   ]
  },
  {
   "cell_type": "markdown",
   "id": "e69a67b9",
   "metadata": {},
   "source": [
    "### Funkcja obliczająca macierz kowariancji dla zbioru danych"
   ]
  },
  {
   "cell_type": "code",
   "execution_count": 8,
   "id": "5330fc33",
   "metadata": {},
   "outputs": [],
   "source": [
    "def cov_for_dataset(cov_dataset):\n",
    "    avgs = []\n",
    "    matrix_shape = cov_dataset.shape[1] # wymiary_macierzy czyli liczba_kolumn_bioru_danych x liczba_kolumn_bioru_danych\n",
    "    for i in range(matrix_shape):\n",
    "        avgs.append(cov_dataset[:,i].mean()) # obliczanie średnich dla każdego parametru\n",
    "    \n",
    "    matrix = []\n",
    "    for i in range(matrix_shape):\n",
    "        matrix_row = []\n",
    "        for j in range(matrix_shape):\n",
    "            #matrix_shape*i + j\n",
    "            res = cov(cov_dataset[:,i],cov_dataset[:,j],avgs[i], avgs[j]) # wyznaczanie kowariancji dla każdej pary parametrów\n",
    "            matrix_row.append(res) # budowanie wiersza macierzy\n",
    "        matrix.append(matrix_row) # dodawanie wiersza macierzy do tablicy bazowej\n",
    "    \n",
    "    return np.matrix(matrix) # przekształcanie typu tablicy na macierz"
   ]
  },
  {
   "cell_type": "markdown",
   "id": "790f7476",
   "metadata": {},
   "source": [
    "### Funkcja do obliczania długości wektora własnego"
   ]
  },
  {
   "cell_type": "code",
   "execution_count": 9,
   "id": "8443361f",
   "metadata": {},
   "outputs": [],
   "source": [
    "def eigenvector_len(v1):\n",
    "    dims = v1.shape[0] # ilość elementów wektora\n",
    "    length = 0\n",
    "    \n",
    "    for i in range(dims):\n",
    "        val = v1[i].ravel().tolist()[0][0]\n",
    "        length = length + pow(val,2) # sumowanie elementów podniesionych do kwadratu\n",
    "        \n",
    "    \n",
    "    length = sqrt(length) # pierwiastkowanie wyniku sumy elementów wektora podniesionych do kwadratów\n",
    "    \n",
    "    return length # zwracanie długości"
   ]
  },
  {
   "cell_type": "markdown",
   "id": "bbd54a53",
   "metadata": {},
   "source": [
    "### Funkcja normalizująca, zwracająca wartość własną i wektor własny"
   ]
  },
  {
   "cell_type": "code",
   "execution_count": 10,
   "id": "cb168445",
   "metadata": {},
   "outputs": [],
   "source": [
    "def eigenvector_normalization(v1):\n",
    "    eigenvalue = eigenvector_len(v1) # wylicznaie wartości własnej\n",
    "    eigenvector = v1 / eigenvalue # wyliczanie wektora własnego\n",
    "    \n",
    "    return eigenvalue, eigenvector # zwrócenie wartości własnej i wektora własnego"
   ]
  },
  {
   "cell_type": "markdown",
   "id": "260e37b0",
   "metadata": {},
   "source": [
    "### Pomocnicza funkcja zmieniająca tablicę wektorów własnych w odpowiednią formę macierzy"
   ]
  },
  {
   "cell_type": "code",
   "execution_count": 11,
   "id": "553fe93a",
   "metadata": {},
   "outputs": [],
   "source": [
    "def rearrange_matrix(eigenvectors):\n",
    "    res = []\n",
    "\n",
    "    for i in range(len(eigenvectors)):\n",
    "        row = eigenvectors[i].ravel().tolist()[0]\n",
    "        res.append(row)\n",
    "\n",
    "    return np.matrix(res).T"
   ]
  },
  {
   "cell_type": "markdown",
   "id": "ba2064d7",
   "metadata": {},
   "source": [
    "### Funkcja odpowiadająca za obliczanie wartości własnych i wektorów własnych"
   ]
  },
  {
   "cell_type": "code",
   "execution_count": 12,
   "id": "e44591c4",
   "metadata": {},
   "outputs": [],
   "source": [
    "def eigenvalues_eigenvectors(matrix, num_iterations):\n",
    "    n = matrix.shape[0] # jeden z wymiarów macierzy, ponieważ jest kwadratowa to wystarczy tylko jeden\n",
    "    eigenvalues = [] # lista na wartości własne\n",
    "    eigenvectors = [] # lista na wektory własne\n",
    "    \n",
    "    for i in range(n):\n",
    "        # losowe dane wektora na początku\n",
    "        eigenvector = np.random.rand(n,1)\n",
    "    \n",
    "        # algorytm iteracyjny wykonywany num_iterations razy\n",
    "        for _ in range(num_iterations):\n",
    "            eigenvector = np.dot(matrix, eigenvector) # mnożenie macierzy kowariancji przez wektor \n",
    "            eigenvalue, eigenvector = eigenvector_normalization(eigenvector) # normalizacja wektora\n",
    "            \n",
    "        # usuwanie z macierzy znalezionej wartości własnej i wektora własnego\n",
    "        # marix - wartość własna * iloczyn zewnętrzny wektora własnego\n",
    "        matrix = matrix - eigenvalue * np.multiply(eigenvector,eigenvector.T).T \n",
    "        \n",
    "        eigenvalues.append(eigenvalue) # dodanie znalezionej wartości własnej do listy\n",
    "        eigenvectors.append(eigenvector) # dodanie znalezionego wektora własnego do listy\n",
    "        \n",
    "        \n",
    "        \n",
    "    return eigenvalues, rearrange_matrix(eigenvectors) # zwrócenie wartości własnych i wektorów własnych"
   ]
  },
  {
   "cell_type": "markdown",
   "id": "6a17a46a",
   "metadata": {},
   "source": [
    "### Funkcja przeprowadzająca operacje wybielania na zbiorze danych"
   ]
  },
  {
   "cell_type": "code",
   "execution_count": 13,
   "id": "1ff73ed0",
   "metadata": {},
   "outputs": [],
   "source": [
    "def whitening(dataset):\n",
    "    cov_matrix = cov_for_dataset(dataset)\n",
    "    \n",
    "    num_iterations = 10000\n",
    "    eigenvalues, eigenvectors = eigenvalues_eigenvectors(cov_matrix, num_iterations)\n",
    "    K = eigenvectors\n",
    "    \n",
    "    A = np.identity(2) * eigenvalues\n",
    "    A = np.linalg.inv(np.identity(2) * np.sqrt(eigenvalues)) # INV(I * wartości_własne)\n",
    "    \n",
    "    new_dataset = (A * K * np.array(dataset, dtype='double').T).T\n",
    "    new_dataset = np.array(new_dataset)\n",
    "\n",
    "    return new_dataset"
   ]
  },
  {
   "cell_type": "markdown",
   "id": "80f0b248",
   "metadata": {},
   "source": [
    "### Funkcja dyskryminacyjna"
   ]
  },
  {
   "cell_type": "code",
   "execution_count": 14,
   "id": "3229fdd1",
   "metadata": {},
   "outputs": [],
   "source": [
    "def discriminant_function(matrix, x):\n",
    "    means = []\n",
    "    \n",
    "    for col_idx in range(matrix.shape[1]):\n",
    "        means.append(matrix[:,[col_idx]].mean())\n",
    "    \n",
    "    matrix_cov = cov_for_dataset(matrix)\n",
    "    \n",
    "    d = x - np.array(means)\n",
    "    \n",
    "    det_cov = np.linalg.det(matrix_cov)\n",
    "    inv_cov = np.linalg.inv(matrix_cov)\n",
    "    res = -0.5 * np.log(det_cov) - np.dot(np.dot(d.T, inv_cov), d)\n",
    "    \n",
    "    return res[0,0]"
   ]
  },
  {
   "cell_type": "markdown",
   "id": "5e857156",
   "metadata": {},
   "source": [
    "### Funkcja wyliczająca prawdopodobieństwo wylosowania z jednej z klas"
   ]
  },
  {
   "cell_type": "code",
   "execution_count": 15,
   "id": "0546975c",
   "metadata": {},
   "outputs": [],
   "source": [
    "def probability_func(matrix1, matrix2):\n",
    "    a = matrix1.shape[0]\n",
    "    b = matrix2.shape[0]\n",
    "    \n",
    "    return [a / (a + b), b / (a + b)]"
   ]
  },
  {
   "cell_type": "markdown",
   "id": "4a6eb90a",
   "metadata": {},
   "source": [
    "### Przypisanie do wybranej klasy z 2 klas"
   ]
  },
  {
   "cell_type": "code",
   "execution_count": 16,
   "id": "3973e471",
   "metadata": {},
   "outputs": [],
   "source": [
    "def assign_class(matrix1, matrix2, x, y):\n",
    "    p = [x, y]\n",
    "    \n",
    "    probability = probability_func(matrix1, matrix2)\n",
    "    \n",
    "    matrix1_probability = probability[0]\n",
    "    matrix2_probability = probability[1]\n",
    "    \n",
    "    ca = discriminant_function(matrix1, p)\n",
    "    cb = discriminant_function(matrix2, p)\n",
    "    \n",
    "    a = np.log(matrix1_probability) + ca\n",
    "    b = np.log(matrix2_probability) + cb\n",
    "\n",
    "    return [a, b]"
   ]
  },
  {
   "cell_type": "markdown",
   "id": "49959daf",
   "metadata": {},
   "source": [
    "### Wybór koloru z 2 klas"
   ]
  },
  {
   "cell_type": "code",
   "execution_count": 17,
   "id": "f7c9cbf2",
   "metadata": {},
   "outputs": [],
   "source": [
    "def assign_color(matrix1, matrix2, x, y):\n",
    "    res = assign_class(matrix1, matrix2, x, y)\n",
    "    a = res[0]\n",
    "    b = res[1]\n",
    "    \n",
    "    if a > b:\n",
    "        return 0\n",
    "    elif a == b:\n",
    "        return 0.5\n",
    "    else:\n",
    "        return 1"
   ]
  },
  {
   "cell_type": "markdown",
   "id": "7c5f525d",
   "metadata": {},
   "source": [
    "### Wyznaczenie granicy z 2 klas"
   ]
  },
  {
   "cell_type": "code",
   "execution_count": 18,
   "id": "f1345777",
   "metadata": {},
   "outputs": [],
   "source": [
    "def assign_borders(matrix1, matrix2, x, y):\n",
    "    res = assign_class(matrix1, matrix2, x, y)\n",
    "    a = res[0]\n",
    "    b = res[1]\n",
    "    \n",
    "    if abs(a-b) < 1:\n",
    "        return 0\n",
    "    else:\n",
    "        return 1"
   ]
  },
  {
   "cell_type": "markdown",
   "id": "6606d624",
   "metadata": {},
   "source": [
    "### Przypisanie do wybranej klasy z 3 klas"
   ]
  },
  {
   "cell_type": "code",
   "execution_count": 19,
   "id": "c14c8d82",
   "metadata": {},
   "outputs": [],
   "source": [
    "def assign_class_3_classes(matrix1, matrix2, matrix3, x, y):\n",
    "    p = [x, y]\n",
    "    \n",
    "    ca = discriminant_function(matrix1, p)\n",
    "    cb = discriminant_function(matrix2, p)\n",
    "    cc = discriminant_function(matrix3, p)\n",
    "\n",
    "    return [ca, cb, cc]"
   ]
  },
  {
   "cell_type": "markdown",
   "id": "83392844",
   "metadata": {},
   "source": [
    "### Wybór koloru z 3 klas"
   ]
  },
  {
   "cell_type": "code",
   "execution_count": 20,
   "id": "558f8216",
   "metadata": {},
   "outputs": [],
   "source": [
    "def assign_color_3_classes(matrix1, matrix2, matrix3, x, y):\n",
    "    res = assign_class_3_classes(matrix1, matrix2, matrix3, x, y)\n",
    "    a = res[0]\n",
    "    b = res[1]\n",
    "    c = res[2]\n",
    "    \n",
    "    if a > b and a > c:\n",
    "        return 0.1\n",
    "    elif b > a and b > c:\n",
    "        return 0.5\n",
    "    elif c > a and c > b:\n",
    "        return 1"
   ]
  },
  {
   "cell_type": "markdown",
   "id": "5e7456a5",
   "metadata": {},
   "source": [
    "### Generowanie zbiorów z taką samą kowariancją"
   ]
  },
  {
   "cell_type": "code",
   "execution_count": 26,
   "id": "6cbeeafd",
   "metadata": {},
   "outputs": [],
   "source": [
    "dataset1 = np.array(generate_dataset_norm(100))\n",
    "dataset2 = np.array(generate_dataset_norm(100))"
   ]
  },
  {
   "cell_type": "markdown",
   "id": "665435fe",
   "metadata": {},
   "source": [
    "### Sprawdzenie kowariancji przed wybielaniem"
   ]
  },
  {
   "cell_type": "code",
   "execution_count": 27,
   "id": "3d3a231e",
   "metadata": {},
   "outputs": [
    {
     "data": {
      "text/plain": [
       "matrix([[ 0.08978861, -0.0039221 ],\n",
       "        [-0.0039221 ,  0.09029616]])"
      ]
     },
     "execution_count": 27,
     "metadata": {},
     "output_type": "execute_result"
    }
   ],
   "source": [
    "cov_for_dataset(dataset1)"
   ]
  },
  {
   "cell_type": "code",
   "execution_count": 28,
   "id": "85d91599",
   "metadata": {
    "scrolled": true
   },
   "outputs": [
    {
     "data": {
      "text/plain": [
       "matrix([[0.09292312, 0.00590644],\n",
       "        [0.00590644, 0.08899369]])"
      ]
     },
     "execution_count": 28,
     "metadata": {},
     "output_type": "execute_result"
    }
   ],
   "source": [
    "cov_for_dataset(dataset2)"
   ]
  },
  {
   "cell_type": "markdown",
   "id": "d53dd17e",
   "metadata": {},
   "source": [
    "### Wybielanie i macierze kowariancji po operacji"
   ]
  },
  {
   "cell_type": "code",
   "execution_count": 29,
   "id": "964e2f12",
   "metadata": {},
   "outputs": [
    {
     "data": {
      "text/plain": [
       "matrix([[1.00000000e+00, 1.60365548e-16],\n",
       "        [1.60365548e-16, 1.00000000e+00]])"
      ]
     },
     "execution_count": 29,
     "metadata": {},
     "output_type": "execute_result"
    }
   ],
   "source": [
    "w1 = whitening(dataset1)\n",
    "cov_for_dataset(w1)"
   ]
  },
  {
   "cell_type": "code",
   "execution_count": 30,
   "id": "31e2bb5c",
   "metadata": {},
   "outputs": [
    {
     "data": {
      "text/plain": [
       "matrix([[ 1.00000000e+00, -6.28004943e-17],\n",
       "        [-6.28004943e-17,  1.00000000e+00]])"
      ]
     },
     "execution_count": 30,
     "metadata": {},
     "output_type": "execute_result"
    }
   ],
   "source": [
    "w2 = whitening(dataset2)\n",
    "cov_for_dataset(w2)"
   ]
  },
  {
   "cell_type": "markdown",
   "id": "c3e692aa",
   "metadata": {},
   "source": [
    "### Transformacje i macierze kowariancji po operacji"
   ]
  },
  {
   "cell_type": "code",
   "execution_count": 31,
   "id": "aee8d7bb",
   "metadata": {},
   "outputs": [
    {
     "data": {
      "text/plain": [
       "matrix([[2.50000000e-01, 1.60365548e-16],\n",
       "        [1.60365548e-16, 4.00000000e+00]])"
      ]
     },
     "execution_count": 31,
     "metadata": {},
     "output_type": "execute_result"
    }
   ],
   "source": [
    "t1 = perform_transformation(w1, 0, 0.5, 2)\n",
    "cov_for_dataset(t1)"
   ]
  },
  {
   "cell_type": "code",
   "execution_count": 32,
   "id": "61a47759",
   "metadata": {},
   "outputs": [
    {
     "data": {
      "text/plain": [
       "matrix([[ 4.00000000e+00, -2.66902101e-16],\n",
       "        [-2.66902101e-16,  2.50000000e-01]])"
      ]
     },
     "execution_count": 32,
     "metadata": {},
     "output_type": "execute_result"
    }
   ],
   "source": [
    "t2 = perform_transformation(w2, 90, 0.5, 2) - [6, 8] \n",
    "cov_for_dataset(t2)"
   ]
  },
  {
   "cell_type": "code",
   "execution_count": 33,
   "id": "03393780",
   "metadata": {},
   "outputs": [
    {
     "data": {
      "image/png": "[encoded data removed]",
      "text/plain": [
       "<Figure size 800x600 with 1 Axes>"
      ]
     },
     "metadata": {},
     "output_type": "display_data"
    }
   ],
   "source": [
    "plt.figure(figsize=(8, 6))\n",
    "\n",
    "plt.scatter(t1[:,[0]], t1[:,[1]], color='red', marker='o')\n",
    "plt.scatter(t2[:,[0]], t2[:,[1]], color='green', marker='x')\n",
    "\n",
    "plt.xlabel('X')\n",
    "plt.ylabel('Y')\n",
    "\n",
    "plt.xlim(-14, 4)\n",
    "plt.ylim(-13, 8)\n",
    "\n",
    "plt.title('Zbiory po wybielaniu i transformacji')\n",
    "plt.show()"
   ]
  },
  {
   "cell_type": "code",
   "execution_count": 40,
   "id": "5796de5b",
   "metadata": {},
   "outputs": [],
   "source": [
    "STEP = 0.01\n",
    "rangex = np.arange(-20, 20 + STEP, STEP)\n",
    "rangey = rangex"
   ]
  },
  {
   "cell_type": "code",
   "execution_count": 41,
   "id": "cec7c13c",
   "metadata": {
    "scrolled": true
   },
   "outputs": [
    {
     "name": "stdout",
     "output_type": "stream",
     "text": [
      "(4002, 4002)\n"
     ]
    },
    {
     "data": {
      "image/png": "[encoded data removed]",
      "text/plain": [
       "<Figure size 640x480 with 1 Axes>"
      ]
     },
     "metadata": {},
     "output_type": "display_data"
    }
   ],
   "source": [
    "heatmap_data = np.array([[assign_color(t1, t2, x, y) for y in rangey] for x in rangex]).T\n",
    "print(heatmap_data.shape)\n",
    "\n",
    "plt.imshow(heatmap_data, cmap=\"viridis\", interpolation=\"nearest\", origin='lower', extent=[rangex.min(), rangex.max(), rangey.min(), rangey.max()])\n",
    "plt.scatter(t1[:,[0]], t1[:,[1]], color='red', marker='o')\n",
    "plt.scatter(t2[:,[0]], t2[:,[1]], color='green', marker='x')\n",
    "plt.title('Kategoryzacja dwóch klas')\n",
    "plt.show()"
   ]
  },
  {
   "cell_type": "code",
   "execution_count": 42,
   "id": "2607fd7f",
   "metadata": {
    "scrolled": true
   },
   "outputs": [
    {
     "data": {
      "image/png": "[encoded data removed]",
      "text/plain": [
       "<Figure size 640x480 with 1 Axes>"
      ]
     },
     "metadata": {},
     "output_type": "display_data"
    }
   ],
   "source": [
    "t1 = perform_transformation(w1, 0, 2, 1) + [6, 8]\n",
    "t2 = perform_transformation(w2, 0, 2, 1) - [6, 8] \n",
    "heatmap_data = np.array([[assign_color(t1, t2, x, y) for y in rangey] for x in rangex]).T\n",
    "\n",
    "plt.imshow(heatmap_data, cmap=\"viridis\", interpolation=\"nearest\", origin='lower', extent=[rangex.min(), rangex.max(), rangey.min(), rangey.max()])\n",
    "plt.scatter(t1[:,[0]], t1[:,[1]], color='red', marker='o')\n",
    "plt.scatter(t2[:,[0]], t2[:,[1]], color='green', marker='x')\n",
    "plt.title('Kategoryzacja dwóch klas')\n",
    "plt.show()"
   ]
  },
  {
   "cell_type": "code",
   "execution_count": 43,
   "id": "90ff2f1f",
   "metadata": {
    "scrolled": true
   },
   "outputs": [
    {
     "data": {
      "image/png": "[encoded data removed]",
      "text/plain": [
       "<Figure size 640x480 with 1 Axes>"
      ]
     },
     "metadata": {},
     "output_type": "display_data"
    }
   ],
   "source": [
    "t1 = perform_transformation(w1, 0, 3, 1) + [0, 8]\n",
    "t2 = perform_transformation(w2, 0, 3, 1) - [0, 8] \n",
    "heatmap_data = np.array([[assign_color(t1, t2, x, y) for y in rangey] for x in rangex]).T\n",
    "\n",
    "plt.imshow(heatmap_data, cmap=\"viridis\", interpolation=\"nearest\", origin='lower', extent=[rangex.min(), rangex.max(), rangey.min(), rangey.max()])\n",
    "plt.scatter(t1[:,[0]], t1[:,[1]], color='red', marker='o')\n",
    "plt.scatter(t2[:,[0]], t2[:,[1]], color='green', marker='x')\n",
    "plt.title('Kategoryzacja dwóch klas')\n",
    "plt.show()"
   ]
  },
  {
   "cell_type": "code",
   "execution_count": 44,
   "id": "7a93ce9f",
   "metadata": {},
   "outputs": [
    {
     "data": {
      "image/png": "[encoded data removed]",
      "text/plain": [
       "<Figure size 640x480 with 1 Axes>"
      ]
     },
     "metadata": {},
     "output_type": "display_data"
    }
   ],
   "source": [
    "t1 = perform_transformation(w1, 0, 3, 1) + [0, 8]\n",
    "t2 = perform_transformation(w2, 0, 2, 4) - [0, 8] \n",
    "heatmap_data = np.array([[assign_color(t1, t2, x, y) for y in rangey] for x in rangex]).T\n",
    "\n",
    "plt.imshow(heatmap_data, cmap=\"viridis\", interpolation=\"nearest\", origin='lower', extent=[rangex.min(), rangex.max(), rangey.min(), rangey.max()])\n",
    "plt.scatter(t1[:,[0]], t1[:,[1]], color='red', marker='o')\n",
    "plt.scatter(t2[:,[0]], t2[:,[1]], color='green', marker='x')\n",
    "plt.title('Kategoryzacja dwóch klas')\n",
    "plt.show()"
   ]
  },
  {
   "cell_type": "code",
   "execution_count": 45,
   "id": "b50b5d9d",
   "metadata": {
    "scrolled": true
   },
   "outputs": [
    {
     "data": {
      "image/png": "[encoded data removed]",
      "text/plain": [
       "<Figure size 640x480 with 1 Axes>"
      ]
     },
     "metadata": {},
     "output_type": "display_data"
    }
   ],
   "source": [
    "t1 = perform_transformation(w1, 0, 3, 1) + [0, 10]\n",
    "t2 = perform_transformation(w2, 90, 3, 1) - [0, 10] \n",
    "heatmap_data = np.array([[assign_color(t1, t2, x, y) for y in rangey] for x in rangex]).T\n",
    "\n",
    "plt.imshow(heatmap_data, cmap=\"viridis\", interpolation=\"nearest\", origin='lower', extent=[rangex.min(), rangex.max(), rangey.min(), rangey.max()])\n",
    "plt.scatter(t1[:,[0]], t1[:,[1]], color='red', marker='o')\n",
    "plt.scatter(t2[:,[0]], t2[:,[1]], color='green', marker='x')\n",
    "plt.title('Kategoryzacja dwóch klas')\n",
    "plt.show()"
   ]
  },
  {
   "cell_type": "code",
   "execution_count": 46,
   "id": "2c1d2663",
   "metadata": {
    "scrolled": true
   },
   "outputs": [
    {
     "ename": "KeyboardInterrupt",
     "evalue": "",
     "output_type": "error",
     "traceback": [
      "\u001b[1;31m---------------------------------------------------------------------------\u001b[0m",
      "\u001b[1;31mKeyboardInterrupt\u001b[0m                         Traceback (most recent call last)",
      "Cell \u001b[1;32mIn[46], line 3\u001b[0m\n\u001b[0;32m      1\u001b[0m t1 \u001b[38;5;241m=\u001b[39m perform_transformation(w1, \u001b[38;5;241m0\u001b[39m, \u001b[38;5;241m3\u001b[39m, \u001b[38;5;241m1\u001b[39m) \n\u001b[0;32m      2\u001b[0m t2 \u001b[38;5;241m=\u001b[39m perform_transformation(w2, \u001b[38;5;241m45\u001b[39m, \u001b[38;5;241m3\u001b[39m, \u001b[38;5;241m1\u001b[39m) \u001b[38;5;241m-\u001b[39m [\u001b[38;5;241m10\u001b[39m, \u001b[38;5;241m0\u001b[39m] \n\u001b[1;32m----> 3\u001b[0m heatmap_data \u001b[38;5;241m=\u001b[39m np\u001b[38;5;241m.\u001b[39marray([[assign_color(t1, t2, x, y) \u001b[38;5;28;01mfor\u001b[39;00m y \u001b[38;5;129;01min\u001b[39;00m rangey] \u001b[38;5;28;01mfor\u001b[39;00m x \u001b[38;5;129;01min\u001b[39;00m rangex])\u001b[38;5;241m.\u001b[39mT\n\u001b[0;32m      5\u001b[0m plt\u001b[38;5;241m.\u001b[39mimshow(heatmap_data, cmap\u001b[38;5;241m=\u001b[39m\u001b[38;5;124m\"\u001b[39m\u001b[38;5;124mviridis\u001b[39m\u001b[38;5;124m\"\u001b[39m, interpolation\u001b[38;5;241m=\u001b[39m\u001b[38;5;124m\"\u001b[39m\u001b[38;5;124mnearest\u001b[39m\u001b[38;5;124m\"\u001b[39m, origin\u001b[38;5;241m=\u001b[39m\u001b[38;5;124m'\u001b[39m\u001b[38;5;124mlower\u001b[39m\u001b[38;5;124m'\u001b[39m, extent\u001b[38;5;241m=\u001b[39m[rangex\u001b[38;5;241m.\u001b[39mmin(), rangex\u001b[38;5;241m.\u001b[39mmax(), rangey\u001b[38;5;241m.\u001b[39mmin(), rangey\u001b[38;5;241m.\u001b[39mmax()])\n\u001b[0;32m      6\u001b[0m plt\u001b[38;5;241m.\u001b[39mscatter(t1[:,[\u001b[38;5;241m0\u001b[39m]], t1[:,[\u001b[38;5;241m1\u001b[39m]], color\u001b[38;5;241m=\u001b[39m\u001b[38;5;124m'\u001b[39m\u001b[38;5;124mred\u001b[39m\u001b[38;5;124m'\u001b[39m, marker\u001b[38;5;241m=\u001b[39m\u001b[38;5;124m'\u001b[39m\u001b[38;5;124mo\u001b[39m\u001b[38;5;124m'\u001b[39m)\n",
      "Cell \u001b[1;32mIn[46], line 3\u001b[0m, in \u001b[0;36m<listcomp>\u001b[1;34m(.0)\u001b[0m\n\u001b[0;32m      1\u001b[0m t1 \u001b[38;5;241m=\u001b[39m perform_transformation(w1, \u001b[38;5;241m0\u001b[39m, \u001b[38;5;241m3\u001b[39m, \u001b[38;5;241m1\u001b[39m) \n\u001b[0;32m      2\u001b[0m t2 \u001b[38;5;241m=\u001b[39m perform_transformation(w2, \u001b[38;5;241m45\u001b[39m, \u001b[38;5;241m3\u001b[39m, \u001b[38;5;241m1\u001b[39m) \u001b[38;5;241m-\u001b[39m [\u001b[38;5;241m10\u001b[39m, \u001b[38;5;241m0\u001b[39m] \n\u001b[1;32m----> 3\u001b[0m heatmap_data \u001b[38;5;241m=\u001b[39m np\u001b[38;5;241m.\u001b[39marray([[assign_color(t1, t2, x, y) \u001b[38;5;28;01mfor\u001b[39;00m y \u001b[38;5;129;01min\u001b[39;00m rangey] \u001b[38;5;28;01mfor\u001b[39;00m x \u001b[38;5;129;01min\u001b[39;00m rangex])\u001b[38;5;241m.\u001b[39mT\n\u001b[0;32m      5\u001b[0m plt\u001b[38;5;241m.\u001b[39mimshow(heatmap_data, cmap\u001b[38;5;241m=\u001b[39m\u001b[38;5;124m\"\u001b[39m\u001b[38;5;124mviridis\u001b[39m\u001b[38;5;124m\"\u001b[39m, interpolation\u001b[38;5;241m=\u001b[39m\u001b[38;5;124m\"\u001b[39m\u001b[38;5;124mnearest\u001b[39m\u001b[38;5;124m\"\u001b[39m, origin\u001b[38;5;241m=\u001b[39m\u001b[38;5;124m'\u001b[39m\u001b[38;5;124mlower\u001b[39m\u001b[38;5;124m'\u001b[39m, extent\u001b[38;5;241m=\u001b[39m[rangex\u001b[38;5;241m.\u001b[39mmin(), rangex\u001b[38;5;241m.\u001b[39mmax(), rangey\u001b[38;5;241m.\u001b[39mmin(), rangey\u001b[38;5;241m.\u001b[39mmax()])\n\u001b[0;32m      6\u001b[0m plt\u001b[38;5;241m.\u001b[39mscatter(t1[:,[\u001b[38;5;241m0\u001b[39m]], t1[:,[\u001b[38;5;241m1\u001b[39m]], color\u001b[38;5;241m=\u001b[39m\u001b[38;5;124m'\u001b[39m\u001b[38;5;124mred\u001b[39m\u001b[38;5;124m'\u001b[39m, marker\u001b[38;5;241m=\u001b[39m\u001b[38;5;124m'\u001b[39m\u001b[38;5;124mo\u001b[39m\u001b[38;5;124m'\u001b[39m)\n",
      "Cell \u001b[1;32mIn[46], line 3\u001b[0m, in \u001b[0;36m<listcomp>\u001b[1;34m(.0)\u001b[0m\n\u001b[0;32m      1\u001b[0m t1 \u001b[38;5;241m=\u001b[39m perform_transformation(w1, \u001b[38;5;241m0\u001b[39m, \u001b[38;5;241m3\u001b[39m, \u001b[38;5;241m1\u001b[39m) \n\u001b[0;32m      2\u001b[0m t2 \u001b[38;5;241m=\u001b[39m perform_transformation(w2, \u001b[38;5;241m45\u001b[39m, \u001b[38;5;241m3\u001b[39m, \u001b[38;5;241m1\u001b[39m) \u001b[38;5;241m-\u001b[39m [\u001b[38;5;241m10\u001b[39m, \u001b[38;5;241m0\u001b[39m] \n\u001b[1;32m----> 3\u001b[0m heatmap_data \u001b[38;5;241m=\u001b[39m np\u001b[38;5;241m.\u001b[39marray([[assign_color(t1, t2, x, y) \u001b[38;5;28;01mfor\u001b[39;00m y \u001b[38;5;129;01min\u001b[39;00m rangey] \u001b[38;5;28;01mfor\u001b[39;00m x \u001b[38;5;129;01min\u001b[39;00m rangex])\u001b[38;5;241m.\u001b[39mT\n\u001b[0;32m      5\u001b[0m plt\u001b[38;5;241m.\u001b[39mimshow(heatmap_data, cmap\u001b[38;5;241m=\u001b[39m\u001b[38;5;124m\"\u001b[39m\u001b[38;5;124mviridis\u001b[39m\u001b[38;5;124m\"\u001b[39m, interpolation\u001b[38;5;241m=\u001b[39m\u001b[38;5;124m\"\u001b[39m\u001b[38;5;124mnearest\u001b[39m\u001b[38;5;124m\"\u001b[39m, origin\u001b[38;5;241m=\u001b[39m\u001b[38;5;124m'\u001b[39m\u001b[38;5;124mlower\u001b[39m\u001b[38;5;124m'\u001b[39m, extent\u001b[38;5;241m=\u001b[39m[rangex\u001b[38;5;241m.\u001b[39mmin(), rangex\u001b[38;5;241m.\u001b[39mmax(), rangey\u001b[38;5;241m.\u001b[39mmin(), rangey\u001b[38;5;241m.\u001b[39mmax()])\n\u001b[0;32m      6\u001b[0m plt\u001b[38;5;241m.\u001b[39mscatter(t1[:,[\u001b[38;5;241m0\u001b[39m]], t1[:,[\u001b[38;5;241m1\u001b[39m]], color\u001b[38;5;241m=\u001b[39m\u001b[38;5;124m'\u001b[39m\u001b[38;5;124mred\u001b[39m\u001b[38;5;124m'\u001b[39m, marker\u001b[38;5;241m=\u001b[39m\u001b[38;5;124m'\u001b[39m\u001b[38;5;124mo\u001b[39m\u001b[38;5;124m'\u001b[39m)\n",
      "Cell \u001b[1;32mIn[17], line 2\u001b[0m, in \u001b[0;36massign_color\u001b[1;34m(matrix1, matrix2, x, y)\u001b[0m\n\u001b[0;32m      1\u001b[0m \u001b[38;5;28;01mdef\u001b[39;00m \u001b[38;5;21massign_color\u001b[39m(matrix1, matrix2, x, y):\n\u001b[1;32m----> 2\u001b[0m     res \u001b[38;5;241m=\u001b[39m assign_class(matrix1, matrix2, x, y)\n\u001b[0;32m      3\u001b[0m     a \u001b[38;5;241m=\u001b[39m res[\u001b[38;5;241m0\u001b[39m]\n\u001b[0;32m      4\u001b[0m     b \u001b[38;5;241m=\u001b[39m res[\u001b[38;5;241m1\u001b[39m]\n",
      "Cell \u001b[1;32mIn[16], line 9\u001b[0m, in \u001b[0;36massign_class\u001b[1;34m(matrix1, matrix2, x, y)\u001b[0m\n\u001b[0;32m      6\u001b[0m matrix1_probability \u001b[38;5;241m=\u001b[39m probability[\u001b[38;5;241m0\u001b[39m]\n\u001b[0;32m      7\u001b[0m matrix2_probability \u001b[38;5;241m=\u001b[39m probability[\u001b[38;5;241m1\u001b[39m]\n\u001b[1;32m----> 9\u001b[0m ca \u001b[38;5;241m=\u001b[39m discriminant_function(matrix1, p)\n\u001b[0;32m     10\u001b[0m cb \u001b[38;5;241m=\u001b[39m discriminant_function(matrix2, p)\n\u001b[0;32m     12\u001b[0m a \u001b[38;5;241m=\u001b[39m np\u001b[38;5;241m.\u001b[39mlog(matrix1_probability) \u001b[38;5;241m+\u001b[39m ca\n",
      "Cell \u001b[1;32mIn[14], line 13\u001b[0m, in \u001b[0;36mdiscriminant_function\u001b[1;34m(matrix, x)\u001b[0m\n\u001b[0;32m     11\u001b[0m det_cov \u001b[38;5;241m=\u001b[39m np\u001b[38;5;241m.\u001b[39mlinalg\u001b[38;5;241m.\u001b[39mdet(matrix_cov)\n\u001b[0;32m     12\u001b[0m inv_cov \u001b[38;5;241m=\u001b[39m np\u001b[38;5;241m.\u001b[39mlinalg\u001b[38;5;241m.\u001b[39minv(matrix_cov)\n\u001b[1;32m---> 13\u001b[0m res \u001b[38;5;241m=\u001b[39m \u001b[38;5;241m-\u001b[39m\u001b[38;5;241m0.5\u001b[39m \u001b[38;5;241m*\u001b[39m np\u001b[38;5;241m.\u001b[39mlog(det_cov) \u001b[38;5;241m-\u001b[39m np\u001b[38;5;241m.\u001b[39mdot(np\u001b[38;5;241m.\u001b[39mdot(d\u001b[38;5;241m.\u001b[39mT, inv_cov), d)\n\u001b[0;32m     15\u001b[0m \u001b[38;5;28;01mreturn\u001b[39;00m res[\u001b[38;5;241m0\u001b[39m,\u001b[38;5;241m0\u001b[39m]\n",
      "File \u001b[1;32m<__array_function__ internals>:200\u001b[0m, in \u001b[0;36mdot\u001b[1;34m(*args, **kwargs)\u001b[0m\n",
      "\u001b[1;31mKeyboardInterrupt\u001b[0m: "
     ]
    }
   ],
   "source": [
    "t1 = perform_transformation(w1, 0, 3, 1) \n",
    "t2 = perform_transformation(w2, 45, 3, 1) - [10, 0] \n",
    "heatmap_data = np.array([[assign_color(t1, t2, x, y) for y in rangey] for x in rangex]).T\n",
    "\n",
    "plt.imshow(heatmap_data, cmap=\"viridis\", interpolation=\"nearest\", origin='lower', extent=[rangex.min(), rangex.max(), rangey.min(), rangey.max()])\n",
    "plt.scatter(t1[:,[0]], t1[:,[1]], color='red', marker='o')\n",
    "plt.scatter(t2[:,[0]], t2[:,[1]], color='green', marker='x')\n",
    "plt.title('Kategoryzacja dwóch klas')\n",
    "plt.show()"
   ]
  },
  {
   "cell_type": "code",
   "execution_count": null,
   "id": "cfd51dcb",
   "metadata": {},
   "outputs": [],
   "source": [
    "dataset1 = np.array(generate_dataset_norm(100))\n",
    "dataset2 = np.array(generate_dataset_norm(100))\n",
    "dataset3 = np.array(generate_dataset_norm(100))\n",
    "w1 = whitening(dataset1)\n",
    "w2 = whitening(dataset2)\n",
    "w3 = whitening(dataset3)\n",
    "t1 = perform_transformation(w1, 0, 3, 1)\n",
    "t2 = perform_transformation(w2, 0, 3, 1) + [0, 10]\n",
    "t3 = perform_transformation(w3, 0, 3, 1) + [0, -10]"
   ]
  },
  {
   "cell_type": "code",
   "execution_count": null,
   "id": "0b654160",
   "metadata": {
    "scrolled": true
   },
   "outputs": [],
   "source": [
    "plt.figure(figsize=(8, 6))\n",
    "\n",
    "plt.scatter(t1[:,[0]], t1[:,[1]], color='red', marker='o')\n",
    "plt.scatter(t2[:,[0]], t2[:,[1]], color='green', marker='x')\n",
    "plt.scatter(t3[:,[0]], t3[:,[1]], color='blue', marker='^')\n",
    "\n",
    "plt.xlabel('X')\n",
    "plt.ylabel('Y')\n",
    "\n",
    "plt.title('Zbiory po wybielaniu i transformacji')\n",
    "plt.show()"
   ]
  },
  {
   "cell_type": "code",
   "execution_count": null,
   "id": "7b75ff41",
   "metadata": {},
   "outputs": [],
   "source": [
    "heatmap_data = np.array([[assign_color_3_classes(t1, t2, t3, x, y) for y in rangey] for x in rangex]).T\n",
    "\n",
    "plt.imshow(heatmap_data, cmap=\"viridis\", interpolation=\"nearest\", origin='lower', extent=[rangex.min(), rangex.max(), rangey.min(), rangey.max()])\n",
    "plt.scatter(t1[:,[0]], t1[:,[1]], color='red', marker='o')\n",
    "plt.scatter(t2[:,[0]], t2[:,[1]], color='orange', marker='x')\n",
    "plt.scatter(t3[:,[0]], t3[:,[1]], color='blue', marker='^')\n",
    "plt.title('Kategoryzacja dwóch klas')\n",
    "plt.show()"
   ]
  },
  {
   "cell_type": "markdown",
   "id": "3449c058",
   "metadata": {},
   "source": [
    "### Wnioski\n",
    "\n",
    "Powyższe testy i zastosowane przykłady pokazują poprawność implementacji operacji transformacji (obrót i rozciąganie) zbioru danych."
   ]
  },
  {
   "cell_type": "code",
   "execution_count": null,
   "id": "e9cf5115",
   "metadata": {},
   "outputs": [],
   "source": []
  }
 ],
 "metadata": {
  "kernelspec": {
   "display_name": "Python 3 (ipykernel)",
   "language": "python",
   "name": "python3"
  },
  "language_info": {
   "codemirror_mode": {
    "name": "ipython",
    "version": 3
   },
   "file_extension": ".py",
   "mimetype": "text/x-python",
   "name": "python",
   "nbconvert_exporter": "python",
   "pygments_lexer": "ipython3",
   "version": "3.11.5"
  }
 },
 "nbformat": 4,
 "nbformat_minor": 5
}
