{
 "cells": [
  {
   "cell_type": "markdown",
   "id": "acf72b58",
   "metadata": {},
   "source": [
    "# Zadanie 6 Pracownia Specjalistyczna - Eksploracja danych\n",
    "### Krzysztof Funkowski"
   ]
  },
  {
   "cell_type": "code",
   "execution_count": 1,
   "id": "6a99b8f6",
   "metadata": {},
   "outputs": [],
   "source": [
    "from math import *\n",
    "import random\n",
    "import numpy as np\n",
    "import matplotlib.pyplot as plt\n",
    "import pandas as pd\n",
    "import copy\n",
    "from matplotlib.colors import LinearSegmentedColormap"
   ]
  },
  {
   "cell_type": "markdown",
   "id": "0784e846",
   "metadata": {},
   "source": [
    "# Zadanie 6\n",
    "- Konstrukcja klasyfikatora bayesowskiego na podstawie dwóch wielowymiarowych\n",
    "rozkładów normalnych o takich samych i o różnych macierzach kowariancji\n",
    "- Rozpatrzenie przypadków dla dwóch i trzech klas"
   ]
  },
  {
   "cell_type": "markdown",
   "id": "46cd1b10",
   "metadata": {},
   "source": [
    "### Funkcja do generowania zbioru danych na podstawie wielowymiarowego rozkładu normalnego"
   ]
  },
  {
   "cell_type": "code",
   "execution_count": 2,
   "id": "f3b1b15d",
   "metadata": {},
   "outputs": [],
   "source": [
    "def generate_dataset_norm(N):\n",
    "    return np.column_stack((np.random.normal(0, 0.3, N), np.random.normal(0, 0.3, N)))"
   ]
  },
  {
   "cell_type": "markdown",
   "id": "533e69de",
   "metadata": {},
   "source": [
    "### Funkcja do generowania zbioru danych wybierając dane z przedziału (0,1)\n",
    "Wychodzi zbiór który na wykresie przyjmuje formę kwadratu"
   ]
  },
  {
   "cell_type": "code",
   "execution_count": 3,
   "id": "de6ab9e5",
   "metadata": {},
   "outputs": [],
   "source": [
    "def generate_dataset_rand(N):\n",
    "    dataset = []\n",
    "    for _ in range(N):\n",
    "        dataset.append([random.random(), random.random()])\n",
    "        \n",
    "    return dataset"
   ]
  },
  {
   "cell_type": "markdown",
   "id": "e219865f",
   "metadata": {},
   "source": [
    "### Funkcja do rotacji zbiorem danych na podstawie podanego kątu"
   ]
  },
  {
   "cell_type": "code",
   "execution_count": 4,
   "id": "f4248ea3",
   "metadata": {},
   "outputs": [],
   "source": [
    "def rotate(phi):\n",
    "    rad = np.radians(phi)\n",
    "    rotation_arr = np.array([[np.cos(rad), np.sin(rad)],\n",
    "                             [-np.sin(rad), np.cos(rad)]])\n",
    "    return rotation_arr"
   ]
  },
  {
   "cell_type": "markdown",
   "id": "cdcd7dcb",
   "metadata": {},
   "source": [
    "### Funkcja do rozciągania zbioru danych"
   ]
  },
  {
   "cell_type": "code",
   "execution_count": 5,
   "id": "fd46efe4",
   "metadata": {},
   "outputs": [],
   "source": [
    "def stretch(x, y):\n",
    "    stretch_arr = np.array([[x, 0],\n",
    "                            [0, y]])\n",
    "    return stretch_arr"
   ]
  },
  {
   "cell_type": "markdown",
   "id": "f3f47244",
   "metadata": {},
   "source": [
    "### Funkcja do transformacji zbioru danych"
   ]
  },
  {
   "cell_type": "code",
   "execution_count": 6,
   "id": "dd6e6fb8",
   "metadata": {},
   "outputs": [],
   "source": [
    "def perform_transformation(dataset, rotation_angle, x, y):\n",
    "    result_dataset = copy.deepcopy(dataset)\n",
    "    \n",
    "    stretching = stretch(x, y)\n",
    "    result_dataset = np.dot(result_dataset, stretching)\n",
    "    \n",
    "    rotation = rotate(rotation_angle)\n",
    "    result_dataset = np.dot(result_dataset, rotation)\n",
    "    \n",
    "    return result_dataset"
   ]
  },
  {
   "cell_type": "markdown",
   "id": "2589cea7",
   "metadata": {},
   "source": [
    "### Funkcja służąca do obliczania kowariancji dla dwóch wektorów"
   ]
  },
  {
   "cell_type": "code",
   "execution_count": 7,
   "id": "42536e67",
   "metadata": {},
   "outputs": [],
   "source": [
    "def cov(x, y, x_avg, y_avg):\n",
    "    elements_count = len(x) # ilość elementów w tablicy\n",
    "    elements_sum = 0\n",
    "    \n",
    "    for x,y in zip(x,y):\n",
    "        elements_sum = elements_sum + ((x - x_avg)*(y - y_avg)) # sumowanie (x - średnia_arytmetyczna_x) * (y - średnia_arytmetyczna_y)\n",
    "    \n",
    "    return elements_sum / elements_count # suma dzielona przez liczbę elementów"
   ]
  },
  {
   "cell_type": "markdown",
   "id": "e69a67b9",
   "metadata": {},
   "source": [
    "### Funkcja obliczająca macierz kowariancji dla zbioru danych"
   ]
  },
  {
   "cell_type": "code",
   "execution_count": 8,
   "id": "5330fc33",
   "metadata": {},
   "outputs": [],
   "source": [
    "def cov_for_dataset(cov_dataset):\n",
    "    avgs = []\n",
    "    matrix_shape = cov_dataset.shape[1] # wymiary_macierzy czyli liczba_kolumn_bioru_danych x liczba_kolumn_bioru_danych\n",
    "    for i in range(matrix_shape):\n",
    "        avgs.append(cov_dataset[:,i].mean()) # obliczanie średnich dla każdego parametru\n",
    "    \n",
    "    matrix = []\n",
    "    for i in range(matrix_shape):\n",
    "        matrix_row = []\n",
    "        for j in range(matrix_shape):\n",
    "            #matrix_shape*i + j\n",
    "            res = cov(cov_dataset[:,i],cov_dataset[:,j],avgs[i], avgs[j]) # wyznaczanie kowariancji dla każdej pary parametrów\n",
    "            matrix_row.append(res) # budowanie wiersza macierzy\n",
    "        matrix.append(matrix_row) # dodawanie wiersza macierzy do tablicy bazowej\n",
    "    \n",
    "    return np.matrix(matrix) # przekształcanie typu tablicy na macierz"
   ]
  },
  {
   "cell_type": "markdown",
   "id": "790f7476",
   "metadata": {},
   "source": [
    "### Funkcja do obliczania długości wektora własnego"
   ]
  },
  {
   "cell_type": "code",
   "execution_count": 9,
   "id": "8443361f",
   "metadata": {},
   "outputs": [],
   "source": [
    "def eigenvector_len(v1):\n",
    "    dims = v1.shape[0] # ilość elementów wektora\n",
    "    length = 0\n",
    "    \n",
    "    for i in range(dims):\n",
    "        val = v1[i].ravel().tolist()[0][0]\n",
    "        length = length + pow(val,2) # sumowanie elementów podniesionych do kwadratu\n",
    "        \n",
    "    \n",
    "    length = sqrt(length) # pierwiastkowanie wyniku sumy elementów wektora podniesionych do kwadratów\n",
    "    \n",
    "    return length # zwracanie długości"
   ]
  },
  {
   "cell_type": "markdown",
   "id": "bbd54a53",
   "metadata": {},
   "source": [
    "### Funkcja normalizująca, zwracająca wartość własną i wektor własny"
   ]
  },
  {
   "cell_type": "code",
   "execution_count": 10,
   "id": "cb168445",
   "metadata": {},
   "outputs": [],
   "source": [
    "def eigenvector_normalization(v1):\n",
    "    eigenvalue = eigenvector_len(v1) # wylicznaie wartości własnej\n",
    "    eigenvector = v1 / eigenvalue # wyliczanie wektora własnego\n",
    "    \n",
    "    return eigenvalue, eigenvector # zwrócenie wartości własnej i wektora własnego"
   ]
  },
  {
   "cell_type": "markdown",
   "id": "260e37b0",
   "metadata": {},
   "source": [
    "### Pomocnicza funkcja zmieniająca tablicę wektorów własnych w odpowiednią formę macierzy"
   ]
  },
  {
   "cell_type": "code",
   "execution_count": 11,
   "id": "553fe93a",
   "metadata": {},
   "outputs": [],
   "source": [
    "def rearrange_matrix(eigenvectors):\n",
    "    res = []\n",
    "\n",
    "    for i in range(len(eigenvectors)):\n",
    "        row = eigenvectors[i].ravel().tolist()[0]\n",
    "        res.append(row)\n",
    "\n",
    "    return np.matrix(res).T"
   ]
  },
  {
   "cell_type": "markdown",
   "id": "ba2064d7",
   "metadata": {},
   "source": [
    "### Funkcja odpowiadająca za obliczanie wartości własnych i wektorów własnych"
   ]
  },
  {
   "cell_type": "code",
   "execution_count": 12,
   "id": "e44591c4",
   "metadata": {},
   "outputs": [],
   "source": [
    "def eigenvalues_eigenvectors(matrix, num_iterations):\n",
    "    n = matrix.shape[0] # jeden z wymiarów macierzy, ponieważ jest kwadratowa to wystarczy tylko jeden\n",
    "    eigenvalues = [] # lista na wartości własne\n",
    "    eigenvectors = [] # lista na wektory własne\n",
    "    \n",
    "    for i in range(n):\n",
    "        # losowe dane wektora na początku\n",
    "        eigenvector = np.random.rand(n,1)\n",
    "    \n",
    "        # algorytm iteracyjny wykonywany num_iterations razy\n",
    "        for _ in range(num_iterations):\n",
    "            eigenvector = np.dot(matrix, eigenvector) # mnożenie macierzy kowariancji przez wektor \n",
    "            eigenvalue, eigenvector = eigenvector_normalization(eigenvector) # normalizacja wektora\n",
    "            \n",
    "        # usuwanie z macierzy znalezionej wartości własnej i wektora własnego\n",
    "        # marix - wartość własna * iloczyn zewnętrzny wektora własnego\n",
    "        matrix = matrix - eigenvalue * np.multiply(eigenvector,eigenvector.T).T \n",
    "        \n",
    "        eigenvalues.append(eigenvalue) # dodanie znalezionej wartości własnej do listy\n",
    "        eigenvectors.append(eigenvector) # dodanie znalezionego wektora własnego do listy\n",
    "        \n",
    "        \n",
    "        \n",
    "    return eigenvalues, rearrange_matrix(eigenvectors) # zwrócenie wartości własnych i wektorów własnych"
   ]
  },
  {
   "cell_type": "markdown",
   "id": "6a17a46a",
   "metadata": {},
   "source": [
    "### Funkcja przeprowadzająca operacje wybielania na zbiorze danych"
   ]
  },
  {
   "cell_type": "code",
   "execution_count": 13,
   "id": "1ff73ed0",
   "metadata": {},
   "outputs": [],
   "source": [
    "def whitening(dataset):\n",
    "    cov_matrix = cov_for_dataset(dataset)\n",
    "    \n",
    "    num_iterations = 10000\n",
    "    eigenvalues, eigenvectors = eigenvalues_eigenvectors(cov_matrix, num_iterations)\n",
    "    K = eigenvectors\n",
    "    \n",
    "    A = np.identity(2) * eigenvalues\n",
    "    A = np.linalg.inv(np.identity(2) * np.sqrt(eigenvalues)) # INV(I * wartości_własne)\n",
    "    \n",
    "    new_dataset = (A * K * np.array(dataset, dtype='double').T).T\n",
    "    new_dataset = np.array(new_dataset)\n",
    "\n",
    "    return new_dataset"
   ]
  },
  {
   "cell_type": "markdown",
   "id": "5e7456a5",
   "metadata": {},
   "source": [
    "### Generowanie zbiorów z taką samą kowariancją"
   ]
  },
  {
   "cell_type": "code",
   "execution_count": 64,
   "id": "6cbeeafd",
   "metadata": {},
   "outputs": [],
   "source": [
    "dataset1 = np.array(generate_dataset_norm(100))\n",
    "dataset2 = np.array(generate_dataset_norm(100))"
   ]
  },
  {
   "cell_type": "markdown",
   "id": "665435fe",
   "metadata": {},
   "source": [
    "### Sprawdzenie kowariancji przed wybielaniem"
   ]
  },
  {
   "cell_type": "code",
   "execution_count": 65,
   "id": "3d3a231e",
   "metadata": {},
   "outputs": [
    {
     "data": {
      "text/plain": [
       "matrix([[ 0.09071828, -0.0015221 ],\n",
       "        [-0.0015221 ,  0.10359235]])"
      ]
     },
     "execution_count": 65,
     "metadata": {},
     "output_type": "execute_result"
    }
   ],
   "source": [
    "cov_for_dataset(dataset1)"
   ]
  },
  {
   "cell_type": "code",
   "execution_count": 66,
   "id": "85d91599",
   "metadata": {
    "scrolled": true
   },
   "outputs": [
    {
     "data": {
      "text/plain": [
       "matrix([[ 0.0822971 , -0.00772799],\n",
       "        [-0.00772799,  0.09366835]])"
      ]
     },
     "execution_count": 66,
     "metadata": {},
     "output_type": "execute_result"
    }
   ],
   "source": [
    "cov_for_dataset(dataset2)"
   ]
  },
  {
   "cell_type": "markdown",
   "id": "d53dd17e",
   "metadata": {},
   "source": [
    "### Wybielanie i macierze kowariancji po operacji"
   ]
  },
  {
   "cell_type": "code",
   "execution_count": 67,
   "id": "964e2f12",
   "metadata": {},
   "outputs": [
    {
     "data": {
      "text/plain": [
       "matrix([[ 1.0000000e+00, -4.4408921e-17],\n",
       "        [-4.4408921e-17,  1.0000000e+00]])"
      ]
     },
     "execution_count": 67,
     "metadata": {},
     "output_type": "execute_result"
    }
   ],
   "source": [
    "w1 = whitening(dataset1)\n",
    "cov_for_dataset(w1)"
   ]
  },
  {
   "cell_type": "code",
   "execution_count": 68,
   "id": "31e2bb5c",
   "metadata": {},
   "outputs": [
    {
     "data": {
      "text/plain": [
       "matrix([[1.00000000e+00, 1.02140518e-16],\n",
       "        [1.02140518e-16, 1.00000000e+00]])"
      ]
     },
     "execution_count": 68,
     "metadata": {},
     "output_type": "execute_result"
    }
   ],
   "source": [
    "w2 = whitening(dataset2)\n",
    "cov_for_dataset(w2)"
   ]
  },
  {
   "cell_type": "markdown",
   "id": "c3e692aa",
   "metadata": {},
   "source": [
    "### Transformacje i macierze kowariancji po operacji"
   ]
  },
  {
   "cell_type": "code",
   "execution_count": 69,
   "id": "aee8d7bb",
   "metadata": {},
   "outputs": [
    {
     "data": {
      "text/plain": [
       "matrix([[ 2.5000000e-01, -4.4408921e-17],\n",
       "        [-4.4408921e-17,  4.0000000e+00]])"
      ]
     },
     "execution_count": 69,
     "metadata": {},
     "output_type": "execute_result"
    }
   ],
   "source": [
    "t1 = perform_transformation(w1, 0, 0.5, 2)\n",
    "cov_for_dataset(t1)"
   ]
  },
  {
   "cell_type": "code",
   "execution_count": 70,
   "id": "61a47759",
   "metadata": {},
   "outputs": [
    {
     "data": {
      "text/plain": [
       "matrix([[ 4.0000000e+00, -3.5971226e-16],\n",
       "        [-3.5971226e-16,  2.5000000e-01]])"
      ]
     },
     "execution_count": 70,
     "metadata": {},
     "output_type": "execute_result"
    }
   ],
   "source": [
    "t2 = perform_transformation(w2, 90, 0.5, 2) - [6, 8] \n",
    "cov_for_dataset(t2)"
   ]
  },
  {
   "cell_type": "code",
   "execution_count": 71,
   "id": "03393780",
   "metadata": {},
   "outputs": [
    {
     "data": {
      "image/png": "[encoded data removed]",
      "text/plain": [
       "<Figure size 800x600 with 1 Axes>"
      ]
     },
     "metadata": {},
     "output_type": "display_data"
    }
   ],
   "source": [
    "plt.figure(figsize=(8, 6))\n",
    "\n",
    "plt.scatter(t1[:,[0]], t1[:,[1]], color='red', marker='o')\n",
    "plt.scatter(t2[:,[0]], t2[:,[1]], color='green', marker='x')\n",
    "\n",
    "plt.xlabel('X')\n",
    "plt.ylabel('Y')\n",
    "\n",
    "plt.xlim(-14, 4)\n",
    "plt.ylim(-13, 8)\n",
    "\n",
    "plt.title('Zbiory po wybielaniu i transformacji')\n",
    "plt.show()"
   ]
  },
  {
   "cell_type": "code",
   "execution_count": 14,
   "id": "932589ff",
   "metadata": {},
   "outputs": [],
   "source": [
    "def discriminant_function(matrix, x):\n",
    "    means = []\n",
    "    \n",
    "    for col_idx in range(matrix.shape[1]):\n",
    "        means.append(test[:,[col_idx]].mean())\n",
    "    \n",
    "    matrix_cov = cov_for_dataset(matrix)\n",
    "    \n",
    "    d = x - np.array(means)\n",
    "    \n",
    "    det_cov = np.linalg.det(matrix_cov)\n",
    "    inv_cov = np.linalg.inv(matrix_cov)\n",
    "    res = -0.5 * np.log(det_cov) - np.dot(np.dot(d.T, inv_cov), d)\n",
    "    \n",
    "    #print(f'Cov: {matrix_cov}')\n",
    "    #print(f'Means: {means}')\n",
    "    #print(f'd: {d}')\n",
    "    \n",
    "    return res[0,0]"
   ]
  },
  {
   "cell_type": "code",
   "execution_count": 15,
   "id": "8a1c7b2c",
   "metadata": {},
   "outputs": [],
   "source": [
    "test = np.array([[2.0, 1.0], [1.0, 3.0] , [1.0, 5.0]])"
   ]
  },
  {
   "cell_type": "code",
   "execution_count": 16,
   "id": "d5e174ca",
   "metadata": {},
   "outputs": [
    {
     "data": {
      "text/plain": [
       "-80.54522874755781"
      ]
     },
     "execution_count": 16,
     "metadata": {},
     "output_type": "execute_result"
    }
   ],
   "source": [
    "discriminant_function(test, [0,0])"
   ]
  },
  {
   "cell_type": "code",
   "execution_count": 17,
   "id": "c861b759",
   "metadata": {},
   "outputs": [],
   "source": [
    "def probability_func(matrix1, matrix2):\n",
    "    a = matrix1.shape[0]\n",
    "    b = matrix2.shape[0]\n",
    "    \n",
    "    return [a / (a + b), b / (a + b)]"
   ]
  },
  {
   "cell_type": "code",
   "execution_count": 18,
   "id": "2f585649",
   "metadata": {},
   "outputs": [
    {
     "ename": "NameError",
     "evalue": "name 't1' is not defined",
     "output_type": "error",
     "traceback": [
      "\u001b[1;31m---------------------------------------------------------------------------\u001b[0m",
      "\u001b[1;31mNameError\u001b[0m                                 Traceback (most recent call last)",
      "Cell \u001b[1;32mIn[18], line 1\u001b[0m\n\u001b[1;32m----> 1\u001b[0m probability_func(t1, t2)\n",
      "\u001b[1;31mNameError\u001b[0m: name 't1' is not defined"
     ]
    }
   ],
   "source": [
    "probability_func(t1, t2)"
   ]
  },
  {
   "cell_type": "code",
   "execution_count": 19,
   "id": "0632ab8e",
   "metadata": {},
   "outputs": [],
   "source": [
    "def assign_class(matrix1, matrix2, x, y):\n",
    "    p = [x, y]\n",
    "    probability = probability_func(matrix1, matrix2)\n",
    "    \n",
    "    matrix1_probability = probability[0]\n",
    "    matrix2_probability = probability[1]\n",
    "\n",
    "    a = np.log(matrix1_probability) + discriminant_function(matrix1, p)\n",
    "    b = np.log(matrix2_probability) + discriminant_function(matrix2, p)\n",
    "\n",
    "    return [a, b]"
   ]
  },
  {
   "cell_type": "code",
   "execution_count": 20,
   "id": "7e1fd208",
   "metadata": {},
   "outputs": [],
   "source": [
    "def assign_color(matrix1, matrix2, x, y):\n",
    "    res = assign_class(matrix1, matrix2, x, y)\n",
    "    a = res[0]\n",
    "    b = res[1]\n",
    "    \n",
    "    if a > b:\n",
    "        return 0\n",
    "    elif a == b:\n",
    "        return 0.5\n",
    "    else:\n",
    "        return 1"
   ]
  },
  {
   "cell_type": "code",
   "execution_count": 21,
   "id": "31cc379c",
   "metadata": {},
   "outputs": [],
   "source": [
    "def assign_borders(matrix1, matrix2, x, y):\n",
    "    res = assign_class(matrix1, matrix2, x, y)\n",
    "    a = res[0]\n",
    "    b = res[1]\n",
    "    \n",
    "    if abs(a-b) < 1:\n",
    "        return 0\n",
    "    else:\n",
    "        return 1"
   ]
  },
  {
   "cell_type": "code",
   "execution_count": 60,
   "id": "2ae3eafd",
   "metadata": {},
   "outputs": [],
   "source": [
    "STEP = 0.1"
   ]
  },
  {
   "cell_type": "code",
   "execution_count": 61,
   "id": "c3ddd6a1",
   "metadata": {},
   "outputs": [],
   "source": [
    "rangex = np.arange(-20, 20, STEP)\n",
    "rangey = rangex"
   ]
  },
  {
   "cell_type": "code",
   "execution_count": 188,
   "id": "66bd8cdc",
   "metadata": {},
   "outputs": [],
   "source": [
    "heatmap_data = np.array([[assign_color(t1, t2, x, y) for y in rangey] for x in rangex])"
   ]
  },
  {
   "cell_type": "code",
   "execution_count": 189,
   "id": "fb366a54",
   "metadata": {},
   "outputs": [
    {
     "data": {
      "text/plain": [
       "(400, 400)"
      ]
     },
     "execution_count": 189,
     "metadata": {},
     "output_type": "execute_result"
    }
   ],
   "source": [
    "heatmap_data.shape"
   ]
  },
  {
   "cell_type": "code",
   "execution_count": 190,
   "id": "3a766e9a",
   "metadata": {},
   "outputs": [
    {
     "data": {
      "text/plain": [
       "array([[0, 0, 0, ..., 0, 0, 0],\n",
       "       [0, 0, 0, ..., 0, 0, 0],\n",
       "       [0, 0, 0, ..., 0, 0, 0],\n",
       "       ...,\n",
       "       [1, 1, 1, ..., 1, 1, 1],\n",
       "       [1, 1, 1, ..., 1, 1, 1],\n",
       "       [1, 1, 1, ..., 1, 1, 1]])"
      ]
     },
     "execution_count": 190,
     "metadata": {},
     "output_type": "execute_result"
    }
   ],
   "source": [
    "heatmap_data"
   ]
  },
  {
   "cell_type": "code",
   "execution_count": 191,
   "id": "5b7e9baf",
   "metadata": {},
   "outputs": [
    {
     "ename": "SyntaxError",
     "evalue": "incomplete input (4004370693.py, line 10)",
     "output_type": "error",
     "traceback": [
      "\u001b[1;36m  Cell \u001b[1;32mIn[191], line 10\u001b[1;36m\u001b[0m\n\u001b[1;33m    \u001b[0m\n\u001b[1;37m    ^\u001b[0m\n\u001b[1;31mSyntaxError\u001b[0m\u001b[1;31m:\u001b[0m incomplete input\n"
     ]
    }
   ],
   "source": [
    "#a = [4,0]\n",
    "#t1 = t1 - a\n",
    "#t2 = t2 - a\n",
    "arr = []\n",
    "\n",
    "for i in range(10):\n",
    "    inner = []\n",
    "    \n",
    "    for j in range(10):\n",
    "        \n"
   ]
  },
  {
   "cell_type": "code",
   "execution_count": 194,
   "id": "697029c1",
   "metadata": {
    "scrolled": true
   },
   "outputs": [
    {
     "data": {
      "image/png": "[encoded data removed]",
      "text/plain": [
       "<Figure size 640x480 with 1 Axes>"
      ]
     },
     "metadata": {},
     "output_type": "display_data"
    }
   ],
   "source": [
    "# Tworzenie heatmapy przy użyciu matplotlib\n",
    "plt.imshow(heatmap_data, cmap=\"viridis\", interpolation=\"nearest\", origin='lower'\n",
    "           , extent=[rangex.min(), rangex.max(), rangey.min(), rangey.max()])\n",
    "plt.scatter(t1[:,[0]], t1[:,[1]], color='red', marker='o')\n",
    "plt.scatter(t2[:,[0]], t2[:,[1]], color='green', marker='x')\n",
    "plt.show()"
   ]
  },
  {
   "cell_type": "code",
   "execution_count": 103,
   "id": "27c49bd4",
   "metadata": {
    "scrolled": true
   },
   "outputs": [
    {
     "name": "stdout",
     "output_type": "stream",
     "text": [
      "[[ 1.00000000e+00 -2.07056594e-16]\n",
      " [-2.07056594e-16  1.00000000e+00]]\n",
      "[[1.00000000e+00 1.27467481e-16]\n",
      " [1.27467481e-16 1.00000000e+00]]\n",
      "[[1.000000e+00 1.378897e-15]\n",
      " [1.378897e-15 9.000000e+00]]\n",
      "[[ 9.00000000e+00 -6.92779167e-16]\n",
      " [-6.92779167e-16  1.00000000e+00]]\n"
     ]
    },
    {
     "data": {
      "image/png": "[encoded data removed]",
      "text/plain": [
       "<Figure size 800x600 with 1 Axes>"
      ]
     },
     "metadata": {},
     "output_type": "display_data"
    }
   ],
   "source": [
    "dataset1 = np.array(generate_dataset_norm(100))\n",
    "dataset2 = np.array(generate_dataset_norm(100))\n",
    "w1 = whitening(dataset1)\n",
    "w2 = whitening(dataset2)\n",
    "\n",
    "print(cov_for_dataset(w1))\n",
    "print(cov_for_dataset(w2))\n",
    "\n",
    "t1 = perform_transformation(w1, 90, 3, 1) + [25, 8] \n",
    "t2 = perform_transformation(w1, 0, 3, 1) + [0, -8] \n",
    "\n",
    "print(cov_for_dataset(t1))\n",
    "print(cov_for_dataset(t2))\n",
    "\n",
    "\n",
    "plt.figure(figsize=(8, 6))\n",
    "\n",
    "plt.scatter(t1[:,[0]], t1[:,[1]], color='red', marker='o')\n",
    "plt.scatter(t2[:,[0]], t2[:,[1]], color='green', marker='x')\n",
    "\n",
    "plt.xlabel('X')\n",
    "plt.ylabel('Y')\n",
    "\n",
    "plt.xlim(-10, 40)\n",
    "plt.ylim(-40, 30)\n",
    "\n",
    "plt.title('Zbiory po wybielaniu i transformacji')\n",
    "plt.show()"
   ]
  },
  {
   "cell_type": "code",
   "execution_count": 104,
   "id": "ff60d0bd",
   "metadata": {},
   "outputs": [],
   "source": [
    "STEP = 1\n",
    "rangex = np.arange(-10, 60, STEP)\n",
    "rangey = np.arange(-40, 30, STEP)\n",
    "\n",
    "heatmap_data = np.array([[assign_color(t1, t2, x, y) for y in rangey] for x in rangex])"
   ]
  },
  {
   "cell_type": "code",
   "execution_count": 110,
   "id": "37a6b787",
   "metadata": {
    "scrolled": false
   },
   "outputs": [
    {
     "data": {
      "image/png": "[encoded data removed]",
      "text/plain": [
       "<Figure size 640x480 with 1 Axes>"
      ]
     },
     "metadata": {},
     "output_type": "display_data"
    }
   ],
   "source": [
    "fig, ax = plt.subplots()\n",
    "h = ax.imshow(heatmap_data, extent=[rangex.min(), rangex.max(), rangey.min(), rangey.max()], origin='lower')\n",
    "\n",
    "ax.scatter(t1[:,[0]], t1[:,[1]], label='Class A')\n",
    "ax.scatter(t2[:,[0]], t2[:,[1]], label='Class B')\n",
    "\n",
    "ax.legend()\n",
    "plt.show()"
   ]
  },
  {
   "cell_type": "code",
   "execution_count": 111,
   "id": "ff8a2fa0",
   "metadata": {
    "scrolled": true
   },
   "outputs": [
    {
     "data": {
      "text/plain": [
       "(70, 70)"
      ]
     },
     "execution_count": 111,
     "metadata": {},
     "output_type": "execute_result"
    }
   ],
   "source": [
    "heatmap_data.shape"
   ]
  },
  {
   "cell_type": "code",
   "execution_count": 127,
   "id": "ae2933ee",
   "metadata": {
    "scrolled": true
   },
   "outputs": [
    {
     "name": "stdout",
     "output_type": "stream",
     "text": [
      "[[ 1.00000000e+00 -1.95399252e-16]\n",
      " [-1.95399252e-16  1.00000000e+00]]\n",
      "[[1.00000000e+00 1.00683351e-16]\n",
      " [1.00683351e-16 1.00000000e+00]]\n",
      "[[ 9.00000000e+00 -6.39488462e-16]\n",
      " [-6.39488462e-16  1.00000000e+00]]\n",
      "[[ 9.00000000e+00 -5.15143483e-16]\n",
      " [-5.15143483e-16  1.00000000e+00]]\n"
     ]
    },
    {
     "data": {
      "image/png": "[encoded data removed]",
      "text/plain": [
       "<Figure size 800x600 with 1 Axes>"
      ]
     },
     "metadata": {},
     "output_type": "display_data"
    }
   ],
   "source": [
    "dataset1 = np.array(generate_dataset_norm(100))\n",
    "dataset2 = np.array(generate_dataset_norm(100))\n",
    "w1 = whitening(dataset1)\n",
    "w2 = whitening(dataset2)\n",
    "\n",
    "print(cov_for_dataset(w1))\n",
    "print(cov_for_dataset(w2))\n",
    "\n",
    "t1 = perform_transformation(w1, 0, 3, 1) + [0, 8] \n",
    "t2 = perform_transformation(w1, 0, 3, 1) + [0, -8] \n",
    "\n",
    "print(cov_for_dataset(t1))\n",
    "print(cov_for_dataset(t2))"
   ]
  },
  {
   "cell_type": "code",
   "execution_count": 128,
   "id": "a6648375",
   "metadata": {},
   "outputs": [
    {
     "data": {
      "image/png": "[encoded data removed]",
      "text/plain": [
       "<Figure size 800x600 with 1 Axes>"
      ]
     },
     "metadata": {},
     "output_type": "display_data"
    }
   ],
   "source": [
    "plt.figure(figsize=(8, 6))\n",
    "\n",
    "plt.scatter(t1[:,[0]], t1[:,[1]], color='red', marker='o')\n",
    "plt.scatter(t2[:,[0]], t2[:,[1]], color='green', marker='x')\n",
    "\n",
    "plt.xlabel('X')\n",
    "plt.ylabel('Y')\n",
    "\n",
    "plt.xlim(-20, 20)\n",
    "plt.ylim(-20, 20)\n",
    "\n",
    "plt.title('Zbiory po wybielaniu i transformacji')\n",
    "plt.show()"
   ]
  },
  {
   "cell_type": "code",
   "execution_count": 136,
   "id": "299d755f",
   "metadata": {},
   "outputs": [
    {
     "data": {
      "text/plain": [
       "(16, 16)"
      ]
     },
     "execution_count": 136,
     "metadata": {},
     "output_type": "execute_result"
    }
   ],
   "source": [
    "STEP = 2.5\n",
    "rangex = np.arange(-20, 20, STEP)\n",
    "rangey = np.arange(-20, 20, STEP)\n",
    "\n",
    "heatmap_data = np.array([[assign_color(t1, t2, x, y) for y in rangey] for x in rangex])\n",
    "heatmap_data.shape"
   ]
  },
  {
   "cell_type": "code",
   "execution_count": 131,
   "id": "d9b8ea98",
   "metadata": {
    "scrolled": true
   },
   "outputs": [
    {
     "data": {
      "image/png": "[encoded data removed]",
      "text/plain": [
       "<Figure size 640x480 with 1 Axes>"
      ]
     },
     "metadata": {},
     "output_type": "display_data"
    }
   ],
   "source": [
    "fig, ax = plt.subplots()\n",
    "h = ax.imshow(heatmap_data, extent=[rangex.min(), rangex.max(), rangey.min(), rangey.max()], origin='lower')\n",
    "\n",
    "ax.scatter(t1[:,[0]], t1[:,[1]], label='Class A')\n",
    "ax.scatter(t2[:,[0]], t2[:,[1]], label='Class B')\n",
    "\n",
    "ax.legend()\n",
    "plt.show()"
   ]
  },
  {
   "cell_type": "code",
   "execution_count": 137,
   "id": "442370cd",
   "metadata": {
    "scrolled": true
   },
   "outputs": [
    {
     "name": "stdout",
     "output_type": "stream",
     "text": [
      "[[0.  0.  0.  0.  0.  0.  0.  0.  0.5 0.5 0.5 0.  0.  0.  0.  0.5]\n",
      " [0.  0.  0.  0.  0.  0.  0.  0.5 0.5 0.5 0.5 0.5 0.  0.5 0.  0. ]\n",
      " [0.  0.  0.  0.  0.5 0.  0.  0.  0.5 0.5 0.5 0.5 0.  0.  0.  0. ]\n",
      " [0.  0.  0.  0.  0.5 0.  0.5 0.  0.5 0.5 0.5 0.5 0.  0.  0.  0. ]\n",
      " [0.  0.  0.  0.  0.5 0.  0.5 0.  0.5 0.5 0.5 0.5 0.  0.  0.5 0. ]\n",
      " [0.  0.  0.  0.  0.5 0.  0.  0.  0.5 0.5 1.  0.5 0.  0.  0.5 0. ]\n",
      " [0.  0.  0.  0.  0.5 0.  0.  0.5 1.  0.5 0.5 0.  0.  0.  0.5 0. ]\n",
      " [0.  0.  0.  0.  0.5 0.  0.  0.  1.  1.  0.  0.  0.  0.  0.5 0. ]\n",
      " [0.  0.  0.  0.  1.  0.  0.  0.  1.  1.  0.  0.  0.  0.  0.5 0. ]\n",
      " [0.  0.  0.  0.  0.5 0.  0.  0.  1.  1.  0.  0.  0.  0.  0.5 0. ]\n",
      " [0.  0.  0.  0.  0.5 0.  0.  0.  0.  0.5 0.5 0.  0.  0.  0.5 0. ]\n",
      " [0.  0.  0.  0.  0.5 0.  0.  0.  1.  0.5 0.  0.  0.  0.  0.5 0. ]\n",
      " [0.  0.  0.  0.  0.5 0.  0.  0.  0.  0.5 1.  0.  0.  0.5 0.5 0. ]\n",
      " [0.  0.  0.  0.  0.5 0.  0.  0.  0.  0.5 0.5 0.5 0.5 0.  0.5 0. ]\n",
      " [0.  0.  0.  0.  0.  0.  0.  0.  0.  0.5 0.5 0.  0.  0.5 0.5 0. ]\n",
      " [0.  0.  0.  0.  0.  0.  0.  0.  0.5 0.5 0.5 0.5 0.  0.  0.  0. ]]\n"
     ]
    }
   ],
   "source": [
    "print(heatmap_data)"
   ]
  },
  {
   "cell_type": "code",
   "execution_count": 22,
   "id": "727e3b35",
   "metadata": {},
   "outputs": [],
   "source": [
    "STEP = 0.1\n",
    "rangex = np.arange(-25, 25, STEP)\n",
    "rangey = rangex\n"
   ]
  },
  {
   "cell_type": "code",
   "execution_count": 77,
   "id": "1e840261",
   "metadata": {},
   "outputs": [
    {
     "data": {
      "text/plain": [
       "array([[1, 2],\n",
       "       [2, 5]])"
      ]
     },
     "execution_count": 77,
     "metadata": {},
     "output_type": "execute_result"
    }
   ],
   "source": [
    "t1 = [\n",
    "    [1, 2],\n",
    "    [2, 5]\n",
    "]\n",
    "np.array(t1)"
   ]
  },
  {
   "cell_type": "code",
   "execution_count": 78,
   "id": "60fd16ab",
   "metadata": {},
   "outputs": [
    {
     "data": {
      "text/plain": [
       "array([[ -5.8456758 ,  -8.49605245],\n",
       "       [ -5.69725052,  -7.95116195],\n",
       "       [ -7.76547575,  -7.94985287],\n",
       "       [ -5.3224617 ,  -8.34553796],\n",
       "       [ -5.48215918,  -8.65256829],\n",
       "       [ -7.97092496,  -8.3269373 ],\n",
       "       [ -5.60462004,  -7.55051742],\n",
       "       [ -5.34267669,  -8.6135895 ],\n",
       "       [ -6.06183779,  -8.20970895],\n",
       "       [ -6.24985611,  -7.60171786],\n",
       "       [ -2.88428937,  -7.36137069],\n",
       "       [ -9.66265992,  -7.73879169],\n",
       "       [ -7.15440198,  -7.82943982],\n",
       "       [ -5.75298617,  -7.79426901],\n",
       "       [ -7.90064047,  -8.32663297],\n",
       "       [ -5.70658873,  -8.12540038],\n",
       "       [ -6.13476989,  -7.92095686],\n",
       "       [ -8.64681373,  -8.6194838 ],\n",
       "       [ -7.20249844,  -8.05846686],\n",
       "       [ -2.61389897,  -7.96097872],\n",
       "       [ -7.92944156,  -7.48470904],\n",
       "       [ -2.61265894,  -8.36237251],\n",
       "       [ -5.61223931,  -8.45094823],\n",
       "       [ -6.16723356,  -8.45926837],\n",
       "       [ -7.36335639,  -7.95172919],\n",
       "       [ -3.51311172,  -7.80315995],\n",
       "       [ -1.33297274,  -9.25862562],\n",
       "       [ -4.79827091,  -7.14237263],\n",
       "       [-10.97038281,  -8.51582778],\n",
       "       [ -4.25634177,  -6.87339769],\n",
       "       [ -4.35663854,  -7.96143291],\n",
       "       [ -3.94464061,  -7.68420657],\n",
       "       [ -3.20526865,  -8.5991563 ],\n",
       "       [ -8.71475701,  -8.5568719 ],\n",
       "       [ -4.67531947,  -8.47723905],\n",
       "       [ -5.4500399 ,  -8.0613883 ],\n",
       "       [ -4.16803034,  -7.02902133],\n",
       "       [ -7.09360611,  -7.69878124],\n",
       "       [ -6.0729943 ,  -7.33489324],\n",
       "       [ -5.5809066 ,  -8.44059809],\n",
       "       [ -6.16283432,  -7.52285742],\n",
       "       [ -0.8821981 ,  -7.67509329],\n",
       "       [ -4.57392431,  -8.5255548 ],\n",
       "       [ -5.04882527,  -7.57566739],\n",
       "       [ -3.19353089,  -8.75966226],\n",
       "       [ -3.78309491,  -8.67242273],\n",
       "       [ -4.40369045,  -7.54533187],\n",
       "       [ -4.77075438,  -7.62512797],\n",
       "       [ -2.50064613,  -8.43341778],\n",
       "       [ -4.40421307,  -8.65994193],\n",
       "       [ -8.1516169 ,  -7.87958171],\n",
       "       [ -6.91675435,  -7.74825104],\n",
       "       [ -6.65334235,  -8.10325161],\n",
       "       [ -6.05750838,  -7.18289457],\n",
       "       [ -4.85329157,  -8.1907046 ],\n",
       "       [ -7.82663725,  -7.88047785],\n",
       "       [ -5.97593439,  -8.96808961],\n",
       "       [ -5.63689442,  -7.99661951],\n",
       "       [ -4.37305954,  -8.3732361 ],\n",
       "       [ -6.06364533,  -8.64860168],\n",
       "       [-12.03618938,  -8.60131298],\n",
       "       [ -4.274301  ,  -8.62437147],\n",
       "       [ -6.50833797,  -8.57778839],\n",
       "       [ -4.88024409,  -7.27212853],\n",
       "       [ -5.00354216,  -7.86276886],\n",
       "       [ -8.01953392,  -8.22408659],\n",
       "       [ -3.94254876,  -8.07673465],\n",
       "       [ -6.58601662,  -7.11379999],\n",
       "       [ -3.5348472 ,  -8.04599239],\n",
       "       [ -7.61745955,  -8.61067159],\n",
       "       [ -5.82807672,  -8.14033652],\n",
       "       [ -0.66817855,  -8.27314292],\n",
       "       [ -4.38199424,  -8.05280805],\n",
       "       [ -7.14668373,  -7.96159176],\n",
       "       [ -4.80408489,  -8.03631677],\n",
       "       [ -3.79712301,  -8.10442617],\n",
       "       [ -7.27082664,  -8.39643213],\n",
       "       [ -5.58661625,  -7.55393388],\n",
       "       [ -8.05830991,  -7.34627033],\n",
       "       [ -7.61577143,  -8.83991319],\n",
       "       [ -2.63542146,  -7.35823511],\n",
       "       [ -6.21934285,  -8.40617252],\n",
       "       [ -6.04873423,  -8.33227876],\n",
       "       [ -9.3351567 ,  -7.70476131],\n",
       "       [ -3.16262385,  -8.4124729 ],\n",
       "       [ -5.41629205,  -8.88340898],\n",
       "       [ -6.5746392 ,  -8.13540395],\n",
       "       [ -4.99611354,  -8.83574632],\n",
       "       [ -2.78668545,  -7.78424553],\n",
       "       [ -7.18526392,  -7.88516714],\n",
       "       [ -5.01178943,  -8.06943007],\n",
       "       [ -7.1564237 ,  -8.24826389],\n",
       "       [ -4.1489289 ,  -7.83969094],\n",
       "       [ -8.62551501,  -8.0585986 ],\n",
       "       [ -6.48838651,  -7.65735154],\n",
       "       [ -7.94059683,  -8.06133336],\n",
       "       [ -3.83821962,  -7.5517153 ],\n",
       "       [ -5.90050918,  -6.93809986],\n",
       "       [ -6.55685894,  -7.45659294],\n",
       "       [ -7.61805973,  -6.93611878]])"
      ]
     },
     "execution_count": 78,
     "metadata": {},
     "output_type": "execute_result"
    }
   ],
   "source": [
    "t2"
   ]
  },
  {
   "cell_type": "code",
   "execution_count": null,
   "id": "01d19cf6",
   "metadata": {},
   "outputs": [],
   "source": [
    "heatmap_data = np.array([[assign_color(t1, t2, x, y) for y in rangey] for x in rangex])"
   ]
  },
  {
   "cell_type": "markdown",
   "id": "3449c058",
   "metadata": {},
   "source": [
    "### Wnioski\n",
    "\n",
    "Powyższe testy i zastosowane przykłady pokazują poprawność implementacji operacji transformacji (obrót i rozciąganie) zbioru danych."
   ]
  }
 ],
 "metadata": {
  "kernelspec": {
   "display_name": "Python 3 (ipykernel)",
   "language": "python",
   "name": "python3"
  },
  "language_info": {
   "codemirror_mode": {
    "name": "ipython",
    "version": 3
   },
   "file_extension": ".py",
   "mimetype": "text/x-python",
   "name": "python",
   "nbconvert_exporter": "python",
   "pygments_lexer": "ipython3",
   "version": "3.11.5"
  }
 },
 "nbformat": 4,
 "nbformat_minor": 5
}
