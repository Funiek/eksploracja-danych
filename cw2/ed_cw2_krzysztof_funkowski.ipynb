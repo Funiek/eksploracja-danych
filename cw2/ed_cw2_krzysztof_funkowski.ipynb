{
 "cells": [
  {
   "cell_type": "markdown",
   "id": "acf72b58",
   "metadata": {},
   "source": [
    "# Zadanie 2 Pracownia Specjalistyczna - Eksploracja danych\n",
    "### Krzysztof Funkowski"
   ]
  },
  {
   "cell_type": "code",
   "execution_count": 1,
   "id": "6a99b8f6",
   "metadata": {},
   "outputs": [],
   "source": [
    "from math import *\n",
    "import random\n",
    "import numpy as np\n",
    "import matplotlib.pyplot as plt\n",
    "import pandas as pd"
   ]
  },
  {
   "cell_type": "markdown",
   "id": "0784e846",
   "metadata": {},
   "source": [
    "# Zadania\n",
    "- Budowanie macierzy kowariancji &Sigma;k dla poszczególnych zbiorów uczących Ck = {xj} w \n",
    "  danych Irys (k = 1, 2, 3).\n",
    "- Implementacja iteracyjnej procedury rozwiązywania zagadnienia własnego.\n",
    "- Wyznaczenie wartości własnych &chi;i i wektorów własnych ki dla wybranej macierzy \n",
    "  kowariancji &Sigma;k.\n",
    "- Zwizualizować wektory cech xj na płaszczyznę rozpiętą przez dwa wektory własne ki"
   ]
  },
  {
   "cell_type": "markdown",
   "id": "03ee9086",
   "metadata": {},
   "source": [
    "### Funkcja służąca do obliczania kowariancji dla dwóch wektorów"
   ]
  },
  {
   "cell_type": "code",
   "execution_count": 2,
   "id": "0de53455",
   "metadata": {},
   "outputs": [],
   "source": [
    "def cov(x, y, x_avg, y_avg):\n",
    "    elements_count = len(x) # ilość elementów w tablicy\n",
    "    elements_sum = 0\n",
    "    \n",
    "    for x,y in zip(x,y):\n",
    "        elements_sum = elements_sum + ((x - x_avg)*(y - y_avg)) # sumowanie (x - średnia_arytmetyczna_x) * (y - średnia_arytmetyczna_y)\n",
    "    \n",
    "    return elements_sum / elements_count # suma dzielona przez liczbę elementów"
   ]
  },
  {
   "cell_type": "markdown",
   "id": "ee95339d",
   "metadata": {},
   "source": [
    "### Funkcja obliczająca macierz kowariancji dla zbioru danych"
   ]
  },
  {
   "cell_type": "code",
   "execution_count": 3,
   "id": "b2e39798",
   "metadata": {},
   "outputs": [],
   "source": [
    "def cov_for_dataset(cov_dataset):\n",
    "    avgs = []\n",
    "    matrix_shape = cov_dataset.shape[1] # wymiary_macierzy czyli liczba_kolumn_bioru_danych x liczba_kolumn_bioru_danych\n",
    "    for i in range(matrix_shape):\n",
    "        avgs.append(cov_dataset[:,i].mean()) # obliczanie średnich dla każdego parametru\n",
    "    \n",
    "    matrix = []\n",
    "    for i in range(matrix_shape):\n",
    "        matrix_row = []\n",
    "        for j in range(matrix_shape):\n",
    "            #matrix_shape*i + j\n",
    "            res = cov(cov_dataset[:,i],cov_dataset[:,j],avgs[i], avgs[j]) # wyznaczanie kowariancji dla każdej pary parametrów\n",
    "            matrix_row.append(res) # budowanie wiersza macierzy\n",
    "        matrix.append(matrix_row) # dodawanie wiersza macierzy do tablicy bazowej\n",
    "    \n",
    "    return np.matrix(matrix) # przekształcanie typu tablicy na macierz"
   ]
  },
  {
   "cell_type": "markdown",
   "id": "535d9769",
   "metadata": {},
   "source": [
    "### Funkcja do obliczania długości wektora własnego"
   ]
  },
  {
   "cell_type": "code",
   "execution_count": 4,
   "id": "5aa117c1",
   "metadata": {},
   "outputs": [],
   "source": [
    "def eigenvector_len(v1):\n",
    "    dims = v1.shape[0] # ilość elementów wektora\n",
    "    length = 0\n",
    "    \n",
    "    for i in range(dims):\n",
    "        val = v1[i].ravel().tolist()[0][0]\n",
    "        length = length + pow(val,2) # sumowanie elementów podniesionych do kwadratu\n",
    "        \n",
    "    \n",
    "    length = sqrt(length) # pierwiastkowanie wyniku sumy elementów wektora podniesionych do kwadratów\n",
    "    \n",
    "    return length # zwracanie długości"
   ]
  },
  {
   "cell_type": "markdown",
   "id": "4cb54351",
   "metadata": {},
   "source": [
    "### Funkcja normalizująca, zwracająca wartość własną i wektor własny"
   ]
  },
  {
   "cell_type": "code",
   "execution_count": 5,
   "id": "d5cf0912",
   "metadata": {},
   "outputs": [],
   "source": [
    "def eigenvector_normalization(v1):\n",
    "    eigenvalue = eigenvector_len(v1) # wylicznaie wartości własnej\n",
    "    eigenvector = v1 / eigenvalue # wyliczanie wektora własnego\n",
    "    \n",
    "    return eigenvalue, eigenvector # zwrócenie wartości własnej i wektora własnego"
   ]
  },
  {
   "cell_type": "markdown",
   "id": "9006807e",
   "metadata": {},
   "source": [
    "### Pomocnicza funkcja zmieniająca tablicę wektorów własnych w odpowiednią formę macierzy"
   ]
  },
  {
   "cell_type": "code",
   "execution_count": 6,
   "id": "a9083493",
   "metadata": {},
   "outputs": [],
   "source": [
    "def rearrange_matrix(eigenvectors):\n",
    "    res = []\n",
    "\n",
    "    for i in range(len(eigenvectors)):\n",
    "        row = eigenvectors[i].ravel().tolist()[0]\n",
    "        res.append(row)\n",
    "\n",
    "    return np.matrix(res).T"
   ]
  },
  {
   "cell_type": "markdown",
   "id": "36325745",
   "metadata": {},
   "source": [
    "### Funkcja odpowiadająca za obliczanie wartości własnych i wektorów własnych"
   ]
  },
  {
   "cell_type": "code",
   "execution_count": 8,
   "id": "f102a35e",
   "metadata": {},
   "outputs": [],
   "source": [
    "def eigenvalues_eigenvectors(matrix, num_iterations):\n",
    "    n = matrix.shape[0] # jeden z wymiarów macierzy, ponieważ jest kwadratowa to wystarczy tylko jeden\n",
    "    eigenvalues = [] # lista na wartości własne\n",
    "    eigenvectors = [] # lista na wektory własne\n",
    "    \n",
    "    for i in range(n):\n",
    "        # losowe dane wektora na początku\n",
    "        eigenvector = np.random.rand(n,1)\n",
    "    \n",
    "        # algorytm iteracyjny wykonywany num_iterations razy\n",
    "        for _ in range(num_iterations):\n",
    "            eigenvector = np.dot(matrix, eigenvector) # mnożenie macierzy kowariancji przez wektor \n",
    "            eigenvalue, eigenvector = eigenvector_normalization(eigenvector) # normalizacja wektora\n",
    "            \n",
    "        # usuwanie z macierzy znalezionej wartości własnej i wektora własnego\n",
    "        # marix - wartość własna * iloczyn zewnętrzny wektora własnego\n",
    "        matrix = matrix - eigenvalue * np.multiply(eigenvector,eigenvector.T).T \n",
    "        \n",
    "        '''if i % 2 == 0:\n",
    "            matrix = matrix - eigenvalue * np.multiply(eigenvector,eigenvector.T).T\n",
    "        else:\n",
    "            eigenvector = eigenvector * -1\n",
    "            matrix = matrix - eigenvalue * np.multiply(eigenvector,eigenvector.T).T'''\n",
    "        \n",
    "        eigenvalues.append(eigenvalue) # dodanie znalezionej wartości własnej do listy\n",
    "        eigenvectors.append(eigenvector) # dodanie znalezionego wektora własnego do listy\n",
    "        \n",
    "        \n",
    "        \n",
    "    return eigenvalues, rearrange_matrix(eigenvectors) # zwrócenie wartości własnych i wektorów własnych"
   ]
  },
  {
   "cell_type": "markdown",
   "id": "4e0b0df7",
   "metadata": {},
   "source": [
    "### Funkcja do rysowania projekcji"
   ]
  },
  {
   "cell_type": "code",
   "execution_count": 9,
   "id": "92a8274f",
   "metadata": {},
   "outputs": [],
   "source": [
    "def draw_plot(datasets):\n",
    "    colors = ['red','blue','green']\n",
    "    \n",
    "    print(len(datasets))\n",
    "    \n",
    "    # dla każdego zbioru danych z danej kategorii\n",
    "    for i in range(len(datasets)):\n",
    "        # przejście po wszystkich punktach\n",
    "        for j in range(datasets[i][1].shape[0]):\n",
    "            if j==0:\n",
    "                # zaznaczanie punktu dla pierwszego (SepalLengthCm) i drugiego (SepalWidthCm) parametru\n",
    "                plt.scatter(datasets[i][1][j,0],datasets[i][1][j,1], color=colors[i], label=datasets[i][0]) \n",
    "            else:\n",
    "                # zaznaczanie punktu dla pierwszego (SepalLengthCm) i drugiego (SepalWidthCm) parametru\n",
    "                plt.scatter(datasets[i][1][j,0],datasets[i][1][j,1], color=colors[i])\n",
    "    \n",
    "    plt.grid()\n",
    "    plt.legend()\n",
    "    plt.show() "
   ]
  },
  {
   "cell_type": "markdown",
   "id": "f16e779b",
   "metadata": {},
   "source": [
    "### Wczytanie zbioru Irisa i konwersja na dataframe'a"
   ]
  },
  {
   "cell_type": "code",
   "execution_count": 1,
   "id": "0e7ec916",
   "metadata": {},
   "outputs": [
    {
     "ename": "NameError",
     "evalue": "name 'pd' is not defined",
     "output_type": "error",
     "traceback": [
      "\u001b[1;31m---------------------------------------------------------------------------\u001b[0m",
      "\u001b[1;31mNameError\u001b[0m                                 Traceback (most recent call last)",
      "Cell \u001b[1;32mIn[1], line 1\u001b[0m\n\u001b[1;32m----> 1\u001b[0m df \u001b[38;5;241m=\u001b[39m \u001b[43mpd\u001b[49m\u001b[38;5;241m.\u001b[39mread_csv(\u001b[38;5;124m'\u001b[39m\u001b[38;5;124mIris.csv\u001b[39m\u001b[38;5;124m'\u001b[39m, sep\u001b[38;5;241m=\u001b[39m\u001b[38;5;124m'\u001b[39m\u001b[38;5;124m,\u001b[39m\u001b[38;5;124m'\u001b[39m, index_col\u001b[38;5;241m=\u001b[39m\u001b[38;5;241m0\u001b[39m)\n\u001b[0;32m      2\u001b[0m dataset \u001b[38;5;241m=\u001b[39m df\u001b[38;5;241m.\u001b[39mto_numpy()\n\u001b[0;32m      3\u001b[0m df\n",
      "\u001b[1;31mNameError\u001b[0m: name 'pd' is not defined"
     ]
    }
   ],
   "source": [
    "df = pd.read_csv('Iris.csv', sep=',', index_col=0)\n",
    "dataset = df.to_numpy()\n",
    "df"
   ]
  },
  {
   "cell_type": "code",
   "execution_count": null,
   "id": "3cc1694c",
   "metadata": {},
   "outputs": [],
   "source": []
  },
  {
   "cell_type": "markdown",
   "id": "4934197b",
   "metadata": {},
   "source": [
    "### Wyodrębnienie parametrów ze zbioru"
   ]
  },
  {
   "cell_type": "code",
   "execution_count": 9,
   "id": "c83205ac",
   "metadata": {},
   "outputs": [
    {
     "data": {
      "text/plain": [
       "array([[5.1, 3.5, 1.4, 0.2],\n",
       "       [4.9, 3. , 1.4, 0.2],\n",
       "       [4.7, 3.2, 1.3, 0.2],\n",
       "       [4.6, 3.1, 1.5, 0.2],\n",
       "       [5. , 3.6, 1.4, 0.2],\n",
       "       [5.4, 3.9, 1.7, 0.4],\n",
       "       [4.6, 3.4, 1.4, 0.3],\n",
       "       [5. , 3.4, 1.5, 0.2],\n",
       "       [4.4, 2.9, 1.4, 0.2],\n",
       "       [4.9, 3.1, 1.5, 0.1],\n",
       "       [5.4, 3.7, 1.5, 0.2],\n",
       "       [4.8, 3.4, 1.6, 0.2],\n",
       "       [4.8, 3. , 1.4, 0.1],\n",
       "       [4.3, 3. , 1.1, 0.1],\n",
       "       [5.8, 4. , 1.2, 0.2],\n",
       "       [5.7, 4.4, 1.5, 0.4],\n",
       "       [5.4, 3.9, 1.3, 0.4],\n",
       "       [5.1, 3.5, 1.4, 0.3],\n",
       "       [5.7, 3.8, 1.7, 0.3],\n",
       "       [5.1, 3.8, 1.5, 0.3],\n",
       "       [5.4, 3.4, 1.7, 0.2],\n",
       "       [5.1, 3.7, 1.5, 0.4],\n",
       "       [4.6, 3.6, 1. , 0.2],\n",
       "       [5.1, 3.3, 1.7, 0.5],\n",
       "       [4.8, 3.4, 1.9, 0.2],\n",
       "       [5. , 3. , 1.6, 0.2],\n",
       "       [5. , 3.4, 1.6, 0.4],\n",
       "       [5.2, 3.5, 1.5, 0.2],\n",
       "       [5.2, 3.4, 1.4, 0.2],\n",
       "       [4.7, 3.2, 1.6, 0.2],\n",
       "       [4.8, 3.1, 1.6, 0.2],\n",
       "       [5.4, 3.4, 1.5, 0.4],\n",
       "       [5.2, 4.1, 1.5, 0.1],\n",
       "       [5.5, 4.2, 1.4, 0.2],\n",
       "       [4.9, 3.1, 1.5, 0.1],\n",
       "       [5. , 3.2, 1.2, 0.2],\n",
       "       [5.5, 3.5, 1.3, 0.2],\n",
       "       [4.9, 3.1, 1.5, 0.1],\n",
       "       [4.4, 3. , 1.3, 0.2],\n",
       "       [5.1, 3.4, 1.5, 0.2],\n",
       "       [5. , 3.5, 1.3, 0.3],\n",
       "       [4.5, 2.3, 1.3, 0.3],\n",
       "       [4.4, 3.2, 1.3, 0.2],\n",
       "       [5. , 3.5, 1.6, 0.6],\n",
       "       [5.1, 3.8, 1.9, 0.4],\n",
       "       [4.8, 3. , 1.4, 0.3],\n",
       "       [5.1, 3.8, 1.6, 0.2],\n",
       "       [4.6, 3.2, 1.4, 0.2],\n",
       "       [5.3, 3.7, 1.5, 0.2],\n",
       "       [5. , 3.3, 1.4, 0.2],\n",
       "       [7. , 3.2, 4.7, 1.4],\n",
       "       [6.4, 3.2, 4.5, 1.5],\n",
       "       [6.9, 3.1, 4.9, 1.5],\n",
       "       [5.5, 2.3, 4. , 1.3],\n",
       "       [6.5, 2.8, 4.6, 1.5],\n",
       "       [5.7, 2.8, 4.5, 1.3],\n",
       "       [6.3, 3.3, 4.7, 1.6],\n",
       "       [4.9, 2.4, 3.3, 1. ],\n",
       "       [6.6, 2.9, 4.6, 1.3],\n",
       "       [5.2, 2.7, 3.9, 1.4],\n",
       "       [5. , 2. , 3.5, 1. ],\n",
       "       [5.9, 3. , 4.2, 1.5],\n",
       "       [6. , 2.2, 4. , 1. ],\n",
       "       [6.1, 2.9, 4.7, 1.4],\n",
       "       [5.6, 2.9, 3.6, 1.3],\n",
       "       [6.7, 3.1, 4.4, 1.4],\n",
       "       [5.6, 3. , 4.5, 1.5],\n",
       "       [5.8, 2.7, 4.1, 1. ],\n",
       "       [6.2, 2.2, 4.5, 1.5],\n",
       "       [5.6, 2.5, 3.9, 1.1],\n",
       "       [5.9, 3.2, 4.8, 1.8],\n",
       "       [6.1, 2.8, 4. , 1.3],\n",
       "       [6.3, 2.5, 4.9, 1.5],\n",
       "       [6.1, 2.8, 4.7, 1.2],\n",
       "       [6.4, 2.9, 4.3, 1.3],\n",
       "       [6.6, 3. , 4.4, 1.4],\n",
       "       [6.8, 2.8, 4.8, 1.4],\n",
       "       [6.7, 3. , 5. , 1.7],\n",
       "       [6. , 2.9, 4.5, 1.5],\n",
       "       [5.7, 2.6, 3.5, 1. ],\n",
       "       [5.5, 2.4, 3.8, 1.1],\n",
       "       [5.5, 2.4, 3.7, 1. ],\n",
       "       [5.8, 2.7, 3.9, 1.2],\n",
       "       [6. , 2.7, 5.1, 1.6],\n",
       "       [5.4, 3. , 4.5, 1.5],\n",
       "       [6. , 3.4, 4.5, 1.6],\n",
       "       [6.7, 3.1, 4.7, 1.5],\n",
       "       [6.3, 2.3, 4.4, 1.3],\n",
       "       [5.6, 3. , 4.1, 1.3],\n",
       "       [5.5, 2.5, 4. , 1.3],\n",
       "       [5.5, 2.6, 4.4, 1.2],\n",
       "       [6.1, 3. , 4.6, 1.4],\n",
       "       [5.8, 2.6, 4. , 1.2],\n",
       "       [5. , 2.3, 3.3, 1. ],\n",
       "       [5.6, 2.7, 4.2, 1.3],\n",
       "       [5.7, 3. , 4.2, 1.2],\n",
       "       [5.7, 2.9, 4.2, 1.3],\n",
       "       [6.2, 2.9, 4.3, 1.3],\n",
       "       [5.1, 2.5, 3. , 1.1],\n",
       "       [5.7, 2.8, 4.1, 1.3],\n",
       "       [6.3, 3.3, 6. , 2.5],\n",
       "       [5.8, 2.7, 5.1, 1.9],\n",
       "       [7.1, 3. , 5.9, 2.1],\n",
       "       [6.3, 2.9, 5.6, 1.8],\n",
       "       [6.5, 3. , 5.8, 2.2],\n",
       "       [7.6, 3. , 6.6, 2.1],\n",
       "       [4.9, 2.5, 4.5, 1.7],\n",
       "       [7.3, 2.9, 6.3, 1.8],\n",
       "       [6.7, 2.5, 5.8, 1.8],\n",
       "       [7.2, 3.6, 6.1, 2.5],\n",
       "       [6.5, 3.2, 5.1, 2. ],\n",
       "       [6.4, 2.7, 5.3, 1.9],\n",
       "       [6.8, 3. , 5.5, 2.1],\n",
       "       [5.7, 2.5, 5. , 2. ],\n",
       "       [5.8, 2.8, 5.1, 2.4],\n",
       "       [6.4, 3.2, 5.3, 2.3],\n",
       "       [6.5, 3. , 5.5, 1.8],\n",
       "       [7.7, 3.8, 6.7, 2.2],\n",
       "       [7.7, 2.6, 6.9, 2.3],\n",
       "       [6. , 2.2, 5. , 1.5],\n",
       "       [6.9, 3.2, 5.7, 2.3],\n",
       "       [5.6, 2.8, 4.9, 2. ],\n",
       "       [7.7, 2.8, 6.7, 2. ],\n",
       "       [6.3, 2.7, 4.9, 1.8],\n",
       "       [6.7, 3.3, 5.7, 2.1],\n",
       "       [7.2, 3.2, 6. , 1.8],\n",
       "       [6.2, 2.8, 4.8, 1.8],\n",
       "       [6.1, 3. , 4.9, 1.8],\n",
       "       [6.4, 2.8, 5.6, 2.1],\n",
       "       [7.2, 3. , 5.8, 1.6],\n",
       "       [7.4, 2.8, 6.1, 1.9],\n",
       "       [7.9, 3.8, 6.4, 2. ],\n",
       "       [6.4, 2.8, 5.6, 2.2],\n",
       "       [6.3, 2.8, 5.1, 1.5],\n",
       "       [6.1, 2.6, 5.6, 1.4],\n",
       "       [7.7, 3. , 6.1, 2.3],\n",
       "       [6.3, 3.4, 5.6, 2.4],\n",
       "       [6.4, 3.1, 5.5, 1.8],\n",
       "       [6. , 3. , 4.8, 1.8],\n",
       "       [6.9, 3.1, 5.4, 2.1],\n",
       "       [6.7, 3.1, 5.6, 2.4],\n",
       "       [6.9, 3.1, 5.1, 2.3],\n",
       "       [5.8, 2.7, 5.1, 1.9],\n",
       "       [6.8, 3.2, 5.9, 2.3],\n",
       "       [6.7, 3.3, 5.7, 2.5],\n",
       "       [6.7, 3. , 5.2, 2.3],\n",
       "       [6.3, 2.5, 5. , 1.9],\n",
       "       [6.5, 3. , 5.2, 2. ],\n",
       "       [6.2, 3.4, 5.4, 2.3],\n",
       "       [5.9, 3. , 5.1, 1.8]])"
      ]
     },
     "execution_count": 9,
     "metadata": {},
     "output_type": "execute_result"
    }
   ],
   "source": [
    "cov_dataset = np.array(dataset[:,[0,1,2,3]], dtype='double')\n",
    "cov_dataset"
   ]
  },
  {
   "cell_type": "markdown",
   "id": "b1e5bd72",
   "metadata": {},
   "source": [
    "### Macierz kowariancji dla zbioru Irisa"
   ]
  },
  {
   "cell_type": "code",
   "execution_count": 10,
   "id": "68260450",
   "metadata": {
    "scrolled": false
   },
   "outputs": [
    {
     "data": {
      "text/plain": [
       "matrix([[ 0.68112222, -0.03900667,  1.26519111,  0.51345778],\n",
       "        [-0.03900667,  0.18675067, -0.319568  , -0.11719467],\n",
       "        [ 1.26519111, -0.319568  ,  3.09242489,  1.28774489],\n",
       "        [ 0.51345778, -0.11719467,  1.28774489,  0.57853156]])"
      ]
     },
     "execution_count": 10,
     "metadata": {},
     "output_type": "execute_result"
    }
   ],
   "source": [
    "cov_matrix = cov_for_dataset(cov_dataset)\n",
    "cov_matrix"
   ]
  },
  {
   "cell_type": "markdown",
   "id": "67a08abb",
   "metadata": {},
   "source": [
    "### Występujące gatunki w zbiorze danych"
   ]
  },
  {
   "cell_type": "code",
   "execution_count": 11,
   "id": "707af897",
   "metadata": {},
   "outputs": [
    {
     "data": {
      "text/plain": [
       "array(['Iris-setosa', 'Iris-versicolor', 'Iris-virginica'], dtype='<U15')"
      ]
     },
     "execution_count": 11,
     "metadata": {},
     "output_type": "execute_result"
    }
   ],
   "source": [
    "species = np.array(list(set(dataset[:,4])))\n",
    "species"
   ]
  },
  {
   "cell_type": "markdown",
   "id": "0356bfc1",
   "metadata": {},
   "source": [
    "### Wartości własne i wektory własne na podstawie macierzy kowariancji"
   ]
  },
  {
   "cell_type": "code",
   "execution_count": 12,
   "id": "070f5e26",
   "metadata": {},
   "outputs": [
    {
     "name": "stdout",
     "output_type": "stream",
     "text": [
      "Wartość własna:\n",
      " [4.1966751631979795, 0.24062861448333192, 0.07800041537352695, 0.0235251402784947]\n",
      "Wektor własny:\n",
      " [[ 0.36158968  0.65653988 -0.58099728  0.31725455]\n",
      " [-0.08226889  0.72971237  0.59641809 -0.32409435]\n",
      " [ 0.85657211 -0.1757674   0.07252408 -0.47971899]\n",
      " [ 0.35884393 -0.07470647  0.54906091  0.75112056]]\n"
     ]
    }
   ],
   "source": [
    "num_iterations = 10000\n",
    "eigenvalues, eigenvectors = eigenvalues_eigenvectors(cov_matrix, num_iterations)\n",
    "\n",
    "print(f\"Wartość własna:\\n {eigenvalues}\")\n",
    "print(f\"Wektor własny:\\n {eigenvectors}\")"
   ]
  },
  {
   "cell_type": "markdown",
   "id": "5689d30d",
   "metadata": {},
   "source": [
    "### Wartości własne i wektory własne wygenerowane przez gotowe narzędzie z biblioteki NumPy w celu sprawdzenia poprawności wyników"
   ]
  },
  {
   "cell_type": "code",
   "execution_count": 13,
   "id": "f04c7701",
   "metadata": {
    "scrolled": true
   },
   "outputs": [
    {
     "data": {
      "text/plain": [
       "(array([4.19667516, 0.24062861, 0.07800042, 0.02352514]),\n",
       " matrix([[ 0.36158968, -0.65653988, -0.58099728,  0.31725455],\n",
       "         [-0.08226889, -0.72971237,  0.59641809, -0.32409435],\n",
       "         [ 0.85657211,  0.1757674 ,  0.07252408, -0.47971899],\n",
       "         [ 0.35884393,  0.07470647,  0.54906091,  0.75112056]]))"
      ]
     },
     "execution_count": 13,
     "metadata": {},
     "output_type": "execute_result"
    }
   ],
   "source": [
    "# porównanie wyników metody zaimplementowanej w domu z gotową z biblioteki NumPy\n",
    "eigenvalues2, eigenvectors2 = np.linalg.eig(cov_matrix)\n",
    "eigenvalues2, eigenvectors2"
   ]
  },
  {
   "cell_type": "markdown",
   "id": "c143f886",
   "metadata": {},
   "source": [
    "### Dla każdego gatunku wyznaczanie macierzy kowariancji, następnie wyznaczanie na jej podstawie wartości własnych i wektorów własnych. Kolejno projekcja pierwszych dwóch parametrów (SepalLengthCm, SepalWidthCm) zbioru danych dla gatunków rozpiętych na dwa pierwsze wektory własne \"badanego\" w danym momencie gatunku."
   ]
  },
  {
   "cell_type": "code",
   "execution_count": 20,
   "id": "fc3900b1",
   "metadata": {},
   "outputs": [
    {
     "name": "stdout",
     "output_type": "stream",
     "text": [
      "Iris-setosa: \n",
      " macierz cov:\n",
      "[[0.121764 0.098292 0.015816 0.010336]\n",
      " [0.098292 0.142276 0.011448 0.011208]\n",
      " [0.015816 0.011448 0.029504 0.005584]\n",
      " [0.010336 0.011208 0.005584 0.011264]] \n",
      "\n",
      " wartości własne: [0.2337492578217779, 0.035534325601655904, 0.026312230196171977, 0.009212186380394142]\n",
      " wektory własne:\n",
      "[[ 0.6662063   0.60592481 -0.43470033 -0.00773998]\n",
      " [ 0.73635931 -0.61961464  0.26584674 -0.05637529]\n",
      " [ 0.09478706  0.49163428  0.83463886 -0.22954109]\n",
      " [ 0.07042406  0.08502085  0.20913895  0.97163409]] \n",
      "\n",
      " dwa pierwsze wektory własne:\n",
      " [[ 0.6662063   0.60592481]\n",
      " [ 0.73635931 -0.61961464]\n",
      " [ 0.09478706  0.49163428]\n",
      " [ 0.07042406  0.08502085]]\n",
      "\n",
      "3\n"
     ]
    },
    {
     "data": {
      "image/png": "[encoded data removed]",
      "text/plain": [
       "<Figure size 640x480 with 1 Axes>"
      ]
     },
     "metadata": {},
     "output_type": "display_data"
    },
    {
     "name": "stdout",
     "output_type": "stream",
     "text": [
      "Iris-versicolor: \n",
      " macierz cov:\n",
      "[[0.261104 0.08348  0.17924  0.054664]\n",
      " [0.08348  0.0965   0.081    0.04038 ]\n",
      " [0.17924  0.081    0.2164   0.07164 ]\n",
      " [0.054664 0.04038  0.07164  0.038324]] \n",
      "\n",
      " wartości własne: [0.4781164652566476, 0.07093641392609654, 0.05368056334125243, 0.009594557476003636]\n",
      " wektory własne:\n",
      "[[ 0.68672376 -0.66908906  0.26508336  0.1022796 ]\n",
      " [ 0.30534703  0.56746531  0.72961786 -0.22891939]\n",
      " [ 0.62366312  0.34332698 -0.62716496 -0.31596679]\n",
      " [ 0.21498369  0.33530513 -0.06366081  0.91504087]] \n",
      "\n",
      " dwa pierwsze wektory własne:\n",
      " [[ 0.68672376 -0.66908906]\n",
      " [ 0.30534703  0.56746531]\n",
      " [ 0.62366312  0.34332698]\n",
      " [ 0.21498369  0.33530513]]\n",
      "\n",
      "3\n"
     ]
    },
    {
     "data": {
      "image/png": "[encoded data removed]",
      "text/plain": [
       "<Figure size 640x480 with 1 Axes>"
      ]
     },
     "metadata": {},
     "output_type": "display_data"
    },
    {
     "name": "stdout",
     "output_type": "stream",
     "text": [
      "Iris-virginica: \n",
      " macierz cov:\n",
      "[[0.396256 0.091888 0.297224 0.048112]\n",
      " [0.091888 0.101924 0.069952 0.046676]\n",
      " [0.297224 0.069952 0.298496 0.047848]\n",
      " [0.048112 0.046676 0.047848 0.073924]] \n",
      "\n",
      " wartości własne: [0.6813497414608959, 0.10442020142375677, 0.05124951922482228, 0.03358053789052519]\n",
      " wektory własne:\n",
      "[[ 0.74101679 -0.16525895 -0.53445017  0.37141165]\n",
      " [ 0.20328772  0.74864279 -0.3253749  -0.54068405]\n",
      " [ 0.62789179 -0.16942776  0.65152357 -0.39059336]\n",
      " [ 0.12377451  0.61928804  0.4289653   0.64587225]] \n",
      "\n",
      " dwa pierwsze wektory własne:\n",
      " [[ 0.74101679 -0.16525895]\n",
      " [ 0.20328772  0.74864279]\n",
      " [ 0.62789179 -0.16942776]\n",
      " [ 0.12377451  0.61928804]]\n",
      "\n",
      "3\n"
     ]
    },
    {
     "data": {
      "image/png": "[encoded data removed]",
      "text/plain": [
       "<Figure size 640x480 with 1 Axes>"
      ]
     },
     "metadata": {},
     "output_type": "display_data"
    }
   ],
   "source": [
    "# dla każdego gatunku\n",
    "for s in species:\n",
    "    current_datasets = [] # lista w której będą zbiory do rysowania\n",
    "    current_species_dataset = df[df['Species'].str.contains(s)].to_numpy() # wybieranie danych tylko dla badanego gatunku\n",
    "    current_species_dataset = current_species_dataset[:, [0, 1, 2, 3]] # wybranie parametrów ze zbioru danych\n",
    "    \n",
    "    num_iterations = 10000 # ustalenie liczby iteracji\n",
    "    current_cov_matrix = cov_for_dataset(current_species_dataset) # macierz kowariancji dla głównego w tym momencie gatunku\n",
    "    # wartości własne i wektory własne dla badanego gatunku\n",
    "    current_eigenvalues, current_eigenvectors = eigenvalues_eigenvectors(current_cov_matrix,num_iterations)\n",
    "    print(f'{s}: \\n macierz cov:\\n{current_cov_matrix} \\n\\n wartości własne: {current_eigenvalues}\\n wektory własne:\\n{current_eigenvectors} \\n\\n dwa pierwsze wektory własne:\\n {current_eigenvectors[:,:2]}\\n')\n",
    "    projection = current_species_dataset * current_eigenvectors[:,:2] # projekcja zbioru danych rozpiętego na dwa pierwsze wektory własne\n",
    "    current_datasets.append((s,projection)) # dodanie do listy do rysowania\n",
    "    \n",
    "    other_species = species[species!=s] # wyznaczenie zbioru gatunków które nie są aktualnym badanym\n",
    "    # dla każdego gatunku który nie jest aktualnie badanym / nie jest głównym w danej iteracji\n",
    "    for os in other_species:\n",
    "        other_species_dataset = df[df['Species'].str.contains(os)].to_numpy() # wybieranie danych tylko dla niegłównego gatunku\n",
    "        other_species_dataset = other_species_dataset[:, [0, 1, 2, 3]] # wybranie parametrów ze zbioru danych\n",
    "        \n",
    "        # projekcja zbioru danych dla gatunku innego niż główny w danej iteracji, rozpiętego na dwa pierwsze wektory własne\n",
    "        other_projection = other_species_dataset * current_eigenvectors[:,:2] \n",
    "        current_datasets.append((os,other_projection)) # dodanie do listy do rysowania\n",
    "        \n",
    "    draw_plot(current_datasets) # rysowanie projekcji"
   ]
  }
 ],
 "metadata": {
  "kernelspec": {
   "display_name": "Python 3 (ipykernel)",
   "language": "python",
   "name": "python3"
  },
  "language_info": {
   "codemirror_mode": {
    "name": "ipython",
    "version": 3
   },
   "file_extension": ".py",
   "mimetype": "text/x-python",
   "name": "python",
   "nbconvert_exporter": "python",
   "pygments_lexer": "ipython3",
   "version": "3.11.5"
  }
 },
 "nbformat": 4,
 "nbformat_minor": 5
}
