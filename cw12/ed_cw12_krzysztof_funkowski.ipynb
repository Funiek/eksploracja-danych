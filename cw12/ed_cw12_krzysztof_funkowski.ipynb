{
 "cells": [
  {
   "cell_type": "markdown",
   "id": "acf72b58",
   "metadata": {},
   "source": [
    "# Zadanie 7 Pracownia Specjalistyczna - Eksploracja danych\n",
    "### Krzysztof Funkowski"
   ]
  },
  {
   "cell_type": "code",
   "execution_count": 1,
   "id": "6a99b8f6",
   "metadata": {},
   "outputs": [],
   "source": [
    "from math import *\n",
    "import random\n",
    "import numpy as np\n",
    "import matplotlib.pyplot as plt\n",
    "import pandas as pd\n",
    "import copy\n",
    "from matplotlib.colors import LinearSegmentedColormap"
   ]
  },
  {
   "cell_type": "markdown",
   "id": "0784e846",
   "metadata": {},
   "source": [
    "# Zadanie 7\n",
    "- Konstrukcja reguł klasyfikacji na podstawie dwóch wielowymiarowych zbiorów\n",
    "danych wygenerowanych zgodnie z modelem o tych samych i różnych macierzach\n",
    "kowariancji.\n",
    "- Porównanie modelu budowanego na podstawie zbiorów danych z modelem\n",
    "bayesowskim opartym na znanych rozkładach normalnych.\n",
    "- Ocena modeli za pomocą krzywych ROC.\n",
    "- Przypadek dwóch i trzech klas."
   ]
  },
  {
   "cell_type": "markdown",
   "id": "46cd1b10",
   "metadata": {},
   "source": [
    "### Funkcja do generowania zbioru danych na podstawie wielowymiarowego rozkładu normalnego"
   ]
  },
  {
   "cell_type": "code",
   "execution_count": 2,
   "id": "f3b1b15d",
   "metadata": {},
   "outputs": [],
   "source": [
    "def generate_dataset_norm(N):\n",
    "    return np.column_stack((np.random.normal(0, 0.3, N), np.random.normal(0, 0.3, N)))"
   ]
  },
  {
   "cell_type": "markdown",
   "id": "533e69de",
   "metadata": {},
   "source": [
    "### Funkcja do generowania zbioru danych wybierając dane z przedziału (0,1)\n",
    "Wychodzi zbiór który na wykresie przyjmuje formę kwadratu"
   ]
  },
  {
   "cell_type": "code",
   "execution_count": 3,
   "id": "de6ab9e5",
   "metadata": {},
   "outputs": [],
   "source": [
    "def generate_dataset_rand(N):\n",
    "    dataset = []\n",
    "    for _ in range(N):\n",
    "        dataset.append([random.random(), random.random()])\n",
    "        \n",
    "    return dataset"
   ]
  },
  {
   "cell_type": "markdown",
   "id": "e219865f",
   "metadata": {},
   "source": [
    "### Funkcja do rotacji zbiorem danych na podstawie podanego kątu"
   ]
  },
  {
   "cell_type": "code",
   "execution_count": 4,
   "id": "f4248ea3",
   "metadata": {},
   "outputs": [],
   "source": [
    "def rotate(phi):\n",
    "    rad = np.radians(phi)\n",
    "    rotation_arr = np.array([[np.cos(rad), np.sin(rad)],\n",
    "                             [-np.sin(rad), np.cos(rad)]])\n",
    "    return rotation_arr"
   ]
  },
  {
   "cell_type": "markdown",
   "id": "cdcd7dcb",
   "metadata": {},
   "source": [
    "### Funkcja do rozciągania zbioru danych"
   ]
  },
  {
   "cell_type": "code",
   "execution_count": 5,
   "id": "fd46efe4",
   "metadata": {},
   "outputs": [],
   "source": [
    "def stretch(x, y):\n",
    "    stretch_arr = np.array([[x, 0],\n",
    "                            [0, y]])\n",
    "    return stretch_arr"
   ]
  },
  {
   "cell_type": "markdown",
   "id": "f3f47244",
   "metadata": {},
   "source": [
    "### Funkcja do transformacji zbioru danych"
   ]
  },
  {
   "cell_type": "code",
   "execution_count": 6,
   "id": "dd6e6fb8",
   "metadata": {},
   "outputs": [],
   "source": [
    "def perform_transformation(dataset, rotation_angle, x, y):\n",
    "    result_dataset = copy.deepcopy(dataset)\n",
    "    \n",
    "    stretching = stretch(x, y)\n",
    "    result_dataset = np.dot(result_dataset, stretching)\n",
    "    \n",
    "    rotation = rotate(rotation_angle)\n",
    "    result_dataset = np.dot(result_dataset, rotation)\n",
    "    \n",
    "    return result_dataset"
   ]
  },
  {
   "cell_type": "markdown",
   "id": "2589cea7",
   "metadata": {},
   "source": [
    "### Funkcja służąca do obliczania kowariancji dla dwóch wektorów"
   ]
  },
  {
   "cell_type": "code",
   "execution_count": 7,
   "id": "42536e67",
   "metadata": {},
   "outputs": [],
   "source": [
    "def cov(x, y, x_avg, y_avg):\n",
    "    elements_count = len(x) # ilość elementów w tablicy\n",
    "    elements_sum = 0\n",
    "    \n",
    "    for x,y in zip(x,y):\n",
    "        elements_sum = elements_sum + ((x - x_avg)*(y - y_avg)) # sumowanie (x - średnia_arytmetyczna_x) * (y - średnia_arytmetyczna_y)\n",
    "    \n",
    "    return elements_sum / (elements_count-1)  # suma dzielona przez liczbę elementów"
   ]
  },
  {
   "cell_type": "markdown",
   "id": "e69a67b9",
   "metadata": {},
   "source": [
    "### Funkcja obliczająca macierz kowariancji dla zbioru danych"
   ]
  },
  {
   "cell_type": "code",
   "execution_count": 8,
   "id": "5330fc33",
   "metadata": {},
   "outputs": [],
   "source": [
    "def cov_for_dataset(cov_dataset):\n",
    "    avgs = []\n",
    "    matrix_shape = cov_dataset.shape[1] # wymiary_macierzy czyli liczba_kolumn_bioru_danych x liczba_kolumn_bioru_danych\n",
    "    for i in range(matrix_shape):\n",
    "        avgs.append(cov_dataset[:,i].mean()) # obliczanie średnich dla każdego parametru\n",
    "    \n",
    "    matrix = []\n",
    "    for i in range(matrix_shape):\n",
    "        matrix_row = []\n",
    "        for j in range(matrix_shape):\n",
    "            #matrix_shape*i + j\n",
    "            res = cov(cov_dataset[:,i],cov_dataset[:,j],avgs[i], avgs[j]) # wyznaczanie kowariancji dla każdej pary parametrów\n",
    "            matrix_row.append(res) # budowanie wiersza macierzy\n",
    "        matrix.append(matrix_row) # dodawanie wiersza macierzy do tablicy bazowej\n",
    "    \n",
    "    return np.matrix(matrix) # przekształcanie typu tablicy na macierz"
   ]
  },
  {
   "cell_type": "markdown",
   "id": "790f7476",
   "metadata": {},
   "source": [
    "### Funkcja do obliczania długości wektora własnego"
   ]
  },
  {
   "cell_type": "code",
   "execution_count": 9,
   "id": "8443361f",
   "metadata": {},
   "outputs": [],
   "source": [
    "def eigenvector_len(v1):\n",
    "    dims = v1.shape[0] # ilość elementów wektora\n",
    "    length = 0\n",
    "    \n",
    "    for i in range(dims):\n",
    "        val = v1[i].ravel().tolist()[0][0]\n",
    "        length = length + pow(val,2) # sumowanie elementów podniesionych do kwadratu\n",
    "        \n",
    "    \n",
    "    length = sqrt(length) # pierwiastkowanie wyniku sumy elementów wektora podniesionych do kwadratów\n",
    "    \n",
    "    return length # zwracanie długości"
   ]
  },
  {
   "cell_type": "markdown",
   "id": "bbd54a53",
   "metadata": {},
   "source": [
    "### Funkcja normalizująca, zwracająca wartość własną i wektor własny"
   ]
  },
  {
   "cell_type": "code",
   "execution_count": 10,
   "id": "cb168445",
   "metadata": {},
   "outputs": [],
   "source": [
    "def eigenvector_normalization(v1):\n",
    "    eigenvalue = eigenvector_len(v1) # wylicznaie wartości własnej\n",
    "    eigenvector = v1 / eigenvalue # wyliczanie wektora własnego\n",
    "    \n",
    "    return eigenvalue, eigenvector # zwrócenie wartości własnej i wektora własnego"
   ]
  },
  {
   "cell_type": "markdown",
   "id": "260e37b0",
   "metadata": {},
   "source": [
    "### Pomocnicza funkcja zmieniająca tablicę wektorów własnych w odpowiednią formę macierzy"
   ]
  },
  {
   "cell_type": "code",
   "execution_count": 11,
   "id": "553fe93a",
   "metadata": {},
   "outputs": [],
   "source": [
    "def rearrange_matrix(eigenvectors):\n",
    "    res = []\n",
    "\n",
    "    for i in range(len(eigenvectors)):\n",
    "        row = eigenvectors[i].ravel().tolist()[0]\n",
    "        res.append(row)\n",
    "\n",
    "    return np.matrix(res).T"
   ]
  },
  {
   "cell_type": "markdown",
   "id": "ba2064d7",
   "metadata": {},
   "source": [
    "### Funkcja odpowiadająca za obliczanie wartości własnych i wektorów własnych"
   ]
  },
  {
   "cell_type": "code",
   "execution_count": 12,
   "id": "e44591c4",
   "metadata": {},
   "outputs": [],
   "source": [
    "def eigenvalues_eigenvectors(matrix, num_iterations):\n",
    "    n = matrix.shape[0] # jeden z wymiarów macierzy, ponieważ jest kwadratowa to wystarczy tylko jeden\n",
    "    eigenvalues = [] # lista na wartości własne\n",
    "    eigenvectors = [] # lista na wektory własne\n",
    "    \n",
    "    for i in range(n):\n",
    "        # losowe dane wektora na początku\n",
    "        eigenvector = np.random.rand(n,1)\n",
    "    \n",
    "        # algorytm iteracyjny wykonywany num_iterations razy\n",
    "        for _ in range(num_iterations):\n",
    "            eigenvector = np.dot(matrix, eigenvector) # mnożenie macierzy kowariancji przez wektor \n",
    "            eigenvalue, eigenvector = eigenvector_normalization(eigenvector) # normalizacja wektora\n",
    "            \n",
    "        # usuwanie z macierzy znalezionej wartości własnej i wektora własnego\n",
    "        # marix - wartość własna * iloczyn zewnętrzny wektora własnego\n",
    "        matrix = matrix - eigenvalue * np.multiply(eigenvector,eigenvector.T).T \n",
    "        \n",
    "        eigenvalues.append(eigenvalue) # dodanie znalezionej wartości własnej do listy\n",
    "        eigenvectors.append(eigenvector) # dodanie znalezionego wektora własnego do listy\n",
    "        \n",
    "        \n",
    "        \n",
    "    return eigenvalues, rearrange_matrix(eigenvectors) # zwrócenie wartości własnych i wektorów własnych"
   ]
  },
  {
   "cell_type": "markdown",
   "id": "6a17a46a",
   "metadata": {},
   "source": [
    "### Funkcja przeprowadzająca operacje wybielania na zbiorze danych"
   ]
  },
  {
   "cell_type": "code",
   "execution_count": 13,
   "id": "1ff73ed0",
   "metadata": {},
   "outputs": [],
   "source": [
    "def whitening(dataset):\n",
    "    cov_matrix = cov_for_dataset(dataset)\n",
    "    \n",
    "    num_iterations = 10000\n",
    "    eigenvalues, eigenvectors = eigenvalues_eigenvectors(cov_matrix, num_iterations)\n",
    "    K = eigenvectors\n",
    "    \n",
    "    A = np.identity(2) * eigenvalues\n",
    "    A = np.linalg.inv(np.identity(2) * np.sqrt(eigenvalues)) # INV(I * wartości_własne)\n",
    "    \n",
    "    new_dataset = (A * K * np.array(dataset, dtype='double').T).T\n",
    "    new_dataset = np.array(new_dataset)\n",
    "\n",
    "    return new_dataset"
   ]
  },
  {
   "cell_type": "markdown",
   "id": "80f0b248",
   "metadata": {},
   "source": [
    "### Funkcja dyskryminacyjna"
   ]
  },
  {
   "cell_type": "code",
   "execution_count": 14,
   "id": "3229fdd1",
   "metadata": {},
   "outputs": [],
   "source": [
    "def discriminant_function(matrix, x):\n",
    "    means = []\n",
    "    \n",
    "    for col_idx in range(matrix.shape[1]):\n",
    "        means.append(matrix[:,[col_idx]].mean())\n",
    "    \n",
    "    matrix_cov = cov_for_dataset(matrix)\n",
    "    \n",
    "    d = x - np.array(means)\n",
    "    \n",
    "    det_cov = np.linalg.det(matrix_cov)\n",
    "    inv_cov = np.linalg.inv(matrix_cov)\n",
    "    res = -0.5 * np.log(det_cov) - np.dot(np.dot(d.T, inv_cov), d)\n",
    "    \n",
    "    return res[0,0]"
   ]
  },
  {
   "cell_type": "markdown",
   "id": "5e857156",
   "metadata": {},
   "source": [
    "### Funkcja wyliczająca prawdopodobieństwo wylosowania z jednej z klas"
   ]
  },
  {
   "cell_type": "code",
   "execution_count": 15,
   "id": "0546975c",
   "metadata": {},
   "outputs": [],
   "source": [
    "def probability_func(matrix1, matrix2):\n",
    "    a = matrix1.shape[0]\n",
    "    b = matrix2.shape[0]\n",
    "    \n",
    "    return [a / (a + b), b / (a + b)]"
   ]
  },
  {
   "cell_type": "markdown",
   "id": "4a6eb90a",
   "metadata": {},
   "source": [
    "### Przypisanie do wybranej klasy z 2 klas"
   ]
  },
  {
   "cell_type": "code",
   "execution_count": 16,
   "id": "3973e471",
   "metadata": {},
   "outputs": [],
   "source": [
    "def assign_class(matrix1, matrix2, x, y):\n",
    "    p = [x, y]\n",
    "    \n",
    "    probability = probability_func(matrix1, matrix2)\n",
    "    \n",
    "    matrix1_probability = probability[0]\n",
    "    matrix2_probability = probability[1]\n",
    "    \n",
    "    ca = discriminant_function(matrix1, p)\n",
    "    cb = discriminant_function(matrix2, p)\n",
    "    \n",
    "    a = np.log(matrix1_probability) + ca\n",
    "    b = np.log(matrix2_probability) + cb\n",
    "\n",
    "    return [a, b]"
   ]
  },
  {
   "cell_type": "markdown",
   "id": "49959daf",
   "metadata": {},
   "source": [
    "### Wybór koloru do mapy cieplnej reprezentującej podział z dwóch klas"
   ]
  },
  {
   "cell_type": "code",
   "execution_count": 17,
   "id": "f7c9cbf2",
   "metadata": {},
   "outputs": [],
   "source": [
    "def assign_color(matrix1, matrix2, x, y):\n",
    "    res = assign_class(matrix1, matrix2, x, y)\n",
    "    a = res[0]\n",
    "    b = res[1]\n",
    "    \n",
    "    if a > b:\n",
    "        return 0\n",
    "    elif a == b:\n",
    "        return 0.5\n",
    "    else:\n",
    "        return 1"
   ]
  },
  {
   "cell_type": "markdown",
   "id": "6606d624",
   "metadata": {},
   "source": [
    "### Przypisanie do wybranej klasy z 3 klas"
   ]
  },
  {
   "cell_type": "code",
   "execution_count": 18,
   "id": "c14c8d82",
   "metadata": {},
   "outputs": [],
   "source": [
    "def assign_class_3_classes(matrix1, matrix2, matrix3, x, y):\n",
    "    p = [x, y]\n",
    "    \n",
    "    ca = discriminant_function(matrix1, p)\n",
    "    cb = discriminant_function(matrix2, p)\n",
    "    cc = discriminant_function(matrix3, p)\n",
    "\n",
    "    return [ca, cb, cc]"
   ]
  },
  {
   "cell_type": "markdown",
   "id": "83392844",
   "metadata": {},
   "source": [
    "### Wybór koloru do mapy cieplnej reprezentującej podział z trzech klas"
   ]
  },
  {
   "cell_type": "code",
   "execution_count": 19,
   "id": "558f8216",
   "metadata": {},
   "outputs": [],
   "source": [
    "def assign_color_3_classes(matrix1, matrix2, matrix3, x, y):\n",
    "    res = assign_class_3_classes(matrix1, matrix2, matrix3, x, y)\n",
    "    a = res[0]\n",
    "    b = res[1]\n",
    "    c = res[2]\n",
    "    \n",
    "    if a > b and a > c:\n",
    "        return 0.1\n",
    "    elif b > a and b > c:\n",
    "        return 0.5\n",
    "    elif c > a and c > b:\n",
    "        return 1"
   ]
  },
  {
   "cell_type": "markdown",
   "id": "5e7456a5",
   "metadata": {},
   "source": [
    "### Zbiory z wykładu do wygenerowania\n",
    "\n",
    "![title](zbiory.PNG)"
   ]
  },
  {
   "cell_type": "markdown",
   "id": "bdf67c6a",
   "metadata": {},
   "source": [
    "### Ustawienie zakresu generowania mapy"
   ]
  },
  {
   "cell_type": "code",
   "execution_count": 26,
   "id": "5796de5b",
   "metadata": {},
   "outputs": [],
   "source": [
    "STEP = 0.1\n",
    "rangex = np.arange(-30, 30 + STEP, STEP)\n",
    "rangey = rangex"
   ]
  },
  {
   "cell_type": "markdown",
   "id": "5394cd7e",
   "metadata": {},
   "source": [
    "### Obrazek 1 - CIRCLE"
   ]
  },
  {
   "cell_type": "code",
   "execution_count": 27,
   "id": "cec7c13c",
   "metadata": {
    "scrolled": true
   },
   "outputs": [
    {
     "name": "stdout",
     "output_type": "stream",
     "text": [
      "Macierz kowariancji zbioru 1: \n",
      "[[0.80521063 0.04002649]\n",
      " [0.04002649 0.71884159]]\n",
      "\n",
      "Macierz kowariancji zbioru 2: \n",
      "[[ 0.0924729  -0.00096731]\n",
      " [-0.00096731  0.08651494]]\n",
      "\n",
      "(601, 601)\n"
     ]
    },
    {
     "data": {
      "image/png": "[encoded data removed]",
      "text/plain": [
       "<Figure size 640x480 with 1 Axes>"
      ]
     },
     "metadata": {},
     "output_type": "display_data"
    }
   ],
   "source": [
    "dataset1 = np.array(generate_dataset_norm(100))\n",
    "dataset2 = np.array(generate_dataset_norm(100))\n",
    "#w1 = whitening(dataset1)\n",
    "#w2 = whitening(dataset2)\n",
    "t1 = perform_transformation(dataset1, 0, 3, 3) - [10, 0]\n",
    "t2 = perform_transformation(dataset2, 0, 1, 1) + [10, 0]\n",
    "\n",
    "print(f'Macierz kowariancji zbioru 1: \\n{cov_for_dataset(t1)}\\n')\n",
    "print(f'Macierz kowariancji zbioru 2: \\n{cov_for_dataset(t2)}\\n')\n",
    "\n",
    "heatmap_data = np.array([[assign_color(t1, t2, x, y) for y in rangey] for x in rangex]).T\n",
    "print(heatmap_data.shape)\n",
    "\n",
    "plt.imshow(heatmap_data, cmap=\"viridis\", interpolation=\"nearest\", origin='lower', extent=[rangex.min(), rangex.max(), rangey.min(), rangey.max()])\n",
    "plt.scatter(t1[:,[0]], t1[:,[1]], color='red', marker='o')\n",
    "plt.scatter(t2[:,[0]], t2[:,[1]], color='green', marker='x')\n",
    "plt.title('Kategoryzacja dwóch klas')\n",
    "plt.show()"
   ]
  },
  {
   "cell_type": "markdown",
   "id": "83482d0a",
   "metadata": {},
   "source": [
    "### Obrazek 2 - ELLIPSE"
   ]
  },
  {
   "cell_type": "code",
   "execution_count": 35,
   "id": "52aca748",
   "metadata": {},
   "outputs": [
    {
     "name": "stdout",
     "output_type": "stream",
     "text": [
      "Macierz kowariancji zbioru 1: \n",
      "[[0.39582705 0.40953192]\n",
      " [0.40953192 9.56896134]]\n",
      "\n",
      "Macierz kowariancji zbioru 2: \n",
      "[[0.08855455 0.00201391]\n",
      " [0.00201391 0.34981253]]\n",
      "\n",
      "(601, 601)\n"
     ]
    },
    {
     "data": {
      "image/png": "[encoded data removed]",
      "text/plain": [
       "<Figure size 640x480 with 1 Axes>"
      ]
     },
     "metadata": {},
     "output_type": "display_data"
    }
   ],
   "source": [
    "dataset1 = np.array(generate_dataset_norm(100))\n",
    "dataset2 = np.array(generate_dataset_norm(100))\n",
    "w1 = whitening(dataset1)\n",
    "w2 = whitening(dataset2)\n",
    "t1 = perform_transformation(w1, 0, 2, 10) - [10, 0]\n",
    "t2 = perform_transformation(w2, 0, 1, 2) + [6, 0]\n",
    "\n",
    "print(f'Macierz kowariancji zbioru 1: \\n{cov_for_dataset(t1)}\\n')\n",
    "print(f'Macierz kowariancji zbioru 2: \\n{cov_for_dataset(t2)}\\n')\n",
    "\n",
    "heatmap_data = np.array([[assign_color(t1, t2, x, y) for y in rangey] for x in rangex]).T\n",
    "print(heatmap_data.shape)\n",
    "\n",
    "plt.imshow(heatmap_data, cmap=\"viridis\", interpolation=\"nearest\", origin='lower', extent=[rangex.min(), rangex.max(), rangey.min(), rangey.max()])\n",
    "plt.scatter(t1[:,[0]], t1[:,[1]], color='red', marker='o')\n",
    "plt.scatter(t2[:,[0]], t2[:,[1]], color='green', marker='x')\n",
    "plt.title('Kategoryzacja dwóch klas')\n",
    "plt.show()"
   ]
  },
  {
   "cell_type": "markdown",
   "id": "60ee5557",
   "metadata": {},
   "source": [
    "### Obrazek 3 - PARABOLA"
   ]
  },
  {
   "cell_type": "code",
   "execution_count": 56,
   "id": "bd0d3e7c",
   "metadata": {},
   "outputs": [
    {
     "name": "stdout",
     "output_type": "stream",
     "text": [
      "Macierz kowariancji zbioru 1: \n",
      "[[1.00000000e+00 8.79206921e-16]\n",
      " [8.79206921e-16 1.60000000e+01]]\n",
      "\n",
      "Macierz kowariancji zbioru 2: \n",
      "[[1.00000000e+00 2.69144976e-17]\n",
      " [2.69144976e-17 1.00000000e+00]]\n",
      "\n",
      "(601, 601)\n"
     ]
    },
    {
     "data": {
      "image/png": "[encoded data removed]",
      "text/plain": [
       "<Figure size 640x480 with 1 Axes>"
      ]
     },
     "metadata": {},
     "output_type": "display_data"
    }
   ],
   "source": [
    "dataset1 = np.array(generate_dataset_norm(100))\n",
    "dataset2 = np.array(generate_dataset_norm(100))\n",
    "w1 = whitening(dataset1)\n",
    "w2 = whitening(dataset2)\n",
    "t1 = perform_transformation(w1, 0, 1, 4) - [10, 0]\n",
    "t2 = perform_transformation(w2, 0, 1, 1) + [10, 0]\n",
    "\n",
    "print(f'Macierz kowariancji zbioru 1: \\n{cov_for_dataset(t1)}\\n')\n",
    "print(f'Macierz kowariancji zbioru 2: \\n{cov_for_dataset(t2)}\\n')\n",
    "\n",
    "heatmap_data = np.array([[assign_color(t1, t2, x, y) for y in rangey] for x in rangex]).T\n",
    "print(heatmap_data.shape)\n",
    "\n",
    "plt.imshow(heatmap_data, cmap=\"viridis\", interpolation=\"nearest\", origin='lower', extent=[rangex.min(), rangex.max(), rangey.min(), rangey.max()])\n",
    "plt.scatter(t1[:,[0]], t1[:,[1]], color='red', marker='o')\n",
    "plt.scatter(t2[:,[0]], t2[:,[1]], color='green', marker='x')\n",
    "plt.title('Kategoryzacja dwóch klas')\n",
    "plt.show()"
   ]
  },
  {
   "cell_type": "markdown",
   "id": "9ffd6a11",
   "metadata": {},
   "source": [
    "### Obrazek 4 - HYPERBOLA"
   ]
  },
  {
   "cell_type": "code",
   "execution_count": 60,
   "id": "d41fcff5",
   "metadata": {},
   "outputs": [
    {
     "name": "stdout",
     "output_type": "stream",
     "text": [
      "Macierz kowariancji zbioru 1: \n",
      "[[1.00000000e+00 8.97149919e-17]\n",
      " [8.97149919e-17 1.60000000e+01]]\n",
      "\n",
      "Macierz kowariancji zbioru 2: \n",
      "[[ 1.60000000e+01 -1.62608423e-16]\n",
      " [-1.62608423e-16  1.00000000e+00]]\n",
      "\n",
      "(601, 601)\n"
     ]
    },
    {
     "data": {
      "image/png": "[encoded data removed]",
      "text/plain": [
       "<Figure size 640x480 with 1 Axes>"
      ]
     },
     "metadata": {},
     "output_type": "display_data"
    }
   ],
   "source": [
    "dataset1 = np.array(generate_dataset_norm(100))\n",
    "dataset2 = np.array(generate_dataset_norm(100))\n",
    "w1 = whitening(dataset1)\n",
    "w2 = whitening(dataset2)\n",
    "t1 = perform_transformation(w1, 0, 1, 4)\n",
    "t2 = perform_transformation(w2, 0, 4, 1) + [15, 0]\n",
    "\n",
    "print(f'Macierz kowariancji zbioru 1: \\n{cov_for_dataset(t1)}\\n')\n",
    "print(f'Macierz kowariancji zbioru 2: \\n{cov_for_dataset(t2)}\\n')\n",
    "\n",
    "heatmap_data = np.array([[assign_color(t1, t2, x, y) for y in rangey] for x in rangex]).T\n",
    "print(heatmap_data.shape)\n",
    "\n",
    "plt.imshow(heatmap_data, cmap=\"viridis\", interpolation=\"nearest\", origin='lower', extent=[rangex.min(), rangex.max(), rangey.min(), rangey.max()])\n",
    "plt.scatter(t1[:,[0]], t1[:,[1]], color='red', marker='o')\n",
    "plt.scatter(t2[:,[0]], t2[:,[1]], color='green', marker='x')\n",
    "plt.title('Kategoryzacja dwóch klas')\n",
    "plt.show()"
   ]
  },
  {
   "cell_type": "markdown",
   "id": "88e258d5",
   "metadata": {},
   "source": [
    "### Obrazek 5 - STRAIGHT LINES"
   ]
  },
  {
   "cell_type": "code",
   "execution_count": 74,
   "id": "802aad3f",
   "metadata": {},
   "outputs": [
    {
     "name": "stdout",
     "output_type": "stream",
     "text": [
      "Macierz kowariancji zbioru 1: \n",
      "[[ 1.00000000e+00 -1.33338907e-15]\n",
      " [-1.33338907e-15  2.50000000e+01]]\n",
      "\n",
      "Macierz kowariancji zbioru 2: \n",
      "[[ 2.5000000e+01 -1.1214374e-16]\n",
      " [-1.1214374e-16  1.0000000e+00]]\n",
      "\n",
      "(601, 601)\n"
     ]
    },
    {
     "data": {
      "image/png": "[encoded data removed]",
      "text/plain": [
       "<Figure size 640x480 with 1 Axes>"
      ]
     },
     "metadata": {},
     "output_type": "display_data"
    }
   ],
   "source": [
    "dataset1 = np.array(generate_dataset_norm(100))\n",
    "dataset2 = np.array(generate_dataset_norm(100))\n",
    "w1 = whitening(dataset1)\n",
    "w2 = whitening(dataset2)\n",
    "t1 = perform_transformation(w1, 0, 1, 5) + [0, 16]\n",
    "t2 = perform_transformation(w2, 0, 5, 1) + [16, 0]\n",
    "\n",
    "print(f'Macierz kowariancji zbioru 1: \\n{cov_for_dataset(t1)}\\n')\n",
    "print(f'Macierz kowariancji zbioru 2: \\n{cov_for_dataset(t2)}\\n')\n",
    "\n",
    "heatmap_data = np.array([[assign_color(t1, t2, x, y) for y in rangey] for x in rangex]).T\n",
    "print(heatmap_data.shape)\n",
    "\n",
    "plt.imshow(heatmap_data, cmap=\"viridis\", interpolation=\"nearest\", origin='lower', extent=[rangex.min(), rangex.max(), rangey.min(), rangey.max()])\n",
    "plt.scatter(t1[:,[0]], t1[:,[1]], color='red', marker='o')\n",
    "plt.scatter(t2[:,[0]], t2[:,[1]], color='green', marker='x')\n",
    "plt.title('Kategoryzacja dwóch klas')\n",
    "plt.show()"
   ]
  },
  {
   "cell_type": "markdown",
   "id": "d2c9726d",
   "metadata": {},
   "source": [
    "### Wnioski\n",
    "\n",
    "Udało się przetestować działanie reguły decyzyjnej na przedstawionych w wykładzie przypadkach."
   ]
  }
 ],
 "metadata": {
  "kernelspec": {
   "display_name": "Python 3 (ipykernel)",
   "language": "python",
   "name": "python3"
  },
  "language_info": {
   "codemirror_mode": {
    "name": "ipython",
    "version": 3
   },
   "file_extension": ".py",
   "mimetype": "text/x-python",
   "name": "python",
   "nbconvert_exporter": "python",
   "pygments_lexer": "ipython3",
   "version": "3.11.5"
  }
 },
 "nbformat": 4,
 "nbformat_minor": 5
}
