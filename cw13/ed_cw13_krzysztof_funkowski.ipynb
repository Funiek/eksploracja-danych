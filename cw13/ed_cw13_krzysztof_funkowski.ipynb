{
 "cells": [
  {
   "cell_type": "markdown",
   "id": "acf72b58",
   "metadata": {},
   "source": [
    "# Zadanie 13 Pracownia Specjalistyczna - Eksploracja danych\n",
    "### Krzysztof Funkowski"
   ]
  },
  {
   "cell_type": "code",
   "execution_count": 4,
   "id": "6a99b8f6",
   "metadata": {},
   "outputs": [],
   "source": [
    "from math import *\n",
    "import random\n",
    "import numpy as np\n",
    "import matplotlib.pyplot as plt\n",
    "import pandas as pd\n",
    "import copy\n",
    "from matplotlib.colors import LinearSegmentedColormap"
   ]
  },
  {
   "cell_type": "markdown",
   "id": "0784e846",
   "metadata": {},
   "source": [
    "# Zadanie 13\n",
    "- Implementacja klasycznego algorytmu korekcji błędów i jego modyfikacji.\n",
    "- Wizualizacja efektu zbieżności w skończonej liczbie kroków na przykładzie zbioru\n",
    "danych Iris"
   ]
  },
  {
   "cell_type": "markdown",
   "id": "76370d80",
   "metadata": {},
   "source": [
    "### Wczytanie zbioru Iris"
   ]
  },
  {
   "cell_type": "code",
   "execution_count": 17,
   "id": "ce7b522a",
   "metadata": {
    "scrolled": true
   },
   "outputs": [
    {
     "data": {
      "text/html": [
       "<div>\n",
       "<style scoped>\n",
       "    .dataframe tbody tr th:only-of-type {\n",
       "        vertical-align: middle;\n",
       "    }\n",
       "\n",
       "    .dataframe tbody tr th {\n",
       "        vertical-align: top;\n",
       "    }\n",
       "\n",
       "    .dataframe thead th {\n",
       "        text-align: right;\n",
       "    }\n",
       "</style>\n",
       "<table border=\"1\" class=\"dataframe\">\n",
       "  <thead>\n",
       "    <tr style=\"text-align: right;\">\n",
       "      <th></th>\n",
       "      <th>SepalLengthCm</th>\n",
       "      <th>SepalWidthCm</th>\n",
       "      <th>PetalLengthCm</th>\n",
       "      <th>PetalWidthCm</th>\n",
       "      <th>Species</th>\n",
       "    </tr>\n",
       "    <tr>\n",
       "      <th>Id</th>\n",
       "      <th></th>\n",
       "      <th></th>\n",
       "      <th></th>\n",
       "      <th></th>\n",
       "      <th></th>\n",
       "    </tr>\n",
       "  </thead>\n",
       "  <tbody>\n",
       "    <tr>\n",
       "      <th>1</th>\n",
       "      <td>5.1</td>\n",
       "      <td>3.5</td>\n",
       "      <td>1.4</td>\n",
       "      <td>0.2</td>\n",
       "      <td>Iris-setosa</td>\n",
       "    </tr>\n",
       "    <tr>\n",
       "      <th>2</th>\n",
       "      <td>4.9</td>\n",
       "      <td>3.0</td>\n",
       "      <td>1.4</td>\n",
       "      <td>0.2</td>\n",
       "      <td>Iris-setosa</td>\n",
       "    </tr>\n",
       "    <tr>\n",
       "      <th>3</th>\n",
       "      <td>4.7</td>\n",
       "      <td>3.2</td>\n",
       "      <td>1.3</td>\n",
       "      <td>0.2</td>\n",
       "      <td>Iris-setosa</td>\n",
       "    </tr>\n",
       "    <tr>\n",
       "      <th>4</th>\n",
       "      <td>4.6</td>\n",
       "      <td>3.1</td>\n",
       "      <td>1.5</td>\n",
       "      <td>0.2</td>\n",
       "      <td>Iris-setosa</td>\n",
       "    </tr>\n",
       "    <tr>\n",
       "      <th>5</th>\n",
       "      <td>5.0</td>\n",
       "      <td>3.6</td>\n",
       "      <td>1.4</td>\n",
       "      <td>0.2</td>\n",
       "      <td>Iris-setosa</td>\n",
       "    </tr>\n",
       "    <tr>\n",
       "      <th>...</th>\n",
       "      <td>...</td>\n",
       "      <td>...</td>\n",
       "      <td>...</td>\n",
       "      <td>...</td>\n",
       "      <td>...</td>\n",
       "    </tr>\n",
       "    <tr>\n",
       "      <th>146</th>\n",
       "      <td>6.7</td>\n",
       "      <td>3.0</td>\n",
       "      <td>5.2</td>\n",
       "      <td>2.3</td>\n",
       "      <td>Iris-virginica</td>\n",
       "    </tr>\n",
       "    <tr>\n",
       "      <th>147</th>\n",
       "      <td>6.3</td>\n",
       "      <td>2.5</td>\n",
       "      <td>5.0</td>\n",
       "      <td>1.9</td>\n",
       "      <td>Iris-virginica</td>\n",
       "    </tr>\n",
       "    <tr>\n",
       "      <th>148</th>\n",
       "      <td>6.5</td>\n",
       "      <td>3.0</td>\n",
       "      <td>5.2</td>\n",
       "      <td>2.0</td>\n",
       "      <td>Iris-virginica</td>\n",
       "    </tr>\n",
       "    <tr>\n",
       "      <th>149</th>\n",
       "      <td>6.2</td>\n",
       "      <td>3.4</td>\n",
       "      <td>5.4</td>\n",
       "      <td>2.3</td>\n",
       "      <td>Iris-virginica</td>\n",
       "    </tr>\n",
       "    <tr>\n",
       "      <th>150</th>\n",
       "      <td>5.9</td>\n",
       "      <td>3.0</td>\n",
       "      <td>5.1</td>\n",
       "      <td>1.8</td>\n",
       "      <td>Iris-virginica</td>\n",
       "    </tr>\n",
       "  </tbody>\n",
       "</table>\n",
       "<p>150 rows × 5 columns</p>\n",
       "</div>"
      ],
      "text/plain": [
       "     SepalLengthCm  SepalWidthCm  PetalLengthCm  PetalWidthCm         Species\n",
       "Id                                                                           \n",
       "1              5.1           3.5            1.4           0.2     Iris-setosa\n",
       "2              4.9           3.0            1.4           0.2     Iris-setosa\n",
       "3              4.7           3.2            1.3           0.2     Iris-setosa\n",
       "4              4.6           3.1            1.5           0.2     Iris-setosa\n",
       "5              5.0           3.6            1.4           0.2     Iris-setosa\n",
       "..             ...           ...            ...           ...             ...\n",
       "146            6.7           3.0            5.2           2.3  Iris-virginica\n",
       "147            6.3           2.5            5.0           1.9  Iris-virginica\n",
       "148            6.5           3.0            5.2           2.0  Iris-virginica\n",
       "149            6.2           3.4            5.4           2.3  Iris-virginica\n",
       "150            5.9           3.0            5.1           1.8  Iris-virginica\n",
       "\n",
       "[150 rows x 5 columns]"
      ]
     },
     "execution_count": 17,
     "metadata": {},
     "output_type": "execute_result"
    }
   ],
   "source": [
    "df = pd.read_csv('Iris.csv', sep=',', index_col=0)\n",
    "df"
   ]
  },
  {
   "cell_type": "markdown",
   "id": "a1b02b75",
   "metadata": {},
   "source": [
    "### Wybranie liniowo separowalnych kolumn i klasy decyzyjnej ze zbioru"
   ]
  },
  {
   "cell_type": "code",
   "execution_count": 70,
   "id": "02c16a4c",
   "metadata": {},
   "outputs": [],
   "source": [
    "#dataset = df[['SepalLengthCm','SepalWidthCm','PetalLengthCm','PetalWidthCm']].to_numpy()\n",
    "dataset = df[['PetalLengthCm','PetalWidthCm', 'Species']].to_numpy()"
   ]
  },
  {
   "cell_type": "markdown",
   "id": "bbbbd8ad",
   "metadata": {},
   "source": [
    "### Wybranie do zbioru gatunków setosa i versicolor"
   ]
  },
  {
   "cell_type": "code",
   "execution_count": 77,
   "id": "26e76fcf",
   "metadata": {
    "collapsed": true
   },
   "outputs": [
    {
     "data": {
      "text/html": [
       "<div>\n",
       "<style scoped>\n",
       "    .dataframe tbody tr th:only-of-type {\n",
       "        vertical-align: middle;\n",
       "    }\n",
       "\n",
       "    .dataframe tbody tr th {\n",
       "        vertical-align: top;\n",
       "    }\n",
       "\n",
       "    .dataframe thead th {\n",
       "        text-align: right;\n",
       "    }\n",
       "</style>\n",
       "<table border=\"1\" class=\"dataframe\">\n",
       "  <thead>\n",
       "    <tr style=\"text-align: right;\">\n",
       "      <th></th>\n",
       "      <th>SepalLengthCm</th>\n",
       "      <th>SepalWidthCm</th>\n",
       "      <th>PetalLengthCm</th>\n",
       "      <th>PetalWidthCm</th>\n",
       "      <th>Species</th>\n",
       "    </tr>\n",
       "  </thead>\n",
       "  <tbody>\n",
       "    <tr>\n",
       "      <th>0</th>\n",
       "      <td>5.1</td>\n",
       "      <td>3.5</td>\n",
       "      <td>1.4</td>\n",
       "      <td>0.2</td>\n",
       "      <td>Iris-setosa</td>\n",
       "    </tr>\n",
       "    <tr>\n",
       "      <th>1</th>\n",
       "      <td>4.9</td>\n",
       "      <td>3.0</td>\n",
       "      <td>1.4</td>\n",
       "      <td>0.2</td>\n",
       "      <td>Iris-setosa</td>\n",
       "    </tr>\n",
       "    <tr>\n",
       "      <th>2</th>\n",
       "      <td>4.7</td>\n",
       "      <td>3.2</td>\n",
       "      <td>1.3</td>\n",
       "      <td>0.2</td>\n",
       "      <td>Iris-setosa</td>\n",
       "    </tr>\n",
       "    <tr>\n",
       "      <th>3</th>\n",
       "      <td>4.6</td>\n",
       "      <td>3.1</td>\n",
       "      <td>1.5</td>\n",
       "      <td>0.2</td>\n",
       "      <td>Iris-setosa</td>\n",
       "    </tr>\n",
       "    <tr>\n",
       "      <th>4</th>\n",
       "      <td>5.0</td>\n",
       "      <td>3.6</td>\n",
       "      <td>1.4</td>\n",
       "      <td>0.2</td>\n",
       "      <td>Iris-setosa</td>\n",
       "    </tr>\n",
       "    <tr>\n",
       "      <th>...</th>\n",
       "      <td>...</td>\n",
       "      <td>...</td>\n",
       "      <td>...</td>\n",
       "      <td>...</td>\n",
       "      <td>...</td>\n",
       "    </tr>\n",
       "    <tr>\n",
       "      <th>95</th>\n",
       "      <td>5.7</td>\n",
       "      <td>3.0</td>\n",
       "      <td>4.2</td>\n",
       "      <td>1.2</td>\n",
       "      <td>Iris-versicolor</td>\n",
       "    </tr>\n",
       "    <tr>\n",
       "      <th>96</th>\n",
       "      <td>5.7</td>\n",
       "      <td>2.9</td>\n",
       "      <td>4.2</td>\n",
       "      <td>1.3</td>\n",
       "      <td>Iris-versicolor</td>\n",
       "    </tr>\n",
       "    <tr>\n",
       "      <th>97</th>\n",
       "      <td>6.2</td>\n",
       "      <td>2.9</td>\n",
       "      <td>4.3</td>\n",
       "      <td>1.3</td>\n",
       "      <td>Iris-versicolor</td>\n",
       "    </tr>\n",
       "    <tr>\n",
       "      <th>98</th>\n",
       "      <td>5.1</td>\n",
       "      <td>2.5</td>\n",
       "      <td>3.0</td>\n",
       "      <td>1.1</td>\n",
       "      <td>Iris-versicolor</td>\n",
       "    </tr>\n",
       "    <tr>\n",
       "      <th>99</th>\n",
       "      <td>5.7</td>\n",
       "      <td>2.8</td>\n",
       "      <td>4.1</td>\n",
       "      <td>1.3</td>\n",
       "      <td>Iris-versicolor</td>\n",
       "    </tr>\n",
       "  </tbody>\n",
       "</table>\n",
       "<p>100 rows × 5 columns</p>\n",
       "</div>"
      ],
      "text/plain": [
       "    SepalLengthCm  SepalWidthCm  PetalLengthCm  PetalWidthCm          Species\n",
       "0             5.1           3.5            1.4           0.2      Iris-setosa\n",
       "1             4.9           3.0            1.4           0.2      Iris-setosa\n",
       "2             4.7           3.2            1.3           0.2      Iris-setosa\n",
       "3             4.6           3.1            1.5           0.2      Iris-setosa\n",
       "4             5.0           3.6            1.4           0.2      Iris-setosa\n",
       "..            ...           ...            ...           ...              ...\n",
       "95            5.7           3.0            4.2           1.2  Iris-versicolor\n",
       "96            5.7           2.9            4.2           1.3  Iris-versicolor\n",
       "97            6.2           2.9            4.3           1.3  Iris-versicolor\n",
       "98            5.1           2.5            3.0           1.1  Iris-versicolor\n",
       "99            5.7           2.8            4.1           1.3  Iris-versicolor\n",
       "\n",
       "[100 rows x 5 columns]"
      ]
     },
     "execution_count": 77,
     "metadata": {},
     "output_type": "execute_result"
    }
   ],
   "source": [
    "result = pd.concat([df[df['Species'].str.contains('Iris-setosa')] , df[df['Species'].str.contains('Iris-versicolor')]], ignore_index=True)\n",
    "result"
   ]
  },
  {
   "cell_type": "markdown",
   "id": "657c50a9",
   "metadata": {},
   "source": [
    "### Dodanie kolumny klasy decyzyjnej w formie binarnej"
   ]
  },
  {
   "cell_type": "code",
   "execution_count": 78,
   "id": "2b8b8e69",
   "metadata": {},
   "outputs": [
    {
     "data": {
      "text/html": [
       "<div>\n",
       "<style scoped>\n",
       "    .dataframe tbody tr th:only-of-type {\n",
       "        vertical-align: middle;\n",
       "    }\n",
       "\n",
       "    .dataframe tbody tr th {\n",
       "        vertical-align: top;\n",
       "    }\n",
       "\n",
       "    .dataframe thead th {\n",
       "        text-align: right;\n",
       "    }\n",
       "</style>\n",
       "<table border=\"1\" class=\"dataframe\">\n",
       "  <thead>\n",
       "    <tr style=\"text-align: right;\">\n",
       "      <th></th>\n",
       "      <th>SepalLengthCm</th>\n",
       "      <th>SepalWidthCm</th>\n",
       "      <th>PetalLengthCm</th>\n",
       "      <th>PetalWidthCm</th>\n",
       "      <th>Species</th>\n",
       "      <th>BinarySpecies</th>\n",
       "    </tr>\n",
       "  </thead>\n",
       "  <tbody>\n",
       "    <tr>\n",
       "      <th>0</th>\n",
       "      <td>5.1</td>\n",
       "      <td>3.5</td>\n",
       "      <td>1.4</td>\n",
       "      <td>0.2</td>\n",
       "      <td>Iris-setosa</td>\n",
       "      <td>1</td>\n",
       "    </tr>\n",
       "    <tr>\n",
       "      <th>1</th>\n",
       "      <td>4.9</td>\n",
       "      <td>3.0</td>\n",
       "      <td>1.4</td>\n",
       "      <td>0.2</td>\n",
       "      <td>Iris-setosa</td>\n",
       "      <td>1</td>\n",
       "    </tr>\n",
       "    <tr>\n",
       "      <th>2</th>\n",
       "      <td>4.7</td>\n",
       "      <td>3.2</td>\n",
       "      <td>1.3</td>\n",
       "      <td>0.2</td>\n",
       "      <td>Iris-setosa</td>\n",
       "      <td>1</td>\n",
       "    </tr>\n",
       "    <tr>\n",
       "      <th>3</th>\n",
       "      <td>4.6</td>\n",
       "      <td>3.1</td>\n",
       "      <td>1.5</td>\n",
       "      <td>0.2</td>\n",
       "      <td>Iris-setosa</td>\n",
       "      <td>1</td>\n",
       "    </tr>\n",
       "    <tr>\n",
       "      <th>4</th>\n",
       "      <td>5.0</td>\n",
       "      <td>3.6</td>\n",
       "      <td>1.4</td>\n",
       "      <td>0.2</td>\n",
       "      <td>Iris-setosa</td>\n",
       "      <td>1</td>\n",
       "    </tr>\n",
       "    <tr>\n",
       "      <th>...</th>\n",
       "      <td>...</td>\n",
       "      <td>...</td>\n",
       "      <td>...</td>\n",
       "      <td>...</td>\n",
       "      <td>...</td>\n",
       "      <td>...</td>\n",
       "    </tr>\n",
       "    <tr>\n",
       "      <th>95</th>\n",
       "      <td>5.7</td>\n",
       "      <td>3.0</td>\n",
       "      <td>4.2</td>\n",
       "      <td>1.2</td>\n",
       "      <td>Iris-versicolor</td>\n",
       "      <td>0</td>\n",
       "    </tr>\n",
       "    <tr>\n",
       "      <th>96</th>\n",
       "      <td>5.7</td>\n",
       "      <td>2.9</td>\n",
       "      <td>4.2</td>\n",
       "      <td>1.3</td>\n",
       "      <td>Iris-versicolor</td>\n",
       "      <td>0</td>\n",
       "    </tr>\n",
       "    <tr>\n",
       "      <th>97</th>\n",
       "      <td>6.2</td>\n",
       "      <td>2.9</td>\n",
       "      <td>4.3</td>\n",
       "      <td>1.3</td>\n",
       "      <td>Iris-versicolor</td>\n",
       "      <td>0</td>\n",
       "    </tr>\n",
       "    <tr>\n",
       "      <th>98</th>\n",
       "      <td>5.1</td>\n",
       "      <td>2.5</td>\n",
       "      <td>3.0</td>\n",
       "      <td>1.1</td>\n",
       "      <td>Iris-versicolor</td>\n",
       "      <td>0</td>\n",
       "    </tr>\n",
       "    <tr>\n",
       "      <th>99</th>\n",
       "      <td>5.7</td>\n",
       "      <td>2.8</td>\n",
       "      <td>4.1</td>\n",
       "      <td>1.3</td>\n",
       "      <td>Iris-versicolor</td>\n",
       "      <td>0</td>\n",
       "    </tr>\n",
       "  </tbody>\n",
       "</table>\n",
       "<p>100 rows × 6 columns</p>\n",
       "</div>"
      ],
      "text/plain": [
       "    SepalLengthCm  SepalWidthCm  PetalLengthCm  PetalWidthCm          Species  \\\n",
       "0             5.1           3.5            1.4           0.2      Iris-setosa   \n",
       "1             4.9           3.0            1.4           0.2      Iris-setosa   \n",
       "2             4.7           3.2            1.3           0.2      Iris-setosa   \n",
       "3             4.6           3.1            1.5           0.2      Iris-setosa   \n",
       "4             5.0           3.6            1.4           0.2      Iris-setosa   \n",
       "..            ...           ...            ...           ...              ...   \n",
       "95            5.7           3.0            4.2           1.2  Iris-versicolor   \n",
       "96            5.7           2.9            4.2           1.3  Iris-versicolor   \n",
       "97            6.2           2.9            4.3           1.3  Iris-versicolor   \n",
       "98            5.1           2.5            3.0           1.1  Iris-versicolor   \n",
       "99            5.7           2.8            4.1           1.3  Iris-versicolor   \n",
       "\n",
       "    BinarySpecies  \n",
       "0               1  \n",
       "1               1  \n",
       "2               1  \n",
       "3               1  \n",
       "4               1  \n",
       "..            ...  \n",
       "95              0  \n",
       "96              0  \n",
       "97              0  \n",
       "98              0  \n",
       "99              0  \n",
       "\n",
       "[100 rows x 6 columns]"
      ]
     },
     "execution_count": 78,
     "metadata": {},
     "output_type": "execute_result"
    }
   ],
   "source": [
    "result['BinarySpecies'] = result['Species'].apply(lambda x: 1 if x == 'Iris-setosa' else 0)\n",
    "result"
   ]
  },
  {
   "cell_type": "markdown",
   "id": "1a18ec59",
   "metadata": {},
   "source": [
    "### Przygotowanie zbioru do uczenia"
   ]
  },
  {
   "cell_type": "code",
   "execution_count": 84,
   "id": "c1e8ab07",
   "metadata": {},
   "outputs": [],
   "source": [
    "dataset = result[['PetalLengthCm', 'PetalWidthCm', 'BinarySpecies']].to_numpy()"
   ]
  },
  {
   "cell_type": "markdown",
   "id": "b0af04bb",
   "metadata": {},
   "source": [
    "### Weryfikacja które dane parametry są separowalne liniowo"
   ]
  },
  {
   "cell_type": "code",
   "execution_count": 26,
   "id": "684b7510",
   "metadata": {},
   "outputs": [],
   "source": [
    "from sklearn.model_selection import train_test_split\n",
    "from sklearn.svm import SVC\n",
    "from sklearn import datasets"
   ]
  },
  {
   "cell_type": "code",
   "execution_count": 82,
   "id": "23d128a1",
   "metadata": {},
   "outputs": [
    {
     "name": "stdout",
     "output_type": "stream",
     "text": [
      "Dokładność modelu SVM z jądrem liniowym: 100.00%\n"
     ]
    }
   ],
   "source": [
    "iris = datasets.load_iris()\n",
    "X = iris.data[:,[2,3]]  # Weź tylko dwie cechy dla uproszczenia\n",
    "y = iris.target\n",
    "\n",
    "# Podziel dane na zbiór treningowy i testowy\n",
    "X_train, X_test, y_train, y_test = train_test_split(X, y, test_size=0.3, random_state=42)\n",
    "\n",
    "# Utwórz model SVM z jądrem liniowym\n",
    "svm_model = SVC(kernel='linear')\n",
    "\n",
    "# Dopasuj model do danych treningowych\n",
    "svm_model.fit(X_train, y_train)\n",
    "\n",
    "# Sprawdź dokładność modelu na danych testowych\n",
    "accuracy = svm_model.score(X_test, y_test)\n",
    "print(f\"Dokładność modelu SVM z jądrem liniowym: {accuracy * 100:.2f}%\")\n"
   ]
  },
  {
   "cell_type": "markdown",
   "id": "5394cd7e",
   "metadata": {},
   "source": [
    "### Wytwarzanie zbioru uczącego "
   ]
  },
  {
   "cell_type": "code",
   "execution_count": 69,
   "id": "cec7c13c",
   "metadata": {
    "scrolled": false
   },
   "outputs": [],
   "source": [
    "#dataset = []\n",
    "#number_of_elements_to_test = 20\n",
    "\n",
    "#for _ in range(number_of_elements_in_test_dataset):\n",
    "#    dataset_test.append(dataset_train[np.random.randint(0, dataset_train.shape[0])])"
   ]
  },
  {
   "cell_type": "code",
   "execution_count": 99,
   "id": "acfa935f",
   "metadata": {},
   "outputs": [
    {
     "name": "stdout",
     "output_type": "stream",
     "text": [
      "Wagi przed uczeniem: [1, 0.04016222761048438, 0.8210094849672555]\n"
     ]
    }
   ],
   "source": [
    "w = np.random.rand(2)\n",
    "w = [1, w[0], w[1]]\n",
    "print(f'Wagi przed uczeniem: {w}')"
   ]
  },
  {
   "cell_type": "code",
   "execution_count": 115,
   "id": "81f65a20",
   "metadata": {},
   "outputs": [
    {
     "data": {
      "text/plain": [
       "array([1.6, 0.4, 1. ])"
      ]
     },
     "execution_count": 115,
     "metadata": {},
     "output_type": "execute_result"
    }
   ],
   "source": [
    "dataset[np.random.randint(0, dataset.shape[0])]"
   ]
  },
  {
   "cell_type": "code",
   "execution_count": 116,
   "id": "eeb8fb04",
   "metadata": {},
   "outputs": [],
   "source": [
    "def activation_function(val):\n",
    "    return 1 if val >= 0 else 0"
   ]
  },
  {
   "cell_type": "code",
   "execution_count": 129,
   "id": "90456038",
   "metadata": {},
   "outputs": [
    {
     "data": {
      "text/plain": [
       "1.7"
      ]
     },
     "execution_count": 129,
     "metadata": {},
     "output_type": "execute_result"
    }
   ],
   "source": [
    "dataset[5][0]"
   ]
  },
  {
   "cell_type": "code",
   "execution_count": 130,
   "id": "62db199b",
   "metadata": {
    "scrolled": true
   },
   "outputs": [
    {
     "data": {
      "text/plain": [
       "array([1. , 1.7, 1.7])"
      ]
     },
     "execution_count": 130,
     "metadata": {},
     "output_type": "execute_result"
    }
   ],
   "source": [
    "np.concatenate([np.array([1]), np.array([dataset[5][0]]), np.array([dataset[5][0]])])"
   ]
  },
  {
   "cell_type": "code",
   "execution_count": 117,
   "id": "efc9354f",
   "metadata": {},
   "outputs": [],
   "source": [
    "def fit(data, w, max_i, learning_rate):\n",
    "    data_count = data.shape[0]\n",
    "    successful_iteration = True\n",
    "    \n",
    "    for epoch in range(max_i):\n",
    "        successful_iteration = True\n",
    "        \n",
    "        for i in range(data_count):\n",
    "            row = data[np.random.randint(0, data.shape[0])]\n",
    "            input_data = np.concatenate([np.array([1]), np.array([row[i][0]]), np.array([row[i][1]])])\n",
    "            output_data = data[i][1]\n",
    "        \n",
    "            w_sum = np.dot(input_data, w)\n",
    "            pred = activation_function(w_sum)\n",
    "            diff = output_data - pred\n",
    "            #print(f'{output_data} -wagi {w} -suma {w_sum} -diff {diff} -pred {pred}')\n",
    "            \n",
    "            if diff != 0:\n",
    "                #wagi_nowe = wagi_stare + ((oczekiwane_wyjście - rzeczywiste_wyjście)[pred] * współczynnik_uczenia * wejścia)\n",
    "                w = w + (diff * learning_rate *  input_data)\n",
    "                successful_iteration = False\n",
    "                \n",
    "        if successful_iteration == True:\n",
    "            print(f'Liczba epok wykonana do nauczenia sieci: {epoch}')\n",
    "            break\n",
    "            \n",
    "        print(f'Wagi w epoce {epoch}: {w}')\n",
    "    \n",
    "    return w"
   ]
  },
  {
   "cell_type": "code",
   "execution_count": null,
   "id": "4c805584",
   "metadata": {},
   "outputs": [],
   "source": []
  },
  {
   "cell_type": "markdown",
   "id": "d2c9726d",
   "metadata": {},
   "source": [
    "### Wnioski\n",
    "\n",
    "Udało się przetestować działanie reguły decyzyjnej na przedstawionych w wykładzie przypadkach."
   ]
  }
 ],
 "metadata": {
  "kernelspec": {
   "display_name": "Python 3 (ipykernel)",
   "language": "python",
   "name": "python3"
  },
  "language_info": {
   "codemirror_mode": {
    "name": "ipython",
    "version": 3
   },
   "file_extension": ".py",
   "mimetype": "text/x-python",
   "name": "python",
   "nbconvert_exporter": "python",
   "pygments_lexer": "ipython3",
   "version": "3.11.5"
  }
 },
 "nbformat": 4,
 "nbformat_minor": 5
}
