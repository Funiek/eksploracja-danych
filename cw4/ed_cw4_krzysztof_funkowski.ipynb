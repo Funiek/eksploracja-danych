{
 "cells": [
  {
   "cell_type": "markdown",
   "id": "acf72b58",
   "metadata": {},
   "source": [
    "# Zadanie 4 Pracownia Specjalistyczna - Eksploracja danych\n",
    "### Krzysztof Funkowski"
   ]
  },
  {
   "cell_type": "code",
   "execution_count": 1,
   "id": "6a99b8f6",
   "metadata": {},
   "outputs": [],
   "source": [
    "from math import *\n",
    "import random\n",
    "import numpy as np\n",
    "import matplotlib.pyplot as plt\n",
    "import pandas as pd"
   ]
  },
  {
   "cell_type": "markdown",
   "id": "0784e846",
   "metadata": {},
   "source": [
    "# Zadanie 4\n",
    "- Konstrukcja klasyfikatora liniowego w oparciu o kryterium Fishera \n",
    "- Wybór progu na podstawie dwu zbiorów danych"
   ]
  },
  {
   "cell_type": "markdown",
   "id": "03ee9086",
   "metadata": {},
   "source": [
    "### Funkcja służąca do obliczania kowariancji dla dwóch wektorów"
   ]
  },
  {
   "cell_type": "code",
   "execution_count": 2,
   "id": "0de53455",
   "metadata": {},
   "outputs": [],
   "source": [
    "def cov(x, y, x_avg, y_avg):\n",
    "    elements_count = len(x) # ilość elementów w tablicy\n",
    "    elements_sum = 0\n",
    "    \n",
    "    for x,y in zip(x,y):\n",
    "        elements_sum = elements_sum + ((x - x_avg)*(y - y_avg)) # sumowanie (x - średnia_arytmetyczna_x) * (y - średnia_arytmetyczna_y)\n",
    "    \n",
    "    return elements_sum / elements_count # suma dzielona przez liczbę elementów"
   ]
  },
  {
   "cell_type": "markdown",
   "id": "ee95339d",
   "metadata": {},
   "source": [
    "### Funkcja obliczająca macierz kowariancji dla zbioru danych"
   ]
  },
  {
   "cell_type": "code",
   "execution_count": 3,
   "id": "b2e39798",
   "metadata": {},
   "outputs": [],
   "source": [
    "def cov_for_dataset(cov_dataset):\n",
    "    avgs = []\n",
    "    matrix_shape = cov_dataset.shape[1] # wymiary_macierzy czyli liczba_kolumn_bioru_danych x liczba_kolumn_bioru_danych\n",
    "    for i in range(matrix_shape):\n",
    "        avgs.append(cov_dataset[:,i].mean()) # obliczanie średnich dla każdego parametru\n",
    "    \n",
    "    matrix = []\n",
    "    for i in range(matrix_shape):\n",
    "        matrix_row = []\n",
    "        for j in range(matrix_shape):\n",
    "            #matrix_shape*i + j\n",
    "            res = cov(cov_dataset[:,i],cov_dataset[:,j],avgs[i], avgs[j]) # wyznaczanie kowariancji dla każdej pary parametrów\n",
    "            matrix_row.append(res) # budowanie wiersza macierzy\n",
    "        matrix.append(matrix_row) # dodawanie wiersza macierzy do tablicy bazowej\n",
    "    \n",
    "    return np.matrix(matrix) # przekształcanie typu tablicy na macierz"
   ]
  },
  {
   "cell_type": "markdown",
   "id": "535d9769",
   "metadata": {},
   "source": [
    "### Funkcja do obliczania długości wektora własnego"
   ]
  },
  {
   "cell_type": "code",
   "execution_count": 4,
   "id": "5aa117c1",
   "metadata": {},
   "outputs": [],
   "source": [
    "def eigenvector_len(v1):\n",
    "    dims = v1.shape[0] # ilość elementów wektora\n",
    "    length = 0\n",
    "    \n",
    "    for i in range(dims):\n",
    "        val = v1[i].ravel().tolist()[0][0]\n",
    "        length = length + pow(val,2) # sumowanie elementów podniesionych do kwadratu\n",
    "        \n",
    "    \n",
    "    length = sqrt(length) # pierwiastkowanie wyniku sumy elementów wektora podniesionych do kwadratów\n",
    "    \n",
    "    return length # zwracanie długości"
   ]
  },
  {
   "cell_type": "markdown",
   "id": "4cb54351",
   "metadata": {},
   "source": [
    "### Funkcja normalizująca, zwracająca wartość własną i wektor własny"
   ]
  },
  {
   "cell_type": "code",
   "execution_count": 5,
   "id": "d5cf0912",
   "metadata": {},
   "outputs": [],
   "source": [
    "def eigenvector_normalization(v1):\n",
    "    eigenvalue = eigenvector_len(v1) # wylicznaie wartości własnej\n",
    "    eigenvector = v1 / eigenvalue # wyliczanie wektora własnego\n",
    "    \n",
    "    return eigenvalue, eigenvector # zwrócenie wartości własnej i wektora własnego"
   ]
  },
  {
   "cell_type": "markdown",
   "id": "9006807e",
   "metadata": {},
   "source": [
    "### Pomocnicza funkcja zmieniająca tablicę wektorów własnych w odpowiednią formę macierzy"
   ]
  },
  {
   "cell_type": "code",
   "execution_count": 6,
   "id": "a9083493",
   "metadata": {},
   "outputs": [],
   "source": [
    "def rearrange_matrix(eigenvectors):\n",
    "    res = []\n",
    "\n",
    "    for i in range(len(eigenvectors)):\n",
    "        row = eigenvectors[i].ravel().tolist()[0]\n",
    "        res.append(row)\n",
    "\n",
    "    return np.matrix(res).T"
   ]
  },
  {
   "cell_type": "markdown",
   "id": "36325745",
   "metadata": {},
   "source": [
    "### Funkcja odpowiadająca za obliczanie wartości własnych i wektorów własnych"
   ]
  },
  {
   "cell_type": "code",
   "execution_count": 7,
   "id": "f102a35e",
   "metadata": {},
   "outputs": [],
   "source": [
    "def eigenvalues_eigenvectors(matrix, num_iterations):\n",
    "    n = matrix.shape[0] # jeden z wymiarów macierzy, ponieważ jest kwadratowa to wystarczy tylko jeden\n",
    "    eigenvalues = [] # lista na wartości własne\n",
    "    eigenvectors = [] # lista na wektory własne\n",
    "    \n",
    "    for i in range(n):\n",
    "        # losowe dane wektora na początku\n",
    "        eigenvector = np.random.rand(n,1)\n",
    "    \n",
    "        # algorytm iteracyjny wykonywany num_iterations razy\n",
    "        for _ in range(num_iterations):\n",
    "            eigenvector = np.dot(matrix, eigenvector) # mnożenie macierzy kowariancji przez wektor \n",
    "            eigenvalue, eigenvector = eigenvector_normalization(eigenvector) # normalizacja wektora\n",
    "            \n",
    "        # usuwanie z macierzy znalezionej wartości własnej i wektora własnego\n",
    "        # marix - wartość własna * iloczyn zewnętrzny wektora własnego\n",
    "        matrix = matrix - eigenvalue * np.multiply(eigenvector,eigenvector.T).T \n",
    "        \n",
    "        eigenvalues.append(eigenvalue) # dodanie znalezionej wartości własnej do listy\n",
    "        eigenvectors.append(eigenvector) # dodanie znalezionego wektora własnego do listy\n",
    "        \n",
    "        \n",
    "        \n",
    "    return eigenvalues, rearrange_matrix(eigenvectors) # zwrócenie wartości własnych i wektorów własnych"
   ]
  },
  {
   "cell_type": "markdown",
   "id": "495a0946",
   "metadata": {},
   "source": [
    "### Rysowanie wykresu dla serii"
   ]
  },
  {
   "cell_type": "code",
   "execution_count": 8,
   "id": "bd913877",
   "metadata": {},
   "outputs": [],
   "source": [
    "def draw_plot(datasets):\n",
    "    colors = ['red','blue','green']\n",
    "    \n",
    "    print(len(datasets))\n",
    "    \n",
    "    # dla każdego zbioru danych z danej kategorii\n",
    "    for i in range(len(datasets)):\n",
    "        # przejście po wszystkich punktach\n",
    "        for j in range(datasets[i][1].shape[0]):\n",
    "            if j==0:\n",
    "                # zaznaczanie punktu dla pierwszego (SepalLengthCm) i drugiego (SepalWidthCm) parametru\n",
    "                plt.scatter(datasets[i][1][j,0],datasets[i][1][j,1], color=colors[i], label=datasets[i][0]) \n",
    "            else:\n",
    "                # zaznaczanie punktu dla pierwszego (SepalLengthCm) i drugiego (SepalWidthCm) parametru\n",
    "                plt.scatter(datasets[i][1][j,0],datasets[i][1][j,1], color=colors[i])\n",
    "    \n",
    "    plt.grid()\n",
    "    plt.legend()\n",
    "    plt.show() "
   ]
  },
  {
   "cell_type": "markdown",
   "id": "d6c33bb0",
   "metadata": {},
   "source": [
    "# ZADANIE"
   ]
  },
  {
   "cell_type": "code",
   "execution_count": 9,
   "id": "758f9824",
   "metadata": {},
   "outputs": [
    {
     "data": {
      "text/html": [
       "<div>\n",
       "<style scoped>\n",
       "    .dataframe tbody tr th:only-of-type {\n",
       "        vertical-align: middle;\n",
       "    }\n",
       "\n",
       "    .dataframe tbody tr th {\n",
       "        vertical-align: top;\n",
       "    }\n",
       "\n",
       "    .dataframe thead th {\n",
       "        text-align: right;\n",
       "    }\n",
       "</style>\n",
       "<table border=\"1\" class=\"dataframe\">\n",
       "  <thead>\n",
       "    <tr style=\"text-align: right;\">\n",
       "      <th></th>\n",
       "      <th>SepalLengthCm</th>\n",
       "      <th>SepalWidthCm</th>\n",
       "      <th>PetalLengthCm</th>\n",
       "      <th>PetalWidthCm</th>\n",
       "      <th>Species</th>\n",
       "    </tr>\n",
       "    <tr>\n",
       "      <th>Id</th>\n",
       "      <th></th>\n",
       "      <th></th>\n",
       "      <th></th>\n",
       "      <th></th>\n",
       "      <th></th>\n",
       "    </tr>\n",
       "  </thead>\n",
       "  <tbody>\n",
       "    <tr>\n",
       "      <th>1</th>\n",
       "      <td>5.1</td>\n",
       "      <td>3.5</td>\n",
       "      <td>1.4</td>\n",
       "      <td>0.2</td>\n",
       "      <td>Iris-setosa</td>\n",
       "    </tr>\n",
       "    <tr>\n",
       "      <th>2</th>\n",
       "      <td>4.9</td>\n",
       "      <td>3.0</td>\n",
       "      <td>1.4</td>\n",
       "      <td>0.2</td>\n",
       "      <td>Iris-setosa</td>\n",
       "    </tr>\n",
       "    <tr>\n",
       "      <th>3</th>\n",
       "      <td>4.7</td>\n",
       "      <td>3.2</td>\n",
       "      <td>1.3</td>\n",
       "      <td>0.2</td>\n",
       "      <td>Iris-setosa</td>\n",
       "    </tr>\n",
       "    <tr>\n",
       "      <th>4</th>\n",
       "      <td>4.6</td>\n",
       "      <td>3.1</td>\n",
       "      <td>1.5</td>\n",
       "      <td>0.2</td>\n",
       "      <td>Iris-setosa</td>\n",
       "    </tr>\n",
       "    <tr>\n",
       "      <th>5</th>\n",
       "      <td>5.0</td>\n",
       "      <td>3.6</td>\n",
       "      <td>1.4</td>\n",
       "      <td>0.2</td>\n",
       "      <td>Iris-setosa</td>\n",
       "    </tr>\n",
       "    <tr>\n",
       "      <th>...</th>\n",
       "      <td>...</td>\n",
       "      <td>...</td>\n",
       "      <td>...</td>\n",
       "      <td>...</td>\n",
       "      <td>...</td>\n",
       "    </tr>\n",
       "    <tr>\n",
       "      <th>146</th>\n",
       "      <td>6.7</td>\n",
       "      <td>3.0</td>\n",
       "      <td>5.2</td>\n",
       "      <td>2.3</td>\n",
       "      <td>Iris-virginica</td>\n",
       "    </tr>\n",
       "    <tr>\n",
       "      <th>147</th>\n",
       "      <td>6.3</td>\n",
       "      <td>2.5</td>\n",
       "      <td>5.0</td>\n",
       "      <td>1.9</td>\n",
       "      <td>Iris-virginica</td>\n",
       "    </tr>\n",
       "    <tr>\n",
       "      <th>148</th>\n",
       "      <td>6.5</td>\n",
       "      <td>3.0</td>\n",
       "      <td>5.2</td>\n",
       "      <td>2.0</td>\n",
       "      <td>Iris-virginica</td>\n",
       "    </tr>\n",
       "    <tr>\n",
       "      <th>149</th>\n",
       "      <td>6.2</td>\n",
       "      <td>3.4</td>\n",
       "      <td>5.4</td>\n",
       "      <td>2.3</td>\n",
       "      <td>Iris-virginica</td>\n",
       "    </tr>\n",
       "    <tr>\n",
       "      <th>150</th>\n",
       "      <td>5.9</td>\n",
       "      <td>3.0</td>\n",
       "      <td>5.1</td>\n",
       "      <td>1.8</td>\n",
       "      <td>Iris-virginica</td>\n",
       "    </tr>\n",
       "  </tbody>\n",
       "</table>\n",
       "<p>150 rows × 5 columns</p>\n",
       "</div>"
      ],
      "text/plain": [
       "     SepalLengthCm  SepalWidthCm  PetalLengthCm  PetalWidthCm         Species\n",
       "Id                                                                           \n",
       "1              5.1           3.5            1.4           0.2     Iris-setosa\n",
       "2              4.9           3.0            1.4           0.2     Iris-setosa\n",
       "3              4.7           3.2            1.3           0.2     Iris-setosa\n",
       "4              4.6           3.1            1.5           0.2     Iris-setosa\n",
       "5              5.0           3.6            1.4           0.2     Iris-setosa\n",
       "..             ...           ...            ...           ...             ...\n",
       "146            6.7           3.0            5.2           2.3  Iris-virginica\n",
       "147            6.3           2.5            5.0           1.9  Iris-virginica\n",
       "148            6.5           3.0            5.2           2.0  Iris-virginica\n",
       "149            6.2           3.4            5.4           2.3  Iris-virginica\n",
       "150            5.9           3.0            5.1           1.8  Iris-virginica\n",
       "\n",
       "[150 rows x 5 columns]"
      ]
     },
     "execution_count": 9,
     "metadata": {},
     "output_type": "execute_result"
    }
   ],
   "source": [
    "df = pd.read_csv('Iris.csv', sep=',', index_col=0)\n",
    "dataset = df.to_numpy()\n",
    "df"
   ]
  },
  {
   "cell_type": "code",
   "execution_count": 10,
   "id": "73d171a9",
   "metadata": {},
   "outputs": [
    {
     "data": {
      "text/plain": [
       "array(['Iris-virginica', 'Iris-versicolor', 'Iris-setosa'], dtype='<U15')"
      ]
     },
     "execution_count": 10,
     "metadata": {},
     "output_type": "execute_result"
    }
   ],
   "source": [
    "species = np.array(list(set(dataset[:,4])))\n",
    "species"
   ]
  },
  {
   "cell_type": "code",
   "execution_count": 11,
   "id": "b6fa787b",
   "metadata": {},
   "outputs": [],
   "source": [
    "species1 = df[df['Species'].str.contains('Iris-virginica')].to_numpy() # wybieranie danych tylko dla badanego gatunku\n",
    "species1 = species1[:, [0, 1, 2, 3]]"
   ]
  },
  {
   "cell_type": "markdown",
   "id": "b85d59bb",
   "metadata": {},
   "source": [
    "### Obliczanie wektorów i wartości własnych dla klasy Iris-virginica"
   ]
  },
  {
   "cell_type": "code",
   "execution_count": 12,
   "id": "a5eebe72",
   "metadata": {},
   "outputs": [
    {
     "name": "stdout",
     "output_type": "stream",
     "text": [
      "Iris-virginica: \n",
      " macierz cov:\n",
      "[[0.396256 0.091888 0.297224 0.048112]\n",
      " [0.091888 0.101924 0.069952 0.046676]\n",
      " [0.297224 0.069952 0.298496 0.047848]\n",
      " [0.048112 0.046676 0.047848 0.073924]] \n",
      "\n",
      " wartości własne: [0.681349741460896, 0.1044202014237568, 0.0512495192248223, 0.03358053789052518]\n",
      " wektory własne:\n",
      "[[ 0.74101679 -0.16525895 -0.53445017  0.37141165]\n",
      " [ 0.20328772  0.74864279 -0.3253749  -0.54068405]\n",
      " [ 0.62789179 -0.16942776  0.65152357 -0.39059336]\n",
      " [ 0.12377451  0.61928804  0.4289653   0.64587225]]\n"
     ]
    }
   ],
   "source": [
    "num_iterations = 10000 # ustalenie liczby iteracji\n",
    "species1_cov_matrix = cov_for_dataset(species1) # macierz kowariancji dla głównego w tym momencie gatunku\n",
    "# wartości własne i wektory własne dla badanego gatunku\n",
    "species1_eigenvalues, species1_eigenvectors = eigenvalues_eigenvectors(species1_cov_matrix,num_iterations)\n",
    "print(f'Iris-virginica: \\n macierz cov:\\n{species1_cov_matrix} \\n\\n wartości własne: {species1_eigenvalues}\\n wektory własne:\\n{species1_eigenvectors}')"
   ]
  },
  {
   "cell_type": "markdown",
   "id": "3bdd7af5",
   "metadata": {},
   "source": [
    "### Projekcja klas na wektory własne klasy Iris-virginica"
   ]
  },
  {
   "cell_type": "code",
   "execution_count": 13,
   "id": "bafaa0f7",
   "metadata": {
    "scrolled": true
   },
   "outputs": [],
   "source": [
    "current_datasets = [] # lista w której będą zbiory do rysowania\n",
    "s1 = np.asarray(species1 * species1_eigenvectors[:,:2])\n",
    "current_datasets.append(('Iris-virginica',s1))"
   ]
  },
  {
   "cell_type": "code",
   "execution_count": 14,
   "id": "343e878a",
   "metadata": {},
   "outputs": [],
   "source": [
    "species2 = df[df['Species'].str.contains('Iris-setosa')].to_numpy() # wybieranie danych tylko dla badanego gatunku\n",
    "species2 = species2[:, [0, 1, 2, 3]]\n",
    "s2 = np.asarray(species2 * species1_eigenvectors[:,:2])\n",
    "current_datasets.append(('Iris-setosa',s2))"
   ]
  },
  {
   "cell_type": "code",
   "execution_count": 15,
   "id": "6956c7eb",
   "metadata": {},
   "outputs": [],
   "source": [
    "species3 = df[df['Species'].str.contains('Iris-versicolor')].to_numpy() # wybieranie danych tylko dla badanego gatunku\n",
    "species3 = species3[:, [0, 1, 2, 3]]\n",
    "s3 = np.asarray(species3 * species1_eigenvectors[:,:2])\n",
    "current_datasets.append(('Iris-versicolor',s3))"
   ]
  },
  {
   "cell_type": "markdown",
   "id": "fd64dc6e",
   "metadata": {},
   "source": [
    "### Trzy klasy po projekcji na wektory własne klasy Iris-virginica"
   ]
  },
  {
   "cell_type": "code",
   "execution_count": 16,
   "id": "f28caeb7",
   "metadata": {
    "scrolled": true
   },
   "outputs": [
    {
     "name": "stdout",
     "output_type": "stream",
     "text": [
      "3\n"
     ]
    },
    {
     "data": {
      "image/png": "[encoded data removed]",
      "text/plain": [
       "<Figure size 640x480 with 1 Axes>"
      ]
     },
     "metadata": {},
     "output_type": "display_data"
    }
   ],
   "source": [
    "draw_plot(current_datasets)"
   ]
  },
  {
   "cell_type": "markdown",
   "id": "8905df9b",
   "metadata": {},
   "source": [
    "### Zmiana typu serii na macierzowy z biblioteki numpy"
   ]
  },
  {
   "cell_type": "code",
   "execution_count": 17,
   "id": "6e2b4237",
   "metadata": {},
   "outputs": [],
   "source": [
    "s2_m = np.matrix(s2)\n",
    "s3_m = np.matrix(s3)"
   ]
  },
  {
   "cell_type": "code",
   "execution_count": 18,
   "id": "a9568659",
   "metadata": {},
   "outputs": [
    {
     "name": "stdout",
     "output_type": "stream",
     "text": [
      "Wartości średnie w macierzach Setosa: [[5.353802013598783 1.634638797372408]], Versicolor: [[7.80072663740321 1.192177078876823]]\n"
     ]
    }
   ],
   "source": [
    "s2_m_mean = np.mean(s2_m, axis=0)\n",
    "s3_m_mean = np.mean(s3_m, axis=0)\n",
    "print(f'Wartości średnie w macierzach Setosa: {s2_m_mean}, Versicolor: {s3_m_mean}')"
   ]
  },
  {
   "cell_type": "markdown",
   "id": "dbe80ec2",
   "metadata": {},
   "source": [
    "### Wykres serii 2 (Iris-setosa) i serii 3 (Iris-versicolor) oraz ich wartości średnich"
   ]
  },
  {
   "cell_type": "code",
   "execution_count": 19,
   "id": "a36f585c",
   "metadata": {},
   "outputs": [
    {
     "data": {
      "image/png": "[encoded data removed]",
      "text/plain": [
       "<Figure size 800x600 with 1 Axes>"
      ]
     },
     "metadata": {},
     "output_type": "display_data"
    }
   ],
   "source": [
    "plt.figure(figsize=(8, 6))\n",
    "\n",
    "plt.scatter(s2[:,[0]], s2[:,[1]], label='Seria 2', color='blue', marker='o')\n",
    "plt.scatter(s2_m_mean[0, 0], s2_m_mean[0, 1], label='Seria 2 - średnia', color='cyan', marker='o')\n",
    "plt.scatter(s3[:,[0]], s3[:,[1]], label='Seria 3', color='red', marker='x')\n",
    "plt.scatter(s3_m_mean[0, 0], s3_m_mean[0, 1], label='Seria 3 - średnia', color='green', marker='x')\n",
    "\n",
    "plt.xlabel('X')\n",
    "plt.ylabel('Y')\n",
    "\n",
    "plt.xlim(4, 10)\n",
    "plt.ylim(-2, 4)\n",
    "\n",
    "plt.legend()\n",
    "plt.title('Serie danych')\n",
    "plt.show()"
   ]
  },
  {
   "cell_type": "markdown",
   "id": "02a9c9ad",
   "metadata": {},
   "source": [
    "### Obliczenie Sw"
   ]
  },
  {
   "cell_type": "code",
   "execution_count": 20,
   "id": "ec148bff",
   "metadata": {},
   "outputs": [
    {
     "data": {
      "text/plain": [
       "matrix([[0.6042078 , 0.1255536 ],\n",
       "        [0.1255536 , 0.13117688]])"
      ]
     },
     "execution_count": 20,
     "metadata": {},
     "output_type": "execute_result"
    }
   ],
   "source": [
    "Sw = cov_for_dataset(s2)+cov_for_dataset(s3) # dodanie macierzy kowariancji s2 i s3 do siebie\n",
    "Sw = Sw.astype(np.float64)\n",
    "Sw"
   ]
  },
  {
   "cell_type": "markdown",
   "id": "729f23b2",
   "metadata": {},
   "source": [
    "### Obliczamy wektor \"w\""
   ]
  },
  {
   "cell_type": "code",
   "execution_count": 21,
   "id": "4d6846d3",
   "metadata": {},
   "outputs": [
    {
     "data": {
      "text/plain": [
       "matrix([[0.5481254282141249],\n",
       "        [-0.8363961471366796]], dtype=object)"
      ]
     },
     "execution_count": 21,
     "metadata": {},
     "output_type": "execute_result"
    }
   ],
   "source": [
    "w = np.linalg.inv(Sw) * (s3_m_mean.T - s2_m_mean.T)\n",
    "w = w / sqrt(np.dot(w.T, w)[0, 0]) # [0, 0] ponieważ wyciągamy ten element z obiektu np.Matrix żeby przyjęło go sqrt\n",
    "w"
   ]
  },
  {
   "cell_type": "code",
   "execution_count": 22,
   "id": "d9d34ffb",
   "metadata": {},
   "outputs": [
    {
     "data": {
      "image/png": "[encoded data removed]",
      "text/plain": [
       "<Figure size 800x600 with 1 Axes>"
      ]
     },
     "metadata": {},
     "output_type": "display_data"
    }
   ],
   "source": [
    "plt.figure(figsize=(8, 6))\n",
    "\n",
    "plt.scatter(s2[:,[0]], s2[:,[1]], label='Seria 2', color='blue', marker='o')\n",
    "plt.scatter(s2_m_mean[0, 0], s2_m_mean[0, 1], label='Seria 2 - średnia', color='cyan', marker='o')\n",
    "plt.scatter(s3[:,[0]], s3[:,[1]], label='Seria 3', color='red', marker='x')\n",
    "plt.scatter(s3_m_mean[0, 0], s3_m_mean[0, 1], label='Seria 3 - średnia', color='green', marker='x')\n",
    "\n",
    "x = np.linspace(0, 10, 100)\n",
    "plt.plot(x, x * w[1,0] / w[0,0], label=\"w\")\n",
    "\n",
    "plt.xlabel('X')\n",
    "plt.ylabel('Y')\n",
    "\n",
    "#plt.xlim(4, 10)\n",
    "#plt.ylim(-2, 4)\n",
    "\n",
    "plt.legend()\n",
    "plt.title('Serie danych a wektor \"w\"')\n",
    "plt.show()"
   ]
  },
  {
   "cell_type": "markdown",
   "id": "5b5c9d5c",
   "metadata": {},
   "source": [
    "### Projekcja serii na wektor \"w\""
   ]
  },
  {
   "cell_type": "code",
   "execution_count": 23,
   "id": "c3de43db",
   "metadata": {},
   "outputs": [
    {
     "data": {
      "text/plain": [
       "matrix([[0.8578293219828673, -1.308979848180032],\n",
       "        [0.9392199034571735, -1.4331754524236113],\n",
       "        [0.7964811390148981, -1.2153673623746835],\n",
       "        [0.8481193257165591, -1.2941631601597146],\n",
       "        [0.7997758846206464, -1.2203948841581957],\n",
       "        [0.8650427264973992, -1.319986934210232],\n",
       "        [0.7121731087929613, -1.08671996157801],\n",
       "        [0.8828356189666946, -1.3471374839598091],\n",
       "        [0.8182362505307106, -1.248563945703502],\n",
       "        [0.9623104311243441, -1.4684097754126002],\n",
       "        [0.9175519122168303, -1.4001118077599037],\n",
       "        [0.8497884785883009, -1.2967101557177485],\n",
       "        [0.9340529486725023, -1.4252910871818654],\n",
       "        [0.7049597042784299, -1.0757128755478116],\n",
       "        [0.8723725363134627, -1.3311716455442315],\n",
       "        [0.7602278806355383, -1.1600477510797995],\n",
       "        [0.7585151676260623, -1.157434286189211],\n",
       "        [0.8331567617194242, -1.2713314682981196],\n",
       "        [1.0074477542192906, -1.5372857683612957],\n",
       "        [0.7751468844949383, -1.1828129736088389],\n",
       "        [1.055457458594819, -1.6105447884649506],\n",
       "        [0.7786882465456024, -1.1882168126251056],\n",
       "        [0.5738902655568536, -0.8757112556425437],\n",
       "        [0.9201351549742554, -1.4040536323464199],\n",
       "        [0.9296841477418035, -1.4186246417335144],\n",
       "        [1.0223231979409564, -1.55998452155778],\n",
       "        [0.8601223881576432, -1.31247888620124],\n",
       "        [0.9143007267488159, -1.3951507553089462],\n",
       "        [0.9158827593450882, -1.3975648122018691],\n",
       "        [0.8763768081684008, -1.3372818483904492],\n",
       "        [0.9344302455306213, -1.4258668124122855],\n",
       "        [0.9528485586322653, -1.4539717046906162],\n",
       "        [0.7696897531276177, -1.1744858218017846],\n",
       "        [0.7796899259765753, -1.1897452963874107],\n",
       "        [0.9623104311243441, -1.4684097754126002],\n",
       "        [0.8593677944414055, -1.3113274357404012],\n",
       "        [0.9505554924574889, -1.450472666669408],\n",
       "        [0.9623104311243441, -1.4684097754126002],\n",
       "        [0.7633904384987694, -1.1648735648000674],\n",
       "        [0.9126751340148087, -1.392670229083467],\n",
       "        [0.7766853569534763, -1.1851605611692073],\n",
       "        [0.9660548494821886, -1.4741234623290653],\n",
       "        [0.7069625938705559, -1.07876912700371],\n",
       "        [0.7825633453166508, -1.194129907539237],\n",
       "        [0.8570018831028327, -1.3077172417479477],\n",
       "        [0.8847078281456164, -1.3499943274180413],\n",
       "        [0.8264513344762157, -1.2610995154960063],\n",
       "        [0.793273513684618, -1.2104727792562802],\n",
       "        [0.8877123971687161, -1.3545790626362457],\n",
       "        [0.8844176515629669, -1.3495515408527323]], dtype=object)"
      ]
     },
     "execution_count": 23,
     "metadata": {},
     "output_type": "execute_result"
    }
   ],
   "source": [
    "s2_m_proj_w = s2_m * np.multiply(w,w.T).T # przemnożenie serii 2 przez iloczyn zewnętrzny\n",
    "s2_m_proj_w"
   ]
  },
  {
   "cell_type": "code",
   "execution_count": 24,
   "id": "37345e98",
   "metadata": {},
   "outputs": [
    {
     "data": {
      "text/plain": [
       "matrix([[2.0922035123665705, -3.192537449814546],\n",
       "        [1.835230082378775, -2.8004162751801758],\n",
       "        [2.119169138804789, -3.233684867717665],\n",
       "        [1.7367854197104253, -2.6501974888884146],\n",
       "        [2.0045571764011507, -3.0587960579018043],\n",
       "        [1.7885542868252902, -2.729192694671112],\n",
       "        [1.8057678641887804, -2.7554592552869384],\n",
       "        [1.417128859873123, -2.1624268048572386],\n",
       "        [2.055527889662043, -3.136573343891107],\n",
       "        [1.483106735328379, -2.2631038360375584],\n",
       "        [1.613087843613333, -2.461444749584122],\n",
       "        [1.6625646826129161, -2.5369425013424793],\n",
       "        [1.9882145980554302, -3.033858573050618],\n",
       "        [1.9082896438758654, -2.911899400396163],\n",
       "        [1.4908138420025612, -2.274864272601978],\n",
       "        [1.9510032203828325, -2.977076947325985],\n",
       "        [1.652941806622077, -2.522258751987272],\n",
       "        [1.814097846106502, -2.7681701503176632],\n",
       "        [2.057690275423616, -3.13987297391465],\n",
       "        [1.7329103209393768, -2.644284393974283],\n",
       "        [1.6919104955013795, -2.581721895931916],\n",
       "        [1.774752898428575, -2.7081328651394663],\n",
       "        [2.1094155824007457, -3.2188017103647915],\n",
       "        [1.9858486867168579, -3.0302483790581656],\n",
       "        [1.9159531904123126, -2.9235933676280266],\n",
       "        [1.9493776276488255, -2.9745964211005065],\n",
       "        [2.172012061244604, -3.3143189971652007],\n",
       "        [2.064990800213616, -3.1510129986099593],\n",
       "        [1.8005137891286398, -2.747441951380082],\n",
       "        [1.6526809150654895, -2.521860652060653],\n",
       "        [1.7046528384875352, -2.601165705743549],\n",
       "        [1.7026935090331439, -2.5981759236202056],\n",
       "        [1.7114889461439484, -2.611597066543329],\n",
       "        [1.9920604118004162, -3.039726981326059],\n",
       "        [1.5932627765258491, -2.4311932617399563],\n",
       "        [1.6347716172946631, -2.494532477007276],\n",
       "        [2.0062263292728924, -3.061343053459839],\n",
       "        [2.0820290989666743, -3.1770120978986975],\n",
       "        [1.595759368277625, -2.4350028637300745],\n",
       "        [1.6803575750822115, -2.5640930510920565],\n",
       "        [1.7833437719028848, -2.7212418600968107],\n",
       "        [1.8534438318439241, -2.828209019492728],\n",
       "        [1.7663347581758895, -2.695287447446763],\n",
       "        [1.4751822972353437, -2.2510117688790747],\n",
       "        [1.7070330249377803, -2.604797682429867],\n",
       "        [1.6769033333070165, -2.5588221507409],\n",
       "        [1.6804446953576808, -2.5642259897571678],\n",
       "        [1.8562741603160846, -2.832527877380711],\n",
       "        [1.3440257382382983, -2.0508772103086965],\n",
       "        [1.6820267279539536, -2.566640046650091]], dtype=object)"
      ]
     },
     "execution_count": 24,
     "metadata": {},
     "output_type": "execute_result"
    }
   ],
   "source": [
    "s3_m_proj_w = s3_m * np.multiply(w,w.T).T # przemnożenie serii 2 przez iloczyn zewnętrzny\n",
    "s3_m_proj_w"
   ]
  },
  {
   "cell_type": "markdown",
   "id": "865ed976",
   "metadata": {},
   "source": [
    "### Wyliczenie średnich dla serii 2 i 3 po projekcji na wektor w"
   ]
  },
  {
   "cell_type": "code",
   "execution_count": 25,
   "id": "d99549f2",
   "metadata": {},
   "outputs": [
    {
     "data": {
      "text/plain": [
       "matrix([[0.8591040770387063, -1.3109250237956218]], dtype=object)"
      ]
     },
     "execution_count": 25,
     "metadata": {},
     "output_type": "execute_result"
    }
   ],
   "source": [
    "s2_m_mean_proj_w = s2_m_mean * w * w.T\n",
    "s2_m_mean_proj_w"
   ]
  },
  {
   "cell_type": "code",
   "execution_count": 26,
   "id": "83171f2d",
   "metadata": {},
   "outputs": [
    {
     "data": {
      "text/plain": [
       "matrix([[1.797108318041774, -2.7422454712504876]], dtype=object)"
      ]
     },
     "execution_count": 26,
     "metadata": {},
     "output_type": "execute_result"
    }
   ],
   "source": [
    "s3_m_mean_proj_w = s3_m_mean * w * w.T\n",
    "s3_m_mean_proj_w"
   ]
  },
  {
   "cell_type": "code",
   "execution_count": 27,
   "id": "3a2b92d7",
   "metadata": {},
   "outputs": [],
   "source": [
    "s2_proj_w = np.asarray(s2_m_proj_w[:,[0,1]])\n",
    "s3_proj_w = np.asarray(s3_m_proj_w[:,[0,1]])"
   ]
  },
  {
   "cell_type": "markdown",
   "id": "bd61e3ab",
   "metadata": {},
   "source": [
    "### Pokazanie separacji klas po projekcji na wektor w"
   ]
  },
  {
   "cell_type": "code",
   "execution_count": 28,
   "id": "a58cc5f7",
   "metadata": {},
   "outputs": [
    {
     "data": {
      "image/png": "[encoded data removed]",
      "text/plain": [
       "<Figure size 800x600 with 1 Axes>"
      ]
     },
     "metadata": {},
     "output_type": "display_data"
    }
   ],
   "source": [
    "plt.figure(figsize=(8, 6))\n",
    "\n",
    "plt.scatter(s2_proj_w[:,[0]], s2_proj_w[:,[1]], label='Seria 2', color='blue', marker='o')\n",
    "plt.scatter(s2_m_mean_proj_w[0, 0], s2_m_mean_proj_w[0, 1], label='Seria 2 - średnia', color='cyan', marker='o')\n",
    "plt.scatter(s3_proj_w[:,[0]], s3_proj_w[:,[1]], label='Seria 3', color='red', marker='x')\n",
    "plt.scatter(s3_m_mean_proj_w[0, 0], s3_m_mean_proj_w[0, 1], label='Seria 3 - średnia', color='green', marker='x')\n",
    "plt.scatter(s2[:,[0]], s2[:,[1]], color='blue', marker='o')\n",
    "plt.scatter(s2_m_mean[0, 0], s2_m_mean[0, 1], color='cyan', marker='o')\n",
    "plt.scatter(s3[:,[0]], s3[:,[1]], color='red', marker='x')\n",
    "plt.scatter(s3_m_mean[0, 0], s3_m_mean[0, 1], color='green', marker='x')\n",
    "\n",
    "x = np.linspace(0, 10, 100)\n",
    "plt.plot(x, x * w[1,0] / w[0,0], label=\"w\")\n",
    "\n",
    "plt.xlabel('X')\n",
    "plt.ylabel('Y')\n",
    "\n",
    "plt.xlim(0, 10)\n",
    "plt.ylim(-5, 5)\n",
    "\n",
    "plt.legend()\n",
    "plt.title('Serie danych po projekcji na wektor w')\n",
    "plt.show()"
   ]
  },
  {
   "cell_type": "code",
   "execution_count": 29,
   "id": "e2f11268",
   "metadata": {},
   "outputs": [],
   "source": [
    "s2_t = np.dot(s2_m_proj_w, w)\n",
    "#2_t = np.hstack((s2_t, np.ones((s2_t.shape[0], 1))))\n",
    "\n",
    "s3_t = np.dot(s3_m_proj_w, w)\n",
    "#s3_t = np.hstack((s3_t, 2*np.ones((s3_t.shape[0], 1))))\n",
    "\n",
    "s2_t = np.array(s2_t).flat\n",
    "s2_t = list(s2_t)\n",
    "\n",
    "\n",
    "s3_t = np.array(s3_t).flat\n",
    "s3_t = list(s3_t)"
   ]
  },
  {
   "cell_type": "code",
   "execution_count": 30,
   "id": "2ff3365d",
   "metadata": {},
   "outputs": [
    {
     "data": {
      "text/plain": [
       "[[1.0470053677799158, 'Iris-setosa'],\n",
       " [1.2861284443148255, 'Iris-setosa'],\n",
       " [1.2897825159725695, 'Iris-setosa'],\n",
       " [1.2992885791000948, 'Iris-setosa'],\n",
       " [1.3838350285944934, 'Iris-setosa'],\n",
       " [1.3869597021113855, 'Iris-setosa'],\n",
       " [1.3927294724968524, 'Iris-setosa'],\n",
       " [1.4042219417467692, 'Iris-setosa'],\n",
       " [1.4141779319023449, 'Iris-setosa'],\n",
       " [1.4169847209680348, 'Iris-setosa'],\n",
       " [1.4206387926257789, 'Iris-setosa'],\n",
       " [1.422466256522567, 'Iris-setosa'],\n",
       " [1.4277085226028647, 'Iris-setosa'],\n",
       " [1.4472481531630859, 'Iris-setosa'],\n",
       " [1.453100144632869, 'Iris-setosa'],\n",
       " [1.459111078328252, 'Iris-setosa'],\n",
       " [1.4927901688426453, 'Iris-setosa'],\n",
       " [1.5077777675247037, 'Iris-setosa'],\n",
       " [1.520011148605118, 'Iris-setosa'],\n",
       " [1.547308849508879, 'Iris-setosa'],\n",
       " [1.5503540519129708, 'Iris-setosa'],\n",
       " [1.563514186698241, 'Iris-setosa'],\n",
       " [1.5650237661438262, 'Iris-setosa'],\n",
       " [1.5678305552095169, 'Iris-setosa'],\n",
       " [1.5692072359424216, 'Iris-setosa'],\n",
       " [1.578183900929097, 'Iris-setosa'],\n",
       " [1.591556405539848, 'Iris-setosa'],\n",
       " [1.5988617988838216, 'Iris-setosa'],\n",
       " [1.6106452529361863, 'Iris-setosa'],\n",
       " [1.6135315131146766, 'Iris-setosa'],\n",
       " [1.6140609112555273, 'Iris-setosa'],\n",
       " [1.6195424468100608, 'Iris-setosa'],\n",
       " [1.6650844624896195, 'Iris-setosa'],\n",
       " [1.6680501937809113, 'Iris-setosa'],\n",
       " [1.6709364539594014, 'Iris-setosa'],\n",
       " [1.6739816563634942, 'Iris-setosa'],\n",
       " [1.6786945243029396, 'Iris-setosa'],\n",
       " [1.6961157061639238, 'Iris-setosa'],\n",
       " [1.7040861463329429, 'Iris-setosa'],\n",
       " [1.704774486699396, 'Iris-setosa'],\n",
       " [1.7135127383476685, 'Iris-setosa'],\n",
       " [1.7341933862739078, 'Iris-setosa'],\n",
       " [1.7383768560725037, 'Iris-setosa'],\n",
       " [1.755639095707886, 'Iris-setosa'],\n",
       " [1.755639095707886, 'Iris-setosa'],\n",
       " [1.755639095707886, 'Iris-setosa'],\n",
       " [1.762470412346569, 'Iris-setosa'],\n",
       " [1.837987625390245, 'Iris-setosa'],\n",
       " [1.8651263840684038, 'Iris-setosa'],\n",
       " [1.9255765273172207, 'Iris-setosa'],\n",
       " [2.452040480255288, 'Iris-versicolor'],\n",
       " [2.5854098112002255, 'Iris-versicolor'],\n",
       " [2.6913224990157993, 'Iris-versicolor'],\n",
       " [2.7057798434211744, 'Iris-versicolor'],\n",
       " [2.7198406883983783, 'Iris-versicolor'],\n",
       " [2.906748518704813, 'Iris-versicolor'],\n",
       " [2.91130330055449, 'Iris-versicolor'],\n",
       " [2.9429173699695266, 'Iris-versicolor'],\n",
       " [2.982477245438138, 'Iris-versicolor'],\n",
       " [3.0151509672707077, 'Iris-versicolor'],\n",
       " [3.015626937811679, 'Iris-versicolor'],\n",
       " [3.033182912221026, 'Iris-versicolor'],\n",
       " [3.0593423457302826, 'Iris-versicolor'],\n",
       " [3.065644264228115, 'Iris-versicolor'],\n",
       " [3.0658032064537175, 'Iris-versicolor'],\n",
       " [3.068689466632208, 'Iris-versicolor'],\n",
       " [3.0867214115825243, 'Iris-versicolor'],\n",
       " [3.106393940855427, 'Iris-versicolor'],\n",
       " [3.10996854140037, 'Iris-versicolor'],\n",
       " [3.1143109534245665, 'Iris-versicolor'],\n",
       " [3.1224403358191877, 'Iris-versicolor'],\n",
       " [3.161521490775313, 'Iris-versicolor'],\n",
       " [3.1685912207523987, 'Iris-versicolor'],\n",
       " [3.2225010321649807, 'Iris-versicolor'],\n",
       " [3.237859086762289, 'Iris-versicolor'],\n",
       " [3.2535322758392855, 'Iris-versicolor'],\n",
       " [3.2630383389668114, 'Iris-versicolor'],\n",
       " [3.2848572542875534, 'Iris-versicolor'],\n",
       " [3.294442788527881, 'Iris-versicolor'],\n",
       " [3.309640007063905, 'Iris-versicolor'],\n",
       " [3.3481936577148605, 'Iris-versicolor'],\n",
       " [3.3814228212012036, 'Iris-versicolor'],\n",
       " [3.3865864723045327, 'Iris-versicolor'],\n",
       " [3.481483517546997, 'Iris-versicolor'],\n",
       " [3.495464891411399, 'Iris-versicolor'],\n",
       " [3.5564444328010674, 'Iris-versicolor'],\n",
       " [3.559410164092358, 'Iris-versicolor'],\n",
       " [3.622982230886554, 'Iris-versicolor'],\n",
       " [3.6272985993978284, 'Iris-versicolor'],\n",
       " [3.6343149017750345, 'Iris-versicolor'],\n",
       " [3.6571139984005114, 'Iris-versicolor'],\n",
       " [3.6601592008046038, 'Iris-versicolor'],\n",
       " [3.750104964769217, 'Iris-versicolor'],\n",
       " [3.7540500212294114, 'Iris-versicolor'],\n",
       " [3.7673690982402825, 'Iris-versicolor'],\n",
       " [3.7984537695144676, 'Iris-versicolor'],\n",
       " [3.8170159687414693, 'Iris-versicolor'],\n",
       " [3.848417668331023, 'Iris-versicolor'],\n",
       " [3.866212056078772, 'Iris-versicolor'],\n",
       " [3.9626186807668207, 'Iris-versicolor']]"
      ]
     },
     "execution_count": 30,
     "metadata": {},
     "output_type": "execute_result"
    }
   ],
   "source": [
    "s2_tt = [[element, 'Iris-setosa'] for element in s2_t]\n",
    "s3_tt = [[element, 'Iris-versicolor'] for element in s3_t]\n",
    "s23_t = sorted(s2_tt + s3_tt, key=lambda x: x[0])\n",
    "s23_t"
   ]
  },
  {
   "cell_type": "markdown",
   "id": "9f8ecc82",
   "metadata": {},
   "source": [
    "### Obliczanie theta"
   ]
  },
  {
   "cell_type": "markdown",
   "id": "d67c5bce",
   "metadata": {},
   "source": [
    "### Wybieranie punktów kandydatów"
   ]
  },
  {
   "cell_type": "code",
   "execution_count": 31,
   "id": "9db564e0",
   "metadata": {
    "scrolled": true
   },
   "outputs": [
    {
     "data": {
      "text/plain": [
       "[2.1888085037862544]"
      ]
     },
     "execution_count": 31,
     "metadata": {},
     "output_type": "execute_result"
    }
   ],
   "source": [
    "point_candidates = [] # lista na punkty będące kandydatami na punkt wyznaczenia podziału klas\n",
    "\n",
    "# wybieranie pierwszego punktu który mógłby być kandydatem\n",
    "prev_point = s23_t[0]\n",
    "\n",
    "# przechodzenie po wszystkich punktach\n",
    "for actual_point in s23_t[1:]:\n",
    "    if actual_point[1] != prev_point[1]: # jeżeli klasa aktualnie badana różni się od klasy poprzedniej to obliczamy kandydata na punkt\n",
    "        between_point = ((actual_point[0] + prev_point[0]) / 2) # średnia arytmetyczna z aktualnego i poprzednio badanego\n",
    "        point_candidates.append(between_point) # dodawanie do listy kandydatów\n",
    "        \n",
    "    prev_point = actual_point\n",
    "\n",
    "point_candidates"
   ]
  },
  {
   "cell_type": "markdown",
   "id": "49fe27be",
   "metadata": {},
   "source": [
    "### Z kandydatów wybierany jest theta"
   ]
  },
  {
   "cell_type": "code",
   "execution_count": 39,
   "id": "adf2a26c",
   "metadata": {},
   "outputs": [
    {
     "data": {
      "text/plain": [
       "(100, 2.1888085037862544)"
      ]
     },
     "execution_count": 39,
     "metadata": {},
     "output_type": "execute_result"
    }
   ],
   "source": [
    "best_score = 0\n",
    "best_candidate = None\n",
    "\n",
    "for point_candidate in point_candidates:\n",
    "    s2_good_classified = [element for element in s23_t if element[0] < point_candidate and element[1] == 'Iris-setosa']\n",
    "    s2_score = len(s2_good_classified)\n",
    "    \n",
    "    s3_good_classified = [element for element in s23_t if element[0] > point_candidate and element[1] == 'Iris-versicolor']\n",
    "    s3_score = len(s2_good_classified)\n",
    "    \n",
    "    current_score = s2_score + s3_score\n",
    "    if current_score > best_score:\n",
    "        best_score = current_score\n",
    "        best_candidate = point_candidate\n",
    "        \n",
    "theta = best_candidate * w\n",
    "best_score, best_candidate"
   ]
  },
  {
   "cell_type": "code",
   "execution_count": 40,
   "id": "8fbf06f4",
   "metadata": {
    "scrolled": true
   },
   "outputs": [
    {
     "data": {
      "image/png": "[encoded data removed]",
      "text/plain": [
       "<Figure size 800x600 with 1 Axes>"
      ]
     },
     "metadata": {},
     "output_type": "display_data"
    }
   ],
   "source": [
    "plt.figure(figsize=(8, 6))\n",
    "\n",
    "plt.scatter(s2_proj_w[:,[0]], s2_proj_w[:,[1]], label='Seria 2', color='blue', marker='o')\n",
    "plt.scatter(s2_m_mean_proj_w[0, 0], s2_m_mean_proj_w[0, 1], label='Seria 2 - średnia', color='cyan', marker='o')\n",
    "plt.scatter(s3_proj_w[:,[0]], s3_proj_w[:,[1]], label='Seria 3', color='red', marker='x')\n",
    "plt.scatter(s3_m_mean_proj_w[0, 0], s3_m_mean_proj_w[0, 1], label='Seria 3 - średnia', color='green', marker='x')\n",
    "plt.scatter(s2[:,[0]], s2[:,[1]], color='blue', marker='o')\n",
    "plt.scatter(s2_m_mean[0, 0], s2_m_mean[0, 1], color='cyan', marker='o')\n",
    "plt.scatter(s3[:,[0]], s3[:,[1]], color='red', marker='x')\n",
    "plt.scatter(s3_m_mean[0, 0], s3_m_mean[0, 1], color='green', marker='x')\n",
    "\n",
    "x = np.linspace(0, 10, 100)\n",
    "plt.plot(x, x * w[1,0] / w[0,0], label=\"w\")\n",
    "\n",
    "plt.scatter(theta[0][0,0], theta[1][0,0], color='black')\n",
    "x_div = x + theta[0][0,0]\n",
    "y_div = -x / (w[1,0] / w[0,0]) + theta[1][0,0]\n",
    "plt.plot(x_div,y_div, color='purple')\n",
    "\n",
    "plt.xlabel('X')\n",
    "plt.ylabel('Y')\n",
    "\n",
    "plt.xlim(0, 10)\n",
    "plt.ylim(-5, 5)\n",
    "\n",
    "plt.legend()\n",
    "plt.title('Serie danych po projekcji na wektor w')\n",
    "plt.show()"
   ]
  },
  {
   "cell_type": "markdown",
   "id": "573e9101",
   "metadata": {},
   "source": [
    "### Wnioski\n",
    "\n",
    "Udało się poprawnie wyznaczyć podział pomiędzy dwiema seriami w powyższych krokach. Na wykresach widać separowalność wybranych klas."
   ]
  }
 ],
 "metadata": {
  "kernelspec": {
   "display_name": "Python 3 (ipykernel)",
   "language": "python",
   "name": "python3"
  },
  "language_info": {
   "codemirror_mode": {
    "name": "ipython",
    "version": 3
   },
   "file_extension": ".py",
   "mimetype": "text/x-python",
   "name": "python",
   "nbconvert_exporter": "python",
   "pygments_lexer": "ipython3",
   "version": "3.9.13"
  }
 },
 "nbformat": 4,
 "nbformat_minor": 5
}
