{
 "cells": [
  {
   "cell_type": "markdown",
   "id": "acf72b58",
   "metadata": {},
   "source": [
    "# Zadanie 4 Pracownia Specjalistyczna - Eksploracja danych\n",
    "### Krzysztof Funkowski"
   ]
  },
  {
   "cell_type": "code",
   "execution_count": 17,
   "id": "6a99b8f6",
   "metadata": {},
   "outputs": [],
   "source": [
    "from math import *\n",
    "import random\n",
    "import numpy as np\n",
    "import matplotlib.pyplot as plt\n",
    "import pandas as pd"
   ]
  },
  {
   "cell_type": "markdown",
   "id": "0784e846",
   "metadata": {},
   "source": [
    "# Zadanie 4\n",
    "- Konstrukcja klasyfikatora liniowego w oparciu o kryterium Fishera \n",
    "- Wybór progu na podstawie dwu zbiorów danych"
   ]
  },
  {
   "cell_type": "markdown",
   "id": "03ee9086",
   "metadata": {},
   "source": [
    "### Funkcja służąca do obliczania kowariancji dla dwóch wektorów"
   ]
  },
  {
   "cell_type": "code",
   "execution_count": 18,
   "id": "0de53455",
   "metadata": {},
   "outputs": [],
   "source": [
    "def cov(x, y, x_avg, y_avg):\n",
    "    elements_count = len(x) # ilość elementów w tablicy\n",
    "    elements_sum = 0\n",
    "    \n",
    "    for x,y in zip(x,y):\n",
    "        elements_sum = elements_sum + ((x - x_avg)*(y - y_avg)) # sumowanie (x - średnia_arytmetyczna_x) * (y - średnia_arytmetyczna_y)\n",
    "    \n",
    "    return elements_sum / elements_count # suma dzielona przez liczbę elementów"
   ]
  },
  {
   "cell_type": "markdown",
   "id": "ee95339d",
   "metadata": {},
   "source": [
    "### Funkcja obliczająca macierz kowariancji dla zbioru danych"
   ]
  },
  {
   "cell_type": "code",
   "execution_count": 19,
   "id": "b2e39798",
   "metadata": {},
   "outputs": [],
   "source": [
    "def cov_for_dataset(cov_dataset):\n",
    "    avgs = []\n",
    "    matrix_shape = cov_dataset.shape[1] # wymiary_macierzy czyli liczba_kolumn_bioru_danych x liczba_kolumn_bioru_danych\n",
    "    for i in range(matrix_shape):\n",
    "        avgs.append(cov_dataset[:,i].mean()) # obliczanie średnich dla każdego parametru\n",
    "    \n",
    "    matrix = []\n",
    "    for i in range(matrix_shape):\n",
    "        matrix_row = []\n",
    "        for j in range(matrix_shape):\n",
    "            #matrix_shape*i + j\n",
    "            res = cov(cov_dataset[:,i],cov_dataset[:,j],avgs[i], avgs[j]) # wyznaczanie kowariancji dla każdej pary parametrów\n",
    "            matrix_row.append(res) # budowanie wiersza macierzy\n",
    "        matrix.append(matrix_row) # dodawanie wiersza macierzy do tablicy bazowej\n",
    "    \n",
    "    return np.matrix(matrix) # przekształcanie typu tablicy na macierz"
   ]
  },
  {
   "cell_type": "markdown",
   "id": "535d9769",
   "metadata": {},
   "source": [
    "### Funkcja do obliczania długości wektora własnego"
   ]
  },
  {
   "cell_type": "code",
   "execution_count": 20,
   "id": "5aa117c1",
   "metadata": {},
   "outputs": [],
   "source": [
    "def eigenvector_len(v1):\n",
    "    dims = v1.shape[0] # ilość elementów wektora\n",
    "    length = 0\n",
    "    \n",
    "    for i in range(dims):\n",
    "        val = v1[i].ravel().tolist()[0][0]\n",
    "        length = length + pow(val,2) # sumowanie elementów podniesionych do kwadratu\n",
    "        \n",
    "    \n",
    "    length = sqrt(length) # pierwiastkowanie wyniku sumy elementów wektora podniesionych do kwadratów\n",
    "    \n",
    "    return length # zwracanie długości"
   ]
  },
  {
   "cell_type": "markdown",
   "id": "4cb54351",
   "metadata": {},
   "source": [
    "### Funkcja normalizująca, zwracająca wartość własną i wektor własny"
   ]
  },
  {
   "cell_type": "code",
   "execution_count": 21,
   "id": "d5cf0912",
   "metadata": {},
   "outputs": [],
   "source": [
    "def eigenvector_normalization(v1):\n",
    "    eigenvalue = eigenvector_len(v1) # wylicznaie wartości własnej\n",
    "    eigenvector = v1 / eigenvalue # wyliczanie wektora własnego\n",
    "    \n",
    "    return eigenvalue, eigenvector # zwrócenie wartości własnej i wektora własnego"
   ]
  },
  {
   "cell_type": "markdown",
   "id": "9006807e",
   "metadata": {},
   "source": [
    "### Pomocnicza funkcja zmieniająca tablicę wektorów własnych w odpowiednią formę macierzy"
   ]
  },
  {
   "cell_type": "code",
   "execution_count": 22,
   "id": "a9083493",
   "metadata": {},
   "outputs": [],
   "source": [
    "def rearrange_matrix(eigenvectors):\n",
    "    res = []\n",
    "\n",
    "    for i in range(len(eigenvectors)):\n",
    "        row = eigenvectors[i].ravel().tolist()[0]\n",
    "        res.append(row)\n",
    "\n",
    "    return np.matrix(res).T"
   ]
  },
  {
   "cell_type": "markdown",
   "id": "36325745",
   "metadata": {},
   "source": [
    "### Funkcja odpowiadająca za obliczanie wartości własnych i wektorów własnych"
   ]
  },
  {
   "cell_type": "code",
   "execution_count": 23,
   "id": "f102a35e",
   "metadata": {},
   "outputs": [],
   "source": [
    "def eigenvalues_eigenvectors(matrix, num_iterations):\n",
    "    n = matrix.shape[0] # jeden z wymiarów macierzy, ponieważ jest kwadratowa to wystarczy tylko jeden\n",
    "    eigenvalues = [] # lista na wartości własne\n",
    "    eigenvectors = [] # lista na wektory własne\n",
    "    \n",
    "    for i in range(n):\n",
    "        # losowe dane wektora na początku\n",
    "        eigenvector = np.random.rand(n,1)\n",
    "    \n",
    "        # algorytm iteracyjny wykonywany num_iterations razy\n",
    "        for _ in range(num_iterations):\n",
    "            eigenvector = np.dot(matrix, eigenvector) # mnożenie macierzy kowariancji przez wektor \n",
    "            eigenvalue, eigenvector = eigenvector_normalization(eigenvector) # normalizacja wektora\n",
    "            \n",
    "        # usuwanie z macierzy znalezionej wartości własnej i wektora własnego\n",
    "        # marix - wartość własna * iloczyn zewnętrzny wektora własnego\n",
    "        matrix = matrix - eigenvalue * np.multiply(eigenvector,eigenvector.T).T \n",
    "        \n",
    "        eigenvalues.append(eigenvalue) # dodanie znalezionej wartości własnej do listy\n",
    "        eigenvectors.append(eigenvector) # dodanie znalezionego wektora własnego do listy\n",
    "        \n",
    "        \n",
    "        \n",
    "    return eigenvalues, rearrange_matrix(eigenvectors) # zwrócenie wartości własnych i wektorów własnych"
   ]
  },
  {
   "cell_type": "code",
   "execution_count": 24,
   "id": "bd913877",
   "metadata": {},
   "outputs": [],
   "source": [
    "def draw_plot(datasets):\n",
    "    colors = ['red','blue','green']\n",
    "    \n",
    "    print(len(datasets))\n",
    "    \n",
    "    # dla każdego zbioru danych z danej kategorii\n",
    "    for i in range(len(datasets)):\n",
    "        # przejście po wszystkich punktach\n",
    "        for j in range(datasets[i][1].shape[0]):\n",
    "            if j==0:\n",
    "                # zaznaczanie punktu dla pierwszego (SepalLengthCm) i drugiego (SepalWidthCm) parametru\n",
    "                plt.scatter(datasets[i][1][j,0],datasets[i][1][j,1], color=colors[i], label=datasets[i][0]) \n",
    "            else:\n",
    "                # zaznaczanie punktu dla pierwszego (SepalLengthCm) i drugiego (SepalWidthCm) parametru\n",
    "                plt.scatter(datasets[i][1][j,0],datasets[i][1][j,1], color=colors[i])\n",
    "    \n",
    "    plt.grid()\n",
    "    plt.legend()\n",
    "    plt.show() "
   ]
  },
  {
   "cell_type": "markdown",
   "id": "d6c33bb0",
   "metadata": {},
   "source": [
    "# ZADANIE"
   ]
  },
  {
   "cell_type": "code",
   "execution_count": 26,
   "id": "758f9824",
   "metadata": {},
   "outputs": [
    {
     "data": {
      "text/html": [
       "<div>\n",
       "<style scoped>\n",
       "    .dataframe tbody tr th:only-of-type {\n",
       "        vertical-align: middle;\n",
       "    }\n",
       "\n",
       "    .dataframe tbody tr th {\n",
       "        vertical-align: top;\n",
       "    }\n",
       "\n",
       "    .dataframe thead th {\n",
       "        text-align: right;\n",
       "    }\n",
       "</style>\n",
       "<table border=\"1\" class=\"dataframe\">\n",
       "  <thead>\n",
       "    <tr style=\"text-align: right;\">\n",
       "      <th></th>\n",
       "      <th>SepalLengthCm</th>\n",
       "      <th>SepalWidthCm</th>\n",
       "      <th>PetalLengthCm</th>\n",
       "      <th>PetalWidthCm</th>\n",
       "      <th>Species</th>\n",
       "    </tr>\n",
       "    <tr>\n",
       "      <th>Id</th>\n",
       "      <th></th>\n",
       "      <th></th>\n",
       "      <th></th>\n",
       "      <th></th>\n",
       "      <th></th>\n",
       "    </tr>\n",
       "  </thead>\n",
       "  <tbody>\n",
       "    <tr>\n",
       "      <th>1</th>\n",
       "      <td>5.1</td>\n",
       "      <td>3.5</td>\n",
       "      <td>1.4</td>\n",
       "      <td>0.2</td>\n",
       "      <td>Iris-setosa</td>\n",
       "    </tr>\n",
       "    <tr>\n",
       "      <th>2</th>\n",
       "      <td>4.9</td>\n",
       "      <td>3.0</td>\n",
       "      <td>1.4</td>\n",
       "      <td>0.2</td>\n",
       "      <td>Iris-setosa</td>\n",
       "    </tr>\n",
       "    <tr>\n",
       "      <th>3</th>\n",
       "      <td>4.7</td>\n",
       "      <td>3.2</td>\n",
       "      <td>1.3</td>\n",
       "      <td>0.2</td>\n",
       "      <td>Iris-setosa</td>\n",
       "    </tr>\n",
       "    <tr>\n",
       "      <th>4</th>\n",
       "      <td>4.6</td>\n",
       "      <td>3.1</td>\n",
       "      <td>1.5</td>\n",
       "      <td>0.2</td>\n",
       "      <td>Iris-setosa</td>\n",
       "    </tr>\n",
       "    <tr>\n",
       "      <th>5</th>\n",
       "      <td>5.0</td>\n",
       "      <td>3.6</td>\n",
       "      <td>1.4</td>\n",
       "      <td>0.2</td>\n",
       "      <td>Iris-setosa</td>\n",
       "    </tr>\n",
       "    <tr>\n",
       "      <th>...</th>\n",
       "      <td>...</td>\n",
       "      <td>...</td>\n",
       "      <td>...</td>\n",
       "      <td>...</td>\n",
       "      <td>...</td>\n",
       "    </tr>\n",
       "    <tr>\n",
       "      <th>146</th>\n",
       "      <td>6.7</td>\n",
       "      <td>3.0</td>\n",
       "      <td>5.2</td>\n",
       "      <td>2.3</td>\n",
       "      <td>Iris-virginica</td>\n",
       "    </tr>\n",
       "    <tr>\n",
       "      <th>147</th>\n",
       "      <td>6.3</td>\n",
       "      <td>2.5</td>\n",
       "      <td>5.0</td>\n",
       "      <td>1.9</td>\n",
       "      <td>Iris-virginica</td>\n",
       "    </tr>\n",
       "    <tr>\n",
       "      <th>148</th>\n",
       "      <td>6.5</td>\n",
       "      <td>3.0</td>\n",
       "      <td>5.2</td>\n",
       "      <td>2.0</td>\n",
       "      <td>Iris-virginica</td>\n",
       "    </tr>\n",
       "    <tr>\n",
       "      <th>149</th>\n",
       "      <td>6.2</td>\n",
       "      <td>3.4</td>\n",
       "      <td>5.4</td>\n",
       "      <td>2.3</td>\n",
       "      <td>Iris-virginica</td>\n",
       "    </tr>\n",
       "    <tr>\n",
       "      <th>150</th>\n",
       "      <td>5.9</td>\n",
       "      <td>3.0</td>\n",
       "      <td>5.1</td>\n",
       "      <td>1.8</td>\n",
       "      <td>Iris-virginica</td>\n",
       "    </tr>\n",
       "  </tbody>\n",
       "</table>\n",
       "<p>150 rows × 5 columns</p>\n",
       "</div>"
      ],
      "text/plain": [
       "     SepalLengthCm  SepalWidthCm  PetalLengthCm  PetalWidthCm         Species\n",
       "Id                                                                           \n",
       "1              5.1           3.5            1.4           0.2     Iris-setosa\n",
       "2              4.9           3.0            1.4           0.2     Iris-setosa\n",
       "3              4.7           3.2            1.3           0.2     Iris-setosa\n",
       "4              4.6           3.1            1.5           0.2     Iris-setosa\n",
       "5              5.0           3.6            1.4           0.2     Iris-setosa\n",
       "..             ...           ...            ...           ...             ...\n",
       "146            6.7           3.0            5.2           2.3  Iris-virginica\n",
       "147            6.3           2.5            5.0           1.9  Iris-virginica\n",
       "148            6.5           3.0            5.2           2.0  Iris-virginica\n",
       "149            6.2           3.4            5.4           2.3  Iris-virginica\n",
       "150            5.9           3.0            5.1           1.8  Iris-virginica\n",
       "\n",
       "[150 rows x 5 columns]"
      ]
     },
     "execution_count": 26,
     "metadata": {},
     "output_type": "execute_result"
    }
   ],
   "source": [
    "df = pd.read_csv('Iris.csv', sep=',', index_col=0)\n",
    "dataset = df.to_numpy()\n",
    "df"
   ]
  },
  {
   "cell_type": "code",
   "execution_count": 27,
   "id": "73d171a9",
   "metadata": {},
   "outputs": [
    {
     "data": {
      "text/plain": [
       "array(['Iris-setosa', 'Iris-virginica', 'Iris-versicolor'], dtype='<U15')"
      ]
     },
     "execution_count": 27,
     "metadata": {},
     "output_type": "execute_result"
    }
   ],
   "source": [
    "species = np.array(list(set(dataset[:,4])))\n",
    "species"
   ]
  },
  {
   "cell_type": "code",
   "execution_count": 55,
   "id": "b6fa787b",
   "metadata": {},
   "outputs": [],
   "source": [
    "species1 = df[df['Species'].str.contains('Iris-virginica')].to_numpy() # wybieranie danych tylko dla badanego gatunku\n",
    "species1 = species1[:, [0, 1, 2, 3]]"
   ]
  },
  {
   "cell_type": "code",
   "execution_count": 56,
   "id": "a5eebe72",
   "metadata": {},
   "outputs": [
    {
     "name": "stdout",
     "output_type": "stream",
     "text": [
      "Iris-setosa: \n",
      " macierz cov:\n",
      "[[0.396256 0.091888 0.297224 0.048112]\n",
      " [0.091888 0.101924 0.069952 0.046676]\n",
      " [0.297224 0.069952 0.298496 0.047848]\n",
      " [0.048112 0.046676 0.047848 0.073924]] \n",
      "\n",
      " wartości własne: [0.681349741460896, 0.10442020142375677, 0.051249519224822286, 0.033580537890525175]\n",
      " wektory własne:\n",
      "[[ 0.74101679 -0.16525895 -0.53445017  0.37141165]\n",
      " [ 0.20328772  0.74864279 -0.3253749  -0.54068405]\n",
      " [ 0.62789179 -0.16942776  0.65152357 -0.39059336]\n",
      " [ 0.12377451  0.61928804  0.4289653   0.64587225]]\n"
     ]
    }
   ],
   "source": [
    "num_iterations = 10000 # ustalenie liczby iteracji\n",
    "species1_cov_matrix = cov_for_dataset(species1) # macierz kowariancji dla głównego w tym momencie gatunku\n",
    "# wartości własne i wektory własne dla badanego gatunku\n",
    "species1_eigenvalues, species1_eigenvectors = eigenvalues_eigenvectors(species1_cov_matrix,num_iterations)\n",
    "print(f'Iris-setosa: \\n macierz cov:\\n{species1_cov_matrix} \\n\\n wartości własne: {species1_eigenvalues}\\n wektory własne:\\n{species1_eigenvectors}')"
   ]
  },
  {
   "cell_type": "code",
   "execution_count": 57,
   "id": "bafaa0f7",
   "metadata": {
    "scrolled": true
   },
   "outputs": [],
   "source": [
    "current_datasets = [] # lista w której będą zbiory do rysowania\n",
    "s1 = np.asarray(species1 * species1_eigenvectors[:,:2])\n",
    "current_datasets.append(('Iris-virginica',s1))"
   ]
  },
  {
   "cell_type": "code",
   "execution_count": 59,
   "id": "343e878a",
   "metadata": {},
   "outputs": [],
   "source": [
    "species2 = df[df['Species'].str.contains('Iris-setosa')].to_numpy() # wybieranie danych tylko dla badanego gatunku\n",
    "species2 = species2[:, [0, 1, 2, 3]]\n",
    "s2 = np.asarray(species2 * species1_eigenvectors[:,:2])\n",
    "current_datasets.append(('Iris-setosa',s2))"
   ]
  },
  {
   "cell_type": "code",
   "execution_count": 60,
   "id": "6956c7eb",
   "metadata": {},
   "outputs": [],
   "source": [
    "species3 = df[df['Species'].str.contains('Iris-versicolor')].to_numpy() # wybieranie danych tylko dla badanego gatunku\n",
    "species3 = species3[:, [0, 1, 2, 3]]\n",
    "s3 = np.asarray(species3 * species1_eigenvectors[:,:2])\n",
    "current_datasets.append(('Iris-versicolor',s3))"
   ]
  },
  {
   "cell_type": "code",
   "execution_count": 61,
   "id": "f28caeb7",
   "metadata": {},
   "outputs": [
    {
     "name": "stdout",
     "output_type": "stream",
     "text": [
      "3\n"
     ]
    },
    {
     "data": {
      "image/png": "[encoded data removed]",
      "text/plain": [
       "<Figure size 640x480 with 1 Axes>"
      ]
     },
     "metadata": {},
     "output_type": "display_data"
    }
   ],
   "source": [
    "draw_plot(current_datasets)"
   ]
  },
  {
   "cell_type": "code",
   "execution_count": 71,
   "id": "302be997",
   "metadata": {},
   "outputs": [
    {
     "data": {
      "text/plain": [
       "array([[5.394496031833511, 1.664087868014614],\n",
       "       [5.144648815819721, 1.3228182609669579],\n",
       "       [4.97431382284356, 1.5225413865716884],\n",
       "       [5.00546172931682, 1.4303174499042999],\n",
       "       [5.340723124597194, 1.7554780427207375],\n",
       "       [5.911238592534799, 1.9869965799929954],\n",
       "       [5.016036316729802, 1.7337818686867497],\n",
       "       [5.3628547598032466, 1.5888067075397092],\n",
       "       [4.753811649745712, 1.3305834575319428],\n",
       "       [5.2153893150016835, 1.3188109601615947],\n",
       "       [5.720247790289675, 1.747295965175119],\n",
       "       [5.277440580536663, 1.6049157217709276],\n",
       "       [5.058169685964366, 1.2774153520716585],\n",
       "       [4.499293756028517, 1.410873156708368],\n",
       "       [5.889273285265524, 1.9566135513879814],\n",
       "       [6.109609130426593, 2.345625844213769],\n",
       "       [5.660081878520697, 2.054767684762932],\n",
       "       [5.406873482803811, 1.726016672121765],\n",
       "       [6.100837406570925, 1.8006258107560191],\n",
       "       [5.530648976253547, 1.9336667344120957],\n",
       "       [5.784839832350516, 1.488817574307335],\n",
       "       [5.5226976555751115, 1.9207312590249752],\n",
       "       [4.793159695042873, 1.8893527283380798],\n",
       "       [5.5793383769575176, 1.6493173927700706],\n",
       "       [5.465808116047239, 1.5540873931934749],\n",
       "       [5.344328851711827, 1.2724068133701385],\n",
       "       [5.450398840247373, 1.6957215395615268],\n",
       "       [5.531386889222093, 1.6306191966102783],\n",
       "       [5.44826893906983, 1.5726976933084906],\n",
       "       [5.162681358354137, 1.471713057994236],\n",
       "       [5.216454265590454, 1.380322883288113],\n",
       "       [5.684016377284067, 1.6465607349066054],\n",
       "       [5.6409820681442095, 2.0178760694687576],\n",
       "       [5.833204148914883, 2.122034243627111],\n",
       "       [5.2153893150016835, 1.3188109601615947],\n",
       "       [5.1338296809951975, 1.4899064771286188],\n",
       "       [5.628113568870204, 1.6149270633596928],\n",
       "       [5.2153893150016835, 1.3188109601615947],\n",
       "       [4.711351242890923, 1.4223905132186991],\n",
       "       [5.436956438688301, 1.5722808123278578],\n",
       "       [5.269982625415232, 1.7594853435261004],\n",
       "       [4.655528971205124, 0.9437434656540964],\n",
       "       [4.752008786188396, 1.5721190722072427],\n",
       "       [5.495482513836712, 1.8944434272701005],\n",
       "       [5.79418314123795, 1.92782443374931],\n",
       "       [5.082924587904967, 1.4012729602859602],\n",
       "       [5.581060703786772, 1.8547951541124608],\n",
       "       [4.96300132246203, 1.5221245055910557],\n",
       "       [5.64614611140462, 1.7638218603869704],\n",
       "       [5.279736809650984, 1.530885204237922]], dtype=object)"
      ]
     },
     "execution_count": 71,
     "metadata": {},
     "output_type": "execute_result"
    }
   ],
   "source": [
    "s2"
   ]
  },
  {
   "cell_type": "code",
   "execution_count": 72,
   "id": "6e2b4237",
   "metadata": {},
   "outputs": [],
   "source": [
    "s2_m = np.matrix(s2)\n",
    "s3_m = np.matrix(s3)"
   ]
  },
  {
   "cell_type": "code",
   "execution_count": 74,
   "id": "243e8bd3",
   "metadata": {},
   "outputs": [],
   "source": [
    "def calculate_s(matrix):\n",
    "    means = np.mean(matrix, axis=0)\n",
    "    res = matrix - means\n",
    "    return np.dot(res.T, res)"
   ]
  },
  {
   "cell_type": "code",
   "execution_count": 80,
   "id": "1d9b4a79",
   "metadata": {},
   "outputs": [
    {
     "data": {
      "text/plain": [
       "matrix([[30.210390003962964, 6.277680000696543],\n",
       "        [6.277680000696543, 6.558843801131339]], dtype=object)"
      ]
     },
     "execution_count": 80,
     "metadata": {},
     "output_type": "execute_result"
    }
   ],
   "source": [
    "Sw = calculate_s(s2_m)+calculate_s(s3_m)\n",
    "Sw"
   ]
  },
  {
   "cell_type": "code",
   "execution_count": 97,
   "id": "a9568659",
   "metadata": {},
   "outputs": [
    {
     "name": "stdout",
     "output_type": "stream",
     "text": [
      "Wartości średnie w macierzach Setosa: [[5.353802013598783 1.634638797372408]], Versicolor: [[7.80072663740321 1.1921770788768233]]\n"
     ]
    }
   ],
   "source": [
    "s2_m_mean = np.mean(s2_m, axis=0)\n",
    "s3_m_mean = np.mean(s3_m, axis=0)\n",
    "print(f'Wartości średnie w macierzach Setosa: {s2_m_mean}, Versicolor: {s3_m_mean}')"
   ]
  },
  {
   "cell_type": "code",
   "execution_count": 114,
   "id": "4d28f4bc",
   "metadata": {},
   "outputs": [
    {
     "data": {
      "text/plain": [
       "matrix([[0.548125428214125],\n",
       "        [-0.8363961471366795]], dtype=object)"
      ]
     },
     "execution_count": 114,
     "metadata": {},
     "output_type": "execute_result"
    }
   ],
   "source": [
    "Sw = Sw.astype(np.float64)\n",
    "w = np.linalg.inv(Sw) * (s3_m_mean.T - s2_m_mean.T)\n",
    "w = w / sqrt(np.dot(w.T, w)[0, 0]) # [0, 0] ponieważ wyciągamy ten element z obiektu np.Matrix żeby przyjęło go sqrt\n",
    "w"
   ]
  },
  {
   "cell_type": "code",
   "execution_count": 123,
   "id": "38749f41",
   "metadata": {},
   "outputs": [
    {
     "data": {
      "text/plain": [
       "1.634638797372408"
      ]
     },
     "execution_count": 123,
     "metadata": {},
     "output_type": "execute_result"
    }
   ],
   "source": [
    "s2_m_mean[0, 1]"
   ]
  },
  {
   "cell_type": "code",
   "execution_count": 128,
   "id": "a36f585c",
   "metadata": {},
   "outputs": [
    {
     "data": {
      "image/png": "[encoded data removed]",
      "text/plain": [
       "<Figure size 800x600 with 1 Axes>"
      ]
     },
     "metadata": {},
     "output_type": "display_data"
    }
   ],
   "source": [
    "plt.figure(figsize=(8, 6))\n",
    "\n",
    "plt.scatter(s2[:,[0]], s2[:,[1]], label='Seria 2', color='blue', marker='o')\n",
    "plt.scatter(s2_m_mean[0, 0], s2_m_mean[0, 1], label='Seria 2 - środek', color='cyan', marker='o')\n",
    "plt.scatter(s3[:,[0]], s3[:,[1]], label='Seria 3', color='red', marker='x')\n",
    "plt.scatter(s3_m_mean[0, 0], s3_m_mean[0, 1], label='Seria 3 - środek', color='green', marker='x')\n",
    "\n",
    "plt.xlabel('X')\n",
    "plt.ylabel('Y')\n",
    "\n",
    "#plt.xlim(8, 20)\n",
    "#plt.ylim(-13, -1)\n",
    "\n",
    "plt.legend()\n",
    "plt.title('Serie danych')\n",
    "plt.show()"
   ]
  }
 ],
 "metadata": {
  "kernelspec": {
   "display_name": "Python 3 (ipykernel)",
   "language": "python",
   "name": "python3"
  },
  "language_info": {
   "codemirror_mode": {
    "name": "ipython",
    "version": 3
   },
   "file_extension": ".py",
   "mimetype": "text/x-python",
   "name": "python",
   "nbconvert_exporter": "python",
   "pygments_lexer": "ipython3",
   "version": "3.10.13"
  }
 },
 "nbformat": 4,
 "nbformat_minor": 5
}
