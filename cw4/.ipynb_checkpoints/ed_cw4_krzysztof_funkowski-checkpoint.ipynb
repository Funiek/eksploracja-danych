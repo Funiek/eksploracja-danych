{
 "cells": [
  {
   "cell_type": "markdown",
   "id": "acf72b58",
   "metadata": {},
   "source": [
    "# Zadanie 4 Pracownia Specjalistyczna - Eksploracja danych\n",
    "### Krzysztof Funkowski"
   ]
  },
  {
   "cell_type": "code",
   "execution_count": 1,
   "id": "6a99b8f6",
   "metadata": {},
   "outputs": [],
   "source": [
    "from math import *\n",
    "import random\n",
    "import numpy as np\n",
    "import matplotlib.pyplot as plt\n",
    "import pandas as pd"
   ]
  },
  {
   "cell_type": "markdown",
   "id": "0784e846",
   "metadata": {},
   "source": [
    "# Zadanie 4\n",
    "- Konstrukcja klasyfikatora liniowego w oparciu o kryterium Fishera \n",
    "- Wybór progu na podstawie dwu zbiorów danych"
   ]
  },
  {
   "cell_type": "markdown",
   "id": "03ee9086",
   "metadata": {},
   "source": [
    "### Funkcja służąca do obliczania kowariancji dla dwóch wektorów"
   ]
  },
  {
   "cell_type": "code",
   "execution_count": 2,
   "id": "0de53455",
   "metadata": {},
   "outputs": [],
   "source": [
    "def cov(x, y, x_avg, y_avg):\n",
    "    elements_count = len(x) # ilość elementów w tablicy\n",
    "    elements_sum = 0\n",
    "    \n",
    "    for x,y in zip(x,y):\n",
    "        elements_sum = elements_sum + ((x - x_avg)*(y - y_avg)) # sumowanie (x - średnia_arytmetyczna_x) * (y - średnia_arytmetyczna_y)\n",
    "    \n",
    "    return elements_sum / elements_count # suma dzielona przez liczbę elementów"
   ]
  },
  {
   "cell_type": "markdown",
   "id": "ee95339d",
   "metadata": {},
   "source": [
    "### Funkcja obliczająca macierz kowariancji dla zbioru danych"
   ]
  },
  {
   "cell_type": "code",
   "execution_count": 3,
   "id": "b2e39798",
   "metadata": {},
   "outputs": [],
   "source": [
    "def cov_for_dataset(cov_dataset):\n",
    "    avgs = []\n",
    "    matrix_shape = cov_dataset.shape[1] # wymiary_macierzy czyli liczba_kolumn_bioru_danych x liczba_kolumn_bioru_danych\n",
    "    for i in range(matrix_shape):\n",
    "        avgs.append(cov_dataset[:,i].mean()) # obliczanie średnich dla każdego parametru\n",
    "    \n",
    "    matrix = []\n",
    "    for i in range(matrix_shape):\n",
    "        matrix_row = []\n",
    "        for j in range(matrix_shape):\n",
    "            #matrix_shape*i + j\n",
    "            res = cov(cov_dataset[:,i],cov_dataset[:,j],avgs[i], avgs[j]) # wyznaczanie kowariancji dla każdej pary parametrów\n",
    "            matrix_row.append(res) # budowanie wiersza macierzy\n",
    "        matrix.append(matrix_row) # dodawanie wiersza macierzy do tablicy bazowej\n",
    "    \n",
    "    return np.matrix(matrix) # przekształcanie typu tablicy na macierz"
   ]
  },
  {
   "cell_type": "markdown",
   "id": "535d9769",
   "metadata": {},
   "source": [
    "### Funkcja do obliczania długości wektora własnego"
   ]
  },
  {
   "cell_type": "code",
   "execution_count": 4,
   "id": "5aa117c1",
   "metadata": {},
   "outputs": [],
   "source": [
    "def eigenvector_len(v1):\n",
    "    dims = v1.shape[0] # ilość elementów wektora\n",
    "    length = 0\n",
    "    \n",
    "    for i in range(dims):\n",
    "        val = v1[i].ravel().tolist()[0][0]\n",
    "        length = length + pow(val,2) # sumowanie elementów podniesionych do kwadratu\n",
    "        \n",
    "    \n",
    "    length = sqrt(length) # pierwiastkowanie wyniku sumy elementów wektora podniesionych do kwadratów\n",
    "    \n",
    "    return length # zwracanie długości"
   ]
  },
  {
   "cell_type": "markdown",
   "id": "4cb54351",
   "metadata": {},
   "source": [
    "### Funkcja normalizująca, zwracająca wartość własną i wektor własny"
   ]
  },
  {
   "cell_type": "code",
   "execution_count": 5,
   "id": "d5cf0912",
   "metadata": {},
   "outputs": [],
   "source": [
    "def eigenvector_normalization(v1):\n",
    "    eigenvalue = eigenvector_len(v1) # wylicznaie wartości własnej\n",
    "    eigenvector = v1 / eigenvalue # wyliczanie wektora własnego\n",
    "    \n",
    "    return eigenvalue, eigenvector # zwrócenie wartości własnej i wektora własnego"
   ]
  },
  {
   "cell_type": "markdown",
   "id": "9006807e",
   "metadata": {},
   "source": [
    "### Pomocnicza funkcja zmieniająca tablicę wektorów własnych w odpowiednią formę macierzy"
   ]
  },
  {
   "cell_type": "code",
   "execution_count": 6,
   "id": "a9083493",
   "metadata": {},
   "outputs": [],
   "source": [
    "def rearrange_matrix(eigenvectors):\n",
    "    res = []\n",
    "\n",
    "    for i in range(len(eigenvectors)):\n",
    "        row = eigenvectors[i].ravel().tolist()[0]\n",
    "        res.append(row)\n",
    "\n",
    "    return np.matrix(res).T"
   ]
  },
  {
   "cell_type": "markdown",
   "id": "36325745",
   "metadata": {},
   "source": [
    "### Funkcja odpowiadająca za obliczanie wartości własnych i wektorów własnych"
   ]
  },
  {
   "cell_type": "code",
   "execution_count": 7,
   "id": "f102a35e",
   "metadata": {},
   "outputs": [],
   "source": [
    "def eigenvalues_eigenvectors(matrix, num_iterations):\n",
    "    n = matrix.shape[0] # jeden z wymiarów macierzy, ponieważ jest kwadratowa to wystarczy tylko jeden\n",
    "    eigenvalues = [] # lista na wartości własne\n",
    "    eigenvectors = [] # lista na wektory własne\n",
    "    \n",
    "    for i in range(n):\n",
    "        # losowe dane wektora na początku\n",
    "        eigenvector = np.random.rand(n,1)\n",
    "    \n",
    "        # algorytm iteracyjny wykonywany num_iterations razy\n",
    "        for _ in range(num_iterations):\n",
    "            eigenvector = np.dot(matrix, eigenvector) # mnożenie macierzy kowariancji przez wektor \n",
    "            eigenvalue, eigenvector = eigenvector_normalization(eigenvector) # normalizacja wektora\n",
    "            \n",
    "        # usuwanie z macierzy znalezionej wartości własnej i wektora własnego\n",
    "        # marix - wartość własna * iloczyn zewnętrzny wektora własnego\n",
    "        matrix = matrix - eigenvalue * np.multiply(eigenvector,eigenvector.T).T \n",
    "        \n",
    "        eigenvalues.append(eigenvalue) # dodanie znalezionej wartości własnej do listy\n",
    "        eigenvectors.append(eigenvector) # dodanie znalezionego wektora własnego do listy\n",
    "        \n",
    "        \n",
    "        \n",
    "    return eigenvalues, rearrange_matrix(eigenvectors) # zwrócenie wartości własnych i wektorów własnych"
   ]
  },
  {
   "cell_type": "code",
   "execution_count": 8,
   "id": "bd913877",
   "metadata": {},
   "outputs": [],
   "source": [
    "def draw_plot(datasets):\n",
    "    colors = ['red','blue','green']\n",
    "    \n",
    "    print(len(datasets))\n",
    "    \n",
    "    # dla każdego zbioru danych z danej kategorii\n",
    "    for i in range(len(datasets)):\n",
    "        # przejście po wszystkich punktach\n",
    "        for j in range(datasets[i][1].shape[0]):\n",
    "            if j==0:\n",
    "                # zaznaczanie punktu dla pierwszego (SepalLengthCm) i drugiego (SepalWidthCm) parametru\n",
    "                plt.scatter(datasets[i][1][j,0],datasets[i][1][j,1], color=colors[i], label=datasets[i][0]) \n",
    "            else:\n",
    "                # zaznaczanie punktu dla pierwszego (SepalLengthCm) i drugiego (SepalWidthCm) parametru\n",
    "                plt.scatter(datasets[i][1][j,0],datasets[i][1][j,1], color=colors[i])\n",
    "    \n",
    "    plt.grid()\n",
    "    plt.legend()\n",
    "    plt.show() "
   ]
  },
  {
   "cell_type": "markdown",
   "id": "d6c33bb0",
   "metadata": {},
   "source": [
    "# ZADANIE"
   ]
  },
  {
   "cell_type": "code",
   "execution_count": 9,
   "id": "758f9824",
   "metadata": {},
   "outputs": [
    {
     "data": {
      "text/html": [
       "<div>\n",
       "<style scoped>\n",
       "    .dataframe tbody tr th:only-of-type {\n",
       "        vertical-align: middle;\n",
       "    }\n",
       "\n",
       "    .dataframe tbody tr th {\n",
       "        vertical-align: top;\n",
       "    }\n",
       "\n",
       "    .dataframe thead th {\n",
       "        text-align: right;\n",
       "    }\n",
       "</style>\n",
       "<table border=\"1\" class=\"dataframe\">\n",
       "  <thead>\n",
       "    <tr style=\"text-align: right;\">\n",
       "      <th></th>\n",
       "      <th>SepalLengthCm</th>\n",
       "      <th>SepalWidthCm</th>\n",
       "      <th>PetalLengthCm</th>\n",
       "      <th>PetalWidthCm</th>\n",
       "      <th>Species</th>\n",
       "    </tr>\n",
       "    <tr>\n",
       "      <th>Id</th>\n",
       "      <th></th>\n",
       "      <th></th>\n",
       "      <th></th>\n",
       "      <th></th>\n",
       "      <th></th>\n",
       "    </tr>\n",
       "  </thead>\n",
       "  <tbody>\n",
       "    <tr>\n",
       "      <th>1</th>\n",
       "      <td>5.1</td>\n",
       "      <td>3.5</td>\n",
       "      <td>1.4</td>\n",
       "      <td>0.2</td>\n",
       "      <td>Iris-setosa</td>\n",
       "    </tr>\n",
       "    <tr>\n",
       "      <th>2</th>\n",
       "      <td>4.9</td>\n",
       "      <td>3.0</td>\n",
       "      <td>1.4</td>\n",
       "      <td>0.2</td>\n",
       "      <td>Iris-setosa</td>\n",
       "    </tr>\n",
       "    <tr>\n",
       "      <th>3</th>\n",
       "      <td>4.7</td>\n",
       "      <td>3.2</td>\n",
       "      <td>1.3</td>\n",
       "      <td>0.2</td>\n",
       "      <td>Iris-setosa</td>\n",
       "    </tr>\n",
       "    <tr>\n",
       "      <th>4</th>\n",
       "      <td>4.6</td>\n",
       "      <td>3.1</td>\n",
       "      <td>1.5</td>\n",
       "      <td>0.2</td>\n",
       "      <td>Iris-setosa</td>\n",
       "    </tr>\n",
       "    <tr>\n",
       "      <th>5</th>\n",
       "      <td>5.0</td>\n",
       "      <td>3.6</td>\n",
       "      <td>1.4</td>\n",
       "      <td>0.2</td>\n",
       "      <td>Iris-setosa</td>\n",
       "    </tr>\n",
       "    <tr>\n",
       "      <th>...</th>\n",
       "      <td>...</td>\n",
       "      <td>...</td>\n",
       "      <td>...</td>\n",
       "      <td>...</td>\n",
       "      <td>...</td>\n",
       "    </tr>\n",
       "    <tr>\n",
       "      <th>146</th>\n",
       "      <td>6.7</td>\n",
       "      <td>3.0</td>\n",
       "      <td>5.2</td>\n",
       "      <td>2.3</td>\n",
       "      <td>Iris-virginica</td>\n",
       "    </tr>\n",
       "    <tr>\n",
       "      <th>147</th>\n",
       "      <td>6.3</td>\n",
       "      <td>2.5</td>\n",
       "      <td>5.0</td>\n",
       "      <td>1.9</td>\n",
       "      <td>Iris-virginica</td>\n",
       "    </tr>\n",
       "    <tr>\n",
       "      <th>148</th>\n",
       "      <td>6.5</td>\n",
       "      <td>3.0</td>\n",
       "      <td>5.2</td>\n",
       "      <td>2.0</td>\n",
       "      <td>Iris-virginica</td>\n",
       "    </tr>\n",
       "    <tr>\n",
       "      <th>149</th>\n",
       "      <td>6.2</td>\n",
       "      <td>3.4</td>\n",
       "      <td>5.4</td>\n",
       "      <td>2.3</td>\n",
       "      <td>Iris-virginica</td>\n",
       "    </tr>\n",
       "    <tr>\n",
       "      <th>150</th>\n",
       "      <td>5.9</td>\n",
       "      <td>3.0</td>\n",
       "      <td>5.1</td>\n",
       "      <td>1.8</td>\n",
       "      <td>Iris-virginica</td>\n",
       "    </tr>\n",
       "  </tbody>\n",
       "</table>\n",
       "<p>150 rows × 5 columns</p>\n",
       "</div>"
      ],
      "text/plain": [
       "     SepalLengthCm  SepalWidthCm  PetalLengthCm  PetalWidthCm         Species\n",
       "Id                                                                           \n",
       "1              5.1           3.5            1.4           0.2     Iris-setosa\n",
       "2              4.9           3.0            1.4           0.2     Iris-setosa\n",
       "3              4.7           3.2            1.3           0.2     Iris-setosa\n",
       "4              4.6           3.1            1.5           0.2     Iris-setosa\n",
       "5              5.0           3.6            1.4           0.2     Iris-setosa\n",
       "..             ...           ...            ...           ...             ...\n",
       "146            6.7           3.0            5.2           2.3  Iris-virginica\n",
       "147            6.3           2.5            5.0           1.9  Iris-virginica\n",
       "148            6.5           3.0            5.2           2.0  Iris-virginica\n",
       "149            6.2           3.4            5.4           2.3  Iris-virginica\n",
       "150            5.9           3.0            5.1           1.8  Iris-virginica\n",
       "\n",
       "[150 rows x 5 columns]"
      ]
     },
     "execution_count": 9,
     "metadata": {},
     "output_type": "execute_result"
    }
   ],
   "source": [
    "df = pd.read_csv('Iris.csv', sep=',', index_col=0)\n",
    "dataset = df.to_numpy()\n",
    "df"
   ]
  },
  {
   "cell_type": "code",
   "execution_count": 10,
   "id": "73d171a9",
   "metadata": {},
   "outputs": [
    {
     "data": {
      "text/plain": [
       "array(['Iris-setosa', 'Iris-virginica', 'Iris-versicolor'], dtype='<U15')"
      ]
     },
     "execution_count": 10,
     "metadata": {},
     "output_type": "execute_result"
    }
   ],
   "source": [
    "species = np.array(list(set(dataset[:,4])))\n",
    "species"
   ]
  },
  {
   "cell_type": "code",
   "execution_count": 11,
   "id": "b6fa787b",
   "metadata": {},
   "outputs": [],
   "source": [
    "species1 = df[df['Species'].str.contains('Iris-virginica')].to_numpy() # wybieranie danych tylko dla badanego gatunku\n",
    "species1 = species1[:, [0, 1, 2, 3]]"
   ]
  },
  {
   "cell_type": "code",
   "execution_count": 12,
   "id": "a5eebe72",
   "metadata": {},
   "outputs": [
    {
     "name": "stdout",
     "output_type": "stream",
     "text": [
      "Iris-setosa: \n",
      " macierz cov:\n",
      "[[0.396256 0.091888 0.297224 0.048112]\n",
      " [0.091888 0.101924 0.069952 0.046676]\n",
      " [0.297224 0.069952 0.298496 0.047848]\n",
      " [0.048112 0.046676 0.047848 0.073924]] \n",
      "\n",
      " wartości własne: [0.681349741460896, 0.10442020142375678, 0.05124951922482231, 0.03358053789052519]\n",
      " wektory własne:\n",
      "[[ 0.74101679 -0.16525895 -0.53445017 -0.37141165]\n",
      " [ 0.20328772  0.74864279 -0.3253749   0.54068405]\n",
      " [ 0.62789179 -0.16942776  0.65152357  0.39059336]\n",
      " [ 0.12377451  0.61928804  0.4289653  -0.64587225]]\n"
     ]
    }
   ],
   "source": [
    "num_iterations = 10000 # ustalenie liczby iteracji\n",
    "species1_cov_matrix = cov_for_dataset(species1) # macierz kowariancji dla głównego w tym momencie gatunku\n",
    "# wartości własne i wektory własne dla badanego gatunku\n",
    "species1_eigenvalues, species1_eigenvectors = eigenvalues_eigenvectors(species1_cov_matrix,num_iterations)\n",
    "print(f'Iris-setosa: \\n macierz cov:\\n{species1_cov_matrix} \\n\\n wartości własne: {species1_eigenvalues}\\n wektory własne:\\n{species1_eigenvectors}')"
   ]
  },
  {
   "cell_type": "code",
   "execution_count": 13,
   "id": "bafaa0f7",
   "metadata": {
    "scrolled": true
   },
   "outputs": [],
   "source": [
    "current_datasets = [] # lista w której będą zbiory do rysowania\n",
    "s1 = np.asarray(species1 * species1_eigenvectors[:,:2])\n",
    "current_datasets.append(('Iris-virginica',s1))"
   ]
  },
  {
   "cell_type": "code",
   "execution_count": 14,
   "id": "343e878a",
   "metadata": {},
   "outputs": [],
   "source": [
    "species2 = df[df['Species'].str.contains('Iris-setosa')].to_numpy() # wybieranie danych tylko dla badanego gatunku\n",
    "species2 = species2[:, [0, 1, 2, 3]]\n",
    "s2 = np.asarray(species2 * species1_eigenvectors[:,:2])\n",
    "current_datasets.append(('Iris-setosa',s2))"
   ]
  },
  {
   "cell_type": "code",
   "execution_count": 15,
   "id": "6956c7eb",
   "metadata": {},
   "outputs": [],
   "source": [
    "species3 = df[df['Species'].str.contains('Iris-versicolor')].to_numpy() # wybieranie danych tylko dla badanego gatunku\n",
    "species3 = species3[:, [0, 1, 2, 3]]\n",
    "s3 = np.asarray(species3 * species1_eigenvectors[:,:2])\n",
    "current_datasets.append(('Iris-versicolor',s3))"
   ]
  },
  {
   "cell_type": "code",
   "execution_count": 16,
   "id": "f28caeb7",
   "metadata": {},
   "outputs": [
    {
     "name": "stdout",
     "output_type": "stream",
     "text": [
      "3\n"
     ]
    },
    {
     "data": {
      "image/png": "[encoded data removed]",
      "text/plain": [
       "<Figure size 640x480 with 1 Axes>"
      ]
     },
     "metadata": {},
     "output_type": "display_data"
    }
   ],
   "source": [
    "draw_plot(current_datasets)"
   ]
  },
  {
   "cell_type": "code",
   "execution_count": 17,
   "id": "302be997",
   "metadata": {},
   "outputs": [
    {
     "data": {
      "text/plain": [
       "array([[5.394496031833511, 1.6640878680146136],\n",
       "       [5.144648815819721, 1.3228182609669574],\n",
       "       [4.97431382284356, 1.522541386571688],\n",
       "       [5.00546172931682, 1.4303174499042994],\n",
       "       [5.340723124597194, 1.7554780427207368],\n",
       "       [5.911238592534799, 1.986996579992995],\n",
       "       [5.016036316729802, 1.7337818686867497],\n",
       "       [5.3628547598032466, 1.588806707539709],\n",
       "       [4.753811649745712, 1.3305834575319426],\n",
       "       [5.2153893150016835, 1.3188109601615943],\n",
       "       [5.720247790289675, 1.7472959651751185],\n",
       "       [5.277440580536663, 1.6049157217709276],\n",
       "       [5.058169685964366, 1.277415352071658],\n",
       "       [4.499293756028517, 1.4108731567083674],\n",
       "       [5.889273285265524, 1.956613551387981],\n",
       "       [6.109609130426593, 2.3456258442137683],\n",
       "       [5.660081878520697, 2.0547676847629317],\n",
       "       [5.406873482803811, 1.7260166721217645],\n",
       "       [6.100837406570925, 1.8006258107560185],\n",
       "       [5.530648976253547, 1.9336667344120952],\n",
       "       [5.784839832350516, 1.488817574307335],\n",
       "       [5.5226976555751115, 1.9207312590249748],\n",
       "       [4.793159695042873, 1.8893527283380793],\n",
       "       [5.5793383769575176, 1.6493173927700702],\n",
       "       [5.465808116047239, 1.5540873931934749],\n",
       "       [5.344328851711827, 1.2724068133701376],\n",
       "       [5.450398840247373, 1.6957215395615264],\n",
       "       [5.531386889222093, 1.6306191966102779],\n",
       "       [5.44826893906983, 1.5726976933084906],\n",
       "       [5.162681358354137, 1.4717130579942355],\n",
       "       [5.216454265590454, 1.3803228832881125],\n",
       "       [5.684016377284067, 1.6465607349066054],\n",
       "       [5.6409820681442095, 2.017876069468757],\n",
       "       [5.833204148914883, 2.1220342436271102],\n",
       "       [5.2153893150016835, 1.3188109601615943],\n",
       "       [5.1338296809951975, 1.4899064771286181],\n",
       "       [5.628113568870204, 1.614927063359692],\n",
       "       [5.2153893150016835, 1.3188109601615943],\n",
       "       [4.711351242890923, 1.4223905132186982],\n",
       "       [5.436956438688301, 1.5722808123278578],\n",
       "       [5.269982625415232, 1.7594853435261],\n",
       "       [4.655528971205124, 0.9437434656540962],\n",
       "       [4.752008786188396, 1.5721190722072418],\n",
       "       [5.495482513836712, 1.8944434272700996],\n",
       "       [5.79418314123795, 1.9278244337493096],\n",
       "       [5.082924587904967, 1.4012729602859597],\n",
       "       [5.581060703786772, 1.8547951541124603],\n",
       "       [4.96300132246203, 1.5221245055910553],\n",
       "       [5.64614611140462, 1.76382186038697],\n",
       "       [5.279736809650984, 1.5308852042379213]], dtype=object)"
      ]
     },
     "execution_count": 17,
     "metadata": {},
     "output_type": "execute_result"
    }
   ],
   "source": [
    "s2"
   ]
  },
  {
   "cell_type": "code",
   "execution_count": 18,
   "id": "6e2b4237",
   "metadata": {},
   "outputs": [],
   "source": [
    "s2_m = np.matrix(s2)\n",
    "s3_m = np.matrix(s3)"
   ]
  },
  {
   "cell_type": "code",
   "execution_count": 19,
   "id": "243e8bd3",
   "metadata": {},
   "outputs": [],
   "source": [
    "def calculate_s(matrix):\n",
    "    means = np.mean(matrix, axis=0)\n",
    "    res = matrix - means\n",
    "    return np.dot(res.T, res)"
   ]
  },
  {
   "cell_type": "code",
   "execution_count": 28,
   "id": "a9568659",
   "metadata": {},
   "outputs": [
    {
     "name": "stdout",
     "output_type": "stream",
     "text": [
      "Wartości średnie w macierzach Setosa: [[5.353802013598783 1.6346387973724075]], Versicolor: [[7.80072663740321 1.192177078876823]]\n"
     ]
    }
   ],
   "source": [
    "s2_m_mean = np.mean(s2_m, axis=0)\n",
    "s3_m_mean = np.mean(s3_m, axis=0)\n",
    "print(f'Wartości średnie w macierzach Setosa: {s2_m_mean}, Versicolor: {s3_m_mean}')"
   ]
  },
  {
   "cell_type": "code",
   "execution_count": 52,
   "id": "a36f585c",
   "metadata": {},
   "outputs": [
    {
     "data": {
      "image/png": "[encoded data removed]",
      "text/plain": [
       "<Figure size 800x600 with 1 Axes>"
      ]
     },
     "metadata": {},
     "output_type": "display_data"
    }
   ],
   "source": [
    "plt.figure(figsize=(8, 6))\n",
    "\n",
    "plt.scatter(s2[:,[0]], s2[:,[1]], label='Seria 2', color='blue', marker='o')\n",
    "plt.scatter(s2_m_mean[0, 0], s2_m_mean[0, 1], label='Seria 2 - średnia', color='cyan', marker='o')\n",
    "plt.scatter(s3[:,[0]], s3[:,[1]], label='Seria 3', color='red', marker='x')\n",
    "plt.scatter(s3_m_mean[0, 0], s3_m_mean[0, 1], label='Seria 3 - średnia', color='green', marker='x')\n",
    "\n",
    "plt.xlabel('X')\n",
    "plt.ylabel('Y')\n",
    "\n",
    "plt.xlim(4, 10)\n",
    "plt.ylim(-2, 4)\n",
    "\n",
    "plt.legend()\n",
    "plt.title('Serie danych')\n",
    "plt.show()"
   ]
  },
  {
   "cell_type": "code",
   "execution_count": 53,
   "id": "ec148bff",
   "metadata": {},
   "outputs": [
    {
     "data": {
      "text/plain": [
       "matrix([[30.21039  ,  6.27768  ],\n",
       "        [ 6.27768  ,  6.5588438]])"
      ]
     },
     "execution_count": 53,
     "metadata": {},
     "output_type": "execute_result"
    }
   ],
   "source": [
    "Sw = calculate_s(s2_m)+calculate_s(s3_m)\n",
    "Sw = Sw.astype(np.float64)\n",
    "Sw"
   ]
  },
  {
   "cell_type": "code",
   "execution_count": 54,
   "id": "4d6846d3",
   "metadata": {},
   "outputs": [
    {
     "data": {
      "text/plain": [
       "matrix([[0.548125428214125],\n",
       "        [-0.8363961471366795]], dtype=object)"
      ]
     },
     "execution_count": 54,
     "metadata": {},
     "output_type": "execute_result"
    }
   ],
   "source": [
    "w = np.linalg.inv(Sw) * (s3_m_mean.T - s2_m_mean.T)\n",
    "w = w / sqrt(np.dot(w.T, w)[0, 0]) # [0, 0] ponieważ wyciągamy ten element z obiektu np.Matrix żeby przyjęło go sqrt\n",
    "w"
   ]
  },
  {
   "cell_type": "code",
   "execution_count": 32,
   "id": "c3de43db",
   "metadata": {},
   "outputs": [
    {
     "data": {
      "text/plain": [
       "matrix([[0.8578293219828679, -1.3089798481800332],\n",
       "        [0.9392199034571745, -1.4331754524236129],\n",
       "        [0.7964811390148987, -1.2153673623746846],\n",
       "        [0.8481193257165599, -1.2941631601597157],\n",
       "        [0.7997758846206472, -1.2203948841581966],\n",
       "        [0.8650427264974002, -1.3199869342102333],\n",
       "        [0.7121731087929618, -1.0867199615780105],\n",
       "        [0.8828356189666953, -1.3471374839598098],\n",
       "        [0.8182362505307114, -1.2485639457035025],\n",
       "        [0.9623104311243449, -1.4684097754126015],\n",
       "        [0.9175519122168313, -1.400111807759905],\n",
       "        [0.8497884785883014, -1.2967101557177494],\n",
       "        [0.9340529486725033, -1.4252910871818667],\n",
       "        [0.7049597042784307, -1.0757128755478125],\n",
       "        [0.8723725363134637, -1.331171645544233],\n",
       "        [0.7602278806355391, -1.160047751079801],\n",
       "        [0.7585151676260633, -1.1574342861892126],\n",
       "        [0.833156761719425, -1.271331468298121],\n",
       "        [1.0074477542192914, -1.537285768361297],\n",
       "        [0.7751468844949391, -1.18281297360884],\n",
       "        [1.05545745859482, -1.6105447884649515],\n",
       "        [0.7786882465456031, -1.1882168126251067],\n",
       "        [0.5738902655568543, -0.8757112556425448],\n",
       "        [0.9201351549742561, -1.4040536323464203],\n",
       "        [0.9296841477418042, -1.418624641733515],\n",
       "        [1.022323197940957, -1.559984521557781],\n",
       "        [0.8601223881576436, -1.3124788862012406],\n",
       "        [0.9143007267488167, -1.3951507553089468],\n",
       "        [0.9158827593450888, -1.39756481220187],\n",
       "        [0.8763768081684015, -1.33728184839045],\n",
       "        [0.9344302455306219, -1.4258668124122862],\n",
       "        [0.9528485586322657, -1.4539717046906167],\n",
       "        [0.7696897531276184, -1.174485821801786],\n",
       "        [0.779689925976576, -1.189745296387412],\n",
       "        [0.9623104311243449, -1.4684097754126015],\n",
       "        [0.8593677944414062, -1.311327435740402],\n",
       "        [0.9505554924574899, -1.4504726666694094],\n",
       "        [0.9623104311243449, -1.4684097754126015],\n",
       "        [0.7633904384987704, -1.164873564800069],\n",
       "        [0.9126751340148094, -1.3926702290834676],\n",
       "        [0.7766853569534771, -1.1851605611692084],\n",
       "        [0.9660548494821892, -1.4741234623290662],\n",
       "        [0.7069625938705569, -1.0787691270037112],\n",
       "        [0.7825633453166517, -1.1941299075392384],\n",
       "        [0.8570018831028332, -1.3077172417479486],\n",
       "        [0.8847078281456174, -1.3499943274180422],\n",
       "        [0.8264513344762161, -1.2610995154960072],\n",
       "        [0.7932735136846185, -1.2104727792562813],\n",
       "        [0.8877123971687169, -1.3545790626362466],\n",
       "        [0.8844176515629678, -1.3495515408527337]], dtype=object)"
      ]
     },
     "execution_count": 32,
     "metadata": {},
     "output_type": "execute_result"
    }
   ],
   "source": [
    "s2_m_proj_w = s2_m * np.outer(w, w)\n",
    "s2_m_proj_w"
   ]
  },
  {
   "cell_type": "code",
   "execution_count": 34,
   "id": "37345e98",
   "metadata": {},
   "outputs": [
    {
     "data": {
      "text/plain": [
       "matrix([[2.092203512366572, -3.1925374498145462],\n",
       "        [1.835230082378776, -2.8004162751801767],\n",
       "        [2.1191691388047897, -3.2336848677176655],\n",
       "        [1.7367854197104262, -2.6501974888884154],\n",
       "        [2.0045571764011516, -3.058796057901805],\n",
       "        [1.788554286825291, -2.7291926946711125],\n",
       "        [1.8057678641887818, -2.7554592552869397],\n",
       "        [1.4171288598731238, -2.162426804857239],\n",
       "        [2.0555278896620437, -3.136573343891108],\n",
       "        [1.4831067353283798, -2.2631038360375593],\n",
       "        [1.6130878436133338, -2.461444749584123],\n",
       "        [1.662564682612917, -2.5369425013424802],\n",
       "        [1.988214598055431, -3.033858573050619],\n",
       "        [1.9082896438758663, -2.911899400396164],\n",
       "        [1.4908138420025618, -2.2748642726019783],\n",
       "        [1.9510032203828336, -2.9770769473259864],\n",
       "        [1.6529418066220773, -2.5222587519872723],\n",
       "        [1.8140978461065032, -2.7681701503176646],\n",
       "        [2.057690275423617, -3.1398729739146507],\n",
       "        [1.7329103209393775, -2.6442843939742837],\n",
       "        [1.6919104955013804, -2.5817218959319175],\n",
       "        [1.7747528984285759, -2.7081328651394676],\n",
       "        [2.1094155824007466, -3.2188017103647923],\n",
       "        [1.9858486867168588, -3.0302483790581665],\n",
       "        [1.9159531904123135, -2.923593367628027],\n",
       "        [1.9493776276488266, -2.9745964211005074],\n",
       "        [2.172012061244605, -3.314318997165201],\n",
       "        [2.064990800213617, -3.1510129986099598],\n",
       "        [1.8005137891286411, -2.747441951380083],\n",
       "        [1.6526809150654906, -2.5218606520606537],\n",
       "        [1.7046528384875361, -2.6011657057435498],\n",
       "        [1.702693509033145, -2.5981759236202064],\n",
       "        [1.7114889461439495, -2.6115970665433297],\n",
       "        [1.9920604118004173, -3.0397269813260603],\n",
       "        [1.59326277652585, -2.4311932617399576],\n",
       "        [1.6347716172946636, -2.4945324770072763],\n",
       "        [2.0062263292728937, -3.0613430534598396],\n",
       "        [2.082029098966675, -3.1770120978986984],\n",
       "        [1.5957593682776259, -2.4350028637300754],\n",
       "        [1.6803575750822124, -2.5640930510920574],\n",
       "        [1.7833437719028855, -2.7212418600968116],\n",
       "        [1.8534438318439252, -2.8282090194927294],\n",
       "        [1.7663347581758904, -2.6952874474467636],\n",
       "        [1.4751822972353443, -2.2510117688790756],\n",
       "        [1.7070330249377812, -2.6047976824298678],\n",
       "        [1.6769033333070174, -2.558822150740901],\n",
       "        [1.6804446953576817, -2.564225989757168],\n",
       "        [1.8562741603160853, -2.8325278773807114],\n",
       "        [1.3440257382382992, -2.0508772103086974],\n",
       "        [1.6820267279539545, -2.566640046650092]], dtype=object)"
      ]
     },
     "execution_count": 34,
     "metadata": {},
     "output_type": "execute_result"
    }
   ],
   "source": [
    "s3_m_proj_w = s3_m * np.outer(w, w)\n",
    "s3_m_proj_w"
   ]
  },
  {
   "cell_type": "code",
   "execution_count": 45,
   "id": "d99549f2",
   "metadata": {},
   "outputs": [
    {
     "data": {
      "text/plain": [
       "matrix([[0.8591040770387072, -1.310925023795623]], dtype=object)"
      ]
     },
     "execution_count": 45,
     "metadata": {},
     "output_type": "execute_result"
    }
   ],
   "source": [
    "s2_m_mean_proj_w = s2_m_mean * w * w.T\n",
    "s2_m_mean_proj_w"
   ]
  },
  {
   "cell_type": "code",
   "execution_count": 47,
   "id": "83171f2d",
   "metadata": {},
   "outputs": [
    {
     "data": {
      "text/plain": [
       "matrix([[1.7971083180417746, -2.742245471250488]], dtype=object)"
      ]
     },
     "execution_count": 47,
     "metadata": {},
     "output_type": "execute_result"
    }
   ],
   "source": [
    "s3_m_mean_proj_w = s3_m_mean * w * w.T\n",
    "s3_m_mean_proj_w"
   ]
  },
  {
   "cell_type": "code",
   "execution_count": 74,
   "id": "3a2b92d7",
   "metadata": {},
   "outputs": [],
   "source": [
    "s2_proj_w = np.asarray(s2_m_proj_w[:,[0,1]])\n",
    "s3_proj_w = np.asarray(s3_m_proj_w[:,[0,1]])"
   ]
  },
  {
   "cell_type": "code",
   "execution_count": 77,
   "id": "a58cc5f7",
   "metadata": {},
   "outputs": [
    {
     "data": {
      "image/png": "[encoded data removed]",
      "text/plain": [
       "<Figure size 800x600 with 1 Axes>"
      ]
     },
     "metadata": {},
     "output_type": "display_data"
    }
   ],
   "source": [
    "plt.figure(figsize=(8, 6))\n",
    "\n",
    "plt.scatter(s2_proj_w[:,[0]], s2_proj_w[:,[1]], label='Seria 2', color='blue', marker='o')\n",
    "plt.scatter(s2_m_mean_proj_w[0, 0], s2_m_mean_proj_w[0, 1], label='Seria 2 - średnia', color='cyan', marker='o')\n",
    "plt.scatter(s3_proj_w[:,[0]], s3_proj_w[:,[1]], label='Seria 3', color='red', marker='x')\n",
    "plt.scatter(s3_m_mean_proj_w[0, 0], s3_m_mean_proj_w[0, 1], label='Seria 3 - średnia', color='green', marker='x')\n",
    "\n",
    "plt.xlabel('X')\n",
    "plt.ylabel('Y')\n",
    "\n",
    "#plt.xlim(4, 10)\n",
    "#plt.ylim(-2, 4)\n",
    "\n",
    "plt.legend()\n",
    "plt.title('Serie danych zrzutowane na wektor w')\n",
    "plt.show()"
   ]
  },
  {
   "cell_type": "code",
   "execution_count": 117,
   "id": "e2f11268",
   "metadata": {},
   "outputs": [],
   "source": [
    "s2_t = np.dot(s2_m_proj_w, w)\n",
    "s2_t = np.hstack((s2_t, np.ones((s2_t.shape[0], 1))))\n",
    "\n",
    "s3_t = np.dot(s3_m_proj_w, w)\n",
    "s3_t = np.hstack((s3_t, 2*np.ones((s3_t.shape[0], 1))))"
   ]
  },
  {
   "cell_type": "code",
   "execution_count": 118,
   "id": "da4b2889",
   "metadata": {},
   "outputs": [
    {
     "data": {
      "text/plain": [
       "matrix([[1.5650237661438275, 1.0],\n",
       "        [1.7135127383476703, 1.0],\n",
       "        [1.4531001446328702, 1.0],\n",
       "        [1.54730884950888, 1.0],\n",
       "        [1.459111078328253, 1.0],\n",
       "        [1.5781839009290985, 1.0],\n",
       "        [1.2992885791000952, 1.0],\n",
       "        [1.6106452529361872, 1.0],\n",
       "        [1.492790168842646, 1.0],\n",
       "        [1.7556390957078876, 1.0],\n",
       "        [1.6739816563634957, 1.0],\n",
       "        [1.550354051912972, 1.0],\n",
       "        [1.7040861463329446, 1.0],\n",
       "        [1.2861284443148264, 1.0],\n",
       "        [1.5915564055398497, 1.0],\n",
       "        [1.386959702111387, 1.0],\n",
       "        [1.3838350285944951, 1.0],\n",
       "        [1.5200111486051195, 1.0],\n",
       "        [1.8379876253902465, 1.0],\n",
       "        [1.4141779319023462, 1.0],\n",
       "        [1.9255765273172218, 1.0],\n",
       "        [1.42063879262578, 1.0],\n",
       "        [1.047005367779917, 1.0],\n",
       "        [1.6786945243029403, 1.0],\n",
       "        [1.6961157061639247, 1.0],\n",
       "        [1.8651263840684051, 1.0],\n",
       "        [1.5692072359424225, 1.0],\n",
       "        [1.6680501937809125, 1.0],\n",
       "        [1.6709364539594023, 1.0],\n",
       "        [1.598861798883823, 1.0],\n",
       "        [1.704774486699397, 1.0],\n",
       "        [1.7383768560725041, 1.0],\n",
       "        [1.4042219417467705, 1.0],\n",
       "        [1.4224662565225685, 1.0],\n",
       "        [1.7556390957078876, 1.0],\n",
       "        [1.5678305552095178, 1.0],\n",
       "        [1.7341933862739094, 1.0],\n",
       "        [1.7556390957078876, 1.0],\n",
       "        [1.3927294724968542, 1.0],\n",
       "        [1.6650844624896204, 1.0],\n",
       "        [1.4169847209680362, 1.0],\n",
       "        [1.7624704123465702, 1.0],\n",
       "        [1.2897825159725709, 1.0],\n",
       "        [1.4277085226028663, 1.0],\n",
       "        [1.5635141866982418, 1.0],\n",
       "        [1.6140609112555286, 1.0],\n",
       "        [1.5077777675247046, 1.0],\n",
       "        [1.4472481531630872, 1.0],\n",
       "        [1.6195424468100619, 1.0],\n",
       "        [1.6135315131146781, 1.0],\n",
       "        [3.8170159687414706, 2.0],\n",
       "        [3.3481936577148614, 2.0],\n",
       "        [3.8662120560787723, 2.0],\n",
       "        [3.1685912207523996, 2.0],\n",
       "        [3.657113998400512, 2.0],\n",
       "        [3.2630383389668123, 2.0],\n",
       "        [3.2944427885278826, 2.0],\n",
       "        [2.5854098112002255, 2.0],\n",
       "        [3.750104964769218, 2.0],\n",
       "        [2.7057798434211753, 2.0],\n",
       "        [2.9429173699695275, 2.0],\n",
       "        [3.0331829122210268, 2.0],\n",
       "        [3.6272985993978297, 2.0],\n",
       "        [3.481483517546998, 2.0],\n",
       "        [2.719840688398379, 2.0],\n",
       "        [3.55941016409236, 2.0],\n",
       "        [3.01562693781168, 2.0],\n",
       "        [3.3096400070639067, 2.0],\n",
       "        [3.7540500212294123, 2.0],\n",
       "        [3.1615214907753137, 2.0],\n",
       "        [3.086721411582526, 2.0],\n",
       "        [3.23785908676229, 2.0],\n",
       "        [3.848417668331024, 2.0],\n",
       "        [3.6229822308865547, 2.0],\n",
       "        [3.4954648914114, 2.0],\n",
       "        [3.5564444328010687, 2.0],\n",
       "        [3.9626186807668216, 2.0],\n",
       "        [3.767369098240283, 2.0],\n",
       "        [3.284857254287555, 2.0],\n",
       "        [3.015150967270709, 2.0],\n",
       "        [3.1099685414003715, 2.0],\n",
       "        [3.106393940855428, 2.0],\n",
       "        [3.122440335819189, 2.0],\n",
       "        [3.6343149017750362, 2.0],\n",
       "        [2.9067485187048145, 2.0],\n",
       "        [2.982477245438139, 2.0],\n",
       "        [3.6601592008046047, 2.0],\n",
       "        [3.7984537695144684, 2.0],\n",
       "        [2.9113033005544913, 2.0],\n",
       "        [3.0656442642281165, 2.0],\n",
       "        [3.2535322758392864, 2.0],\n",
       "        [3.3814228212012054, 2.0],\n",
       "        [3.2225010321649816, 2.0],\n",
       "        [2.6913224990158007, 2.0],\n",
       "        [3.114310953424568, 2.0],\n",
       "        [3.0593423457302835, 2.0],\n",
       "        [3.065803206453718, 2.0],\n",
       "        [3.3865864723045336, 2.0],\n",
       "        [2.4520404802552895, 2.0],\n",
       "        [3.0686894666322093, 2.0]], dtype=object)"
      ]
     },
     "execution_count": 118,
     "metadata": {},
     "output_type": "execute_result"
    }
   ],
   "source": [
    "s23_t = np.concatenate((s2_t, s3_t), axis=0)\n",
    "s23_t = np.matrix(np.array(s23_t[np.argsort(s23_t.getA()[:, 0])])) # sortowanie po pierwszej kolumnie\n",
    "s23_t"
   ]
  },
  {
   "cell_type": "code",
   "execution_count": 119,
   "id": "2f536d71",
   "metadata": {},
   "outputs": [
    {
     "data": {
      "text/plain": [
       "matrix([[1.047005367779917, 1.0],\n",
       "        [1.2861284443148264, 1.0],\n",
       "        [1.2897825159725709, 1.0],\n",
       "        [1.2992885791000952, 1.0],\n",
       "        [1.3838350285944951, 1.0],\n",
       "        [1.386959702111387, 1.0],\n",
       "        [1.3927294724968542, 1.0],\n",
       "        [1.4042219417467705, 1.0],\n",
       "        [1.4141779319023462, 1.0],\n",
       "        [1.4169847209680362, 1.0],\n",
       "        [1.42063879262578, 1.0],\n",
       "        [1.4224662565225685, 1.0],\n",
       "        [1.4277085226028663, 1.0],\n",
       "        [1.4472481531630872, 1.0],\n",
       "        [1.4531001446328702, 1.0],\n",
       "        [1.459111078328253, 1.0],\n",
       "        [1.492790168842646, 1.0],\n",
       "        [1.5077777675247046, 1.0],\n",
       "        [1.5200111486051195, 1.0],\n",
       "        [1.54730884950888, 1.0],\n",
       "        [1.550354051912972, 1.0],\n",
       "        [1.5635141866982418, 1.0],\n",
       "        [1.5650237661438275, 1.0],\n",
       "        [1.5678305552095178, 1.0],\n",
       "        [1.5692072359424225, 1.0],\n",
       "        [1.5781839009290985, 1.0],\n",
       "        [1.5915564055398497, 1.0],\n",
       "        [1.598861798883823, 1.0],\n",
       "        [1.6106452529361872, 1.0],\n",
       "        [1.6135315131146781, 1.0],\n",
       "        [1.6140609112555286, 1.0],\n",
       "        [1.6195424468100619, 1.0],\n",
       "        [1.6650844624896204, 1.0],\n",
       "        [1.6680501937809125, 1.0],\n",
       "        [1.6709364539594023, 1.0],\n",
       "        [1.6739816563634957, 1.0],\n",
       "        [1.6786945243029403, 1.0],\n",
       "        [1.6961157061639247, 1.0],\n",
       "        [1.7040861463329446, 1.0],\n",
       "        [1.704774486699397, 1.0],\n",
       "        [1.7135127383476703, 1.0],\n",
       "        [1.7341933862739094, 1.0],\n",
       "        [1.7383768560725041, 1.0],\n",
       "        [1.7556390957078876, 1.0],\n",
       "        [1.7556390957078876, 1.0],\n",
       "        [1.7556390957078876, 1.0],\n",
       "        [1.7624704123465702, 1.0],\n",
       "        [1.8379876253902465, 1.0],\n",
       "        [1.8651263840684051, 1.0],\n",
       "        [1.9255765273172218, 1.0],\n",
       "        [2.4520404802552895, 2.0],\n",
       "        [2.5854098112002255, 2.0],\n",
       "        [2.6913224990158007, 2.0],\n",
       "        [2.7057798434211753, 2.0],\n",
       "        [2.719840688398379, 2.0],\n",
       "        [2.9067485187048145, 2.0],\n",
       "        [2.9113033005544913, 2.0],\n",
       "        [2.9429173699695275, 2.0],\n",
       "        [2.982477245438139, 2.0],\n",
       "        [3.015150967270709, 2.0],\n",
       "        [3.01562693781168, 2.0],\n",
       "        [3.0331829122210268, 2.0],\n",
       "        [3.0593423457302835, 2.0],\n",
       "        [3.0656442642281165, 2.0],\n",
       "        [3.065803206453718, 2.0],\n",
       "        [3.0686894666322093, 2.0],\n",
       "        [3.086721411582526, 2.0],\n",
       "        [3.106393940855428, 2.0],\n",
       "        [3.1099685414003715, 2.0],\n",
       "        [3.114310953424568, 2.0],\n",
       "        [3.122440335819189, 2.0],\n",
       "        [3.1615214907753137, 2.0],\n",
       "        [3.1685912207523996, 2.0],\n",
       "        [3.2225010321649816, 2.0],\n",
       "        [3.23785908676229, 2.0],\n",
       "        [3.2535322758392864, 2.0],\n",
       "        [3.2630383389668123, 2.0],\n",
       "        [3.284857254287555, 2.0],\n",
       "        [3.2944427885278826, 2.0],\n",
       "        [3.3096400070639067, 2.0],\n",
       "        [3.3481936577148614, 2.0],\n",
       "        [3.3814228212012054, 2.0],\n",
       "        [3.3865864723045336, 2.0],\n",
       "        [3.481483517546998, 2.0],\n",
       "        [3.4954648914114, 2.0],\n",
       "        [3.5564444328010687, 2.0],\n",
       "        [3.55941016409236, 2.0],\n",
       "        [3.6229822308865547, 2.0],\n",
       "        [3.6272985993978297, 2.0],\n",
       "        [3.6343149017750362, 2.0],\n",
       "        [3.657113998400512, 2.0],\n",
       "        [3.6601592008046047, 2.0],\n",
       "        [3.750104964769218, 2.0],\n",
       "        [3.7540500212294123, 2.0],\n",
       "        [3.767369098240283, 2.0],\n",
       "        [3.7984537695144684, 2.0],\n",
       "        [3.8170159687414706, 2.0],\n",
       "        [3.848417668331024, 2.0],\n",
       "        [3.8662120560787723, 2.0],\n",
       "        [3.9626186807668216, 2.0]], dtype=object)"
      ]
     },
     "execution_count": 119,
     "metadata": {},
     "output_type": "execute_result"
    }
   ],
   "source": [
    "\n"
   ]
  }
 ],
 "metadata": {
  "kernelspec": {
   "display_name": "Python 3 (ipykernel)",
   "language": "python",
   "name": "python3"
  },
  "language_info": {
   "codemirror_mode": {
    "name": "ipython",
    "version": 3
   },
   "file_extension": ".py",
   "mimetype": "text/x-python",
   "name": "python",
   "nbconvert_exporter": "python",
   "pygments_lexer": "ipython3",
   "version": "3.9.13"
  }
 },
 "nbformat": 4,
 "nbformat_minor": 5
}
